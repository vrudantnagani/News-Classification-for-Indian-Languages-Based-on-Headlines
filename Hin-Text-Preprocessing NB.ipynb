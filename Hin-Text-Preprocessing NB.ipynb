{
 "cells": [
  {
   "cell_type": "code",
   "execution_count": 1,
   "id": "82b0bc1c-f178-4613-b4e7-89f029dba237",
   "metadata": {},
   "outputs": [],
   "source": [
    "import numpy as np, pandas as pd\n",
    "pd.options.mode.chained_assignment = None  # default='warn'\n",
    "from sklearn.feature_extraction.text import TfidfVectorizer\n",
    "from sklearn.naive_bayes import MultinomialNB\n",
    "from sklearn.pipeline import make_pipeline\n",
    "from sklearn.model_selection import train_test_split"
   ]
  },
  {
   "cell_type": "code",
   "execution_count": 2,
   "id": "ac3c195b-7a22-4a67-8c44-18a36592188d",
   "metadata": {},
   "outputs": [],
   "source": [
    "df = pd.read_csv(\"hindi-train.csv\")"
   ]
  },
  {
   "cell_type": "code",
   "execution_count": 4,
   "id": "4df23f13-0cb1-491d-953e-8e226cdbd70b",
   "metadata": {},
   "outputs": [],
   "source": [
    "def count_length():\n",
    "    df['word_count'] = df['headline'].apply(lambda x: len(str(x).split(\" \")))"
   ]
  },
  {
   "cell_type": "code",
   "execution_count": 5,
   "id": "f2bae27c-0946-417b-9527-c0a8ab25d039",
   "metadata": {},
   "outputs": [
    {
     "data": {
      "text/html": [
       "<div>\n",
       "<style scoped>\n",
       "    .dataframe tbody tr th:only-of-type {\n",
       "        vertical-align: middle;\n",
       "    }\n",
       "\n",
       "    .dataframe tbody tr th {\n",
       "        vertical-align: top;\n",
       "    }\n",
       "\n",
       "    .dataframe thead th {\n",
       "        text-align: right;\n",
       "    }\n",
       "</style>\n",
       "<table border=\"1\" class=\"dataframe\">\n",
       "  <thead>\n",
       "    <tr style=\"text-align: right;\">\n",
       "      <th></th>\n",
       "      <th>headline</th>\n",
       "      <th>Label</th>\n",
       "      <th>word_count</th>\n",
       "    </tr>\n",
       "  </thead>\n",
       "  <tbody>\n",
       "    <tr>\n",
       "      <th>35541</th>\n",
       "      <td>माधुरी दीक्षित ने मधुबाला के हिट गाने पर किया ...</td>\n",
       "      <td>Entertainment</td>\n",
       "      <td>22</td>\n",
       "    </tr>\n",
       "    <tr>\n",
       "      <th>33201</th>\n",
       "      <td>क्रूज रेव पार्टी मामला: आर्यन खान के पास से भी...</td>\n",
       "      <td>Entertainment</td>\n",
       "      <td>19</td>\n",
       "    </tr>\n",
       "    <tr>\n",
       "      <th>14696</th>\n",
       "      <td>अंतिम यात्रा में भी पार्टनर का साथ नहीं छोड़ रह...</td>\n",
       "      <td>Tech</td>\n",
       "      <td>14</td>\n",
       "    </tr>\n",
       "    <tr>\n",
       "      <th>33867</th>\n",
       "      <td>वेडिंग फोटोशूट करा रहे थे दूल्हा-दुल्हन, कीचड़ ...</td>\n",
       "      <td>Entertainment</td>\n",
       "      <td>13</td>\n",
       "    </tr>\n",
       "    <tr>\n",
       "      <th>18898</th>\n",
       "      <td>बिना टिकट यात्रा करने वाले को चलती ट्रेन से ला...</td>\n",
       "      <td>Business</td>\n",
       "      <td>18</td>\n",
       "    </tr>\n",
       "    <tr>\n",
       "      <th>31019</th>\n",
       "      <td>अफ्रीकी दोस्तों ने गाया मोहम्मद रफी का गाना, द...</td>\n",
       "      <td>Entertainment</td>\n",
       "      <td>13</td>\n",
       "    </tr>\n",
       "    <tr>\n",
       "      <th>30280</th>\n",
       "      <td>अंतिम यात्रा में भी पार्टनर का साथ नहीं छोड़ रह...</td>\n",
       "      <td>Entertainment</td>\n",
       "      <td>14</td>\n",
       "    </tr>\n",
       "    <tr>\n",
       "      <th>6637</th>\n",
       "      <td>टेनिस : फ्रेंच ओपन के सेमीफाइनल में भिड़ सकते ह...</td>\n",
       "      <td>Sports</td>\n",
       "      <td>13</td>\n",
       "    </tr>\n",
       "    <tr>\n",
       "      <th>35343</th>\n",
       "      <td>संजय दत्त के जन्मदिन पर रिलीज हुआ 'केजीएफ चैप्...</td>\n",
       "      <td>Entertainment</td>\n",
       "      <td>17</td>\n",
       "    </tr>\n",
       "    <tr>\n",
       "      <th>23720</th>\n",
       "      <td>अमित शाह पर निशाना साधने के लिए 'शायर' बने राह...</td>\n",
       "      <td>Politics</td>\n",
       "      <td>15</td>\n",
       "    </tr>\n",
       "  </tbody>\n",
       "</table>\n",
       "</div>"
      ],
      "text/plain": [
       "                                                headline          Label  \\\n",
       "35541  माधुरी दीक्षित ने मधुबाला के हिट गाने पर किया ...  Entertainment   \n",
       "33201  क्रूज रेव पार्टी मामला: आर्यन खान के पास से भी...  Entertainment   \n",
       "14696  अंतिम यात्रा में भी पार्टनर का साथ नहीं छोड़ रह...           Tech   \n",
       "33867  वेडिंग फोटोशूट करा रहे थे दूल्हा-दुल्हन, कीचड़ ...  Entertainment   \n",
       "18898  बिना टिकट यात्रा करने वाले को चलती ट्रेन से ला...       Business   \n",
       "31019  अफ्रीकी दोस्तों ने गाया मोहम्मद रफी का गाना, द...  Entertainment   \n",
       "30280  अंतिम यात्रा में भी पार्टनर का साथ नहीं छोड़ रह...  Entertainment   \n",
       "6637   टेनिस : फ्रेंच ओपन के सेमीफाइनल में भिड़ सकते ह...         Sports   \n",
       "35343  संजय दत्त के जन्मदिन पर रिलीज हुआ 'केजीएफ चैप्...  Entertainment   \n",
       "23720  अमित शाह पर निशाना साधने के लिए 'शायर' बने राह...       Politics   \n",
       "\n",
       "       word_count  \n",
       "35541          22  \n",
       "33201          19  \n",
       "14696          14  \n",
       "33867          13  \n",
       "18898          18  \n",
       "31019          13  \n",
       "30280          14  \n",
       "6637           13  \n",
       "35343          17  \n",
       "23720          15  "
      ]
     },
     "execution_count": 5,
     "metadata": {},
     "output_type": "execute_result"
    }
   ],
   "source": [
    "count_length()\n",
    "df.tail(10)"
   ]
  },
  {
   "cell_type": "code",
   "execution_count": 6,
   "id": "b42cc4fd-8e82-44da-b29e-f38113db62d0",
   "metadata": {},
   "outputs": [],
   "source": [
    "import re\n",
    "def processText(text):\n",
    "    text = text.lower()\n",
    "    text = re.sub(\"[a-zA-z0-9]\",' ',text)\n",
    "    text = re.sub(\"((www.[^s]+)|(https?://[^s]+))\",'',text)\n",
    "    text = re.sub(\"@[^s]+\",'',text)\n",
    "    text = re.sub(\"[s]+\", ' ', text)\n",
    "    text = re.sub(r\"#([^s]+)\", r'', text)\n",
    "    text = text.strip('\"')\n",
    "    return text"
   ]
  },
  {
   "cell_type": "code",
   "execution_count": 7,
   "id": "0b7b6bda-13e5-49ac-b889-36c4430445a3",
   "metadata": {},
   "outputs": [],
   "source": [
    "for i in range(len(df)):\n",
    "    df['headline'][i] = processText(df['headline'][i])"
   ]
  },
  {
   "cell_type": "code",
   "execution_count": 8,
   "id": "9c2c5826-922f-4780-bf9b-9471c97d7198",
   "metadata": {},
   "outputs": [],
   "source": [
    "from indicnlp.tokenize import indic_tokenize\n",
    "def tokenization(indic_string):\n",
    "    tokens = []\n",
    "    for t in indic_tokenize.trivial_tokenize(indic_string):\n",
    "        tokens.append(t)\n",
    "    return tokens\n",
    "df['headline'] = df['headline'].apply(lambda x: tokenization(x))"
   ]
  },
  {
   "cell_type": "code",
   "execution_count": 9,
   "id": "7b0afbf7-5708-4a15-9058-56bb4394165f",
   "metadata": {},
   "outputs": [],
   "source": [
    "for i in range(len(df)):\n",
    "    df['headline'][i] = [s.replace(\"\\n\", \"\") for s in df['headline'][i]]"
   ]
  },
  {
   "cell_type": "code",
   "execution_count": 10,
   "id": "27044bd6-9037-472b-a946-2f3373393851",
   "metadata": {},
   "outputs": [],
   "source": [
    "stopwords_hi = ['तुम','मेरी','मुझे','क्योंकि','हम','प्रति','अबकी','आगे','माननीय','शहर','बताएं','कौनसी','क्लिक','किसकी','बड़े','मैं','and','रही','आज','लें','आपके','मिलकर','सब','मेरे','जी','श्री','वैसा','आपका','अंदर', 'अत', 'अपना', 'अपनी', 'अपने', 'अभी', 'आदि', 'आप', 'इत्यादि', 'इन', 'इनका', 'इन्हीं', 'इन्हें', 'इन्हों', 'इस', 'इसका', 'इसकी', 'इसके', 'इसमें', 'इसी', 'इसे', 'उन', 'उनका', 'उनकी', 'उनके', 'उनको', 'उन्हीं', 'उन्हें', 'उन्हों', 'उस', 'उसके', 'उसी', 'उसे', 'एक', 'एवं', 'एस', 'ऐसे', 'और', 'कई', 'कर','करता', 'करते', 'करना', 'करने', 'करें', 'कहते', 'कहा', 'का', 'काफ़ी', 'कि', 'कितना', 'किन्हें', 'किन्हों', 'किया', 'किर', 'किस', 'किसी', 'किसे', 'की', 'कुछ', 'कुल', 'के', 'को', 'कोई', 'कौन', 'कौनसा', 'गया', 'घर', 'जब', 'जहाँ', 'जा', 'जितना', 'जिन', 'जिन्हें', 'जिन्हों', 'जिस', 'जिसे', 'जीधर', 'जैसा', 'जैसे', 'जो', 'तक', 'तब', 'तरह', 'तिन', 'तिन्हें', 'तिन्हों', 'तिस', 'तिसे', 'तो', 'था', 'थी', 'थे', 'दबारा', 'दिया', 'दुसरा', 'दूसरे', 'दो', 'द्वारा', 'न', 'नहीं', 'ना', 'निहायत', 'नीचे', 'ने', 'पर', 'पर', 'पहले', 'पूरा', 'पे', 'फिर', 'बनी', 'बही', 'बहुत', 'बाद', 'बाला', 'बिलकुल', 'भी', 'भीतर', 'मगर', 'मानो', 'मे', 'में', 'यदि', 'यह', 'यहाँ', 'यही', 'या', 'यिह', 'ये', 'रखें', 'रहा', 'रहे', 'ऱ्वासा', 'लिए', 'लिये', 'लेकिन', 'व', 'वर्ग', 'वह', 'वह', 'वहाँ', 'वहीं', 'वाले', 'वुह', 'वे', 'वग़ैरह', 'संग', 'सकता', 'सकते', 'सबसे', 'सभी', 'साथ', 'साबुत', 'साभ', 'सारा', 'से', 'सो', 'ही', 'हुआ', 'हुई', 'हुए', 'है', 'हैं', 'हो', 'होता', 'होती', 'होते', 'होना', 'होने', 'अपनि', 'जेसे', 'होति', 'सभि', 'तिंहों', 'इंहों', 'दवारा', 'इसि', 'किंहें', 'थि', 'उंहों', 'ओर', 'जिंहें', 'वहिं', 'अभि', 'बनि', 'हि', 'उंहिं', 'उंहें', 'हें', 'वगेरह', 'एसे', 'रवासा', 'कोन', 'निचे', 'काफि', 'उसि', 'पुरा', 'भितर', 'हे', 'बहि', 'वहां', 'कोइ', 'यहां', 'जिंहों', 'तिंहें', 'किसि', 'कइ', 'यहि', 'इंहिं', 'जिधर', 'इंहें', 'अदि', 'इतयादि', 'हुइ', 'कोनसा', 'इसकि', 'दुसरे', 'जहां', 'अप', 'किंहों', 'उनकि', 'भि', 'वरग', 'हुअ', 'जेसा', 'नहिं']\n",
    "stopwords_en = ['i', 'me', 'my', 'myself', 'we', 'our', 'ours', 'ourselves', 'you', \"you're\", \"you've\", \"you'll\", \"you'd\", 'your', 'yours', 'yourself', 'yourselves', 'he', 'him', 'his', 'himself', 'she', \"she's\", 'her', 'hers', 'herself', 'it', \"it's\", 'its', 'itself', 'they', 'them', 'their', 'theirs', 'themselves', 'what', 'which', 'who', 'whom', 'this', 'that', \"that'll\", 'these', 'those', 'am', 'is', 'are', 'was', 'were', 'be', 'been', 'being', 'have', 'has', 'had', 'having', 'do', 'does', 'did', 'doing', 'a', 'an', 'the', 'and', 'but', 'if', 'or', 'because', 'as', 'until', 'while', 'of', 'at', 'by', 'for', 'with', 'about', 'against', 'between', 'into', 'through', 'during', 'before', 'after', 'above', 'below', 'to', 'from', 'up', 'down', 'in', 'out', 'on', 'off', 'over', 'under', 'again', 'further', 'then', 'once', 'here', 'there', 'when', 'where', 'why', 'how', 'all', 'any', 'both', 'each', 'few', 'more', 'most', 'other', 'some', 'such', 'no', 'nor', 'not', 'only', 'own', 'same', 'so', 'than', 'too', 'very', 's', 't', 'can', 'will', 'just', 'don', \"don't\", 'should', \"should've\", 'now', 'd', 'll', 'm', 'o', 're', 've', 'y', 'ain', 'aren', \"aren't\", 'couldn', \"couldn't\", 'didn', \"didn't\", 'doesn', \"doesn't\", 'hadn', \"hadn't\", 'hasn', \"hasn't\", 'haven', \"haven't\", 'isn', \"isn't\", 'ma', 'mightn', \"mightn't\", 'mustn', \"mustn't\", 'needn', \"needn't\", 'shan', \"shan't\", 'shouldn', \"shouldn't\", 'wasn', \"wasn't\", 'weren', \"weren't\", 'won', \"won't\", 'wouldn', \"wouldn't\"]\n",
    "punctuations = [\".\",\",\",\"?\",\"/\",\"<\",\">\",\"!\",\":\",\";\",\"'\",\"[\",\"]\",\"{\",\"}\",\"(\",\")\",\"-\",\"@\",\"#\",\"$\",\"%\",\"^\",\"&\",\"*\"]\n",
    "to_be_removed = stopwords_hi + punctuations + stopwords_en"
   ]
  },
  {
   "cell_type": "code",
   "execution_count": 11,
   "id": "e2b9738e-f493-43ff-9c84-bea766b5033d",
   "metadata": {},
   "outputs": [
    {
     "data": {
      "text/html": [
       "<div>\n",
       "<style scoped>\n",
       "    .dataframe tbody tr th:only-of-type {\n",
       "        vertical-align: middle;\n",
       "    }\n",
       "\n",
       "    .dataframe tbody tr th {\n",
       "        vertical-align: top;\n",
       "    }\n",
       "\n",
       "    .dataframe thead th {\n",
       "        text-align: right;\n",
       "    }\n",
       "</style>\n",
       "<table border=\"1\" class=\"dataframe\">\n",
       "  <thead>\n",
       "    <tr style=\"text-align: right;\">\n",
       "      <th></th>\n",
       "      <th>headline</th>\n",
       "      <th>Label</th>\n",
       "      <th>word_count</th>\n",
       "    </tr>\n",
       "  </thead>\n",
       "  <tbody>\n",
       "    <tr>\n",
       "      <th>35541</th>\n",
       "      <td>[माधुरी, दीक्षित, मधुबाला, हिट, गाने, खूबसूरत,...</td>\n",
       "      <td>Entertainment</td>\n",
       "      <td>13</td>\n",
       "    </tr>\n",
       "    <tr>\n",
       "      <th>33201</th>\n",
       "      <td>[क्रूज, रेव, पार्टी, मामला, आर्यन, खान, पास, ड...</td>\n",
       "      <td>Entertainment</td>\n",
       "      <td>13</td>\n",
       "    </tr>\n",
       "    <tr>\n",
       "      <th>14696</th>\n",
       "      <td>[अंतिम, यात्रा, पार्टनर, छोड़, मोर, देखें, इमोश...</td>\n",
       "      <td>Tech</td>\n",
       "      <td>8</td>\n",
       "    </tr>\n",
       "    <tr>\n",
       "      <th>33867</th>\n",
       "      <td>[वेडिंग, फोटोशूट, करा, दूल्हा, दुल्हन, कीचड़, ध...</td>\n",
       "      <td>Entertainment</td>\n",
       "      <td>8</td>\n",
       "    </tr>\n",
       "    <tr>\n",
       "      <th>18898</th>\n",
       "      <td>[बिना, टिकट, यात्रा, चलती, ट्रेन, लात, मार, पु...</td>\n",
       "      <td>Business</td>\n",
       "      <td>10</td>\n",
       "    </tr>\n",
       "    <tr>\n",
       "      <th>31019</th>\n",
       "      <td>[अफ्रीकी, दोस्तों, गाया, मोहम्मद, रफी, गाना, द...</td>\n",
       "      <td>Entertainment</td>\n",
       "      <td>10</td>\n",
       "    </tr>\n",
       "    <tr>\n",
       "      <th>30280</th>\n",
       "      <td>[अंतिम, यात्रा, पार्टनर, छोड़, मोर, देखें, इमोश...</td>\n",
       "      <td>Entertainment</td>\n",
       "      <td>8</td>\n",
       "    </tr>\n",
       "    <tr>\n",
       "      <th>6637</th>\n",
       "      <td>[टेनिस, फ्रेंच, ओपन, सेमीफाइनल, भिड़, नडाल, फेडरर]</td>\n",
       "      <td>Sports</td>\n",
       "      <td>7</td>\n",
       "    </tr>\n",
       "    <tr>\n",
       "      <th>35343</th>\n",
       "      <td>[संजय, दत्त, जन्मदिन, रिलीज, केजीएफ, चैप्टर, न...</td>\n",
       "      <td>Entertainment</td>\n",
       "      <td>11</td>\n",
       "    </tr>\n",
       "    <tr>\n",
       "      <th>23720</th>\n",
       "      <td>[अमित, शाह, निशाना, साधने, शायर, बने, राहुल, ग...</td>\n",
       "      <td>Politics</td>\n",
       "      <td>11</td>\n",
       "    </tr>\n",
       "  </tbody>\n",
       "</table>\n",
       "</div>"
      ],
      "text/plain": [
       "                                                headline          Label  \\\n",
       "35541  [माधुरी, दीक्षित, मधुबाला, हिट, गाने, खूबसूरत,...  Entertainment   \n",
       "33201  [क्रूज, रेव, पार्टी, मामला, आर्यन, खान, पास, ड...  Entertainment   \n",
       "14696  [अंतिम, यात्रा, पार्टनर, छोड़, मोर, देखें, इमोश...           Tech   \n",
       "33867  [वेडिंग, फोटोशूट, करा, दूल्हा, दुल्हन, कीचड़, ध...  Entertainment   \n",
       "18898  [बिना, टिकट, यात्रा, चलती, ट्रेन, लात, मार, पु...       Business   \n",
       "31019  [अफ्रीकी, दोस्तों, गाया, मोहम्मद, रफी, गाना, द...  Entertainment   \n",
       "30280  [अंतिम, यात्रा, पार्टनर, छोड़, मोर, देखें, इमोश...  Entertainment   \n",
       "6637   [टेनिस, फ्रेंच, ओपन, सेमीफाइनल, भिड़, नडाल, फेडरर]         Sports   \n",
       "35343  [संजय, दत्त, जन्मदिन, रिलीज, केजीएफ, चैप्टर, न...  Entertainment   \n",
       "23720  [अमित, शाह, निशाना, साधने, शायर, बने, राहुल, ग...       Politics   \n",
       "\n",
       "       word_count  \n",
       "35541          13  \n",
       "33201          13  \n",
       "14696           8  \n",
       "33867           8  \n",
       "18898          10  \n",
       "31019          10  \n",
       "30280           8  \n",
       "6637            7  \n",
       "35343          11  \n",
       "23720          11  "
      ]
     },
     "execution_count": 11,
     "metadata": {},
     "output_type": "execute_result"
    }
   ],
   "source": [
    "for i in range(len(df)):\n",
    "    df['headline'][i]=[ele for ele in df['headline'][i] if ele not in (to_be_removed)]\n",
    "count_length()\n",
    "df.tail(10)"
   ]
  },
  {
   "cell_type": "code",
   "execution_count": 12,
   "id": "20cccf54-fe31-44a7-b5e5-fc4b0389dc5a",
   "metadata": {},
   "outputs": [],
   "source": [
    "import collections\n",
    "from collections import Counter\n",
    "corpus_list =[]\n",
    "for i in range(len(df)):\n",
    "    corpus_list +=df['headline'][i]\n",
    "counter=collections.Counter(corpus_list)"
   ]
  },
  {
   "cell_type": "code",
   "execution_count": 13,
   "id": "7b054fa0-a417-4463-8c1f-fabfa9dfbdbd",
   "metadata": {},
   "outputs": [],
   "source": [
    "least_common= [word for word, word_count in Counter(corpus_list).most_common()[:-50:-1]]\n",
    "for i in range(len(df)):\n",
    "    df['headline'][i]=[ele for ele in df['headline'][i] if ele not in (least_common)]"
   ]
  },
  {
   "cell_type": "code",
   "execution_count": 14,
   "id": "11a5dc50-9c14-42b3-8ed3-a562f46ecb4a",
   "metadata": {},
   "outputs": [
    {
     "data": {
      "text/html": [
       "<div>\n",
       "<style scoped>\n",
       "    .dataframe tbody tr th:only-of-type {\n",
       "        vertical-align: middle;\n",
       "    }\n",
       "\n",
       "    .dataframe tbody tr th {\n",
       "        vertical-align: top;\n",
       "    }\n",
       "\n",
       "    .dataframe thead th {\n",
       "        text-align: right;\n",
       "    }\n",
       "</style>\n",
       "<table border=\"1\" class=\"dataframe\">\n",
       "  <thead>\n",
       "    <tr style=\"text-align: right;\">\n",
       "      <th></th>\n",
       "      <th>headline</th>\n",
       "      <th>Label</th>\n",
       "      <th>word_count</th>\n",
       "    </tr>\n",
       "  </thead>\n",
       "  <tbody>\n",
       "    <tr>\n",
       "      <th>13020</th>\n",
       "      <td>[फोन, डाउनलोड, वीडियो, ऐप, जरूरत]</td>\n",
       "      <td>Tech</td>\n",
       "      <td>5</td>\n",
       "    </tr>\n",
       "    <tr>\n",
       "      <th>29809</th>\n",
       "      <td>[लोकपाल, दोहरा, मानदंड, मोदी, सरकार, कांग्रेस]</td>\n",
       "      <td>Politics</td>\n",
       "      <td>6</td>\n",
       "    </tr>\n",
       "    <tr>\n",
       "      <th>26445</th>\n",
       "      <td>[राजस्थान, एमपी, छत्तीसगढ़, कांग्रेस, मेगा, शो...</td>\n",
       "      <td>Politics</td>\n",
       "      <td>11</td>\n",
       "    </tr>\n",
       "    <tr>\n",
       "      <th>36138</th>\n",
       "      <td>[ऑफर, दिलीप, जोशी, एक्टिंग, छोड़ने, रोका, साल,...</td>\n",
       "      <td>Entertainment</td>\n",
       "      <td>9</td>\n",
       "    </tr>\n",
       "    <tr>\n",
       "      <th>22190</th>\n",
       "      <td>[आईजीएल, पेट्रोनेट, हिस्सेदारी, बेच, सकती, बीप...</td>\n",
       "      <td>Business</td>\n",
       "      <td>6</td>\n",
       "    </tr>\n",
       "    <tr>\n",
       "      <th>...</th>\n",
       "      <td>...</td>\n",
       "      <td>...</td>\n",
       "      <td>...</td>\n",
       "    </tr>\n",
       "    <tr>\n",
       "      <th>31019</th>\n",
       "      <td>[अफ्रीकी, दोस्तों, गाया, मोहम्मद, रफी, गाना, द...</td>\n",
       "      <td>Entertainment</td>\n",
       "      <td>10</td>\n",
       "    </tr>\n",
       "    <tr>\n",
       "      <th>30280</th>\n",
       "      <td>[अंतिम, यात्रा, पार्टनर, छोड़, मोर, देखें, इमोश...</td>\n",
       "      <td>Entertainment</td>\n",
       "      <td>8</td>\n",
       "    </tr>\n",
       "    <tr>\n",
       "      <th>6637</th>\n",
       "      <td>[टेनिस, फ्रेंच, ओपन, सेमीफाइनल, भिड़, नडाल, फेडरर]</td>\n",
       "      <td>Sports</td>\n",
       "      <td>7</td>\n",
       "    </tr>\n",
       "    <tr>\n",
       "      <th>35343</th>\n",
       "      <td>[संजय, दत्त, जन्मदिन, रिलीज, केजीएफ, चैप्टर, न...</td>\n",
       "      <td>Entertainment</td>\n",
       "      <td>11</td>\n",
       "    </tr>\n",
       "    <tr>\n",
       "      <th>23720</th>\n",
       "      <td>[अमित, शाह, निशाना, साधने, शायर, बने, राहुल, ग...</td>\n",
       "      <td>Politics</td>\n",
       "      <td>11</td>\n",
       "    </tr>\n",
       "  </tbody>\n",
       "</table>\n",
       "<p>37500 rows × 3 columns</p>\n",
       "</div>"
      ],
      "text/plain": [
       "                                                headline          Label  \\\n",
       "13020                  [फोन, डाउनलोड, वीडियो, ऐप, जरूरत]           Tech   \n",
       "29809     [लोकपाल, दोहरा, मानदंड, मोदी, सरकार, कांग्रेस]       Politics   \n",
       "26445  [राजस्थान, एमपी, छत्तीसगढ़, कांग्रेस, मेगा, शो...       Politics   \n",
       "36138  [ऑफर, दिलीप, जोशी, एक्टिंग, छोड़ने, रोका, साल,...  Entertainment   \n",
       "22190  [आईजीएल, पेट्रोनेट, हिस्सेदारी, बेच, सकती, बीप...       Business   \n",
       "...                                                  ...            ...   \n",
       "31019  [अफ्रीकी, दोस्तों, गाया, मोहम्मद, रफी, गाना, द...  Entertainment   \n",
       "30280  [अंतिम, यात्रा, पार्टनर, छोड़, मोर, देखें, इमोश...  Entertainment   \n",
       "6637   [टेनिस, फ्रेंच, ओपन, सेमीफाइनल, भिड़, नडाल, फेडरर]         Sports   \n",
       "35343  [संजय, दत्त, जन्मदिन, रिलीज, केजीएफ, चैप्टर, न...  Entertainment   \n",
       "23720  [अमित, शाह, निशाना, साधने, शायर, बने, राहुल, ग...       Politics   \n",
       "\n",
       "       word_count  \n",
       "13020           5  \n",
       "29809           6  \n",
       "26445          11  \n",
       "36138           9  \n",
       "22190           6  \n",
       "...           ...  \n",
       "31019          10  \n",
       "30280           8  \n",
       "6637            7  \n",
       "35343          11  \n",
       "23720          11  \n",
       "\n",
       "[37500 rows x 3 columns]"
      ]
     },
     "execution_count": 14,
     "metadata": {},
     "output_type": "execute_result"
    }
   ],
   "source": [
    "df"
   ]
  },
  {
   "cell_type": "code",
   "execution_count": 15,
   "id": "394601fe-9bb8-47ed-8c0f-5eb5568df617",
   "metadata": {},
   "outputs": [
    {
     "data": {
      "text/html": [
       "<div>\n",
       "<style scoped>\n",
       "    .dataframe tbody tr th:only-of-type {\n",
       "        vertical-align: middle;\n",
       "    }\n",
       "\n",
       "    .dataframe tbody tr th {\n",
       "        vertical-align: top;\n",
       "    }\n",
       "\n",
       "    .dataframe thead th {\n",
       "        text-align: right;\n",
       "    }\n",
       "</style>\n",
       "<table border=\"1\" class=\"dataframe\">\n",
       "  <thead>\n",
       "    <tr style=\"text-align: right;\">\n",
       "      <th></th>\n",
       "      <th>headline</th>\n",
       "      <th>Label</th>\n",
       "      <th>word_count</th>\n",
       "    </tr>\n",
       "  </thead>\n",
       "  <tbody>\n",
       "    <tr>\n",
       "      <th>35541</th>\n",
       "      <td>माधुरी दीक्षित मधुबाला हिट गाने खूबसूरत सा डां...</td>\n",
       "      <td>Entertainment</td>\n",
       "      <td>13</td>\n",
       "    </tr>\n",
       "    <tr>\n",
       "      <th>33201</th>\n",
       "      <td>क्रूज रेव पार्टी मामला आर्यन खान पास ड्रग्स बर...</td>\n",
       "      <td>Entertainment</td>\n",
       "      <td>13</td>\n",
       "    </tr>\n",
       "    <tr>\n",
       "      <th>14696</th>\n",
       "      <td>अंतिम यात्रा पार्टनर छोड़ मोर देखें इमोशनल वीडियो</td>\n",
       "      <td>Tech</td>\n",
       "      <td>8</td>\n",
       "    </tr>\n",
       "    <tr>\n",
       "      <th>33867</th>\n",
       "      <td>वेडिंग फोटोशूट करा दूल्हा दुल्हन कीचड़ धड़ाम गिरे</td>\n",
       "      <td>Entertainment</td>\n",
       "      <td>8</td>\n",
       "    </tr>\n",
       "    <tr>\n",
       "      <th>18898</th>\n",
       "      <td>बिना टिकट यात्रा चलती ट्रेन लात मार पुलिसवाला ...</td>\n",
       "      <td>Business</td>\n",
       "      <td>10</td>\n",
       "    </tr>\n",
       "    <tr>\n",
       "      <th>31019</th>\n",
       "      <td>अफ्रीकी दोस्तों गाया मोहम्मद रफी गाना देखकर इम...</td>\n",
       "      <td>Entertainment</td>\n",
       "      <td>10</td>\n",
       "    </tr>\n",
       "    <tr>\n",
       "      <th>30280</th>\n",
       "      <td>अंतिम यात्रा पार्टनर छोड़ मोर देखें इमोशनल वीडियो</td>\n",
       "      <td>Entertainment</td>\n",
       "      <td>8</td>\n",
       "    </tr>\n",
       "    <tr>\n",
       "      <th>6637</th>\n",
       "      <td>टेनिस फ्रेंच ओपन सेमीफाइनल भिड़ नडाल फेडरर</td>\n",
       "      <td>Sports</td>\n",
       "      <td>7</td>\n",
       "    </tr>\n",
       "    <tr>\n",
       "      <th>35343</th>\n",
       "      <td>संजय दत्त जन्मदिन रिलीज केजीएफ चैप्टर नया पोस्...</td>\n",
       "      <td>Entertainment</td>\n",
       "      <td>11</td>\n",
       "    </tr>\n",
       "    <tr>\n",
       "      <th>23720</th>\n",
       "      <td>अमित शाह निशाना साधने शायर बने राहुल गांधी \" ख...</td>\n",
       "      <td>Politics</td>\n",
       "      <td>11</td>\n",
       "    </tr>\n",
       "  </tbody>\n",
       "</table>\n",
       "</div>"
      ],
      "text/plain": [
       "                                                headline          Label  \\\n",
       "35541  माधुरी दीक्षित मधुबाला हिट गाने खूबसूरत सा डां...  Entertainment   \n",
       "33201  क्रूज रेव पार्टी मामला आर्यन खान पास ड्रग्स बर...  Entertainment   \n",
       "14696   अंतिम यात्रा पार्टनर छोड़ मोर देखें इमोशनल वीडियो           Tech   \n",
       "33867    वेडिंग फोटोशूट करा दूल्हा दुल्हन कीचड़ धड़ाम गिरे  Entertainment   \n",
       "18898  बिना टिकट यात्रा चलती ट्रेन लात मार पुलिसवाला ...       Business   \n",
       "31019  अफ्रीकी दोस्तों गाया मोहम्मद रफी गाना देखकर इम...  Entertainment   \n",
       "30280   अंतिम यात्रा पार्टनर छोड़ मोर देखें इमोशनल वीडियो  Entertainment   \n",
       "6637           टेनिस फ्रेंच ओपन सेमीफाइनल भिड़ नडाल फेडरर         Sports   \n",
       "35343  संजय दत्त जन्मदिन रिलीज केजीएफ चैप्टर नया पोस्...  Entertainment   \n",
       "23720  अमित शाह निशाना साधने शायर बने राहुल गांधी \" ख...       Politics   \n",
       "\n",
       "       word_count  \n",
       "35541          13  \n",
       "33201          13  \n",
       "14696           8  \n",
       "33867           8  \n",
       "18898          10  \n",
       "31019          10  \n",
       "30280           8  \n",
       "6637            7  \n",
       "35343          11  \n",
       "23720          11  "
      ]
     },
     "execution_count": 15,
     "metadata": {},
     "output_type": "execute_result"
    }
   ],
   "source": [
    "df['headline'] = df['headline'].str.join(\" \")\n",
    "df.tail(10)"
   ]
  },
  {
   "cell_type": "code",
   "execution_count": 15,
   "id": "7183ce71-cce8-42f8-bc45-3951fd06c848",
   "metadata": {},
   "outputs": [],
   "source": [
    "train, test = train_test_split(df,test_size=0.3,random_state=42)"
   ]
  },
  {
   "cell_type": "code",
   "execution_count": 16,
   "id": "4deff170-b2a9-4c48-a260-66f04f7892d7",
   "metadata": {},
   "outputs": [
    {
     "data": {
      "text/plain": [
       "(26250, 3)"
      ]
     },
     "execution_count": 16,
     "metadata": {},
     "output_type": "execute_result"
    }
   ],
   "source": [
    "train.shape"
   ]
  },
  {
   "cell_type": "code",
   "execution_count": 17,
   "id": "7ed61209-153f-4001-a6c4-b1a6d363f4c2",
   "metadata": {},
   "outputs": [
    {
     "data": {
      "text/plain": [
       "(11250, 3)"
      ]
     },
     "execution_count": 17,
     "metadata": {},
     "output_type": "execute_result"
    }
   ],
   "source": [
    "test.shape"
   ]
  },
  {
   "cell_type": "code",
   "execution_count": 18,
   "id": "415c933d-a325-4c91-afed-9c89a4403ded",
   "metadata": {},
   "outputs": [
    {
     "data": {
      "text/plain": [
       "Pipeline(steps=[('tfidfvectorizer', TfidfVectorizer()),\n",
       "                ('multinomialnb', MultinomialNB(alpha=0.1))])"
      ]
     },
     "execution_count": 18,
     "metadata": {},
     "output_type": "execute_result"
    }
   ],
   "source": [
    "model = make_pipeline(TfidfVectorizer(), MultinomialNB(alpha=0.1))\n",
    "model.fit(train.headline, train.Label)"
   ]
  },
  {
   "cell_type": "code",
   "execution_count": 19,
   "id": "a2af471d-eaa9-422c-b52a-31383d6036cb",
   "metadata": {},
   "outputs": [],
   "source": [
    "predicted_categories = model.predict(test.headline)"
   ]
  },
  {
   "cell_type": "code",
   "execution_count": 20,
   "id": "ad49ddba-36bf-4906-81a8-aa8f779edf86",
   "metadata": {},
   "outputs": [
    {
     "name": "stdout",
     "output_type": "stream",
     "text": [
      "The accuracy is 74.78222222222223\n"
     ]
    }
   ],
   "source": [
    "from sklearn.metrics import accuracy_score,confusion_matrix,classification_report\n",
    "print(\"The accuracy is {}\".format(accuracy_score(test.Label, predicted_categories)*100))"
   ]
  },
  {
   "cell_type": "code",
   "execution_count": 21,
   "id": "65e1d61a-e255-4c6c-989e-122d20112cfe",
   "metadata": {},
   "outputs": [],
   "source": [
    "import joblib\n",
    "import os\n",
    "loaded_model = joblib.dump(model, 'hin_nb.pkl')"
   ]
  },
  {
   "cell_type": "code",
   "execution_count": 22,
   "id": "54e3fb7e-1d32-4121-bd8b-2d09d6b96e34",
   "metadata": {},
   "outputs": [
    {
     "data": {
      "text/plain": [
       "array([[1763,   40,  187,   75,  121],\n",
       "       [  92, 1394,  226,   96,  497],\n",
       "       [ 100,   85, 1900,   97,   24],\n",
       "       [  82,  193,  228, 1514,  277],\n",
       "       [ 167,  174,   38,   38, 1842]], dtype=int64)"
      ]
     },
     "execution_count": 22,
     "metadata": {},
     "output_type": "execute_result"
    }
   ],
   "source": [
    "mat = confusion_matrix(test.Label, predicted_categories)\n",
    "mat"
   ]
  },
  {
   "cell_type": "code",
   "execution_count": 23,
   "id": "3106439e-249b-4f32-9f56-c6d724749c57",
   "metadata": {},
   "outputs": [
    {
     "name": "stdout",
     "output_type": "stream",
     "text": [
      "               precision    recall  f1-score   support\n",
      "\n",
      "     Business       0.80      0.81      0.80      2186\n",
      "Entertainment       0.74      0.60      0.67      2305\n",
      "     Politics       0.74      0.86      0.79      2206\n",
      "       Sports       0.83      0.66      0.74      2294\n",
      "         Tech       0.67      0.82      0.73      2259\n",
      "\n",
      "     accuracy                           0.75     11250\n",
      "    macro avg       0.75      0.75      0.75     11250\n",
      " weighted avg       0.75      0.75      0.75     11250\n",
      "\n"
     ]
    }
   ],
   "source": [
    "report = classification_report(test.Label, predicted_categories)\n",
    "print(report)"
   ]
  },
  {
   "cell_type": "code",
   "execution_count": 24,
   "id": "0aa4cb87-19ef-499a-ab13-8de6cb9034e1",
   "metadata": {},
   "outputs": [
    {
     "data": {
      "text/plain": [
       "'Business'"
      ]
     },
     "execution_count": 24,
     "metadata": {},
     "output_type": "execute_result"
    }
   ],
   "source": [
    "#business\n",
    "simple_test1 = [\"सेंसेक्स 1129 पॉइंट्स लुढ़का, रिलायंस का शेयर 4.5% टूटा, मार्केट कैप 2 घंटे में 7.88 लाख करोड़ घटाााा\"]\n",
    "pred1 = model.predict(simple_test1)\n",
    "pred1[0]"
   ]
  },
  {
   "cell_type": "code",
   "execution_count": 25,
   "id": "948db4c1-fb22-46ad-b6d0-f6b7008ada3d",
   "metadata": {},
   "outputs": [
    {
     "data": {
      "text/plain": [
       "'Entertainment'"
      ]
     },
     "execution_count": 25,
     "metadata": {},
     "output_type": "execute_result"
    }
   ],
   "source": [
    "#entertainment\n",
    "simple_test2 = [\"पलक तिवारी की ग्लैमरस फोटोज, सलमान की Ex गर्लफ्रेंड ने किया कमेंट\"]\n",
    "pred2 = model.predict(simple_test2)\n",
    "pred2[0]"
   ]
  },
  {
   "cell_type": "code",
   "execution_count": 26,
   "id": "6f16e57a-20d6-4563-872e-d667d7845798",
   "metadata": {},
   "outputs": [
    {
     "data": {
      "text/plain": [
       "'Politics'"
      ]
     },
     "execution_count": 26,
     "metadata": {},
     "output_type": "execute_result"
    }
   ],
   "source": [
    "#political\n",
    "simple_test3 = [\"पश्चिमी यूपी से पूर्वांचल, अवध से बुंदेलखंड तक, कैसे कमल की फसल को खाद दे रहे पीएम?\"]\n",
    "pred3 = model.predict(simple_test3)\n",
    "pred3[0]"
   ]
  },
  {
   "cell_type": "code",
   "execution_count": 27,
   "id": "51dba3fb-cb7f-4d1e-aca7-1456b5105de2",
   "metadata": {},
   "outputs": [
    {
     "data": {
      "text/plain": [
       "'Sports'"
      ]
     },
     "execution_count": 27,
     "metadata": {},
     "output_type": "execute_result"
    }
   ],
   "source": [
    "#sports\n",
    "simple_test4 = [\"भारत पहुंची पाकिस्तान की टीम, 24 नवंबर से भुवनेश्वर में खेला जाएगा वर्ल्ड कपाा\"]\n",
    "pred4 = model.predict(simple_test4)\n",
    "pred4[0]"
   ]
  },
  {
   "cell_type": "code",
   "execution_count": 28,
   "id": "1f8706a5-3b80-4ac5-8d75-ea613b2c36f7",
   "metadata": {},
   "outputs": [
    {
     "data": {
      "text/plain": [
       "'Tech'"
      ]
     },
     "execution_count": 28,
     "metadata": {},
     "output_type": "execute_result"
    }
   ],
   "source": [
    "#tech\n",
    "simple_test5 = [\"Jio ने लॉन्‍च किए दो प्रीपेड रिचार्ज प्लान, मिलेगा Disney+ Hotstar प्रीमियम सब्सक्रिप्शन, जानें डिटेलाा\"]\n",
    "pred5 = model.predict(simple_test5)\n",
    "pred5[0]"
   ]
  },
  {
   "cell_type": "code",
   "execution_count": null,
   "id": "b3d0ebc1-3af1-4747-a59d-d6352b575c08",
   "metadata": {},
   "outputs": [],
   "source": []
  }
 ],
 "metadata": {
  "kernelspec": {
   "display_name": "Python 3 (ipykernel)",
   "language": "python",
   "name": "python3"
  },
  "language_info": {
   "codemirror_mode": {
    "name": "ipython",
    "version": 3
   },
   "file_extension": ".py",
   "mimetype": "text/x-python",
   "name": "python",
   "nbconvert_exporter": "python",
   "pygments_lexer": "ipython3",
   "version": "3.8.10"
  },
  "toc-showcode": false
 },
 "nbformat": 4,
 "nbformat_minor": 5
}
