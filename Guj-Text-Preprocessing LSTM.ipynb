{
 "cells": [
  {
   "cell_type": "code",
   "execution_count": 1,
   "metadata": {
    "_uuid": "d6fb32fd69316596e236eab5fb8cf77c848508c3"
   },
   "outputs": [],
   "source": [
    "import pandas as pd\n",
    "import numpy as np\n",
    "import re\n",
    "import matplotlib.pyplot as plt\n",
    "import seaborn as sns\n",
    "from sklearn.model_selection import train_test_split\n",
    "from sklearn.preprocessing import LabelEncoder\n",
    "from keras.models import Model\n",
    "from keras.layers import LSTM, Activation, Dense, Dropout, Input, Embedding\n",
    "from tensorflow.keras.optimizers import RMSprop\n",
    "from keras.preprocessing.text import Tokenizer\n",
    "from keras.preprocessing import sequence\n",
    "from tensorflow.keras.utils import to_categorical\n",
    "from keras.callbacks import EarlyStopping\n",
    "from keras.models import load_model\n",
    "import warnings\n",
    "import nltk\n",
    "from nltk.corpus import stopwords\n",
    "%matplotlib inline\n",
    "warnings.filterwarnings('ignore')"
   ]
  },
  {
   "cell_type": "code",
   "execution_count": 2,
   "metadata": {
    "_uuid": "aca2f1d9da3f35d104763166fe4d25448410d8f2"
   },
   "outputs": [
    {
     "data": {
      "text/html": [
       "<div>\n",
       "<style scoped>\n",
       "    .dataframe tbody tr th:only-of-type {\n",
       "        vertical-align: middle;\n",
       "    }\n",
       "\n",
       "    .dataframe tbody tr th {\n",
       "        vertical-align: top;\n",
       "    }\n",
       "\n",
       "    .dataframe thead th {\n",
       "        text-align: right;\n",
       "    }\n",
       "</style>\n",
       "<table border=\"1\" class=\"dataframe\">\n",
       "  <thead>\n",
       "    <tr style=\"text-align: right;\">\n",
       "      <th></th>\n",
       "      <th>headline</th>\n",
       "      <th>Label</th>\n",
       "    </tr>\n",
       "  </thead>\n",
       "  <tbody>\n",
       "    <tr>\n",
       "      <th>0</th>\n",
       "      <td>IPL Auction 2022: 12-13 ફેબ્રુઆરીએ કેટલા વાગ્ય...</td>\n",
       "      <td>Sports</td>\n",
       "    </tr>\n",
       "    <tr>\n",
       "      <th>1</th>\n",
       "      <td>રોહિત-કોહલીના વિવાદ પર ગાવસ્કરે કર્યો મોટો ખુલ...</td>\n",
       "      <td>Sports</td>\n",
       "    </tr>\n",
       "    <tr>\n",
       "      <th>2</th>\n",
       "      <td>પાકિસ્તાની ફાસ્ટ બોલરને કરાયો સસ્પેંડ, 155kphન...</td>\n",
       "      <td>Sports</td>\n",
       "    </tr>\n",
       "    <tr>\n",
       "      <th>3</th>\n",
       "      <td>એશિઝમાં કારમી હારને લીધે ગિલ્સ બાદ મુખ્ય કોચને...</td>\n",
       "      <td>Sports</td>\n",
       "    </tr>\n",
       "    <tr>\n",
       "      <th>4</th>\n",
       "      <td>ક્યાં રમાશે IPL 2022ના મેચ? સૌરવ ગાંગુલીએ આપ્ય...</td>\n",
       "      <td>Sports</td>\n",
       "    </tr>\n",
       "  </tbody>\n",
       "</table>\n",
       "</div>"
      ],
      "text/plain": [
       "                                            headline   Label\n",
       "0  IPL Auction 2022: 12-13 ફેબ્રુઆરીએ કેટલા વાગ્ય...  Sports\n",
       "1  રોહિત-કોહલીના વિવાદ પર ગાવસ્કરે કર્યો મોટો ખુલ...  Sports\n",
       "2  પાકિસ્તાની ફાસ્ટ બોલરને કરાયો સસ્પેંડ, 155kphન...  Sports\n",
       "3  એશિઝમાં કારમી હારને લીધે ગિલ્સ બાદ મુખ્ય કોચને...  Sports\n",
       "4  ક્યાં રમાશે IPL 2022ના મેચ? સૌરવ ગાંગુલીએ આપ્ય...  Sports"
      ]
     },
     "execution_count": 2,
     "metadata": {},
     "output_type": "execute_result"
    }
   ],
   "source": [
    "df = pd.read_csv('gujarati-train.csv')\n",
    "df.head()"
   ]
  },
  {
   "cell_type": "code",
   "execution_count": 3,
   "metadata": {},
   "outputs": [],
   "source": [
    "def count_length():\n",
    "    df['word_count'] = df['headline'].apply(lambda x: len(str(x).split(\" \")))"
   ]
  },
  {
   "cell_type": "code",
   "execution_count": 4,
   "metadata": {},
   "outputs": [],
   "source": [
    "count_length()"
   ]
  },
  {
   "cell_type": "code",
   "execution_count": 5,
   "metadata": {},
   "outputs": [
    {
     "data": {
      "text/html": [
       "<div>\n",
       "<style scoped>\n",
       "    .dataframe tbody tr th:only-of-type {\n",
       "        vertical-align: middle;\n",
       "    }\n",
       "\n",
       "    .dataframe tbody tr th {\n",
       "        vertical-align: top;\n",
       "    }\n",
       "\n",
       "    .dataframe thead th {\n",
       "        text-align: right;\n",
       "    }\n",
       "</style>\n",
       "<table border=\"1\" class=\"dataframe\">\n",
       "  <thead>\n",
       "    <tr style=\"text-align: right;\">\n",
       "      <th></th>\n",
       "      <th>headline</th>\n",
       "      <th>Label</th>\n",
       "      <th>word_count</th>\n",
       "    </tr>\n",
       "  </thead>\n",
       "  <tbody>\n",
       "    <tr>\n",
       "      <th>0</th>\n",
       "      <td>IPL Auction 2022: 12-13 ફેબ્રુઆરીએ કેટલા વાગ્ય...</td>\n",
       "      <td>Sports</td>\n",
       "      <td>10</td>\n",
       "    </tr>\n",
       "    <tr>\n",
       "      <th>1</th>\n",
       "      <td>રોહિત-કોહલીના વિવાદ પર ગાવસ્કરે કર્યો મોટો ખુલ...</td>\n",
       "      <td>Sports</td>\n",
       "      <td>10</td>\n",
       "    </tr>\n",
       "    <tr>\n",
       "      <th>2</th>\n",
       "      <td>પાકિસ્તાની ફાસ્ટ બોલરને કરાયો સસ્પેંડ, 155kphન...</td>\n",
       "      <td>Sports</td>\n",
       "      <td>10</td>\n",
       "    </tr>\n",
       "    <tr>\n",
       "      <th>3</th>\n",
       "      <td>એશિઝમાં કારમી હારને લીધે ગિલ્સ બાદ મુખ્ય કોચને...</td>\n",
       "      <td>Sports</td>\n",
       "      <td>11</td>\n",
       "    </tr>\n",
       "    <tr>\n",
       "      <th>4</th>\n",
       "      <td>ક્યાં રમાશે IPL 2022ના મેચ? સૌરવ ગાંગુલીએ આપ્ય...</td>\n",
       "      <td>Sports</td>\n",
       "      <td>10</td>\n",
       "    </tr>\n",
       "    <tr>\n",
       "      <th>5</th>\n",
       "      <td>ટીમ ઈન્ડિયાનો આ ખેલાડી વેડફી રહ્યો છે ટેલેન્ટ,...</td>\n",
       "      <td>Sports</td>\n",
       "      <td>11</td>\n",
       "    </tr>\n",
       "    <tr>\n",
       "      <th>6</th>\n",
       "      <td>IND vs WI: ભારતીય ટીમમાં કોરોનાનો વિસ્ફોટ, ફરી...</td>\n",
       "      <td>Sports</td>\n",
       "      <td>15</td>\n",
       "    </tr>\n",
       "    <tr>\n",
       "      <th>7</th>\n",
       "      <td>IPL 2022: હરાજીમાં આ ખેલાડીઓનું વેચાવવું છે મુ...</td>\n",
       "      <td>Sports</td>\n",
       "      <td>12</td>\n",
       "    </tr>\n",
       "    <tr>\n",
       "      <th>8</th>\n",
       "      <td>IPL 2022ના મેગા ઓક્શનમાં અનસોલ્ડ રહી શકે છે આ ...</td>\n",
       "      <td>Sports</td>\n",
       "      <td>17</td>\n",
       "    </tr>\n",
       "    <tr>\n",
       "      <th>9</th>\n",
       "      <td>IPL 2022: ક્યા દેશના કેટલા ખેલાડી લઇ રહ્યાં છે...</td>\n",
       "      <td>Sports</td>\n",
       "      <td>12</td>\n",
       "    </tr>\n",
       "  </tbody>\n",
       "</table>\n",
       "</div>"
      ],
      "text/plain": [
       "                                            headline   Label  word_count\n",
       "0  IPL Auction 2022: 12-13 ફેબ્રુઆરીએ કેટલા વાગ્ય...  Sports          10\n",
       "1  રોહિત-કોહલીના વિવાદ પર ગાવસ્કરે કર્યો મોટો ખુલ...  Sports          10\n",
       "2  પાકિસ્તાની ફાસ્ટ બોલરને કરાયો સસ્પેંડ, 155kphન...  Sports          10\n",
       "3  એશિઝમાં કારમી હારને લીધે ગિલ્સ બાદ મુખ્ય કોચને...  Sports          11\n",
       "4  ક્યાં રમાશે IPL 2022ના મેચ? સૌરવ ગાંગુલીએ આપ્ય...  Sports          10\n",
       "5  ટીમ ઈન્ડિયાનો આ ખેલાડી વેડફી રહ્યો છે ટેલેન્ટ,...  Sports          11\n",
       "6  IND vs WI: ભારતીય ટીમમાં કોરોનાનો વિસ્ફોટ, ફરી...  Sports          15\n",
       "7  IPL 2022: હરાજીમાં આ ખેલાડીઓનું વેચાવવું છે મુ...  Sports          12\n",
       "8  IPL 2022ના મેગા ઓક્શનમાં અનસોલ્ડ રહી શકે છે આ ...  Sports          17\n",
       "9  IPL 2022: ક્યા દેશના કેટલા ખેલાડી લઇ રહ્યાં છે...  Sports          12"
      ]
     },
     "execution_count": 5,
     "metadata": {},
     "output_type": "execute_result"
    }
   ],
   "source": [
    "df.head(10)"
   ]
  },
  {
   "cell_type": "code",
   "execution_count": 6,
   "metadata": {},
   "outputs": [],
   "source": [
    "f = open(\"Gujarati_stopwords.txt\", \"r\",encoding=\"utf8\")\n",
    "stopwords_gu = []\n",
    "for i in f:\n",
    "    i=i.split(\"\\n\")\n",
    "    stopwords_gu.append(str(i[0]))\n",
    "stopwords_en = stopwords.words('english')\n",
    "punctuations = [\".\",\",\",\"?\",\"/\",\"<\",\">\",\"!\",\":\",\";\",\"'\",\"[\",\"]\",\"{\",\"}\",\"(\",\")\",\"-\",\"@\",\"#\",\"$\",\"%\",\"^\",\"&\",\"*\"]\n",
    "stopwords_lst = stopwords_gu + stopwords_en + punctuations"
   ]
  },
  {
   "cell_type": "code",
   "execution_count": 7,
   "metadata": {},
   "outputs": [],
   "source": [
    "df['label_id'] = df.Label.factorize()[0]\n",
    "\n",
    "def preprocess_text(text):\n",
    "    text = text.lower()\n",
    "    text = re.sub('[a-zA-Z0-9]', '',text)\n",
    "    text = re.sub(\"((www.[^s]+)|(https?://[^s]+))\",'',text)\n",
    "    text = re.sub(\"@[^s]+\",'',text)\n",
    "    text = re.sub(\"[s]+\", ' ', text)\n",
    "    text = re.sub(r\"#([^s]+)\", r'', text)\n",
    "    text = text.strip('\"')\n",
    "    return text "
   ]
  },
  {
   "cell_type": "code",
   "execution_count": 8,
   "metadata": {},
   "outputs": [],
   "source": [
    "df['headline'] = df.headline.apply(lambda x: preprocess_text(x))\n",
    "count_length()"
   ]
  },
  {
   "cell_type": "code",
   "execution_count": 9,
   "metadata": {},
   "outputs": [
    {
     "data": {
      "text/html": [
       "<div>\n",
       "<style scoped>\n",
       "    .dataframe tbody tr th:only-of-type {\n",
       "        vertical-align: middle;\n",
       "    }\n",
       "\n",
       "    .dataframe tbody tr th {\n",
       "        vertical-align: top;\n",
       "    }\n",
       "\n",
       "    .dataframe thead th {\n",
       "        text-align: right;\n",
       "    }\n",
       "</style>\n",
       "<table border=\"1\" class=\"dataframe\">\n",
       "  <thead>\n",
       "    <tr style=\"text-align: right;\">\n",
       "      <th></th>\n",
       "      <th>headline</th>\n",
       "      <th>Label</th>\n",
       "      <th>word_count</th>\n",
       "      <th>label_id</th>\n",
       "    </tr>\n",
       "  </thead>\n",
       "  <tbody>\n",
       "    <tr>\n",
       "      <th>0</th>\n",
       "      <td>: - ફેબ્રુઆરીએ કેટલા વાગ્યાથી લાગશે ખેલાડીઓન...</td>\n",
       "      <td>Sports</td>\n",
       "      <td>10</td>\n",
       "      <td>0</td>\n",
       "    </tr>\n",
       "    <tr>\n",
       "      <th>1</th>\n",
       "      <td>રોહિત-કોહલીના વિવાદ પર ગાવસ્કરે કર્યો મોટો ખુલ...</td>\n",
       "      <td>Sports</td>\n",
       "      <td>10</td>\n",
       "      <td>0</td>\n",
       "    </tr>\n",
       "    <tr>\n",
       "      <th>2</th>\n",
       "      <td>પાકિસ્તાની ફાસ્ટ બોલરને કરાયો સસ્પેંડ, ની સ્પિ...</td>\n",
       "      <td>Sports</td>\n",
       "      <td>10</td>\n",
       "      <td>0</td>\n",
       "    </tr>\n",
       "    <tr>\n",
       "      <th>3</th>\n",
       "      <td>એશિઝમાં કારમી હારને લીધે ગિલ્સ બાદ મુખ્ય કોચને...</td>\n",
       "      <td>Sports</td>\n",
       "      <td>11</td>\n",
       "      <td>0</td>\n",
       "    </tr>\n",
       "    <tr>\n",
       "      <th>4</th>\n",
       "      <td>ક્યાં રમાશે  ના મેચ? સૌરવ ગાંગુલીએ આપ્યો આ જવાબ</td>\n",
       "      <td>Sports</td>\n",
       "      <td>10</td>\n",
       "      <td>0</td>\n",
       "    </tr>\n",
       "    <tr>\n",
       "      <th>5</th>\n",
       "      <td>ટીમ ઈન્ડિયાનો આ ખેલાડી વેડફી રહ્યો છે ટેલેન્ટ,...</td>\n",
       "      <td>Sports</td>\n",
       "      <td>11</td>\n",
       "      <td>0</td>\n",
       "    </tr>\n",
       "    <tr>\n",
       "      <th>6</th>\n",
       "      <td>: ભારતીય ટીમમાં કોરોનાનો વિસ્ફોટ, ફરી પ્રથમ ...</td>\n",
       "      <td>Sports</td>\n",
       "      <td>15</td>\n",
       "      <td>0</td>\n",
       "    </tr>\n",
       "    <tr>\n",
       "      <th>7</th>\n",
       "      <td>: હરાજીમાં આ ખેલાડીઓનું વેચાવવું છે મુશ્કેલ, ...</td>\n",
       "      <td>Sports</td>\n",
       "      <td>12</td>\n",
       "      <td>0</td>\n",
       "    </tr>\n",
       "    <tr>\n",
       "      <th>8</th>\n",
       "      <td>ના મેગા ઓક્શનમાં અનસોલ્ડ રહી શકે છે આ  વિદેશી...</td>\n",
       "      <td>Sports</td>\n",
       "      <td>17</td>\n",
       "      <td>0</td>\n",
       "    </tr>\n",
       "    <tr>\n",
       "      <th>9</th>\n",
       "      <td>: ક્યા દેશના કેટલા ખેલાડી લઇ રહ્યાં છે મેગા ઓ...</td>\n",
       "      <td>Sports</td>\n",
       "      <td>12</td>\n",
       "      <td>0</td>\n",
       "    </tr>\n",
       "  </tbody>\n",
       "</table>\n",
       "</div>"
      ],
      "text/plain": [
       "                                            headline   Label  word_count  \\\n",
       "0    : - ફેબ્રુઆરીએ કેટલા વાગ્યાથી લાગશે ખેલાડીઓન...  Sports          10   \n",
       "1  રોહિત-કોહલીના વિવાદ પર ગાવસ્કરે કર્યો મોટો ખુલ...  Sports          10   \n",
       "2  પાકિસ્તાની ફાસ્ટ બોલરને કરાયો સસ્પેંડ, ની સ્પિ...  Sports          10   \n",
       "3  એશિઝમાં કારમી હારને લીધે ગિલ્સ બાદ મુખ્ય કોચને...  Sports          11   \n",
       "4    ક્યાં રમાશે  ના મેચ? સૌરવ ગાંગુલીએ આપ્યો આ જવાબ  Sports          10   \n",
       "5  ટીમ ઈન્ડિયાનો આ ખેલાડી વેડફી રહ્યો છે ટેલેન્ટ,...  Sports          11   \n",
       "6    : ભારતીય ટીમમાં કોરોનાનો વિસ્ફોટ, ફરી પ્રથમ ...  Sports          15   \n",
       "7   : હરાજીમાં આ ખેલાડીઓનું વેચાવવું છે મુશ્કેલ, ...  Sports          12   \n",
       "8   ના મેગા ઓક્શનમાં અનસોલ્ડ રહી શકે છે આ  વિદેશી...  Sports          17   \n",
       "9   : ક્યા દેશના કેટલા ખેલાડી લઇ રહ્યાં છે મેગા ઓ...  Sports          12   \n",
       "\n",
       "   label_id  \n",
       "0         0  \n",
       "1         0  \n",
       "2         0  \n",
       "3         0  \n",
       "4         0  \n",
       "5         0  \n",
       "6         0  \n",
       "7         0  \n",
       "8         0  \n",
       "9         0  "
      ]
     },
     "execution_count": 9,
     "metadata": {},
     "output_type": "execute_result"
    }
   ],
   "source": [
    "df.head(10)"
   ]
  },
  {
   "cell_type": "code",
   "execution_count": 10,
   "metadata": {},
   "outputs": [],
   "source": [
    "from indicnlp.tokenize import indic_tokenize\n",
    "def tokenization(indic_string):\n",
    "    tokens = []\n",
    "    for t in indic_tokenize.trivial_tokenize(indic_string):\n",
    "        tokens.append(t)\n",
    "    return tokens"
   ]
  },
  {
   "cell_type": "code",
   "execution_count": 11,
   "metadata": {},
   "outputs": [
    {
     "data": {
      "text/html": [
       "<div>\n",
       "<style scoped>\n",
       "    .dataframe tbody tr th:only-of-type {\n",
       "        vertical-align: middle;\n",
       "    }\n",
       "\n",
       "    .dataframe tbody tr th {\n",
       "        vertical-align: top;\n",
       "    }\n",
       "\n",
       "    .dataframe thead th {\n",
       "        text-align: right;\n",
       "    }\n",
       "</style>\n",
       "<table border=\"1\" class=\"dataframe\">\n",
       "  <thead>\n",
       "    <tr style=\"text-align: right;\">\n",
       "      <th></th>\n",
       "      <th>headline</th>\n",
       "      <th>Label</th>\n",
       "      <th>word_count</th>\n",
       "      <th>label_id</th>\n",
       "    </tr>\n",
       "  </thead>\n",
       "  <tbody>\n",
       "    <tr>\n",
       "      <th>0</th>\n",
       "      <td>[:, -, ફેબ્રુઆરીએ, કેટલા, વાગ્યાથી, લાગશે, ખેલ...</td>\n",
       "      <td>Sports</td>\n",
       "      <td>10</td>\n",
       "      <td>0</td>\n",
       "    </tr>\n",
       "    <tr>\n",
       "      <th>1</th>\n",
       "      <td>[રોહિત, -, કોહલીના, વિવાદ, પર, ગાવસ્કરે, કર્યો...</td>\n",
       "      <td>Sports</td>\n",
       "      <td>10</td>\n",
       "      <td>0</td>\n",
       "    </tr>\n",
       "    <tr>\n",
       "      <th>2</th>\n",
       "      <td>[પાકિસ્તાની, ફાસ્ટ, બોલરને, કરાયો, સસ્પેંડ, ,,...</td>\n",
       "      <td>Sports</td>\n",
       "      <td>10</td>\n",
       "      <td>0</td>\n",
       "    </tr>\n",
       "    <tr>\n",
       "      <th>3</th>\n",
       "      <td>[એશિઝમાં, કારમી, હારને, લીધે, ગિલ્સ, બાદ, મુખ્...</td>\n",
       "      <td>Sports</td>\n",
       "      <td>11</td>\n",
       "      <td>0</td>\n",
       "    </tr>\n",
       "    <tr>\n",
       "      <th>4</th>\n",
       "      <td>[ક્યાં, રમાશે, ના, મેચ, ?, સૌરવ, ગાંગુલીએ, આપ્...</td>\n",
       "      <td>Sports</td>\n",
       "      <td>10</td>\n",
       "      <td>0</td>\n",
       "    </tr>\n",
       "    <tr>\n",
       "      <th>5</th>\n",
       "      <td>[ટીમ, ઈન્ડિયાનો, આ, ખેલાડી, વેડફી, રહ્યો, છે, ...</td>\n",
       "      <td>Sports</td>\n",
       "      <td>11</td>\n",
       "      <td>0</td>\n",
       "    </tr>\n",
       "    <tr>\n",
       "      <th>6</th>\n",
       "      <td>[:, ભારતીય, ટીમમાં, કોરોનાનો, વિસ્ફોટ, ,, ફરી,...</td>\n",
       "      <td>Sports</td>\n",
       "      <td>15</td>\n",
       "      <td>0</td>\n",
       "    </tr>\n",
       "    <tr>\n",
       "      <th>7</th>\n",
       "      <td>[:, હરાજીમાં, આ, ખેલાડીઓનું, વેચાવવું, છે, મુશ...</td>\n",
       "      <td>Sports</td>\n",
       "      <td>12</td>\n",
       "      <td>0</td>\n",
       "    </tr>\n",
       "    <tr>\n",
       "      <th>8</th>\n",
       "      <td>[ના, મેગા, ઓક્શનમાં, અનસોલ્ડ, રહી, શકે, છે, આ,...</td>\n",
       "      <td>Sports</td>\n",
       "      <td>17</td>\n",
       "      <td>0</td>\n",
       "    </tr>\n",
       "    <tr>\n",
       "      <th>9</th>\n",
       "      <td>[:, ક્યા, દેશના, કેટલા, ખેલાડી, લઇ, રહ્યાં, છે...</td>\n",
       "      <td>Sports</td>\n",
       "      <td>12</td>\n",
       "      <td>0</td>\n",
       "    </tr>\n",
       "  </tbody>\n",
       "</table>\n",
       "</div>"
      ],
      "text/plain": [
       "                                            headline   Label  word_count  \\\n",
       "0  [:, -, ફેબ્રુઆરીએ, કેટલા, વાગ્યાથી, લાગશે, ખેલ...  Sports          10   \n",
       "1  [રોહિત, -, કોહલીના, વિવાદ, પર, ગાવસ્કરે, કર્યો...  Sports          10   \n",
       "2  [પાકિસ્તાની, ફાસ્ટ, બોલરને, કરાયો, સસ્પેંડ, ,,...  Sports          10   \n",
       "3  [એશિઝમાં, કારમી, હારને, લીધે, ગિલ્સ, બાદ, મુખ્...  Sports          11   \n",
       "4  [ક્યાં, રમાશે, ના, મેચ, ?, સૌરવ, ગાંગુલીએ, આપ્...  Sports          10   \n",
       "5  [ટીમ, ઈન્ડિયાનો, આ, ખેલાડી, વેડફી, રહ્યો, છે, ...  Sports          11   \n",
       "6  [:, ભારતીય, ટીમમાં, કોરોનાનો, વિસ્ફોટ, ,, ફરી,...  Sports          15   \n",
       "7  [:, હરાજીમાં, આ, ખેલાડીઓનું, વેચાવવું, છે, મુશ...  Sports          12   \n",
       "8  [ના, મેગા, ઓક્શનમાં, અનસોલ્ડ, રહી, શકે, છે, આ,...  Sports          17   \n",
       "9  [:, ક્યા, દેશના, કેટલા, ખેલાડી, લઇ, રહ્યાં, છે...  Sports          12   \n",
       "\n",
       "   label_id  \n",
       "0         0  \n",
       "1         0  \n",
       "2         0  \n",
       "3         0  \n",
       "4         0  \n",
       "5         0  \n",
       "6         0  \n",
       "7         0  \n",
       "8         0  \n",
       "9         0  "
      ]
     },
     "execution_count": 11,
     "metadata": {},
     "output_type": "execute_result"
    }
   ],
   "source": [
    "df['headline'] = df.headline.apply(lambda x: tokenization(x))\n",
    "df.head(10)"
   ]
  },
  {
   "cell_type": "code",
   "execution_count": 12,
   "metadata": {},
   "outputs": [
    {
     "data": {
      "text/html": [
       "<div>\n",
       "<style scoped>\n",
       "    .dataframe tbody tr th:only-of-type {\n",
       "        vertical-align: middle;\n",
       "    }\n",
       "\n",
       "    .dataframe tbody tr th {\n",
       "        vertical-align: top;\n",
       "    }\n",
       "\n",
       "    .dataframe thead th {\n",
       "        text-align: right;\n",
       "    }\n",
       "</style>\n",
       "<table border=\"1\" class=\"dataframe\">\n",
       "  <thead>\n",
       "    <tr style=\"text-align: right;\">\n",
       "      <th></th>\n",
       "      <th>headline</th>\n",
       "      <th>Label</th>\n",
       "      <th>word_count</th>\n",
       "      <th>label_id</th>\n",
       "    </tr>\n",
       "  </thead>\n",
       "  <tbody>\n",
       "    <tr>\n",
       "      <th>0</th>\n",
       "      <td>[ફેબ્રુઆરીએ, કેટલા, વાગ્યાથી, લાગશે, ખેલાડીઓની...</td>\n",
       "      <td>Sports</td>\n",
       "      <td>6</td>\n",
       "      <td>0</td>\n",
       "    </tr>\n",
       "    <tr>\n",
       "      <th>1</th>\n",
       "      <td>[રોહિત, કોહલીના, વિવાદ, ગાવસ્કરે, કર્યો, મોટો,...</td>\n",
       "      <td>Sports</td>\n",
       "      <td>10</td>\n",
       "      <td>0</td>\n",
       "    </tr>\n",
       "    <tr>\n",
       "      <th>2</th>\n",
       "      <td>[પાકિસ્તાની, ફાસ્ટ, બોલરને, કરાયો, સસ્પેંડ, સ્...</td>\n",
       "      <td>Sports</td>\n",
       "      <td>7</td>\n",
       "      <td>0</td>\n",
       "    </tr>\n",
       "    <tr>\n",
       "      <th>3</th>\n",
       "      <td>[એશિઝમાં, કારમી, હારને, લીધે, ગિલ્સ, બાદ, મુખ્...</td>\n",
       "      <td>Sports</td>\n",
       "      <td>10</td>\n",
       "      <td>0</td>\n",
       "    </tr>\n",
       "    <tr>\n",
       "      <th>4</th>\n",
       "      <td>[ક્યાં, રમાશે, મેચ, સૌરવ, ગાંગુલીએ, જવાબ]</td>\n",
       "      <td>Sports</td>\n",
       "      <td>6</td>\n",
       "      <td>0</td>\n",
       "    </tr>\n",
       "    <tr>\n",
       "      <th>5</th>\n",
       "      <td>[ટીમ, ઈન્ડિયાનો, ખેલાડી, વેડફી, રહ્યો, ટેલેન્ટ...</td>\n",
       "      <td>Sports</td>\n",
       "      <td>9</td>\n",
       "      <td>0</td>\n",
       "    </tr>\n",
       "    <tr>\n",
       "      <th>6</th>\n",
       "      <td>[ભારતીય, ટીમમાં, કોરોનાનો, વિસ્ફોટ, મેચ, નહી, ...</td>\n",
       "      <td>Sports</td>\n",
       "      <td>10</td>\n",
       "      <td>0</td>\n",
       "    </tr>\n",
       "    <tr>\n",
       "      <th>7</th>\n",
       "      <td>[હરાજીમાં, ખેલાડીઓનું, વેચાવવું, મુશ્કેલ, કરોડ...</td>\n",
       "      <td>Sports</td>\n",
       "      <td>7</td>\n",
       "      <td>0</td>\n",
       "    </tr>\n",
       "    <tr>\n",
       "      <th>8</th>\n",
       "      <td>[મેગા, ઓક્શનમાં, અનસોલ્ડ, રહી, શકે, વિદેશી, ખે...</td>\n",
       "      <td>Sports</td>\n",
       "      <td>10</td>\n",
       "      <td>0</td>\n",
       "    </tr>\n",
       "    <tr>\n",
       "      <th>9</th>\n",
       "      <td>[ક્યા, દેશના, કેટલા, ખેલાડી, લઇ, રહ્યાં, મેગા,...</td>\n",
       "      <td>Sports</td>\n",
       "      <td>8</td>\n",
       "      <td>0</td>\n",
       "    </tr>\n",
       "  </tbody>\n",
       "</table>\n",
       "</div>"
      ],
      "text/plain": [
       "                                            headline   Label  word_count  \\\n",
       "0  [ફેબ્રુઆરીએ, કેટલા, વાગ્યાથી, લાગશે, ખેલાડીઓની...  Sports           6   \n",
       "1  [રોહિત, કોહલીના, વિવાદ, ગાવસ્કરે, કર્યો, મોટો,...  Sports          10   \n",
       "2  [પાકિસ્તાની, ફાસ્ટ, બોલરને, કરાયો, સસ્પેંડ, સ્...  Sports           7   \n",
       "3  [એશિઝમાં, કારમી, હારને, લીધે, ગિલ્સ, બાદ, મુખ્...  Sports          10   \n",
       "4          [ક્યાં, રમાશે, મેચ, સૌરવ, ગાંગુલીએ, જવાબ]  Sports           6   \n",
       "5  [ટીમ, ઈન્ડિયાનો, ખેલાડી, વેડફી, રહ્યો, ટેલેન્ટ...  Sports           9   \n",
       "6  [ભારતીય, ટીમમાં, કોરોનાનો, વિસ્ફોટ, મેચ, નહી, ...  Sports          10   \n",
       "7  [હરાજીમાં, ખેલાડીઓનું, વેચાવવું, મુશ્કેલ, કરોડ...  Sports           7   \n",
       "8  [મેગા, ઓક્શનમાં, અનસોલ્ડ, રહી, શકે, વિદેશી, ખે...  Sports          10   \n",
       "9  [ક્યા, દેશના, કેટલા, ખેલાડી, લઇ, રહ્યાં, મેગા,...  Sports           8   \n",
       "\n",
       "   label_id  \n",
       "0         0  \n",
       "1         0  \n",
       "2         0  \n",
       "3         0  \n",
       "4         0  \n",
       "5         0  \n",
       "6         0  \n",
       "7         0  \n",
       "8         0  \n",
       "9         0  "
      ]
     },
     "execution_count": 12,
     "metadata": {},
     "output_type": "execute_result"
    }
   ],
   "source": [
    "for i in range(len(df)):\n",
    "    df['headline'][i]=[ele for ele in df['headline'][i] if ele not in (stopwords_lst)]\n",
    "count_length()\n",
    "df.head(10)"
   ]
  },
  {
   "cell_type": "code",
   "execution_count": 13,
   "metadata": {},
   "outputs": [
    {
     "data": {
      "text/html": [
       "<div>\n",
       "<style scoped>\n",
       "    .dataframe tbody tr th:only-of-type {\n",
       "        vertical-align: middle;\n",
       "    }\n",
       "\n",
       "    .dataframe tbody tr th {\n",
       "        vertical-align: top;\n",
       "    }\n",
       "\n",
       "    .dataframe thead th {\n",
       "        text-align: right;\n",
       "    }\n",
       "</style>\n",
       "<table border=\"1\" class=\"dataframe\">\n",
       "  <thead>\n",
       "    <tr style=\"text-align: right;\">\n",
       "      <th></th>\n",
       "      <th>headline</th>\n",
       "      <th>Label</th>\n",
       "      <th>word_count</th>\n",
       "      <th>label_id</th>\n",
       "    </tr>\n",
       "  </thead>\n",
       "  <tbody>\n",
       "    <tr>\n",
       "      <th>0</th>\n",
       "      <td>ફેબ્રુઆરીએ કેટલા વાગ્યાથી લાગશે ખેલાડીઓની બોલી</td>\n",
       "      <td>Sports</td>\n",
       "      <td>6</td>\n",
       "      <td>0</td>\n",
       "    </tr>\n",
       "    <tr>\n",
       "      <th>1</th>\n",
       "      <td>રોહિત કોહલીના વિવાદ ગાવસ્કરે કર્યો મોટો ખુલાસો...</td>\n",
       "      <td>Sports</td>\n",
       "      <td>10</td>\n",
       "      <td>0</td>\n",
       "    </tr>\n",
       "    <tr>\n",
       "      <th>2</th>\n",
       "      <td>પાકિસ્તાની ફાસ્ટ બોલરને કરાયો સસ્પેંડ સ્પિડથી ...</td>\n",
       "      <td>Sports</td>\n",
       "      <td>7</td>\n",
       "      <td>0</td>\n",
       "    </tr>\n",
       "    <tr>\n",
       "      <th>3</th>\n",
       "      <td>એશિઝમાં કારમી હારને લીધે ગિલ્સ બાદ મુખ્ય કોચને...</td>\n",
       "      <td>Sports</td>\n",
       "      <td>10</td>\n",
       "      <td>0</td>\n",
       "    </tr>\n",
       "    <tr>\n",
       "      <th>4</th>\n",
       "      <td>ક્યાં રમાશે મેચ સૌરવ ગાંગુલીએ જવાબ</td>\n",
       "      <td>Sports</td>\n",
       "      <td>6</td>\n",
       "      <td>0</td>\n",
       "    </tr>\n",
       "    <tr>\n",
       "      <th>5</th>\n",
       "      <td>ટીમ ઈન્ડિયાનો ખેલાડી વેડફી રહ્યો ટેલેન્ટ ગાવસ્...</td>\n",
       "      <td>Sports</td>\n",
       "      <td>9</td>\n",
       "      <td>0</td>\n",
       "    </tr>\n",
       "    <tr>\n",
       "      <th>6</th>\n",
       "      <td>ભારતીય ટીમમાં કોરોનાનો વિસ્ફોટ મેચ નહી રમી શકે...</td>\n",
       "      <td>Sports</td>\n",
       "      <td>10</td>\n",
       "      <td>0</td>\n",
       "    </tr>\n",
       "    <tr>\n",
       "      <th>7</th>\n",
       "      <td>હરાજીમાં ખેલાડીઓનું વેચાવવું મુશ્કેલ કરોડોમાં ...</td>\n",
       "      <td>Sports</td>\n",
       "      <td>7</td>\n",
       "      <td>0</td>\n",
       "    </tr>\n",
       "    <tr>\n",
       "      <th>8</th>\n",
       "      <td>મેગા ઓક્શનમાં અનસોલ્ડ રહી શકે વિદેશી ખેલાડી કર...</td>\n",
       "      <td>Sports</td>\n",
       "      <td>10</td>\n",
       "      <td>0</td>\n",
       "    </tr>\n",
       "    <tr>\n",
       "      <th>9</th>\n",
       "      <td>ક્યા દેશના કેટલા ખેલાડી લઇ રહ્યાં મેગા ઓક્શનમાં</td>\n",
       "      <td>Sports</td>\n",
       "      <td>8</td>\n",
       "      <td>0</td>\n",
       "    </tr>\n",
       "  </tbody>\n",
       "</table>\n",
       "</div>"
      ],
      "text/plain": [
       "                                            headline   Label  word_count  \\\n",
       "0     ફેબ્રુઆરીએ કેટલા વાગ્યાથી લાગશે ખેલાડીઓની બોલી  Sports           6   \n",
       "1  રોહિત કોહલીના વિવાદ ગાવસ્કરે કર્યો મોટો ખુલાસો...  Sports          10   \n",
       "2  પાકિસ્તાની ફાસ્ટ બોલરને કરાયો સસ્પેંડ સ્પિડથી ...  Sports           7   \n",
       "3  એશિઝમાં કારમી હારને લીધે ગિલ્સ બાદ મુખ્ય કોચને...  Sports          10   \n",
       "4                 ક્યાં રમાશે મેચ સૌરવ ગાંગુલીએ જવાબ  Sports           6   \n",
       "5  ટીમ ઈન્ડિયાનો ખેલાડી વેડફી રહ્યો ટેલેન્ટ ગાવસ્...  Sports           9   \n",
       "6  ભારતીય ટીમમાં કોરોનાનો વિસ્ફોટ મેચ નહી રમી શકે...  Sports          10   \n",
       "7  હરાજીમાં ખેલાડીઓનું વેચાવવું મુશ્કેલ કરોડોમાં ...  Sports           7   \n",
       "8  મેગા ઓક્શનમાં અનસોલ્ડ રહી શકે વિદેશી ખેલાડી કર...  Sports          10   \n",
       "9    ક્યા દેશના કેટલા ખેલાડી લઇ રહ્યાં મેગા ઓક્શનમાં  Sports           8   \n",
       "\n",
       "   label_id  \n",
       "0         0  \n",
       "1         0  \n",
       "2         0  \n",
       "3         0  \n",
       "4         0  \n",
       "5         0  \n",
       "6         0  \n",
       "7         0  \n",
       "8         0  \n",
       "9         0  "
      ]
     },
     "execution_count": 13,
     "metadata": {},
     "output_type": "execute_result"
    }
   ],
   "source": [
    "df['headline'] = df['headline'].str.join(\" \")\n",
    "df.head(10)"
   ]
  },
  {
   "cell_type": "code",
   "execution_count": 14,
   "metadata": {
    "_uuid": "a1a345c1683e2fcc7173ecae867a5da87f2dde24",
    "tags": []
   },
   "outputs": [],
   "source": [
    "X = df['headline'].values\n",
    "Y = df['label_id']\n",
    "le = LabelEncoder()\n",
    "Y = le.fit_transform(Y)\n",
    "Y = Y.reshape(-1,1)"
   ]
  },
  {
   "cell_type": "code",
   "execution_count": 15,
   "metadata": {
    "_uuid": "aa3386af09469682c66cc53a1830a4e42f0e70b6",
    "scrolled": true,
    "tags": []
   },
   "outputs": [],
   "source": [
    "X_train,X_test,Y_train,Y_test = train_test_split(X,Y,test_size=0.20)\n",
    "max_words = 10000\n",
    "max_len = 200\n",
    "tok = Tokenizer(num_words=max_words)\n",
    "tok.fit_on_texts(X_train)\n",
    "sequences = tok.texts_to_sequences(X_train)\n",
    "sequences_matrix = sequence.pad_sequences(sequences,maxlen=max_len)\n",
    "def RNN():\n",
    "    inputs = Input(name='inputs',shape=[max_len])\n",
    "    layer = Embedding(max_words,50,input_length=max_len)(inputs)\n",
    "    layer = LSTM(64)(layer)\n",
    "    layer = Dense(256,name='FC1')(layer)\n",
    "    layer = Activation('relu')(layer)\n",
    "    layer = Dropout(0.5)(layer)\n",
    "    layer = Dense(7,name='out_layer')(layer)\n",
    "    layer = Activation('softmax')(layer)\n",
    "    model = Model(inputs=inputs,outputs=layer)\n",
    "    return model\n",
    "model = RNN()"
   ]
  },
  {
   "cell_type": "code",
   "execution_count": 17,
   "metadata": {},
   "outputs": [],
   "source": [
    "test_classes = []\n",
    "for i in range(len(Y_test)):\n",
    "    for j in range(len(Y_test[i])):\n",
    "        test_classes.append(Y_test[i][j]) "
   ]
  },
  {
   "cell_type": "code",
   "execution_count": 18,
   "metadata": {},
   "outputs": [
    {
     "name": "stdout",
     "output_type": "stream",
     "text": [
      "Epoch 1/10\n",
      "95/95 [==============================] - 54s 536ms/step - loss: 1.3412 - accuracy: 0.4202 - val_loss: 0.7652 - val_accuracy: 0.7482\n",
      "Epoch 2/10\n",
      "95/95 [==============================] - 49s 519ms/step - loss: 0.5340 - accuracy: 0.8100 - val_loss: 0.4264 - val_accuracy: 0.8495\n",
      "Epoch 3/10\n",
      "95/95 [==============================] - 53s 552ms/step - loss: 0.3328 - accuracy: 0.8869 - val_loss: 0.3694 - val_accuracy: 0.8720\n",
      "Epoch 4/10\n",
      "95/95 [==============================] - 57s 596ms/step - loss: 0.2139 - accuracy: 0.9296 - val_loss: 0.3403 - val_accuracy: 0.8961\n",
      "Epoch 5/10\n",
      "95/95 [==============================] - 51s 538ms/step - loss: 0.1699 - accuracy: 0.9438 - val_loss: 0.3564 - val_accuracy: 0.8905\n",
      "Epoch 6/10\n",
      "95/95 [==============================] - 58s 611ms/step - loss: 0.1350 - accuracy: 0.9566 - val_loss: 0.3202 - val_accuracy: 0.9034\n",
      "Epoch 7/10\n",
      "95/95 [==============================] - 62s 654ms/step - loss: 0.1124 - accuracy: 0.9649 - val_loss: 0.3317 - val_accuracy: 0.9045\n",
      "Epoch 8/10\n",
      "95/95 [==============================] - 57s 594ms/step - loss: 0.0969 - accuracy: 0.9681 - val_loss: 0.3270 - val_accuracy: 0.9031\n",
      "Epoch 9/10\n",
      "95/95 [==============================] - 55s 577ms/step - loss: 0.0823 - accuracy: 0.9742 - val_loss: 0.3286 - val_accuracy: 0.9042\n",
      "Epoch 10/10\n",
      "95/95 [==============================] - 50s 530ms/step - loss: 0.0688 - accuracy: 0.9779 - val_loss: 0.3718 - val_accuracy: 0.9045\n"
     ]
    }
   ],
   "source": [
    "model.compile(loss='sparse_categorical_crossentropy',optimizer=RMSprop(),metrics=['accuracy'])\n",
    "history = model.fit(sequences_matrix,Y_train,batch_size=256,epochs=10,\n",
    "          validation_split=0.2)"
   ]
  },
  {
   "cell_type": "code",
   "execution_count": 19,
   "metadata": {
    "_uuid": "80036135a11387d952becaf2fecf653a65c02328",
    "tags": []
   },
   "outputs": [
    {
     "name": "stdout",
     "output_type": "stream",
     "text": [
      "237/237 [==============================] - 9s 40ms/step - loss: 0.4011 - accuracy: 0.8962\n",
      "Accuracy: 0.90\n"
     ]
    }
   ],
   "source": [
    "test_sequences = tok.texts_to_sequences(X_test)\n",
    "test_sequences_matrix = sequence.pad_sequences(test_sequences,maxlen=max_len)\n",
    "accr = model.evaluate(test_sequences_matrix,Y_test)\n",
    "print('Accuracy: {:0.2f}'.format(accr[1]))"
   ]
  },
  {
   "cell_type": "code",
   "execution_count": 20,
   "metadata": {},
   "outputs": [],
   "source": [
    "model.save('GU_LSTM.h5')"
   ]
  },
  {
   "cell_type": "code",
   "execution_count": 21,
   "metadata": {},
   "outputs": [],
   "source": [
    "predicted_categories = []\n",
    "preds = model.predict(test_sequences_matrix)\n",
    "for i in preds:\n",
    "    pred_classes = np.argsort(i)[-1:][::-1]\n",
    "    predicted_categories.append(pred_classes[0])"
   ]
  },
  {
   "cell_type": "code",
   "execution_count": 22,
   "metadata": {},
   "outputs": [
    {
     "name": "stdout",
     "output_type": "stream",
     "text": [
      "              precision    recall  f1-score   support\n",
      "\n",
      "           0       0.91      0.91      0.91      1562\n",
      "           1       0.87      0.83      0.85      1423\n",
      "           2       0.84      0.87      0.85      1502\n",
      "           3       0.92      0.94      0.93      1588\n",
      "           4       0.93      0.92      0.93      1481\n",
      "\n",
      "    accuracy                           0.90      7556\n",
      "   macro avg       0.90      0.89      0.90      7556\n",
      "weighted avg       0.90      0.90      0.90      7556\n",
      "\n"
     ]
    }
   ],
   "source": [
    "from sklearn.metrics import accuracy_score,confusion_matrix,classification_report\n",
    "report = classification_report(test_classes, predicted_categories)\n",
    "print(report)"
   ]
  },
  {
   "cell_type": "code",
   "execution_count": 23,
   "metadata": {},
   "outputs": [
    {
     "data": {
      "text/plain": [
       "array([[1426,   28,   24,   58,   26],\n",
       "       [  29, 1183,  171,   16,   24],\n",
       "       [  29,  110, 1303,   26,   34],\n",
       "       [  45,    7,   24, 1500,   12],\n",
       "       [  32,   28,   33,   28, 1360]], dtype=int64)"
      ]
     },
     "execution_count": 23,
     "metadata": {},
     "output_type": "execute_result"
    }
   ],
   "source": [
    "mat = confusion_matrix(test_classes, predicted_categories)\n",
    "mat"
   ]
  },
  {
   "cell_type": "code",
   "execution_count": 24,
   "metadata": {},
   "outputs": [],
   "source": [
    "id_to_category = {0:'sports', 1:'tech', 2:'business', 3:'politics',\n",
    "                  4:'entertainment'}"
   ]
  },
  {
   "cell_type": "code",
   "execution_count": 25,
   "metadata": {},
   "outputs": [
    {
     "name": "stdout",
     "output_type": "stream",
     "text": [
      "business 100.00 %\n"
     ]
    }
   ],
   "source": [
    "sample_text1 = [\"શેરમાર્કેટમાં કડાકો:10 દિવસમાં Mcap 15 લાખ કરોડ ઘટ્યું; સેન્સેક્સ 678 પોઇન્ટ તૂટ્યો, ઇન્વેસ્ટર્સે 3 દિવસમાં 6.15 લાખ ગુમાવ્યાં\"]\n",
    "\n",
    "txts = tok.texts_to_sequences(sample_text1)\n",
    "txts = sequence.pad_sequences(txts, maxlen=max_len)\n",
    "preds = model.predict(txts)[0]\n",
    "pred_classes = np.argsort(preds)[-1:][::-1]\n",
    "\n",
    "classes = [id_to_category[i] for i in pred_classes]\n",
    "props   = preds[pred_classes]\n",
    "\n",
    "for c, p in zip(classes, props):\n",
    "    print(\"{} {:.2f} %\".format(c,p*100))"
   ]
  },
  {
   "cell_type": "code",
   "execution_count": 26,
   "metadata": {},
   "outputs": [
    {
     "name": "stdout",
     "output_type": "stream",
     "text": [
      "entertainment 100.00 %\n"
     ]
    }
   ],
   "source": [
    "sample_text2 = [\"SRKના દીકરાની ઘરવાપસી LIVE:આર્યન ખાનને 'મન્નત'થી આર્થર રોડ જેલનું 13 કિલોમીટરનું અંતર કાપતાં 28 દિવસ થયા\"]\n",
    "\n",
    "txts = tok.texts_to_sequences(sample_text2)\n",
    "txts = sequence.pad_sequences(txts, maxlen=max_len)\n",
    "preds = model.predict(txts)[0]\n",
    "pred_classes = np.argsort(preds)[-1:][::-1]\n",
    "\n",
    "classes = [id_to_category[i] for i in pred_classes]\n",
    "props   = preds[pred_classes]\n",
    "\n",
    "for c, p in zip(classes, props):\n",
    "    print(\"{} {:.2f} %\".format(c,p*100))"
   ]
  },
  {
   "cell_type": "code",
   "execution_count": 27,
   "metadata": {},
   "outputs": [
    {
     "name": "stdout",
     "output_type": "stream",
     "text": [
      "tech 100.00 %\n"
     ]
    }
   ],
   "source": [
    "sample_text3 = [\"લોન્ચ થયો Oppo નો Waterproof સ્માર્ટફોન, ધાંસૂ કેમેરા સાથે મળશે ગજબના ફીચર્સ\"]\n",
    "\n",
    "txts = tok.texts_to_sequences(sample_text3)\n",
    "txts = sequence.pad_sequences(txts, maxlen=max_len)\n",
    "preds = model.predict(txts)[0]\n",
    "pred_classes = np.argsort(preds)[-1:][::-1]\n",
    "\n",
    "classes = [id_to_category[i] for i in pred_classes]\n",
    "props   = preds[pred_classes]\n",
    "\n",
    "for c, p in zip(classes, props):\n",
    "    print(\"{} {:.2f} %\".format(c,p*100))"
   ]
  },
  {
   "cell_type": "code",
   "execution_count": 28,
   "metadata": {},
   "outputs": [
    {
     "name": "stdout",
     "output_type": "stream",
     "text": [
      "politics 100.00 %\n"
     ]
    }
   ],
   "source": [
    "sample_text4 = [\"ઉત્તરાખંડમાં ભાજપને મોટો ઝટકો, કેબિનેટ મંત્રી પદેથી રાજીનામું આપીને આ નેતા કોંગ્રેસમાં થયા સામેલસ\"]\n",
    "\n",
    "txts = tok.texts_to_sequences(sample_text4)\n",
    "txts = sequence.pad_sequences(txts, maxlen=max_len)\n",
    "preds = model.predict(txts)[0]\n",
    "pred_classes = np.argsort(preds)[-1:][::-1]\n",
    "\n",
    "classes = [id_to_category[i] for i in pred_classes]\n",
    "props   = preds[pred_classes]\n",
    "\n",
    "for c, p in zip(classes, props):\n",
    "    print(\"{} {:.2f} %\".format(c,p*100))"
   ]
  },
  {
   "cell_type": "code",
   "execution_count": 29,
   "metadata": {},
   "outputs": [
    {
     "name": "stdout",
     "output_type": "stream",
     "text": [
      "sports 100.00 %\n"
     ]
    }
   ],
   "source": [
    "sample_text5 = [\"સાઉથ આફ્રિકન સ્પિનર શેન વ્હાઈટહેડે ઈનિંગમાં ૧૦ વિકેટ ઝડપી ઈતિહાસ રચ્યો\"]\n",
    "\n",
    "txts = tok.texts_to_sequences(sample_text5)\n",
    "txts = sequence.pad_sequences(txts, maxlen=max_len)\n",
    "preds = model.predict(txts)[0]\n",
    "pred_classes = np.argsort(preds)[-1:][::-1]\n",
    "\n",
    "classes = [id_to_category[i] for i in pred_classes]\n",
    "props   = preds[pred_classes]\n",
    "\n",
    "for c, p in zip(classes, props):\n",
    "    print(\"{} {:.2f} %\".format(c,p*100))"
   ]
  },
  {
   "cell_type": "code",
   "execution_count": null,
   "metadata": {},
   "outputs": [],
   "source": []
  }
 ],
 "metadata": {
  "kernelspec": {
   "display_name": "Python 3",
   "language": "python",
   "name": "python3"
  },
  "language_info": {
   "codemirror_mode": {
    "name": "ipython",
    "version": 3
   },
   "file_extension": ".py",
   "mimetype": "text/x-python",
   "name": "python",
   "nbconvert_exporter": "python",
   "pygments_lexer": "ipython3",
   "version": "3.8.8"
  }
 },
 "nbformat": 4,
 "nbformat_minor": 4
}
