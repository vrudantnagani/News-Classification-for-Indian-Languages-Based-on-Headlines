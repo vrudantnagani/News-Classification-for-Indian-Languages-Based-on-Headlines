{
 "cells": [
  {
   "cell_type": "code",
   "execution_count": 1,
   "id": "82b0bc1c-f178-4613-b4e7-89f029dba237",
   "metadata": {},
   "outputs": [],
   "source": [
    "import numpy as np, pandas as pd\n",
    "from sklearn.feature_extraction.text import TfidfVectorizer\n",
    "from sklearn.naive_bayes import MultinomialNB\n",
    "from sklearn.pipeline import make_pipeline\n",
    "import nltk\n",
    "import re\n",
    "from nltk.corpus import stopwords\n",
    "from sklearn.model_selection import train_test_split"
   ]
  },
  {
   "cell_type": "code",
   "execution_count": 2,
   "id": "ac3c195b-7a22-4a67-8c44-18a36592188d",
   "metadata": {},
   "outputs": [],
   "source": [
    "data = pd.read_csv(\"english-train.csv\")"
   ]
  },
  {
   "cell_type": "code",
   "execution_count": 3,
   "id": "4f2bf52a-5bdc-4723-85f0-919b9487447b",
   "metadata": {},
   "outputs": [
    {
     "data": {
      "text/html": [
       "<div>\n",
       "<style scoped>\n",
       "    .dataframe tbody tr th:only-of-type {\n",
       "        vertical-align: middle;\n",
       "    }\n",
       "\n",
       "    .dataframe tbody tr th {\n",
       "        vertical-align: top;\n",
       "    }\n",
       "\n",
       "    .dataframe thead th {\n",
       "        text-align: right;\n",
       "    }\n",
       "</style>\n",
       "<table border=\"1\" class=\"dataframe\">\n",
       "  <thead>\n",
       "    <tr style=\"text-align: right;\">\n",
       "      <th></th>\n",
       "      <th>headline</th>\n",
       "      <th>Label</th>\n",
       "    </tr>\n",
       "  </thead>\n",
       "  <tbody>\n",
       "    <tr>\n",
       "      <th>0</th>\n",
       "      <td>Former New Zealand cricketer Chris Cairns diag...</td>\n",
       "      <td>Sports</td>\n",
       "    </tr>\n",
       "    <tr>\n",
       "      <th>1</th>\n",
       "      <td>American skater Nathan Chen dazzles in his Oly...</td>\n",
       "      <td>Sports</td>\n",
       "    </tr>\n",
       "    <tr>\n",
       "      <th>2</th>\n",
       "      <td>La Liga: Enes Unal scores brace to lead Getafe...</td>\n",
       "      <td>Sports</td>\n",
       "    </tr>\n",
       "    <tr>\n",
       "      <th>3</th>\n",
       "      <td>U-19 World Cup: Australia beat Afghanistan to ...</td>\n",
       "      <td>Sports</td>\n",
       "    </tr>\n",
       "    <tr>\n",
       "      <th>4</th>\n",
       "      <td>ICC U-19 World Cup India vs England final Live...</td>\n",
       "      <td>Sports</td>\n",
       "    </tr>\n",
       "    <tr>\n",
       "      <th>5</th>\n",
       "      <td>Brainsqueeze: Know your Snow</td>\n",
       "      <td>Sports</td>\n",
       "    </tr>\n",
       "    <tr>\n",
       "      <th>6</th>\n",
       "      <td>Justin Langer steps down as Australia coach</td>\n",
       "      <td>Sports</td>\n",
       "    </tr>\n",
       "    <tr>\n",
       "      <th>7</th>\n",
       "      <td>From Ratnakar Shetty’s memoirs: Apparently Vir...</td>\n",
       "      <td>Sports</td>\n",
       "    </tr>\n",
       "    <tr>\n",
       "      <th>8</th>\n",
       "      <td>I think ODI revolution happened with 1996 Worl...</td>\n",
       "      <td>Sports</td>\n",
       "    </tr>\n",
       "    <tr>\n",
       "      <th>9</th>\n",
       "      <td>U-19 World Cup: Boxer’s son Nishant Sindhu wit...</td>\n",
       "      <td>Sports</td>\n",
       "    </tr>\n",
       "  </tbody>\n",
       "</table>\n",
       "</div>"
      ],
      "text/plain": [
       "                                            headline   Label\n",
       "0  Former New Zealand cricketer Chris Cairns diag...  Sports\n",
       "1  American skater Nathan Chen dazzles in his Oly...  Sports\n",
       "2  La Liga: Enes Unal scores brace to lead Getafe...  Sports\n",
       "3  U-19 World Cup: Australia beat Afghanistan to ...  Sports\n",
       "4  ICC U-19 World Cup India vs England final Live...  Sports\n",
       "5                       Brainsqueeze: Know your Snow  Sports\n",
       "6        Justin Langer steps down as Australia coach  Sports\n",
       "7  From Ratnakar Shetty’s memoirs: Apparently Vir...  Sports\n",
       "8  I think ODI revolution happened with 1996 Worl...  Sports\n",
       "9  U-19 World Cup: Boxer’s son Nishant Sindhu wit...  Sports"
      ]
     },
     "execution_count": 3,
     "metadata": {},
     "output_type": "execute_result"
    }
   ],
   "source": [
    "data.head(10)"
   ]
  },
  {
   "cell_type": "code",
   "execution_count": 4,
   "id": "0d72db4a-ea34-4096-8471-bef06c713fa6",
   "metadata": {},
   "outputs": [],
   "source": [
    "def preprocess_text(text, flg_stemm=False, flg_lemm=True, lst_stopwords=stopwords.words('english')):\n",
    "    \n",
    "    ## clean (convert to lowercase and remove punctuations and   \n",
    "    # characters and then strip)\n",
    "    text = re.sub('[0-9]', ' ', text)\n",
    "    text = re.sub(r'[^\\w\\s]', '', str(text).lower().strip())\n",
    "    text = re.sub(r\"\\b[a-zA-Z]\\b\", ' ', text)\n",
    "            \n",
    "    ## Tokenize (convert from string to list)\n",
    "    lst_text = text.split()\n",
    "    ## remove Stopwords\n",
    "    if lst_stopwords is not None:\n",
    "        lst_text = [word for word in lst_text if word not in lst_stopwords]\n",
    "                \n",
    "    ## Stemming (remove -ing, -ly, ...)\n",
    "    if flg_stemm == True:\n",
    "        ps = nltk.stem.porter.PorterStemmer()\n",
    "        lst_text = [ps.stem(word) for word in lst_text]\n",
    "                \n",
    "    ## Lemmatisation (convert the word into root word)\n",
    "    if flg_lemm == True:\n",
    "        lem = nltk.stem.wordnet.WordNetLemmatizer()\n",
    "        lst_text = [lem.lemmatize(word) for word in lst_text]\n",
    "            \n",
    "    ## back to string from list\n",
    "    text = \" \".join(lst_text)\n",
    "    return text"
   ]
  },
  {
   "cell_type": "code",
   "execution_count": 5,
   "id": "3c5693ff-7048-4a7d-9ca6-c893b9f2e85e",
   "metadata": {},
   "outputs": [],
   "source": [
    "data['headline'] = data.headline.apply(lambda x: \n",
    "          preprocess_text(x))"
   ]
  },
  {
   "cell_type": "code",
   "execution_count": 6,
   "id": "0513c469-d05f-4ba8-bcf6-5b6f562d8be4",
   "metadata": {},
   "outputs": [],
   "source": [
    "def count_length():\n",
    "    data['word_count'] = data['headline'].apply(lambda x: len(str(x).split(\" \")))"
   ]
  },
  {
   "cell_type": "code",
   "execution_count": 7,
   "id": "d14c586c-b169-4fe8-9d4a-1c19f0932f10",
   "metadata": {},
   "outputs": [],
   "source": [
    "count_length()"
   ]
  },
  {
   "cell_type": "code",
   "execution_count": 8,
   "id": "77c51008-e991-47ae-b57a-e01b426b6fc2",
   "metadata": {},
   "outputs": [
    {
     "data": {
      "text/html": [
       "<div>\n",
       "<style scoped>\n",
       "    .dataframe tbody tr th:only-of-type {\n",
       "        vertical-align: middle;\n",
       "    }\n",
       "\n",
       "    .dataframe tbody tr th {\n",
       "        vertical-align: top;\n",
       "    }\n",
       "\n",
       "    .dataframe thead th {\n",
       "        text-align: right;\n",
       "    }\n",
       "</style>\n",
       "<table border=\"1\" class=\"dataframe\">\n",
       "  <thead>\n",
       "    <tr style=\"text-align: right;\">\n",
       "      <th></th>\n",
       "      <th>headline</th>\n",
       "      <th>Label</th>\n",
       "      <th>word_count</th>\n",
       "    </tr>\n",
       "  </thead>\n",
       "  <tbody>\n",
       "    <tr>\n",
       "      <th>0</th>\n",
       "      <td>former new zealand cricketer chris cairn diagn...</td>\n",
       "      <td>Sports</td>\n",
       "      <td>9</td>\n",
       "    </tr>\n",
       "    <tr>\n",
       "      <th>1</th>\n",
       "      <td>american skater nathan chen dazzle olympic return</td>\n",
       "      <td>Sports</td>\n",
       "      <td>7</td>\n",
       "    </tr>\n",
       "    <tr>\n",
       "      <th>2</th>\n",
       "      <td>la liga ene unal score brace lead getafes win ...</td>\n",
       "      <td>Sports</td>\n",
       "      <td>10</td>\n",
       "    </tr>\n",
       "    <tr>\n",
       "      <th>3</th>\n",
       "      <td>world cup australia beat afghanistan claim rd ...</td>\n",
       "      <td>Sports</td>\n",
       "      <td>8</td>\n",
       "    </tr>\n",
       "    <tr>\n",
       "      <th>4</th>\n",
       "      <td>icc world cup india v england final live strea...</td>\n",
       "      <td>Sports</td>\n",
       "      <td>10</td>\n",
       "    </tr>\n",
       "    <tr>\n",
       "      <th>5</th>\n",
       "      <td>brainsqueeze know snow</td>\n",
       "      <td>Sports</td>\n",
       "      <td>3</td>\n",
       "    </tr>\n",
       "    <tr>\n",
       "      <th>6</th>\n",
       "      <td>justin langer step australia coach</td>\n",
       "      <td>Sports</td>\n",
       "      <td>5</td>\n",
       "    </tr>\n",
       "    <tr>\n",
       "      <th>7</th>\n",
       "      <td>ratnakar shettys memoir apparently virat unhap...</td>\n",
       "      <td>Sports</td>\n",
       "      <td>9</td>\n",
       "    </tr>\n",
       "    <tr>\n",
       "      <th>8</th>\n",
       "      <td>think odi revolution happened world cup tendul...</td>\n",
       "      <td>Sports</td>\n",
       "      <td>10</td>\n",
       "    </tr>\n",
       "    <tr>\n",
       "      <th>9</th>\n",
       "      <td>world cup boxer son nishant sindhu deadly left</td>\n",
       "      <td>Sports</td>\n",
       "      <td>8</td>\n",
       "    </tr>\n",
       "  </tbody>\n",
       "</table>\n",
       "</div>"
      ],
      "text/plain": [
       "                                            headline   Label  word_count\n",
       "0  former new zealand cricketer chris cairn diagn...  Sports           9\n",
       "1  american skater nathan chen dazzle olympic return  Sports           7\n",
       "2  la liga ene unal score brace lead getafes win ...  Sports          10\n",
       "3  world cup australia beat afghanistan claim rd ...  Sports           8\n",
       "4  icc world cup india v england final live strea...  Sports          10\n",
       "5                             brainsqueeze know snow  Sports           3\n",
       "6                 justin langer step australia coach  Sports           5\n",
       "7  ratnakar shettys memoir apparently virat unhap...  Sports           9\n",
       "8  think odi revolution happened world cup tendul...  Sports          10\n",
       "9     world cup boxer son nishant sindhu deadly left  Sports           8"
      ]
     },
     "execution_count": 8,
     "metadata": {},
     "output_type": "execute_result"
    }
   ],
   "source": [
    "data.head(10)"
   ]
  },
  {
   "cell_type": "code",
   "execution_count": 9,
   "id": "089f2e5f-4494-44f7-b40a-f855660ddc19",
   "metadata": {},
   "outputs": [],
   "source": [
    "train, test = train_test_split(data,test_size=0.15,random_state=42)"
   ]
  },
  {
   "cell_type": "code",
   "execution_count": 10,
   "id": "4deff170-b2a9-4c48-a260-66f04f7892d7",
   "metadata": {},
   "outputs": [
    {
     "data": {
      "text/plain": [
       "(31785, 3)"
      ]
     },
     "execution_count": 10,
     "metadata": {},
     "output_type": "execute_result"
    }
   ],
   "source": [
    "train.shape"
   ]
  },
  {
   "cell_type": "code",
   "execution_count": 11,
   "id": "7ed61209-153f-4001-a6c4-b1a6d363f4c2",
   "metadata": {},
   "outputs": [
    {
     "data": {
      "text/plain": [
       "(5610, 3)"
      ]
     },
     "execution_count": 11,
     "metadata": {},
     "output_type": "execute_result"
    }
   ],
   "source": [
    "test.shape"
   ]
  },
  {
   "cell_type": "code",
   "execution_count": 49,
   "id": "415c933d-a325-4c91-afed-9c89a4403ded",
   "metadata": {},
   "outputs": [
    {
     "data": {
      "text/plain": [
       "Pipeline(steps=[('tfidfvectorizer', TfidfVectorizer(lowercase=False)),\n",
       "                ('multinomialnb', MultinomialNB(alpha=0.1))])"
      ]
     },
     "execution_count": 49,
     "metadata": {},
     "output_type": "execute_result"
    }
   ],
   "source": [
    "model = make_pipeline(TfidfVectorizer(lowercase=False), MultinomialNB(alpha=0.1))\n",
    "model.fit(train.headline, train.Label)"
   ]
  },
  {
   "cell_type": "code",
   "execution_count": 50,
   "id": "a2af471d-eaa9-422c-b52a-31383d6036cb",
   "metadata": {},
   "outputs": [],
   "source": [
    "predicted_categories = model.predict(test.headline)"
   ]
  },
  {
   "cell_type": "code",
   "execution_count": 51,
   "id": "ad49ddba-36bf-4906-81a8-aa8f779edf86",
   "metadata": {},
   "outputs": [
    {
     "name": "stdout",
     "output_type": "stream",
     "text": [
      "The accuracy is 95.0445632798574\n"
     ]
    }
   ],
   "source": [
    "from sklearn.metrics import accuracy_score,confusion_matrix,classification_report\n",
    "print(\"The accuracy is {}\".format(accuracy_score(test.Label, predicted_categories)*100))"
   ]
  },
  {
   "cell_type": "code",
   "execution_count": 52,
   "id": "9dcf9a92-90b0-4e62-866c-14102cd6b8d5",
   "metadata": {},
   "outputs": [],
   "source": [
    "import joblib\n",
    "import os\n",
    "loaded_model = joblib.dump(model, 'eng_nb.pkl')"
   ]
  },
  {
   "cell_type": "code",
   "execution_count": 53,
   "id": "6be8ffbf-7182-4fe3-8fc8-c8459a3ef654",
   "metadata": {},
   "outputs": [
    {
     "data": {
      "text/plain": [
       "array([[1125,    5,   27,   14,   50],\n",
       "       [   4, 1063,   12,   25,   18],\n",
       "       [  17,    6, 1126,   12,    7],\n",
       "       [   9,   10,    8, 1041,   10],\n",
       "       [  26,   12,    1,    5,  977]], dtype=int64)"
      ]
     },
     "execution_count": 53,
     "metadata": {},
     "output_type": "execute_result"
    }
   ],
   "source": [
    "mat = confusion_matrix(predicted_categories, test.Label)\n",
    "mat"
   ]
  },
  {
   "cell_type": "code",
   "execution_count": 54,
   "id": "3106439e-249b-4f32-9f56-c6d724749c57",
   "metadata": {},
   "outputs": [
    {
     "name": "stdout",
     "output_type": "stream",
     "text": [
      "               precision    recall  f1-score   support\n",
      "\n",
      "     Business       0.92      0.95      0.94      1181\n",
      "Entertainment       0.95      0.97      0.96      1096\n",
      "     Politics       0.96      0.96      0.96      1174\n",
      "       Sports       0.97      0.95      0.96      1097\n",
      "         Tech       0.96      0.92      0.94      1062\n",
      "\n",
      "     accuracy                           0.95      5610\n",
      "    macro avg       0.95      0.95      0.95      5610\n",
      " weighted avg       0.95      0.95      0.95      5610\n",
      "\n"
     ]
    }
   ],
   "source": [
    "report = classification_report(test.Label, predicted_categories)\n",
    "print(report)"
   ]
  },
  {
   "cell_type": "code",
   "execution_count": 55,
   "id": "0aa4cb87-19ef-499a-ab13-8de6cb9034e1",
   "metadata": {},
   "outputs": [
    {
     "data": {
      "text/plain": [
       "'Sports'"
      ]
     },
     "execution_count": 55,
     "metadata": {},
     "output_type": "execute_result"
    }
   ],
   "source": [
    "simple_test = [\"Thousands of fans try to force their way into Dubai stadium, report sought\"]\n",
    "lst = [x.lower() for x in simple_test]\n",
    "pred1 = model.predict(lst)\n",
    "pred1[0]"
   ]
  },
  {
   "cell_type": "code",
   "execution_count": 56,
   "id": "948db4c1-fb22-46ad-b6d0-f6b7008ada3d",
   "metadata": {},
   "outputs": [
    {
     "data": {
      "text/plain": [
       "'Business'"
      ]
     },
     "execution_count": 56,
     "metadata": {},
     "output_type": "execute_result"
    }
   ],
   "source": [
    "simple_test2 = [\"Five IPOs to hit mkt in first half of Nov; seek to raise over Rs 27,000 cr\"]\n",
    "lst2 = [x.lower() for x in simple_test2]\n",
    "pred2 = model.predict(lst2)\n",
    "pred2[0]"
   ]
  },
  {
   "cell_type": "code",
   "execution_count": 57,
   "id": "6f16e57a-20d6-4563-872e-d667d7845798",
   "metadata": {},
   "outputs": [
    {
     "data": {
      "text/plain": [
       "'Entertainment'"
      ]
     },
     "execution_count": 57,
     "metadata": {},
     "output_type": "execute_result"
    }
   ],
   "source": [
    "simple_test3 = [\"Anushka Sharma dresses daughter Vamika as a fairy for Halloween, Soha Ali Khan turns Inaaya into a unicorn\"]\n",
    "lst3 = [x.lower() for x in simple_test3]\n",
    "pred3 = model.predict(lst3)\n",
    "pred3[0]"
   ]
  },
  {
   "cell_type": "code",
   "execution_count": 58,
   "id": "51dba3fb-cb7f-4d1e-aca7-1456b5105de2",
   "metadata": {},
   "outputs": [
    {
     "data": {
      "text/plain": [
       "'Tech'"
      ]
     },
     "execution_count": 58,
     "metadata": {},
     "output_type": "execute_result"
    }
   ],
   "source": [
    "simple_test4 = [\"All iOS users can now Super Follow on Twitter\"]\n",
    "lst4 = [x.lower() for x in simple_test4]\n",
    "pred4 = model.predict(lst4)\n",
    "pred4[0]"
   ]
  },
  {
   "cell_type": "code",
   "execution_count": 59,
   "id": "02d41db6-e0bd-4f38-ab9b-568ab7a57765",
   "metadata": {},
   "outputs": [
    {
     "data": {
      "text/plain": [
       "'Politics'"
      ]
     },
     "execution_count": 59,
     "metadata": {},
     "output_type": "execute_result"
    }
   ],
   "source": [
    "simple_test5 = [\"In Politics, Anything is Possible’: Partap Bajwa Says Congress Had Decided Only Sitting MLA will be Punjab CM\"]\n",
    "lst5 = [x.lower() for x in simple_test5]\n",
    "pred5 = model.predict(lst5)\n",
    "pred5[0]"
   ]
  },
  {
   "cell_type": "code",
   "execution_count": null,
   "id": "bc09ffda-d664-4521-b6b8-c9f95a5b807e",
   "metadata": {},
   "outputs": [],
   "source": []
  }
 ],
 "metadata": {
  "kernelspec": {
   "display_name": "Python 3",
   "language": "python",
   "name": "python3"
  },
  "language_info": {
   "codemirror_mode": {
    "name": "ipython",
    "version": 3
   },
   "file_extension": ".py",
   "mimetype": "text/x-python",
   "name": "python",
   "nbconvert_exporter": "python",
   "pygments_lexer": "ipython3",
   "version": "3.8.8"
  },
  "toc-showcode": false
 },
 "nbformat": 4,
 "nbformat_minor": 5
}
