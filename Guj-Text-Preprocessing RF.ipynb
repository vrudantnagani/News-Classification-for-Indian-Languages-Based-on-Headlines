{
 "cells": [
  {
   "cell_type": "code",
   "execution_count": 1,
   "id": "6bd0795f",
   "metadata": {},
   "outputs": [],
   "source": [
    "import numpy as np, pandas as pd\n",
    "from sklearn.preprocessing import LabelEncoder\n",
    "from sklearn.feature_extraction.text import TfidfVectorizer\n",
    "from sklearn import tree\n",
    "from sklearn.ensemble import RandomForestClassifier\n",
    "from sklearn import model_selection\n",
    "from sklearn.metrics import accuracy_score,confusion_matrix,classification_report\n",
    "import collections\n",
    "from collections import Counter\n",
    "import warnings\n",
    "warnings.filterwarnings('ignore')"
   ]
  },
  {
   "cell_type": "code",
   "execution_count": 2,
   "id": "e6c1fdf3",
   "metadata": {},
   "outputs": [],
   "source": [
    "df = pd.read_csv('gujarati-train.csv')"
   ]
  },
  {
   "cell_type": "code",
   "execution_count": 20,
   "id": "965646ca",
   "metadata": {},
   "outputs": [],
   "source": [
    "def count_length():\n",
    "    data['word_count'] = data['headline'].apply(lambda x: len(str(x).split(\" \")))"
   ]
  },
  {
   "cell_type": "code",
   "execution_count": 21,
   "id": "71ff1eab",
   "metadata": {},
   "outputs": [],
   "source": [
    "count_length()"
   ]
  },
  {
   "cell_type": "code",
   "execution_count": 22,
   "id": "012aa32a",
   "metadata": {},
   "outputs": [
    {
     "data": {
      "text/html": [
       "<div>\n",
       "<style scoped>\n",
       "    .dataframe tbody tr th:only-of-type {\n",
       "        vertical-align: middle;\n",
       "    }\n",
       "\n",
       "    .dataframe tbody tr th {\n",
       "        vertical-align: top;\n",
       "    }\n",
       "\n",
       "    .dataframe thead th {\n",
       "        text-align: right;\n",
       "    }\n",
       "</style>\n",
       "<table border=\"1\" class=\"dataframe\">\n",
       "  <thead>\n",
       "    <tr style=\"text-align: right;\">\n",
       "      <th></th>\n",
       "      <th>headline</th>\n",
       "      <th>Label</th>\n",
       "      <th>word_count</th>\n",
       "    </tr>\n",
       "  </thead>\n",
       "  <tbody>\n",
       "    <tr>\n",
       "      <th>12340</th>\n",
       "      <td>Googleની આ એપ્લિકેશનને પ્રમોટ કરવા પર મળશે કેશ...</td>\n",
       "      <td>Tech</td>\n",
       "      <td>11</td>\n",
       "    </tr>\n",
       "    <tr>\n",
       "      <th>8940</th>\n",
       "      <td>હવે, જૂના ફોટો પણ હસતા જોવા મળશે, આવી ગઈ છે નવ...</td>\n",
       "      <td>Tech</td>\n",
       "      <td>12</td>\n",
       "    </tr>\n",
       "    <tr>\n",
       "      <th>6002</th>\n",
       "      <td>એબી ડી વિલિયર્સ: તે સ્પાઇડરમેન હતો, કોઈ બેટ્સમ...</td>\n",
       "      <td>Sports</td>\n",
       "      <td>14</td>\n",
       "    </tr>\n",
       "    <tr>\n",
       "      <th>24715</th>\n",
       "      <td>અમરિન્દરસિંહ ઇસીને મેજિથિયાના અભિયાનમાં પ્રતિબ...</td>\n",
       "      <td>Politics</td>\n",
       "      <td>8</td>\n",
       "    </tr>\n",
       "    <tr>\n",
       "      <th>30032</th>\n",
       "      <td>મુવાહ, દિલ્હીમાં શમુ નાગા શાંતિ વાટાઘાટો ફરી શ...</td>\n",
       "      <td>Politics</td>\n",
       "      <td>10</td>\n",
       "    </tr>\n",
       "    <tr>\n",
       "      <th>22151</th>\n",
       "      <td>કોરોના પ્રભાવ : ઇન્ફોસિસે પ્રમોશન અને વેતનવધાર...</td>\n",
       "      <td>Business</td>\n",
       "      <td>10</td>\n",
       "    </tr>\n",
       "    <tr>\n",
       "      <th>10027</th>\n",
       "      <td>PUBG પર પ્રતિબંધ લાગ્યો તો શું થયું, આ Made In...</td>\n",
       "      <td>Tech</td>\n",
       "      <td>18</td>\n",
       "    </tr>\n",
       "    <tr>\n",
       "      <th>37167</th>\n",
       "      <td>ચાલું ઈન્ટરવ્યૂમાં પ્રેમ ઉભરાતાં રણવીરે દીપિકા...</td>\n",
       "      <td>Entertainment</td>\n",
       "      <td>13</td>\n",
       "    </tr>\n",
       "    <tr>\n",
       "      <th>1960</th>\n",
       "      <td>પુણેને 1 રનથી હરાવી મુંબઇ બની IPL ચેમ્પિયન</td>\n",
       "      <td>Sports</td>\n",
       "      <td>8</td>\n",
       "    </tr>\n",
       "    <tr>\n",
       "      <th>13590</th>\n",
       "      <td>ભૂલી જશો ડ્યૂઅલ કેમેરા, આવી રહ્યો છે 9 કેમેરાવ...</td>\n",
       "      <td>Tech</td>\n",
       "      <td>10</td>\n",
       "    </tr>\n",
       "  </tbody>\n",
       "</table>\n",
       "</div>"
      ],
      "text/plain": [
       "                                                headline          Label  \\\n",
       "12340  Googleની આ એપ્લિકેશનને પ્રમોટ કરવા પર મળશે કેશ...           Tech   \n",
       "8940   હવે, જૂના ફોટો પણ હસતા જોવા મળશે, આવી ગઈ છે નવ...           Tech   \n",
       "6002   એબી ડી વિલિયર્સ: તે સ્પાઇડરમેન હતો, કોઈ બેટ્સમ...         Sports   \n",
       "24715  અમરિન્દરસિંહ ઇસીને મેજિથિયાના અભિયાનમાં પ્રતિબ...       Politics   \n",
       "30032  મુવાહ, દિલ્હીમાં શમુ નાગા શાંતિ વાટાઘાટો ફરી શ...       Politics   \n",
       "22151  કોરોના પ્રભાવ : ઇન્ફોસિસે પ્રમોશન અને વેતનવધાર...       Business   \n",
       "10027  PUBG પર પ્રતિબંધ લાગ્યો તો શું થયું, આ Made In...           Tech   \n",
       "37167  ચાલું ઈન્ટરવ્યૂમાં પ્રેમ ઉભરાતાં રણવીરે દીપિકા...  Entertainment   \n",
       "1960          પુણેને 1 રનથી હરાવી મુંબઇ બની IPL ચેમ્પિયન         Sports   \n",
       "13590  ભૂલી જશો ડ્યૂઅલ કેમેરા, આવી રહ્યો છે 9 કેમેરાવ...           Tech   \n",
       "\n",
       "       word_count  \n",
       "12340          11  \n",
       "8940           12  \n",
       "6002           14  \n",
       "24715           8  \n",
       "30032          10  \n",
       "22151          10  \n",
       "10027          18  \n",
       "37167          13  \n",
       "1960            8  \n",
       "13590          10  "
      ]
     },
     "execution_count": 22,
     "metadata": {},
     "output_type": "execute_result"
    }
   ],
   "source": [
    "data.head(10)"
   ]
  },
  {
   "cell_type": "code",
   "execution_count": 23,
   "id": "304d2e4f",
   "metadata": {},
   "outputs": [],
   "source": [
    "import re\n",
    "def processText(text):\n",
    "    text = text.lower()\n",
    "    text = re.sub('[a-zA-Z0-9]', '',text)\n",
    "    text = re.sub(\"((www.[^s]+)|(https?://[^s]+))\",'',text)\n",
    "    text = re.sub(\"@[^s]+\",'',text)\n",
    "    text = re.sub(\"[s]+\", ' ', text)\n",
    "    text = re.sub(r\"#([^s]+)\", r'', text)\n",
    "    text = text.strip('\"')\n",
    "    return text"
   ]
  },
  {
   "cell_type": "code",
   "execution_count": 24,
   "id": "20a93201",
   "metadata": {},
   "outputs": [],
   "source": [
    "for i in range(len(data)):\n",
    "    data['headline'][i] = processText(data['headline'][i])"
   ]
  },
  {
   "cell_type": "code",
   "execution_count": 25,
   "id": "c53fda3b",
   "metadata": {},
   "outputs": [],
   "source": [
    "from indicnlp.tokenize import indic_tokenize\n",
    "def tokenization(indic_string):\n",
    "    tokens = []\n",
    "    for t in indic_tokenize.trivial_tokenize(indic_string):\n",
    "        tokens.append(t)\n",
    "    return tokens\n",
    "data['headline'] = data['headline'].apply(lambda x: tokenization(x))"
   ]
  },
  {
   "cell_type": "code",
   "execution_count": 26,
   "id": "e0d92818",
   "metadata": {},
   "outputs": [],
   "source": [
    "for i in range(len(data)):\n",
    "    data['headline'][i] = [s.replace(\"\\n\", \"\") for s in data['headline'][i]]"
   ]
  },
  {
   "cell_type": "code",
   "execution_count": 27,
   "id": "ae5a268f",
   "metadata": {},
   "outputs": [],
   "source": [
    "f = open(\"Gujarati_stopwords.txt\", \"r\",encoding=\"utf8\")\n",
    "stopwords_gu = []\n",
    "for i in f:\n",
    "    i=i.split(\"\\n\")\n",
    "    stopwords_gu.append(str(i[0]))"
   ]
  },
  {
   "cell_type": "code",
   "execution_count": 28,
   "id": "045dce75",
   "metadata": {},
   "outputs": [],
   "source": [
    "stopwords_en = ['i', 'me', 'my', 'myself', 'we', 'our', 'ours', 'ourselves', 'you', \"you're\", \"you've\", \"you'll\", \"you'd\", 'your', 'yours', 'yourself', 'yourselves', 'he', 'him', 'his', 'himself', 'she', \"she's\", 'her', 'hers', 'herself', 'it', \"it's\", 'its', 'itself', 'they', 'them', 'their', 'theirs', 'themselves', 'what', 'which', 'who', 'whom', 'this', 'that', \"that'll\", 'these', 'those', 'am', 'is', 'are', 'was', 'were', 'be', 'been', 'being', 'have', 'has', 'had', 'having', 'do', 'does', 'did', 'doing', 'a', 'an', 'the', 'and', 'but', 'if', 'or', 'because', 'as', 'until', 'while', 'of', 'at', 'by', 'for', 'with', 'about', 'against', 'between', 'into', 'through', 'during', 'before', 'after', 'above', 'below', 'to', 'from', 'up', 'down', 'in', 'out', 'on', 'off', 'over', 'under', 'again', 'further', 'then', 'once', 'here', 'there', 'when', 'where', 'why', 'how', 'all', 'any', 'both', 'each', 'few', 'more', 'most', 'other', 'some', 'such', 'no', 'nor', 'not', 'only', 'own', 'same', 'so', 'than', 'too', 'very', 's', 't', 'can', 'will', 'just', 'don', \"don't\", 'should', \"should've\", 'now', 'd', 'll', 'm', 'o', 're', 've', 'y', 'ain', 'aren', \"aren't\", 'couldn', \"couldn't\", 'didn', \"didn't\", 'doesn', \"doesn't\", 'hadn', \"hadn't\", 'hasn', \"hasn't\", 'haven', \"haven't\", 'isn', \"isn't\", 'ma', 'mightn', \"mightn't\", 'mustn', \"mustn't\", 'needn', \"needn't\", 'shan', \"shan't\", 'shouldn', \"shouldn't\", 'wasn', \"wasn't\", 'weren', \"weren't\", 'won', \"won't\", 'wouldn', \"wouldn't\"]\n",
    "punctuations = [\".\",\",\",\"?\",\"/\",\"<\",\">\",\"!\",\":\",\";\",\"'\",\"[\",\"]\",\"{\",\"}\",\"(\",\")\",\"-\",\"@\",\"#\",\"$\",\"%\",\"^\",\"&\",\"*\"]\n",
    "to_be_removed = stopwords_gu + punctuations + stopwords_en"
   ]
  },
  {
   "cell_type": "code",
   "execution_count": 29,
   "id": "e0019bbb",
   "metadata": {},
   "outputs": [
    {
     "data": {
      "text/html": [
       "<div>\n",
       "<style scoped>\n",
       "    .dataframe tbody tr th:only-of-type {\n",
       "        vertical-align: middle;\n",
       "    }\n",
       "\n",
       "    .dataframe tbody tr th {\n",
       "        vertical-align: top;\n",
       "    }\n",
       "\n",
       "    .dataframe thead th {\n",
       "        text-align: right;\n",
       "    }\n",
       "</style>\n",
       "<table border=\"1\" class=\"dataframe\">\n",
       "  <thead>\n",
       "    <tr style=\"text-align: right;\">\n",
       "      <th></th>\n",
       "      <th>headline</th>\n",
       "      <th>Label</th>\n",
       "      <th>word_count</th>\n",
       "    </tr>\n",
       "  </thead>\n",
       "  <tbody>\n",
       "    <tr>\n",
       "      <th>12340</th>\n",
       "      <td>[એપ્લિકેશનને, પ્રમોટ, કરવા, મળશે, કેશેબેક, કંપ...</td>\n",
       "      <td>Tech</td>\n",
       "      <td>8</td>\n",
       "    </tr>\n",
       "    <tr>\n",
       "      <th>8940</th>\n",
       "      <td>[જૂના, ફોટો, હસતા, જોવા, મળશે, આવી, ગઈ, એપ]</td>\n",
       "      <td>Tech</td>\n",
       "      <td>8</td>\n",
       "    </tr>\n",
       "    <tr>\n",
       "      <th>6002</th>\n",
       "      <td>[એબી, વિલિયર્સ, સ્પાઇડરમેન, હતો, બેટ્સમેને, તે...</td>\n",
       "      <td>Sports</td>\n",
       "      <td>9</td>\n",
       "    </tr>\n",
       "    <tr>\n",
       "      <th>24715</th>\n",
       "      <td>[અમરિન્દરસિંહ, ઇસીને, મેજિથિયાના, અભિયાનમાં, પ...</td>\n",
       "      <td>Politics</td>\n",
       "      <td>7</td>\n",
       "    </tr>\n",
       "    <tr>\n",
       "      <th>30032</th>\n",
       "      <td>[મુવાહ, દિલ્હીમાં, શમુ, નાગા, શાંતિ, વાટાઘાટો,...</td>\n",
       "      <td>Politics</td>\n",
       "      <td>8</td>\n",
       "    </tr>\n",
       "    <tr>\n",
       "      <th>22151</th>\n",
       "      <td>[કોરોના, પ્રભાવ, ઇન્ફોસિસે, પ્રમોશન, વેતનવધારા...</td>\n",
       "      <td>Business</td>\n",
       "      <td>8</td>\n",
       "    </tr>\n",
       "    <tr>\n",
       "      <th>10027</th>\n",
       "      <td>[પ્રતિબંધ, લાગ્યો, તો, થયું, ગેમ્સ, ટ્રાય, કરશ...</td>\n",
       "      <td>Tech</td>\n",
       "      <td>10</td>\n",
       "    </tr>\n",
       "    <tr>\n",
       "      <th>37167</th>\n",
       "      <td>[ચાલું, ઈન્ટરવ્યૂમાં, પ્રેમ, ઉભરાતાં, રણવીરે, ...</td>\n",
       "      <td>Entertainment</td>\n",
       "      <td>10</td>\n",
       "    </tr>\n",
       "    <tr>\n",
       "      <th>1960</th>\n",
       "      <td>[પુણેને, રનથી, હરાવી, મુંબઇ, ચેમ્પિયન]</td>\n",
       "      <td>Sports</td>\n",
       "      <td>5</td>\n",
       "    </tr>\n",
       "    <tr>\n",
       "      <th>13590</th>\n",
       "      <td>[ભૂલી, જશો, ડ્યૂઅલ, કેમેરા, આવી, રહ્યો, કેમેરા...</td>\n",
       "      <td>Tech</td>\n",
       "      <td>8</td>\n",
       "    </tr>\n",
       "  </tbody>\n",
       "</table>\n",
       "</div>"
      ],
      "text/plain": [
       "                                                headline          Label  \\\n",
       "12340  [એપ્લિકેશનને, પ્રમોટ, કરવા, મળશે, કેશેબેક, કંપ...           Tech   \n",
       "8940         [જૂના, ફોટો, હસતા, જોવા, મળશે, આવી, ગઈ, એપ]           Tech   \n",
       "6002   [એબી, વિલિયર્સ, સ્પાઇડરમેન, હતો, બેટ્સમેને, તે...         Sports   \n",
       "24715  [અમરિન્દરસિંહ, ઇસીને, મેજિથિયાના, અભિયાનમાં, પ...       Politics   \n",
       "30032  [મુવાહ, દિલ્હીમાં, શમુ, નાગા, શાંતિ, વાટાઘાટો,...       Politics   \n",
       "22151  [કોરોના, પ્રભાવ, ઇન્ફોસિસે, પ્રમોશન, વેતનવધારા...       Business   \n",
       "10027  [પ્રતિબંધ, લાગ્યો, તો, થયું, ગેમ્સ, ટ્રાય, કરશ...           Tech   \n",
       "37167  [ચાલું, ઈન્ટરવ્યૂમાં, પ્રેમ, ઉભરાતાં, રણવીરે, ...  Entertainment   \n",
       "1960              [પુણેને, રનથી, હરાવી, મુંબઇ, ચેમ્પિયન]         Sports   \n",
       "13590  [ભૂલી, જશો, ડ્યૂઅલ, કેમેરા, આવી, રહ્યો, કેમેરા...           Tech   \n",
       "\n",
       "       word_count  \n",
       "12340           8  \n",
       "8940            8  \n",
       "6002            9  \n",
       "24715           7  \n",
       "30032           8  \n",
       "22151           8  \n",
       "10027          10  \n",
       "37167          10  \n",
       "1960            5  \n",
       "13590           8  "
      ]
     },
     "execution_count": 29,
     "metadata": {},
     "output_type": "execute_result"
    }
   ],
   "source": [
    "for i in range(len(data)):\n",
    "    data['headline'][i]=[ele for ele in data['headline'][i] if ele not in (to_be_removed)]\n",
    "count_length()\n",
    "data.head(10)"
   ]
  },
  {
   "cell_type": "code",
   "execution_count": 30,
   "id": "ed5b8650",
   "metadata": {},
   "outputs": [],
   "source": [
    "corpus_list =[]\n",
    "for i in range(len(data)):\n",
    "    corpus_list +=data['headline'][i]\n",
    "counter=collections.Counter(corpus_list)"
   ]
  },
  {
   "cell_type": "code",
   "execution_count": 31,
   "id": "5261e8f3",
   "metadata": {},
   "outputs": [],
   "source": [
    "least_common= [word for word, word_count in Counter(corpus_list).most_common()[:-50:-1]]\n",
    "for i in range(len(data)):\n",
    "    data['headline'][i]=[ele for ele in data['headline'][i] if ele not in (least_common)]"
   ]
  },
  {
   "cell_type": "code",
   "execution_count": 32,
   "id": "54d30354",
   "metadata": {},
   "outputs": [
    {
     "data": {
      "text/html": [
       "<div>\n",
       "<style scoped>\n",
       "    .dataframe tbody tr th:only-of-type {\n",
       "        vertical-align: middle;\n",
       "    }\n",
       "\n",
       "    .dataframe tbody tr th {\n",
       "        vertical-align: top;\n",
       "    }\n",
       "\n",
       "    .dataframe thead th {\n",
       "        text-align: right;\n",
       "    }\n",
       "</style>\n",
       "<table border=\"1\" class=\"dataframe\">\n",
       "  <thead>\n",
       "    <tr style=\"text-align: right;\">\n",
       "      <th></th>\n",
       "      <th>headline</th>\n",
       "      <th>Label</th>\n",
       "      <th>word_count</th>\n",
       "    </tr>\n",
       "  </thead>\n",
       "  <tbody>\n",
       "    <tr>\n",
       "      <th>12340</th>\n",
       "      <td>એપ્લિકેશનને પ્રમોટ કરવા મળશે કેશેબેક કંપનીએ બન...</td>\n",
       "      <td>Tech</td>\n",
       "      <td>8</td>\n",
       "    </tr>\n",
       "    <tr>\n",
       "      <th>8940</th>\n",
       "      <td>જૂના ફોટો હસતા જોવા મળશે આવી ગઈ એપ</td>\n",
       "      <td>Tech</td>\n",
       "      <td>8</td>\n",
       "    </tr>\n",
       "    <tr>\n",
       "      <th>6002</th>\n",
       "      <td>એબી વિલિયર્સ સ્પાઇડરમેન હતો બેટ્સમેને તેની પાસ...</td>\n",
       "      <td>Sports</td>\n",
       "      <td>9</td>\n",
       "    </tr>\n",
       "    <tr>\n",
       "      <th>24715</th>\n",
       "      <td>અમરિન્દરસિંહ ઇસીને મેજિથિયાના અભિયાનમાં પ્રતિબ...</td>\n",
       "      <td>Politics</td>\n",
       "      <td>7</td>\n",
       "    </tr>\n",
       "    <tr>\n",
       "      <th>30032</th>\n",
       "      <td>મુવાહ દિલ્હીમાં શમુ નાગા શાંતિ વાટાઘાટો શરૂ કરવા</td>\n",
       "      <td>Politics</td>\n",
       "      <td>8</td>\n",
       "    </tr>\n",
       "    <tr>\n",
       "      <th>22151</th>\n",
       "      <td>કોરોના પ્રભાવ ઇન્ફોસિસે પ્રમોશન વેતનવધારા હાલ ...</td>\n",
       "      <td>Business</td>\n",
       "      <td>8</td>\n",
       "    </tr>\n",
       "    <tr>\n",
       "      <th>10027</th>\n",
       "      <td>પ્રતિબંધ લાગ્યો તો થયું ગેમ્સ ટ્રાય કરશો તો થા...</td>\n",
       "      <td>Tech</td>\n",
       "      <td>10</td>\n",
       "    </tr>\n",
       "    <tr>\n",
       "      <th>37167</th>\n",
       "      <td>ચાલું ઈન્ટરવ્યૂમાં પ્રેમ ઉભરાતાં રણવીરે દીપિકા...</td>\n",
       "      <td>Entertainment</td>\n",
       "      <td>10</td>\n",
       "    </tr>\n",
       "    <tr>\n",
       "      <th>1960</th>\n",
       "      <td>પુણેને રનથી હરાવી મુંબઇ ચેમ્પિયન</td>\n",
       "      <td>Sports</td>\n",
       "      <td>5</td>\n",
       "    </tr>\n",
       "    <tr>\n",
       "      <th>13590</th>\n",
       "      <td>ભૂલી જશો ડ્યૂઅલ કેમેરા આવી રહ્યો કેમેરાવાળો સ્...</td>\n",
       "      <td>Tech</td>\n",
       "      <td>8</td>\n",
       "    </tr>\n",
       "  </tbody>\n",
       "</table>\n",
       "</div>"
      ],
      "text/plain": [
       "                                                headline          Label  \\\n",
       "12340  એપ્લિકેશનને પ્રમોટ કરવા મળશે કેશેબેક કંપનીએ બન...           Tech   \n",
       "8940                  જૂના ફોટો હસતા જોવા મળશે આવી ગઈ એપ           Tech   \n",
       "6002   એબી વિલિયર્સ સ્પાઇડરમેન હતો બેટ્સમેને તેની પાસ...         Sports   \n",
       "24715  અમરિન્દરસિંહ ઇસીને મેજિથિયાના અભિયાનમાં પ્રતિબ...       Politics   \n",
       "30032   મુવાહ દિલ્હીમાં શમુ નાગા શાંતિ વાટાઘાટો શરૂ કરવા       Politics   \n",
       "22151  કોરોના પ્રભાવ ઇન્ફોસિસે પ્રમોશન વેતનવધારા હાલ ...       Business   \n",
       "10027  પ્રતિબંધ લાગ્યો તો થયું ગેમ્સ ટ્રાય કરશો તો થા...           Tech   \n",
       "37167  ચાલું ઈન્ટરવ્યૂમાં પ્રેમ ઉભરાતાં રણવીરે દીપિકા...  Entertainment   \n",
       "1960                    પુણેને રનથી હરાવી મુંબઇ ચેમ્પિયન         Sports   \n",
       "13590  ભૂલી જશો ડ્યૂઅલ કેમેરા આવી રહ્યો કેમેરાવાળો સ્...           Tech   \n",
       "\n",
       "       word_count  \n",
       "12340           8  \n",
       "8940            8  \n",
       "6002            9  \n",
       "24715           7  \n",
       "30032           8  \n",
       "22151           8  \n",
       "10027          10  \n",
       "37167          10  \n",
       "1960            5  \n",
       "13590           8  "
      ]
     },
     "execution_count": 32,
     "metadata": {},
     "output_type": "execute_result"
    }
   ],
   "source": [
    "data['headline'] = data['headline'].str.join(\" \")\n",
    "data.head(10)"
   ]
  },
  {
   "cell_type": "code",
   "execution_count": 16,
   "id": "6c7c608f",
   "metadata": {},
   "outputs": [],
   "source": [
    "Train_X, Test_X, Train_Y, Test_Y = model_selection.train_test_split(data['headline'],data['Label'],test_size=0.2,random_state=42)"
   ]
  },
  {
   "cell_type": "code",
   "execution_count": 17,
   "id": "1d4070be",
   "metadata": {},
   "outputs": [
    {
     "name": "stdout",
     "output_type": "stream",
     "text": [
      "[3 4 2 1 1 4 0 0 3 0]\n",
      "7178     જમ્મુ ઘડિયાળથી વર્ષીય આઇપીએલની શરૂઆતથી કિલોમીટ...\n",
      "9370                          મજાક ઉડાવનાર જ ફોનમાં ચાર્જર\n",
      "27303    અરુણાચલ વિરોધ રાજ્યસભામાં વિક્ષેપ કરે કોંગ લોક...\n",
      "35490    ‘સુશાંતના મોત કોનો હાથ જાણું છું’ કહેનાર શેખર ...\n",
      "34340    ક્ષિતિજ પ્રસાદની જામીન અરજી થશે સુનાવણી ડ્રગ્સ...\n",
      "8087         ૧૨૦ની સ્પીડે ઊડતી ભારતીય હાઈબ્રિડ ફ્લાઇંગ કાર\n",
      "20759    લાખ કામદારો સારા સમાચાર બેકારીના લાભરૂપે સરકાર...\n",
      "18804    અમેઝોન મળતા ગાયનાં છાણાને વ્યક્તિ કેક સમજીને ખ...\n",
      "4201     પ્રીમિયર લીગ બ્રેન્ટફોર્ડ મેન યુનાઈટેડ રાઇડ નસ...\n",
      "16250    ખાતાધારક ધ્યાન આગામી મહિનાથી બેંકમાં લાગૂ થઇ જ...\n",
      "Name: headline, dtype: object\n"
     ]
    }
   ],
   "source": [
    "Encoder = LabelEncoder()\n",
    "Train_Y = Encoder.fit_transform(Train_Y)\n",
    "Test_Y = Encoder.fit_transform(Test_Y)\n",
    "print(Train_Y[0:10])\n",
    "print(Train_X[0:10])"
   ]
  },
  {
   "cell_type": "code",
   "execution_count": 18,
   "id": "add2d0ec",
   "metadata": {},
   "outputs": [],
   "source": [
    "Tfidf_vect = TfidfVectorizer() #5000\n",
    "Tfidf_vect.fit(data['headline'])\n",
    "Train_X_Tfidf = Tfidf_vect.transform(Train_X)\n",
    "Test_X_Tfidf = Tfidf_vect.transform(Test_X)"
   ]
  },
  {
   "cell_type": "code",
   "execution_count": 19,
   "id": "4080f431",
   "metadata": {},
   "outputs": [],
   "source": [
    "dt = RandomForestClassifier(max_depth = 250 ,n_estimators = 1000) #2500\n",
    "dt.fit(Train_X_Tfidf,Train_Y)\n",
    "predictions_dec = dt.predict(Test_X_Tfidf)"
   ]
  },
  {
   "cell_type": "code",
   "execution_count": 20,
   "id": "ef107cc8",
   "metadata": {},
   "outputs": [
    {
     "name": "stdout",
     "output_type": "stream",
     "text": [
      "RFC Accuracy Score ->  72.67072525145579\n"
     ]
    }
   ],
   "source": [
    "print(\"RFC Accuracy Score -> \",accuracy_score(predictions_dec, Test_Y)*100)"
   ]
  },
  {
   "cell_type": "code",
   "execution_count": 21,
   "id": "ffaf62f7",
   "metadata": {},
   "outputs": [
    {
     "data": {
      "text/plain": [
       "array([[ 988,   67,   78,   68,  161],\n",
       "       [  90, 1095,   67,  119,   80],\n",
       "       [  96,  121, 1207,  185,   72],\n",
       "       [ 118,  116,  127, 1132,   83],\n",
       "       [ 199,   78,   64,   76, 1069]], dtype=int64)"
      ]
     },
     "execution_count": 21,
     "metadata": {},
     "output_type": "execute_result"
    }
   ],
   "source": [
    "mat = confusion_matrix(predictions_dec, Test_Y)\n",
    "mat"
   ]
  },
  {
   "cell_type": "code",
   "execution_count": 22,
   "id": "728d8af8",
   "metadata": {},
   "outputs": [
    {
     "name": "stdout",
     "output_type": "stream",
     "text": [
      "              precision    recall  f1-score   support\n",
      "\n",
      "           0       0.66      0.73      0.69      1362\n",
      "           1       0.74      0.75      0.75      1451\n",
      "           2       0.78      0.72      0.75      1681\n",
      "           3       0.72      0.72      0.72      1576\n",
      "           4       0.73      0.72      0.72      1486\n",
      "\n",
      "    accuracy                           0.73      7556\n",
      "   macro avg       0.73      0.73      0.73      7556\n",
      "weighted avg       0.73      0.73      0.73      7556\n",
      "\n"
     ]
    }
   ],
   "source": [
    "report = classification_report(predictions_dec, Test_Y)\n",
    "print(report)"
   ]
  },
  {
   "cell_type": "code",
   "execution_count": 23,
   "id": "0c2e7ef7",
   "metadata": {},
   "outputs": [],
   "source": [
    "import joblib\n",
    "import os\n",
    "loaded_model = joblib.dump(dt, 'GUJ_rfc_final.pkl')"
   ]
  },
  {
   "cell_type": "code",
   "execution_count": 24,
   "id": "0c07b685",
   "metadata": {},
   "outputs": [
    {
     "data": {
      "text/plain": [
       "'Business'"
      ]
     },
     "execution_count": 24,
     "metadata": {},
     "output_type": "execute_result"
    }
   ],
   "source": [
    "simple_test = [\"શેરમાર્કેટમાં કડાકો:10 દિવસમાં Mcap 15 લાખ કરોડ ઘટ્યું; સેન્સેક્સ 678 પોઇન્ટ તૂટ્યો, ઇન્વેસ્ટર્સે 3 દિવસમાં 6.15 લાખ ગુમાવ્યાં\"]\n",
    "Train_X_Tfidf = Tfidf_vect.transform(simple_test)\n",
    "pred1 = dt.predict(Train_X_Tfidf)\n",
    "pred1[0]\n",
    "predictions_test = Encoder.inverse_transform(pred1)\n",
    "predictions_test[0]"
   ]
  },
  {
   "cell_type": "code",
   "execution_count": 25,
   "id": "4d954282",
   "metadata": {},
   "outputs": [
    {
     "data": {
      "text/plain": [
       "'Entertainment'"
      ]
     },
     "execution_count": 25,
     "metadata": {},
     "output_type": "execute_result"
    }
   ],
   "source": [
    "simple_test2 = [\"SRKના દીકરાની ઘરવાપસી LIVE:આર્યન ખાનને 'મન્નત'થી આર્થર રોડ જેલનું 13 કિલોમીટરનું અંતર કાપતાં 28 દિવસ થયા\"]\n",
    "Train_X_Tfidf = Tfidf_vect.transform(simple_test2)\n",
    "pred2 = dt.predict(Train_X_Tfidf)\n",
    "pred2[0]\n",
    "predictions_test = Encoder.inverse_transform(pred2)\n",
    "predictions_test[0]"
   ]
  },
  {
   "cell_type": "code",
   "execution_count": null,
   "id": "f513cbf5",
   "metadata": {},
   "outputs": [],
   "source": []
  }
 ],
 "metadata": {
  "kernelspec": {
   "display_name": "Python 3",
   "language": "python",
   "name": "python3"
  },
  "language_info": {
   "codemirror_mode": {
    "name": "ipython",
    "version": 3
   },
   "file_extension": ".py",
   "mimetype": "text/x-python",
   "name": "python",
   "nbconvert_exporter": "python",
   "pygments_lexer": "ipython3",
   "version": "3.8.8"
  }
 },
 "nbformat": 4,
 "nbformat_minor": 5
}
