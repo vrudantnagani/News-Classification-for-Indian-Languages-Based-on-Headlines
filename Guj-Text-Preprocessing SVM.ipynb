{
 "cells": [
  {
   "cell_type": "code",
   "execution_count": 8,
   "id": "6bd0795f",
   "metadata": {},
   "outputs": [],
   "source": [
    "import pandas as pd\n",
    "import numpy as np\n",
    "import collections\n",
    "from collections import Counter\n",
    "from sklearn.preprocessing import LabelEncoder\n",
    "from sklearn.feature_extraction.text import TfidfVectorizer\n",
    "from sklearn import model_selection, svm\n",
    "from sklearn.metrics import accuracy_score,confusion_matrix,classification_report\n",
    "from sklearn.svm import SVC\n",
    "from sklearn.model_selection import GridSearchCV\n",
    "import warnings\n",
    "warnings.filterwarnings('ignore')"
   ]
  },
  {
   "cell_type": "code",
   "execution_count": 9,
   "id": "e6c1fdf3",
   "metadata": {},
   "outputs": [],
   "source": [
    "data = pd.read_csv('gujarati-train.csv')"
   ]
  },
  {
   "cell_type": "code",
   "execution_count": 10,
   "id": "965646ca",
   "metadata": {},
   "outputs": [],
   "source": [
    "def count_length():\n",
    "    data['word_count'] = data['headline'].apply(lambda x: len(str(x).split(\" \")))"
   ]
  },
  {
   "cell_type": "code",
   "execution_count": 11,
   "id": "71ff1eab",
   "metadata": {},
   "outputs": [],
   "source": [
    "count_length()"
   ]
  },
  {
   "cell_type": "code",
   "execution_count": 13,
   "id": "012aa32a",
   "metadata": {},
   "outputs": [
    {
     "data": {
      "text/html": [
       "<div>\n",
       "<style scoped>\n",
       "    .dataframe tbody tr th:only-of-type {\n",
       "        vertical-align: middle;\n",
       "    }\n",
       "\n",
       "    .dataframe tbody tr th {\n",
       "        vertical-align: top;\n",
       "    }\n",
       "\n",
       "    .dataframe thead th {\n",
       "        text-align: right;\n",
       "    }\n",
       "</style>\n",
       "<table border=\"1\" class=\"dataframe\">\n",
       "  <thead>\n",
       "    <tr style=\"text-align: right;\">\n",
       "      <th></th>\n",
       "      <th>headline</th>\n",
       "      <th>Label</th>\n",
       "      <th>word_count</th>\n",
       "    </tr>\n",
       "  </thead>\n",
       "  <tbody>\n",
       "    <tr>\n",
       "      <th>0</th>\n",
       "      <td>IPL Auction 2022: 12-13 ફેબ્રુઆરીએ કેટલા વાગ્ય...</td>\n",
       "      <td>Sports</td>\n",
       "      <td>10</td>\n",
       "    </tr>\n",
       "    <tr>\n",
       "      <th>1</th>\n",
       "      <td>રોહિત-કોહલીના વિવાદ પર ગાવસ્કરે કર્યો મોટો ખુલ...</td>\n",
       "      <td>Sports</td>\n",
       "      <td>10</td>\n",
       "    </tr>\n",
       "    <tr>\n",
       "      <th>2</th>\n",
       "      <td>પાકિસ્તાની ફાસ્ટ બોલરને કરાયો સસ્પેંડ, 155kphન...</td>\n",
       "      <td>Sports</td>\n",
       "      <td>10</td>\n",
       "    </tr>\n",
       "    <tr>\n",
       "      <th>3</th>\n",
       "      <td>એશિઝમાં કારમી હારને લીધે ગિલ્સ બાદ મુખ્ય કોચને...</td>\n",
       "      <td>Sports</td>\n",
       "      <td>11</td>\n",
       "    </tr>\n",
       "    <tr>\n",
       "      <th>4</th>\n",
       "      <td>ક્યાં રમાશે IPL 2022ના મેચ? સૌરવ ગાંગુલીએ આપ્ય...</td>\n",
       "      <td>Sports</td>\n",
       "      <td>10</td>\n",
       "    </tr>\n",
       "    <tr>\n",
       "      <th>5</th>\n",
       "      <td>ટીમ ઈન્ડિયાનો આ ખેલાડી વેડફી રહ્યો છે ટેલેન્ટ,...</td>\n",
       "      <td>Sports</td>\n",
       "      <td>11</td>\n",
       "    </tr>\n",
       "    <tr>\n",
       "      <th>6</th>\n",
       "      <td>IND vs WI: ભારતીય ટીમમાં કોરોનાનો વિસ્ફોટ, ફરી...</td>\n",
       "      <td>Sports</td>\n",
       "      <td>15</td>\n",
       "    </tr>\n",
       "    <tr>\n",
       "      <th>7</th>\n",
       "      <td>IPL 2022: હરાજીમાં આ ખેલાડીઓનું વેચાવવું છે મુ...</td>\n",
       "      <td>Sports</td>\n",
       "      <td>12</td>\n",
       "    </tr>\n",
       "    <tr>\n",
       "      <th>8</th>\n",
       "      <td>IPL 2022ના મેગા ઓક્શનમાં અનસોલ્ડ રહી શકે છે આ ...</td>\n",
       "      <td>Sports</td>\n",
       "      <td>17</td>\n",
       "    </tr>\n",
       "    <tr>\n",
       "      <th>9</th>\n",
       "      <td>IPL 2022: ક્યા દેશના કેટલા ખેલાડી લઇ રહ્યાં છે...</td>\n",
       "      <td>Sports</td>\n",
       "      <td>12</td>\n",
       "    </tr>\n",
       "  </tbody>\n",
       "</table>\n",
       "</div>"
      ],
      "text/plain": [
       "                                            headline   Label  word_count\n",
       "0  IPL Auction 2022: 12-13 ફેબ્રુઆરીએ કેટલા વાગ્ય...  Sports          10\n",
       "1  રોહિત-કોહલીના વિવાદ પર ગાવસ્કરે કર્યો મોટો ખુલ...  Sports          10\n",
       "2  પાકિસ્તાની ફાસ્ટ બોલરને કરાયો સસ્પેંડ, 155kphન...  Sports          10\n",
       "3  એશિઝમાં કારમી હારને લીધે ગિલ્સ બાદ મુખ્ય કોચને...  Sports          11\n",
       "4  ક્યાં રમાશે IPL 2022ના મેચ? સૌરવ ગાંગુલીએ આપ્ય...  Sports          10\n",
       "5  ટીમ ઈન્ડિયાનો આ ખેલાડી વેડફી રહ્યો છે ટેલેન્ટ,...  Sports          11\n",
       "6  IND vs WI: ભારતીય ટીમમાં કોરોનાનો વિસ્ફોટ, ફરી...  Sports          15\n",
       "7  IPL 2022: હરાજીમાં આ ખેલાડીઓનું વેચાવવું છે મુ...  Sports          12\n",
       "8  IPL 2022ના મેગા ઓક્શનમાં અનસોલ્ડ રહી શકે છે આ ...  Sports          17\n",
       "9  IPL 2022: ક્યા દેશના કેટલા ખેલાડી લઇ રહ્યાં છે...  Sports          12"
      ]
     },
     "execution_count": 13,
     "metadata": {},
     "output_type": "execute_result"
    }
   ],
   "source": [
    "data.head(10)"
   ]
  },
  {
   "cell_type": "code",
   "execution_count": 14,
   "id": "304d2e4f",
   "metadata": {},
   "outputs": [],
   "source": [
    "import re\n",
    "def processText(text):\n",
    "    text = text.lower()\n",
    "    text = re.sub('[a-zA-Z0-9]', '',text)\n",
    "    text = re.sub(\"((www.[^s]+)|(https?://[^s]+))\",'',text)\n",
    "    text = re.sub(\"@[^s]+\",'',text)\n",
    "    text = re.sub(\"[s]+\", ' ', text)\n",
    "    text = re.sub(r\"#([^s]+)\", r'', text)\n",
    "    text = text.strip('\"')\n",
    "    return text"
   ]
  },
  {
   "cell_type": "code",
   "execution_count": 15,
   "id": "20a93201",
   "metadata": {},
   "outputs": [],
   "source": [
    "for i in range(len(data)):\n",
    "    data['headline'][i] = processText(data['headline'][i])"
   ]
  },
  {
   "cell_type": "code",
   "execution_count": 16,
   "id": "c53fda3b",
   "metadata": {},
   "outputs": [],
   "source": [
    "from indicnlp.tokenize import indic_tokenize\n",
    "def tokenization(indic_string):\n",
    "    tokens = []\n",
    "    for t in indic_tokenize.trivial_tokenize(indic_string):\n",
    "        tokens.append(t)\n",
    "    return tokens\n",
    "data['headline'] = data['headline'].apply(lambda x: tokenization(x))"
   ]
  },
  {
   "cell_type": "code",
   "execution_count": 17,
   "id": "e0d92818",
   "metadata": {},
   "outputs": [],
   "source": [
    "for i in range(len(data)):\n",
    "    data['headline'][i] = [s.replace(\"\\n\", \"\") for s in data['headline'][i]]"
   ]
  },
  {
   "cell_type": "code",
   "execution_count": 18,
   "id": "ae5a268f",
   "metadata": {},
   "outputs": [],
   "source": [
    "f = open(\"Gujarati_stopwords.txt\", \"r\",encoding=\"utf8\")\n",
    "stopwords_gu = []\n",
    "for i in f:\n",
    "    i=i.split(\"\\n\")\n",
    "    stopwords_gu.append(str(i[0]))"
   ]
  },
  {
   "cell_type": "code",
   "execution_count": 19,
   "id": "045dce75",
   "metadata": {},
   "outputs": [],
   "source": [
    "stopwords_en = ['i', 'me', 'my', 'myself', 'we', 'our', 'ours', 'ourselves', 'you', \"you're\", \"you've\", \"you'll\", \"you'd\", 'your', 'yours', 'yourself', 'yourselves', 'he', 'him', 'his', 'himself', 'she', \"she's\", 'her', 'hers', 'herself', 'it', \"it's\", 'its', 'itself', 'they', 'them', 'their', 'theirs', 'themselves', 'what', 'which', 'who', 'whom', 'this', 'that', \"that'll\", 'these', 'those', 'am', 'is', 'are', 'was', 'were', 'be', 'been', 'being', 'have', 'has', 'had', 'having', 'do', 'does', 'did', 'doing', 'a', 'an', 'the', 'and', 'but', 'if', 'or', 'because', 'as', 'until', 'while', 'of', 'at', 'by', 'for', 'with', 'about', 'against', 'between', 'into', 'through', 'during', 'before', 'after', 'above', 'below', 'to', 'from', 'up', 'down', 'in', 'out', 'on', 'off', 'over', 'under', 'again', 'further', 'then', 'once', 'here', 'there', 'when', 'where', 'why', 'how', 'all', 'any', 'both', 'each', 'few', 'more', 'most', 'other', 'some', 'such', 'no', 'nor', 'not', 'only', 'own', 'same', 'so', 'than', 'too', 'very', 's', 't', 'can', 'will', 'just', 'don', \"don't\", 'should', \"should've\", 'now', 'd', 'll', 'm', 'o', 're', 've', 'y', 'ain', 'aren', \"aren't\", 'couldn', \"couldn't\", 'didn', \"didn't\", 'doesn', \"doesn't\", 'hadn', \"hadn't\", 'hasn', \"hasn't\", 'haven', \"haven't\", 'isn', \"isn't\", 'ma', 'mightn', \"mightn't\", 'mustn', \"mustn't\", 'needn', \"needn't\", 'shan', \"shan't\", 'shouldn', \"shouldn't\", 'wasn', \"wasn't\", 'weren', \"weren't\", 'won', \"won't\", 'wouldn', \"wouldn't\"]\n",
    "punctuations = [\".\",\",\",\"?\",\"/\",\"<\",\">\",\"!\",\":\",\";\",\"'\",\"[\",\"]\",\"{\",\"}\",\"(\",\")\",\"-\",\"@\",\"#\",\"$\",\"%\",\"^\",\"&\",\"*\"]\n",
    "to_be_removed = stopwords_gu + punctuations + stopwords_en"
   ]
  },
  {
   "cell_type": "code",
   "execution_count": 20,
   "id": "e0019bbb",
   "metadata": {},
   "outputs": [
    {
     "data": {
      "text/html": [
       "<div>\n",
       "<style scoped>\n",
       "    .dataframe tbody tr th:only-of-type {\n",
       "        vertical-align: middle;\n",
       "    }\n",
       "\n",
       "    .dataframe tbody tr th {\n",
       "        vertical-align: top;\n",
       "    }\n",
       "\n",
       "    .dataframe thead th {\n",
       "        text-align: right;\n",
       "    }\n",
       "</style>\n",
       "<table border=\"1\" class=\"dataframe\">\n",
       "  <thead>\n",
       "    <tr style=\"text-align: right;\">\n",
       "      <th></th>\n",
       "      <th>headline</th>\n",
       "      <th>Label</th>\n",
       "      <th>word_count</th>\n",
       "    </tr>\n",
       "  </thead>\n",
       "  <tbody>\n",
       "    <tr>\n",
       "      <th>0</th>\n",
       "      <td>[ફેબ્રુઆરીએ, કેટલા, વાગ્યાથી, લાગશે, ખેલાડીઓની...</td>\n",
       "      <td>Sports</td>\n",
       "      <td>6</td>\n",
       "    </tr>\n",
       "    <tr>\n",
       "      <th>1</th>\n",
       "      <td>[રોહિત, કોહલીના, વિવાદ, ગાવસ્કરે, કર્યો, મોટો,...</td>\n",
       "      <td>Sports</td>\n",
       "      <td>10</td>\n",
       "    </tr>\n",
       "    <tr>\n",
       "      <th>2</th>\n",
       "      <td>[પાકિસ્તાની, ફાસ્ટ, બોલરને, કરાયો, સસ્પેંડ, સ્...</td>\n",
       "      <td>Sports</td>\n",
       "      <td>7</td>\n",
       "    </tr>\n",
       "    <tr>\n",
       "      <th>3</th>\n",
       "      <td>[એશિઝમાં, કારમી, હારને, લીધે, ગિલ્સ, બાદ, મુખ્...</td>\n",
       "      <td>Sports</td>\n",
       "      <td>10</td>\n",
       "    </tr>\n",
       "    <tr>\n",
       "      <th>4</th>\n",
       "      <td>[ક્યાં, રમાશે, મેચ, સૌરવ, ગાંગુલીએ, જવાબ]</td>\n",
       "      <td>Sports</td>\n",
       "      <td>6</td>\n",
       "    </tr>\n",
       "    <tr>\n",
       "      <th>5</th>\n",
       "      <td>[ટીમ, ઈન્ડિયાનો, ખેલાડી, વેડફી, રહ્યો, ટેલેન્ટ...</td>\n",
       "      <td>Sports</td>\n",
       "      <td>9</td>\n",
       "    </tr>\n",
       "    <tr>\n",
       "      <th>6</th>\n",
       "      <td>[ભારતીય, ટીમમાં, કોરોનાનો, વિસ્ફોટ, મેચ, નહી, ...</td>\n",
       "      <td>Sports</td>\n",
       "      <td>10</td>\n",
       "    </tr>\n",
       "    <tr>\n",
       "      <th>7</th>\n",
       "      <td>[હરાજીમાં, ખેલાડીઓનું, વેચાવવું, મુશ્કેલ, કરોડ...</td>\n",
       "      <td>Sports</td>\n",
       "      <td>7</td>\n",
       "    </tr>\n",
       "    <tr>\n",
       "      <th>8</th>\n",
       "      <td>[મેગા, ઓક્શનમાં, અનસોલ્ડ, રહી, શકે, વિદેશી, ખે...</td>\n",
       "      <td>Sports</td>\n",
       "      <td>10</td>\n",
       "    </tr>\n",
       "    <tr>\n",
       "      <th>9</th>\n",
       "      <td>[ક્યા, દેશના, કેટલા, ખેલાડી, લઇ, રહ્યાં, મેગા,...</td>\n",
       "      <td>Sports</td>\n",
       "      <td>8</td>\n",
       "    </tr>\n",
       "  </tbody>\n",
       "</table>\n",
       "</div>"
      ],
      "text/plain": [
       "                                            headline   Label  word_count\n",
       "0  [ફેબ્રુઆરીએ, કેટલા, વાગ્યાથી, લાગશે, ખેલાડીઓની...  Sports           6\n",
       "1  [રોહિત, કોહલીના, વિવાદ, ગાવસ્કરે, કર્યો, મોટો,...  Sports          10\n",
       "2  [પાકિસ્તાની, ફાસ્ટ, બોલરને, કરાયો, સસ્પેંડ, સ્...  Sports           7\n",
       "3  [એશિઝમાં, કારમી, હારને, લીધે, ગિલ્સ, બાદ, મુખ્...  Sports          10\n",
       "4          [ક્યાં, રમાશે, મેચ, સૌરવ, ગાંગુલીએ, જવાબ]  Sports           6\n",
       "5  [ટીમ, ઈન્ડિયાનો, ખેલાડી, વેડફી, રહ્યો, ટેલેન્ટ...  Sports           9\n",
       "6  [ભારતીય, ટીમમાં, કોરોનાનો, વિસ્ફોટ, મેચ, નહી, ...  Sports          10\n",
       "7  [હરાજીમાં, ખેલાડીઓનું, વેચાવવું, મુશ્કેલ, કરોડ...  Sports           7\n",
       "8  [મેગા, ઓક્શનમાં, અનસોલ્ડ, રહી, શકે, વિદેશી, ખે...  Sports          10\n",
       "9  [ક્યા, દેશના, કેટલા, ખેલાડી, લઇ, રહ્યાં, મેગા,...  Sports           8"
      ]
     },
     "execution_count": 20,
     "metadata": {},
     "output_type": "execute_result"
    }
   ],
   "source": [
    "for i in range(len(data)):\n",
    "    data['headline'][i]=[ele for ele in data['headline'][i] if ele not in (to_be_removed)]\n",
    "count_length()\n",
    "data.head(10)"
   ]
  },
  {
   "cell_type": "code",
   "execution_count": 21,
   "id": "ed5b8650",
   "metadata": {},
   "outputs": [],
   "source": [
    "corpus_list =[]\n",
    "for i in range(len(data)):\n",
    "    corpus_list +=data['headline'][i]\n",
    "counter=collections.Counter(corpus_list)"
   ]
  },
  {
   "cell_type": "code",
   "execution_count": 22,
   "id": "b98177a8",
   "metadata": {},
   "outputs": [],
   "source": [
    "least_common= [word for word, word_count in Counter(corpus_list).most_common()[:-50:-1]]\n",
    "for i in range(len(data)):\n",
    "    data['headline'][i]=[ele for ele in data['headline'][i] if ele not in (least_common)]"
   ]
  },
  {
   "cell_type": "code",
   "execution_count": 23,
   "id": "118ec902",
   "metadata": {},
   "outputs": [
    {
     "name": "stdout",
     "output_type": "stream",
     "text": [
      "                                            headline   Label  word_count\n",
      "0     ફેબ્રુઆરીએ કેટલા વાગ્યાથી લાગશે ખેલાડીઓની બોલી  Sports           6\n",
      "1  રોહિત કોહલીના વિવાદ ગાવસ્કરે કર્યો મોટો ખુલાસો...  Sports          10\n",
      "2  પાકિસ્તાની ફાસ્ટ બોલરને કરાયો સસ્પેંડ સ્પિડથી ...  Sports           7\n",
      "3  એશિઝમાં કારમી હારને લીધે ગિલ્સ બાદ મુખ્ય કોચને...  Sports          10\n",
      "4                 ક્યાં રમાશે મેચ સૌરવ ગાંગુલીએ જવાબ  Sports           6\n",
      "5  ટીમ ઈન્ડિયાનો ખેલાડી વેડફી રહ્યો ટેલેન્ટ ગાવસ્...  Sports           9\n",
      "6  ભારતીય ટીમમાં કોરોનાનો વિસ્ફોટ મેચ નહી રમી શકે...  Sports          10\n",
      "7  હરાજીમાં ખેલાડીઓનું વેચાવવું મુશ્કેલ કરોડોમાં ...  Sports           7\n",
      "8  મેગા ઓક્શનમાં અનસોલ્ડ રહી શકે વિદેશી ખેલાડી કર...  Sports          10\n",
      "9    ક્યા દેશના કેટલા ખેલાડી લઇ રહ્યાં મેગા ઓક્શનમાં  Sports           8\n"
     ]
    }
   ],
   "source": [
    "data['headline'] = data['headline'].str.join(\" \")\n",
    "print(data.head(10))"
   ]
  },
  {
   "cell_type": "code",
   "execution_count": 24,
   "id": "6c7c608f",
   "metadata": {},
   "outputs": [],
   "source": [
    "Train_X, Test_X, Train_Y, Test_Y = model_selection.train_test_split(data['headline'],data['Label'],test_size=0.2,random_state=42)"
   ]
  },
  {
   "cell_type": "code",
   "execution_count": 25,
   "id": "146ed1bc",
   "metadata": {},
   "outputs": [
    {
     "name": "stdout",
     "output_type": "stream",
     "text": [
      "[3 4 2 1 1 4 0 0 3 0]\n",
      "7178     જમ્મુ ઘડિયાળથી વર્ષીય આઇપીએલની શરૂઆતથી કિલોમીટ...\n",
      "9370                          મજાક ઉડાવનાર જ ફોનમાં ચાર્જર\n",
      "27303    અરુણાચલ વિરોધ રાજ્યસભામાં વિક્ષેપ કરે કોંગ લોક...\n",
      "35490    ‘સુશાંતના મોત કોનો હાથ જાણું છું’ કહેનાર શેખર ...\n",
      "34340    ક્ષિતિજ પ્રસાદની જામીન અરજી થશે સુનાવણી ડ્રગ્સ...\n",
      "8087         ૧૨૦ની સ્પીડે ઊડતી ભારતીય હાઈબ્રિડ ફ્લાઇંગ કાર\n",
      "20759    લાખ કામદારો સારા સમાચાર બેકારીના લાભરૂપે સરકાર...\n",
      "18804    અમેઝોન મળતા ગાયનાં છાણાને વ્યક્તિ કેક સમજીને ખ...\n",
      "4201     પ્રીમિયર લીગ બ્રેન્ટફોર્ડ મેન યુનાઈટેડ રાઇડ નસ...\n",
      "16250    ખાતાધારક ધ્યાન આગામી મહિનાથી બેંકમાં લાગૂ થઇ જ...\n",
      "Name: headline, dtype: object\n"
     ]
    }
   ],
   "source": [
    "Encoder = LabelEncoder()\n",
    "Train_Y = Encoder.fit_transform(Train_Y)\n",
    "Test_Y = Encoder.fit_transform(Test_Y)\n",
    "print(Train_Y[0:10])\n",
    "print(Train_X[0:10])"
   ]
  },
  {
   "cell_type": "code",
   "execution_count": 26,
   "id": "719a19c8",
   "metadata": {},
   "outputs": [],
   "source": [
    "Tfidf_vect = TfidfVectorizer(max_features=6500)\n",
    "Tfidf_vect.fit(data['headline'])\n",
    "Train_X_Tfidf = Tfidf_vect.transform(Train_X)\n",
    "Test_X_Tfidf = Tfidf_vect.transform(Test_X)"
   ]
  },
  {
   "cell_type": "code",
   "execution_count": 27,
   "id": "b7377a85",
   "metadata": {},
   "outputs": [
    {
     "name": "stdout",
     "output_type": "stream",
     "text": [
      "SVM Accuracy Score ->  79.27474854420328\n"
     ]
    }
   ],
   "source": [
    "SVM = svm.SVC(C= 100, gamma = 1, kernel = 'rbf')\n",
    "SVM.fit(Train_X_Tfidf,Train_Y)\n",
    "# predict the labels on validation dataset\n",
    "predictions_SVM = SVM.predict(Test_X_Tfidf)\n",
    "# Use accuracy_score function to get the accuracy\n",
    "print(\"SVM Accuracy Score -> \",accuracy_score(predictions_SVM, Test_Y)*100)"
   ]
  },
  {
   "cell_type": "code",
   "execution_count": 28,
   "id": "7b4d64c2",
   "metadata": {},
   "outputs": [
    {
     "data": {
      "text/plain": [
       "array([[1139,   69,   67,   69,  195],\n",
       "       [  58, 1207,   46,   97,   63],\n",
       "       [  49,   61, 1285,  117,   40],\n",
       "       [  76,   88,  110, 1247,   55],\n",
       "       [ 169,   52,   35,   50, 1112]], dtype=int64)"
      ]
     },
     "execution_count": 28,
     "metadata": {},
     "output_type": "execute_result"
    }
   ],
   "source": [
    "mat = confusion_matrix(predictions_SVM, Test_Y)\n",
    "mat"
   ]
  },
  {
   "cell_type": "code",
   "execution_count": 29,
   "id": "0f72a9d8",
   "metadata": {},
   "outputs": [
    {
     "name": "stdout",
     "output_type": "stream",
     "text": [
      "              precision    recall  f1-score   support\n",
      "\n",
      "           0       0.76      0.74      0.75      1539\n",
      "           1       0.82      0.82      0.82      1471\n",
      "           2       0.83      0.83      0.83      1552\n",
      "           3       0.79      0.79      0.79      1576\n",
      "           4       0.76      0.78      0.77      1418\n",
      "\n",
      "    accuracy                           0.79      7556\n",
      "   macro avg       0.79      0.79      0.79      7556\n",
      "weighted avg       0.79      0.79      0.79      7556\n",
      "\n"
     ]
    }
   ],
   "source": [
    "report = classification_report(predictions_SVM, Test_Y)\n",
    "print(report)"
   ]
  },
  {
   "cell_type": "code",
   "execution_count": 30,
   "id": "65896e11",
   "metadata": {},
   "outputs": [],
   "source": [
    "import joblib\n",
    "import os\n",
    "loaded_model = joblib.dump(SVM, 'GUJ_svm_final.pkl')"
   ]
  },
  {
   "cell_type": "code",
   "execution_count": 31,
   "id": "5679ab8b",
   "metadata": {},
   "outputs": [
    {
     "data": {
      "text/plain": [
       "'Business'"
      ]
     },
     "execution_count": 31,
     "metadata": {},
     "output_type": "execute_result"
    }
   ],
   "source": [
    "simple_test = [\"શેરમાર્કેટમાં કડાકો:10 દિવસમાં Mcap 15 લાખ કરોડ ઘટ્યું; સેન્સેક્સ 678 પોઇન્ટ તૂટ્યો, ઇન્વેસ્ટર્સે 3 દિવસમાં 6.15 લાખ ગુમાવ્યાં\"]\n",
    "Train_X_Tfidf = Tfidf_vect.transform(simple_test)\n",
    "pred1 = SVM.predict(Train_X_Tfidf)\n",
    "pred1[0]\n",
    "predictions_test = Encoder.inverse_transform(pred1)\n",
    "predictions_test[0]"
   ]
  },
  {
   "cell_type": "code",
   "execution_count": 32,
   "id": "3a0c4ed8",
   "metadata": {},
   "outputs": [
    {
     "data": {
      "text/plain": [
       "'Sports'"
      ]
     },
     "execution_count": 32,
     "metadata": {},
     "output_type": "execute_result"
    }
   ],
   "source": [
    "simple_test1 = [\"સાઉથ આફ્રિકન સ્પિનર શેન વ્હાઈટહેડે ઈનિંગમાં ૧૦ વિકેટ ઝડપી ઈતિહાસ રચ્યો\"]\n",
    "Train_X_Tfidf = Tfidf_vect.transform(simple_test1)\n",
    "pred2 = SVM.predict(Train_X_Tfidf)\n",
    "pred2[0]\n",
    "predictions_test = Encoder.inverse_transform(pred2)\n",
    "predictions_test[0]"
   ]
  },
  {
   "cell_type": "code",
   "execution_count": null,
   "id": "c92e3731",
   "metadata": {},
   "outputs": [],
   "source": []
  }
 ],
 "metadata": {
  "kernelspec": {
   "display_name": "Python 3",
   "language": "python",
   "name": "python3"
  },
  "language_info": {
   "codemirror_mode": {
    "name": "ipython",
    "version": 3
   },
   "file_extension": ".py",
   "mimetype": "text/x-python",
   "name": "python",
   "nbconvert_exporter": "python",
   "pygments_lexer": "ipython3",
   "version": "3.8.8"
  }
 },
 "nbformat": 4,
 "nbformat_minor": 5
}
