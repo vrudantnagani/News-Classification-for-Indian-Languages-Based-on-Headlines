{
 "cells": [
  {
   "cell_type": "code",
   "execution_count": 3,
   "id": "cc68da10",
   "metadata": {},
   "outputs": [],
   "source": [
    "import nltk\n",
    "import os\n",
    "import re\n",
    "import pandas as pd\n",
    "import nltk.corpus\n",
    "from nltk.tokenize import word_tokenize\n",
    "from nltk.tokenize import RegexpTokenizer"
   ]
  },
  {
   "cell_type": "code",
   "execution_count": 4,
   "id": "cc72057c",
   "metadata": {},
   "outputs": [
    {
     "data": {
      "text/html": [
       "<div>\n",
       "<style scoped>\n",
       "    .dataframe tbody tr th:only-of-type {\n",
       "        vertical-align: middle;\n",
       "    }\n",
       "\n",
       "    .dataframe tbody tr th {\n",
       "        vertical-align: top;\n",
       "    }\n",
       "\n",
       "    .dataframe thead th {\n",
       "        text-align: right;\n",
       "    }\n",
       "</style>\n",
       "<table border=\"1\" class=\"dataframe\">\n",
       "  <thead>\n",
       "    <tr style=\"text-align: right;\">\n",
       "      <th></th>\n",
       "      <th>headline</th>\n",
       "      <th>Label</th>\n",
       "    </tr>\n",
       "  </thead>\n",
       "  <tbody>\n",
       "    <tr>\n",
       "      <th>0</th>\n",
       "      <td>Former New Zealand cricketer Chris Cairns diag...</td>\n",
       "      <td>Sports</td>\n",
       "    </tr>\n",
       "    <tr>\n",
       "      <th>1</th>\n",
       "      <td>American skater Nathan Chen dazzles in his Oly...</td>\n",
       "      <td>Sports</td>\n",
       "    </tr>\n",
       "    <tr>\n",
       "      <th>2</th>\n",
       "      <td>La Liga: Enes Unal scores brace to lead Getafe...</td>\n",
       "      <td>Sports</td>\n",
       "    </tr>\n",
       "    <tr>\n",
       "      <th>3</th>\n",
       "      <td>U-19 World Cup: Australia beat Afghanistan to ...</td>\n",
       "      <td>Sports</td>\n",
       "    </tr>\n",
       "    <tr>\n",
       "      <th>4</th>\n",
       "      <td>ICC U-19 World Cup India vs England final Live...</td>\n",
       "      <td>Sports</td>\n",
       "    </tr>\n",
       "  </tbody>\n",
       "</table>\n",
       "</div>"
      ],
      "text/plain": [
       "                                            headline   Label\n",
       "0  Former New Zealand cricketer Chris Cairns diag...  Sports\n",
       "1  American skater Nathan Chen dazzles in his Oly...  Sports\n",
       "2  La Liga: Enes Unal scores brace to lead Getafe...  Sports\n",
       "3  U-19 World Cup: Australia beat Afghanistan to ...  Sports\n",
       "4  ICC U-19 World Cup India vs England final Live...  Sports"
      ]
     },
     "execution_count": 4,
     "metadata": {},
     "output_type": "execute_result"
    }
   ],
   "source": [
    "# Read Dataset\n",
    "corpus_text  = []\n",
    "data=pd.read_csv(\"english-train.csv\")\n",
    "data.head()"
   ]
  },
  {
   "cell_type": "code",
   "execution_count": 5,
   "id": "dd0be71d",
   "metadata": {},
   "outputs": [
    {
     "name": "stderr",
     "output_type": "stream",
     "text": [
      "C:\\Users\\Cyril\\AppData\\Local\\Temp\\ipykernel_2512\\2221542479.py:2: FutureWarning: The default value of regex will change from True to False in a future version.\n",
      "  data[\"No_punc\"] = data[\"headline\"].str.replace('[^\\w\\s]','')\n"
     ]
    },
    {
     "data": {
      "text/html": [
       "<div>\n",
       "<style scoped>\n",
       "    .dataframe tbody tr th:only-of-type {\n",
       "        vertical-align: middle;\n",
       "    }\n",
       "\n",
       "    .dataframe tbody tr th {\n",
       "        vertical-align: top;\n",
       "    }\n",
       "\n",
       "    .dataframe thead th {\n",
       "        text-align: right;\n",
       "    }\n",
       "</style>\n",
       "<table border=\"1\" class=\"dataframe\">\n",
       "  <thead>\n",
       "    <tr style=\"text-align: right;\">\n",
       "      <th></th>\n",
       "      <th>headline</th>\n",
       "      <th>Label</th>\n",
       "      <th>No_punc</th>\n",
       "    </tr>\n",
       "  </thead>\n",
       "  <tbody>\n",
       "    <tr>\n",
       "      <th>0</th>\n",
       "      <td>Former New Zealand cricketer Chris Cairns diag...</td>\n",
       "      <td>Sports</td>\n",
       "      <td>Former New Zealand cricketer Chris Cairns diag...</td>\n",
       "    </tr>\n",
       "    <tr>\n",
       "      <th>1</th>\n",
       "      <td>American skater Nathan Chen dazzles in his Oly...</td>\n",
       "      <td>Sports</td>\n",
       "      <td>American skater Nathan Chen dazzles in his Oly...</td>\n",
       "    </tr>\n",
       "    <tr>\n",
       "      <th>2</th>\n",
       "      <td>La Liga: Enes Unal scores brace to lead Getafe...</td>\n",
       "      <td>Sports</td>\n",
       "      <td>La Liga Enes Unal scores brace to lead Getafes...</td>\n",
       "    </tr>\n",
       "    <tr>\n",
       "      <th>3</th>\n",
       "      <td>U-19 World Cup: Australia beat Afghanistan to ...</td>\n",
       "      <td>Sports</td>\n",
       "      <td>U19 World Cup Australia beat Afghanistan to cl...</td>\n",
       "    </tr>\n",
       "    <tr>\n",
       "      <th>4</th>\n",
       "      <td>ICC U-19 World Cup India vs England final Live...</td>\n",
       "      <td>Sports</td>\n",
       "      <td>ICC U19 World Cup India vs England final Live ...</td>\n",
       "    </tr>\n",
       "  </tbody>\n",
       "</table>\n",
       "</div>"
      ],
      "text/plain": [
       "                                            headline   Label  \\\n",
       "0  Former New Zealand cricketer Chris Cairns diag...  Sports   \n",
       "1  American skater Nathan Chen dazzles in his Oly...  Sports   \n",
       "2  La Liga: Enes Unal scores brace to lead Getafe...  Sports   \n",
       "3  U-19 World Cup: Australia beat Afghanistan to ...  Sports   \n",
       "4  ICC U-19 World Cup India vs England final Live...  Sports   \n",
       "\n",
       "                                             No_punc  \n",
       "0  Former New Zealand cricketer Chris Cairns diag...  \n",
       "1  American skater Nathan Chen dazzles in his Oly...  \n",
       "2  La Liga Enes Unal scores brace to lead Getafes...  \n",
       "3  U19 World Cup Australia beat Afghanistan to cl...  \n",
       "4  ICC U19 World Cup India vs England final Live ...  "
      ]
     },
     "execution_count": 5,
     "metadata": {},
     "output_type": "execute_result"
    }
   ],
   "source": [
    "# Remove Punc\n",
    "data[\"No_punc\"] = data[\"headline\"].str.replace('[^\\w\\s]','')\n",
    "data.head()"
   ]
  },
  {
   "cell_type": "code",
   "execution_count": 6,
   "id": "adc17c00",
   "metadata": {},
   "outputs": [
    {
     "data": {
      "text/html": [
       "<div>\n",
       "<style scoped>\n",
       "    .dataframe tbody tr th:only-of-type {\n",
       "        vertical-align: middle;\n",
       "    }\n",
       "\n",
       "    .dataframe tbody tr th {\n",
       "        vertical-align: top;\n",
       "    }\n",
       "\n",
       "    .dataframe thead th {\n",
       "        text-align: right;\n",
       "    }\n",
       "</style>\n",
       "<table border=\"1\" class=\"dataframe\">\n",
       "  <thead>\n",
       "    <tr style=\"text-align: right;\">\n",
       "      <th></th>\n",
       "      <th>headline</th>\n",
       "      <th>Label</th>\n",
       "      <th>No_punc</th>\n",
       "    </tr>\n",
       "  </thead>\n",
       "  <tbody>\n",
       "    <tr>\n",
       "      <th>0</th>\n",
       "      <td>Former New Zealand cricketer Chris Cairns diag...</td>\n",
       "      <td>Sports</td>\n",
       "      <td>former new zealand cricketer chris cairns diag...</td>\n",
       "    </tr>\n",
       "    <tr>\n",
       "      <th>1</th>\n",
       "      <td>American skater Nathan Chen dazzles in his Oly...</td>\n",
       "      <td>Sports</td>\n",
       "      <td>american skater nathan chen dazzles in his oly...</td>\n",
       "    </tr>\n",
       "    <tr>\n",
       "      <th>2</th>\n",
       "      <td>La Liga: Enes Unal scores brace to lead Getafe...</td>\n",
       "      <td>Sports</td>\n",
       "      <td>la liga enes unal scores brace to lead getafes...</td>\n",
       "    </tr>\n",
       "    <tr>\n",
       "      <th>3</th>\n",
       "      <td>U-19 World Cup: Australia beat Afghanistan to ...</td>\n",
       "      <td>Sports</td>\n",
       "      <td>u19 world cup australia beat afghanistan to cl...</td>\n",
       "    </tr>\n",
       "    <tr>\n",
       "      <th>4</th>\n",
       "      <td>ICC U-19 World Cup India vs England final Live...</td>\n",
       "      <td>Sports</td>\n",
       "      <td>icc u19 world cup india vs england final live ...</td>\n",
       "    </tr>\n",
       "  </tbody>\n",
       "</table>\n",
       "</div>"
      ],
      "text/plain": [
       "                                            headline   Label  \\\n",
       "0  Former New Zealand cricketer Chris Cairns diag...  Sports   \n",
       "1  American skater Nathan Chen dazzles in his Oly...  Sports   \n",
       "2  La Liga: Enes Unal scores brace to lead Getafe...  Sports   \n",
       "3  U-19 World Cup: Australia beat Afghanistan to ...  Sports   \n",
       "4  ICC U-19 World Cup India vs England final Live...  Sports   \n",
       "\n",
       "                                             No_punc  \n",
       "0  former new zealand cricketer chris cairns diag...  \n",
       "1  american skater nathan chen dazzles in his oly...  \n",
       "2  la liga enes unal scores brace to lead getafes...  \n",
       "3  u19 world cup australia beat afghanistan to cl...  \n",
       "4  icc u19 world cup india vs england final live ...  "
      ]
     },
     "execution_count": 6,
     "metadata": {},
     "output_type": "execute_result"
    }
   ],
   "source": [
    "# Converts to lowercase\n",
    "data['No_punc']=data['No_punc'].apply(str.lower)\n",
    "data.head()"
   ]
  },
  {
   "cell_type": "code",
   "execution_count": 7,
   "id": "d4fbdf9d",
   "metadata": {},
   "outputs": [
    {
     "data": {
      "text/html": [
       "<div>\n",
       "<style scoped>\n",
       "    .dataframe tbody tr th:only-of-type {\n",
       "        vertical-align: middle;\n",
       "    }\n",
       "\n",
       "    .dataframe tbody tr th {\n",
       "        vertical-align: top;\n",
       "    }\n",
       "\n",
       "    .dataframe thead th {\n",
       "        text-align: right;\n",
       "    }\n",
       "</style>\n",
       "<table border=\"1\" class=\"dataframe\">\n",
       "  <thead>\n",
       "    <tr style=\"text-align: right;\">\n",
       "      <th></th>\n",
       "      <th>headline</th>\n",
       "      <th>Label</th>\n",
       "      <th>No_punc</th>\n",
       "    </tr>\n",
       "  </thead>\n",
       "  <tbody>\n",
       "    <tr>\n",
       "      <th>0</th>\n",
       "      <td>Former New Zealand cricketer Chris Cairns diag...</td>\n",
       "      <td>Sports</td>\n",
       "      <td>former new zealand cricketer chris cairns diag...</td>\n",
       "    </tr>\n",
       "    <tr>\n",
       "      <th>1</th>\n",
       "      <td>American skater Nathan Chen dazzles in his Oly...</td>\n",
       "      <td>Sports</td>\n",
       "      <td>american skater nathan chen dazzles in his oly...</td>\n",
       "    </tr>\n",
       "    <tr>\n",
       "      <th>2</th>\n",
       "      <td>La Liga: Enes Unal scores brace to lead Getafe...</td>\n",
       "      <td>Sports</td>\n",
       "      <td>la liga enes unal scores brace to lead getafes...</td>\n",
       "    </tr>\n",
       "    <tr>\n",
       "      <th>3</th>\n",
       "      <td>U-19 World Cup: Australia beat Afghanistan to ...</td>\n",
       "      <td>Sports</td>\n",
       "      <td>u world cup australia beat afghanistan to clai...</td>\n",
       "    </tr>\n",
       "    <tr>\n",
       "      <th>4</th>\n",
       "      <td>ICC U-19 World Cup India vs England final Live...</td>\n",
       "      <td>Sports</td>\n",
       "      <td>icc u world cup india vs england final live st...</td>\n",
       "    </tr>\n",
       "  </tbody>\n",
       "</table>\n",
       "</div>"
      ],
      "text/plain": [
       "                                            headline   Label  \\\n",
       "0  Former New Zealand cricketer Chris Cairns diag...  Sports   \n",
       "1  American skater Nathan Chen dazzles in his Oly...  Sports   \n",
       "2  La Liga: Enes Unal scores brace to lead Getafe...  Sports   \n",
       "3  U-19 World Cup: Australia beat Afghanistan to ...  Sports   \n",
       "4  ICC U-19 World Cup India vs England final Live...  Sports   \n",
       "\n",
       "                                             No_punc  \n",
       "0  former new zealand cricketer chris cairns diag...  \n",
       "1  american skater nathan chen dazzles in his oly...  \n",
       "2  la liga enes unal scores brace to lead getafes...  \n",
       "3  u world cup australia beat afghanistan to clai...  \n",
       "4  icc u world cup india vs england final live st...  "
      ]
     },
     "execution_count": 7,
     "metadata": {},
     "output_type": "execute_result"
    }
   ],
   "source": [
    "# remove nos\n",
    "nos = re.compile(r'[0-9]')\n",
    "data['No_punc'] = data['No_punc'].str.replace(nos, '')\n",
    "data.head()"
   ]
  },
  {
   "cell_type": "code",
   "execution_count": 8,
   "id": "e946b266",
   "metadata": {},
   "outputs": [
    {
     "data": {
      "text/plain": [
       "0    former new zealand cricketer chris cairns diag...\n",
       "1    american skater nathan chen dazzles olympic re...\n",
       "2    la liga enes unal scores brace lead getafes wi...\n",
       "3    u world cup australia beat afghanistan claim r...\n",
       "4    icc u world cup india vs england final live st...\n",
       "Name: No_punc, dtype: object"
      ]
     },
     "execution_count": 8,
     "metadata": {},
     "output_type": "execute_result"
    }
   ],
   "source": [
    "# Remove stopwords\n",
    "#nltk.download('stopwords')\n",
    "\n",
    "from nltk.corpus import stopwords\n",
    "stop_words = stopwords.words('english')\n",
    "data['No_punc'] = data['No_punc'].apply(lambda x: ' '.join([word for word in x.split() if word not in (stop_words)]))\n",
    "data['No_punc'].head()"
   ]
  },
  {
   "cell_type": "code",
   "execution_count": 9,
   "id": "d1a604de",
   "metadata": {},
   "outputs": [
    {
     "data": {
      "text/plain": [
       "dtype('O')"
      ]
     },
     "execution_count": 9,
     "metadata": {},
     "output_type": "execute_result"
    }
   ],
   "source": [
    "data['No_punc'].astype(str)\n",
    "data['No_punc'].dtype\n"
   ]
  },
  {
   "cell_type": "code",
   "execution_count": 10,
   "id": "2eec0fbc",
   "metadata": {},
   "outputs": [
    {
     "data": {
      "text/plain": [
       "0        former new zealand cricketer chris cairns diag...\n",
       "1        american skater nathan chen dazzle olympic return\n",
       "2        la liga enes unal score brace lead getafes win...\n",
       "3        u world cup australia beat afghanistan claim r...\n",
       "4        icc u world cup india vs england final live st...\n",
       "                               ...                        \n",
       "37390      shoot allu arjunstarrer pushpa resume hyderabad\n",
       "37391    shweta tripathi join taapsee pannus rashmi rocket\n",
       "37392             taapsee pannu join mishan impossible set\n",
       "37393    bts members make runway debut louis vuitton fa...\n",
       "37394    cloy star hyun bin sing shallow fan sweep feet...\n",
       "Name: No_punc, Length: 37395, dtype: object"
      ]
     },
     "execution_count": 10,
     "metadata": {},
     "output_type": "execute_result"
    }
   ],
   "source": [
    "# Lemmatization\n",
    "\n",
    "from nltk.stem import WordNetLemmatizer\n",
    "lemmatizer = WordNetLemmatizer()\n",
    "def lemmatize_words(text):\n",
    "    words = text.split()\n",
    "    words = [lemmatizer.lemmatize(word,pos='v') for word in words]\n",
    "    return ' '.join(words)\n",
    "\n",
    "data['No_punc'] = data['No_punc'].apply(lemmatize_words)\n",
    "data['No_punc']\n"
   ]
  },
  {
   "cell_type": "code",
   "execution_count": 11,
   "id": "90c6482e",
   "metadata": {},
   "outputs": [
    {
     "data": {
      "text/html": [
       "<div>\n",
       "<style scoped>\n",
       "    .dataframe tbody tr th:only-of-type {\n",
       "        vertical-align: middle;\n",
       "    }\n",
       "\n",
       "    .dataframe tbody tr th {\n",
       "        vertical-align: top;\n",
       "    }\n",
       "\n",
       "    .dataframe thead th {\n",
       "        text-align: right;\n",
       "    }\n",
       "</style>\n",
       "<table border=\"1\" class=\"dataframe\">\n",
       "  <thead>\n",
       "    <tr style=\"text-align: right;\">\n",
       "      <th></th>\n",
       "      <th>headline</th>\n",
       "      <th>Label</th>\n",
       "      <th>No_punc</th>\n",
       "    </tr>\n",
       "  </thead>\n",
       "  <tbody>\n",
       "    <tr>\n",
       "      <th>0</th>\n",
       "      <td>Former New Zealand cricketer Chris Cairns diag...</td>\n",
       "      <td>Sports</td>\n",
       "      <td>former new zealand cricketer chris cairns diag...</td>\n",
       "    </tr>\n",
       "    <tr>\n",
       "      <th>1</th>\n",
       "      <td>American skater Nathan Chen dazzles in his Oly...</td>\n",
       "      <td>Sports</td>\n",
       "      <td>american skater nathan chen dazzle olympic return</td>\n",
       "    </tr>\n",
       "    <tr>\n",
       "      <th>2</th>\n",
       "      <td>La Liga: Enes Unal scores brace to lead Getafe...</td>\n",
       "      <td>Sports</td>\n",
       "      <td>la liga enes unal score brace lead getafes win...</td>\n",
       "    </tr>\n",
       "    <tr>\n",
       "      <th>3</th>\n",
       "      <td>U-19 World Cup: Australia beat Afghanistan to ...</td>\n",
       "      <td>Sports</td>\n",
       "      <td>world cup australia beat afghanistan claim rd...</td>\n",
       "    </tr>\n",
       "    <tr>\n",
       "      <th>4</th>\n",
       "      <td>ICC U-19 World Cup India vs England final Live...</td>\n",
       "      <td>Sports</td>\n",
       "      <td>icc world cup india vs england final live stre...</td>\n",
       "    </tr>\n",
       "  </tbody>\n",
       "</table>\n",
       "</div>"
      ],
      "text/plain": [
       "                                            headline   Label  \\\n",
       "0  Former New Zealand cricketer Chris Cairns diag...  Sports   \n",
       "1  American skater Nathan Chen dazzles in his Oly...  Sports   \n",
       "2  La Liga: Enes Unal scores brace to lead Getafe...  Sports   \n",
       "3  U-19 World Cup: Australia beat Afghanistan to ...  Sports   \n",
       "4  ICC U-19 World Cup India vs England final Live...  Sports   \n",
       "\n",
       "                                             No_punc  \n",
       "0  former new zealand cricketer chris cairns diag...  \n",
       "1  american skater nathan chen dazzle olympic return  \n",
       "2  la liga enes unal score brace lead getafes win...  \n",
       "3   world cup australia beat afghanistan claim rd...  \n",
       "4  icc world cup india vs england final live stre...  "
      ]
     },
     "execution_count": 11,
     "metadata": {},
     "output_type": "execute_result"
    }
   ],
   "source": [
    "# Vectorization\n",
    "#feature = data[\"No_punc\"]\n",
    "#from sklearn.feature_extraction.text import CountVectorizer\n",
    "#cv = CountVectorizer()\n",
    "#count_vector=cv.fit(feature)\n",
    "\n",
    "#print(cv.vocabulary_)\n",
    "\n",
    "#cv.transform(feature)\n",
    "#from sklearn import preprocessing\n",
    "#le = preprocessing.LabelEncoder()\n",
    "\n",
    "\n",
    "# Remove single characters\n",
    "\n",
    "single_charac = re.compile(r'\\W*\\b\\w{1}\\b')\n",
    "data['No_punc'] = data['No_punc'].str.replace(single_charac, '')\n",
    "\n",
    "#Extra spaces\n",
    "data['No_punc'] = data['No_punc'].replace(r'\\s+', ' ', regex=True)\n",
    "data.head()\n",
    "\n"
   ]
  },
  {
   "cell_type": "code",
   "execution_count": 12,
   "id": "b5fa6916",
   "metadata": {},
   "outputs": [
    {
     "name": "stdout",
     "output_type": "stream",
     "text": [
      "Vocabulary Size: 27290\n"
     ]
    }
   ],
   "source": [
    "import tensorflow\n",
    "import tensorflow.keras as keras\n",
    "from tensorflow.keras.preprocessing.text import Tokenizer\n",
    "from tensorflow.keras.preprocessing import sequence\n",
    "\n",
    "f=data['No_punc']\n",
    "\n",
    "tokenizer = Tokenizer()\n",
    "tokenizer.fit_on_texts(f)\n",
    "\n",
    "\n",
    "# determine the vocabulary size\n",
    "vocab_size = len(tokenizer.word_index) + 1\n",
    "print('Vocabulary Size: %d' % vocab_size)"
   ]
  },
  {
   "cell_type": "code",
   "execution_count": 13,
   "id": "a689ccef",
   "metadata": {},
   "outputs": [
    {
     "name": "stdout",
     "output_type": "stream",
     "text": [
      "[[348, 3, 287, 1960, 904, 4493, 6204, 11255, 1764], [2151, 15114, 4813, 15115, 5631, 725, 84], [1118, 1292, 15116, 15117, 572, 3350, 96, 15118, 15, 9188], [18, 36, 172, 140, 986, 223, 582, 594], [484, 18, 36, 2, 12, 76, 86, 58, 155, 9]]\n"
     ]
    }
   ],
   "source": [
    "t = tokenizer.texts_to_sequences(f)\n",
    "print(t[:5])\n"
   ]
  },
  {
   "cell_type": "code",
   "execution_count": 14,
   "id": "9ba75e5c",
   "metadata": {},
   "outputs": [
    {
     "name": "stdout",
     "output_type": "stream",
     "text": [
      "[[    0     0     0     0     0     0     0     0     0     0     0     0\n",
      "      0     0     0   348     3   287  1960   904  4493  6204 11255  1764]\n",
      " [    0     0     0     0     0     0     0     0     0     0     0     0\n",
      "      0     0     0     0     0  2151 15114  4813 15115  5631   725    84]\n",
      " [    0     0     0     0     0     0     0     0     0     0     0     0\n",
      "      0     0  1118  1292 15116 15117   572  3350    96 15118    15  9188]\n",
      " [    0     0     0     0     0     0     0     0     0     0     0     0\n",
      "      0     0     0     0    18    36   172   140   986   223   582   594]\n",
      " [    0     0     0     0     0     0     0     0     0     0     0     0\n",
      "      0     0   484    18    36     2    12    76    86    58   155     9]]\n"
     ]
    },
    {
     "data": {
      "image/png": "[encoded data removed]",
      "text/plain": [
       "<Figure size 500x500 with 1 Axes>"
      ]
     },
     "metadata": {},
     "output_type": "display_data"
    }
   ],
   "source": [
    "# Padding\n",
    "\n",
    "import seaborn as sns\n",
    "import pandas as pd\n",
    "import matplotlib.pyplot as plt\n",
    "import matplotlib\n",
    "import numpy as np\n",
    "\n",
    "t_lens = [len(n) for n in t]\n",
    "t_lens\n",
    "\n",
    "sns.displot(t_lens)\n",
    "max_len = t_lens[np.argmax(t_lens)]\n",
    "max_len #24\n",
    "\n",
    "t_pad = sequence.pad_sequences(t, maxlen=max_len)\n",
    "print(t_pad[:5])"
   ]
  },
  {
   "cell_type": "code",
   "execution_count": 15,
   "id": "01807df2",
   "metadata": {},
   "outputs": [
    {
     "data": {
      "text/html": [
       "<div>\n",
       "<style scoped>\n",
       "    .dataframe tbody tr th:only-of-type {\n",
       "        vertical-align: middle;\n",
       "    }\n",
       "\n",
       "    .dataframe tbody tr th {\n",
       "        vertical-align: top;\n",
       "    }\n",
       "\n",
       "    .dataframe thead th {\n",
       "        text-align: right;\n",
       "    }\n",
       "</style>\n",
       "<table border=\"1\" class=\"dataframe\">\n",
       "  <thead>\n",
       "    <tr style=\"text-align: right;\">\n",
       "      <th></th>\n",
       "      <th>headline</th>\n",
       "      <th>Label</th>\n",
       "      <th>No_punc</th>\n",
       "      <th>Tokenized</th>\n",
       "    </tr>\n",
       "  </thead>\n",
       "  <tbody>\n",
       "    <tr>\n",
       "      <th>0</th>\n",
       "      <td>Former New Zealand cricketer Chris Cairns diag...</td>\n",
       "      <td>Sports</td>\n",
       "      <td>former new zealand cricketer chris cairns diag...</td>\n",
       "      <td>[348, 3, 287, 1960, 904, 4493, 6204, 11255, 1764]</td>\n",
       "    </tr>\n",
       "    <tr>\n",
       "      <th>1</th>\n",
       "      <td>American skater Nathan Chen dazzles in his Oly...</td>\n",
       "      <td>Sports</td>\n",
       "      <td>american skater nathan chen dazzle olympic return</td>\n",
       "      <td>[2151, 15114, 4813, 15115, 5631, 725, 84]</td>\n",
       "    </tr>\n",
       "    <tr>\n",
       "      <th>2</th>\n",
       "      <td>La Liga: Enes Unal scores brace to lead Getafe...</td>\n",
       "      <td>Sports</td>\n",
       "      <td>la liga enes unal score brace lead getafes win...</td>\n",
       "      <td>[1118, 1292, 15116, 15117, 572, 3350, 96, 1511...</td>\n",
       "    </tr>\n",
       "    <tr>\n",
       "      <th>3</th>\n",
       "      <td>U-19 World Cup: Australia beat Afghanistan to ...</td>\n",
       "      <td>Sports</td>\n",
       "      <td>world cup australia beat afghanistan claim rd...</td>\n",
       "      <td>[18, 36, 172, 140, 986, 223, 582, 594]</td>\n",
       "    </tr>\n",
       "    <tr>\n",
       "      <th>4</th>\n",
       "      <td>ICC U-19 World Cup India vs England final Live...</td>\n",
       "      <td>Sports</td>\n",
       "      <td>icc world cup india vs england final live stre...</td>\n",
       "      <td>[484, 18, 36, 2, 12, 76, 86, 58, 155, 9]</td>\n",
       "    </tr>\n",
       "  </tbody>\n",
       "</table>\n",
       "</div>"
      ],
      "text/plain": [
       "                                            headline   Label  \\\n",
       "0  Former New Zealand cricketer Chris Cairns diag...  Sports   \n",
       "1  American skater Nathan Chen dazzles in his Oly...  Sports   \n",
       "2  La Liga: Enes Unal scores brace to lead Getafe...  Sports   \n",
       "3  U-19 World Cup: Australia beat Afghanistan to ...  Sports   \n",
       "4  ICC U-19 World Cup India vs England final Live...  Sports   \n",
       "\n",
       "                                             No_punc  \\\n",
       "0  former new zealand cricketer chris cairns diag...   \n",
       "1  american skater nathan chen dazzle olympic return   \n",
       "2  la liga enes unal score brace lead getafes win...   \n",
       "3   world cup australia beat afghanistan claim rd...   \n",
       "4  icc world cup india vs england final live stre...   \n",
       "\n",
       "                                           Tokenized  \n",
       "0  [348, 3, 287, 1960, 904, 4493, 6204, 11255, 1764]  \n",
       "1          [2151, 15114, 4813, 15115, 5631, 725, 84]  \n",
       "2  [1118, 1292, 15116, 15117, 572, 3350, 96, 1511...  \n",
       "3             [18, 36, 172, 140, 986, 223, 582, 594]  \n",
       "4           [484, 18, 36, 2, 12, 76, 86, 58, 155, 9]  "
      ]
     },
     "execution_count": 15,
     "metadata": {},
     "output_type": "execute_result"
    }
   ],
   "source": [
    "data['Tokenized'] = t\n",
    "data.head()"
   ]
  },
  {
   "cell_type": "code",
   "execution_count": 16,
   "id": "50d4e5e2",
   "metadata": {},
   "outputs": [
    {
     "data": {
      "text/plain": [
       "array([[    0,     0,     0, ...,  6204, 11255,  1764],\n",
       "       [    0,     0,     0, ...,  5631,   725,    84],\n",
       "       [    0,     0,     0, ..., 15118,    15,  9188],\n",
       "       ...,\n",
       "       [    0,     0,     0, ..., 14737,  3121,    38],\n",
       "       [    0,     0,     0, ..., 27289,  2740,    49],\n",
       "       [    0,     0,     0, ...,  2877,     9,    54]])"
      ]
     },
     "execution_count": 16,
     "metadata": {},
     "output_type": "execute_result"
    }
   ],
   "source": [
    "t_pad"
   ]
  },
  {
   "cell_type": "code",
   "execution_count": 17,
   "id": "55493666",
   "metadata": {},
   "outputs": [
    {
     "data": {
      "text/plain": [
       "dtype('int32')"
      ]
     },
     "execution_count": 17,
     "metadata": {},
     "output_type": "execute_result"
    }
   ],
   "source": [
    "t_pad.dtype"
   ]
  },
  {
   "cell_type": "code",
   "execution_count": 18,
   "id": "c334499e",
   "metadata": {},
   "outputs": [
    {
     "data": {
      "text/plain": [
       "array([[    0,     0,     0, ...,  6204, 11255,  1764],\n",
       "       [    0,     0,     0, ...,  5631,   725,    84],\n",
       "       [    0,     0,     0, ..., 15118,    15,  9188],\n",
       "       ...,\n",
       "       [    0,     0,     0, ..., 14737,  3121,    38],\n",
       "       [    0,     0,     0, ..., 27289,  2740,    49],\n",
       "       [    0,     0,     0, ...,  2877,     9,    54]])"
      ]
     },
     "execution_count": 18,
     "metadata": {},
     "output_type": "execute_result"
    }
   ],
   "source": [
    "x = []\n",
    "for i in t_pad:\n",
    "    x.append(i)\n",
    "#t_pad.tolist()\n",
    "\n",
    "t_pad\n",
    "    "
   ]
  },
  {
   "cell_type": "code",
   "execution_count": 19,
   "id": "f9c016eb",
   "metadata": {},
   "outputs": [
    {
     "name": "stdout",
     "output_type": "stream",
     "text": [
      "(37395, 24)\n"
     ]
    }
   ],
   "source": [
    "print(t_pad.shape)"
   ]
  },
  {
   "cell_type": "code",
   "execution_count": 20,
   "id": "8f51c1ea",
   "metadata": {},
   "outputs": [
    {
     "name": "stdout",
     "output_type": "stream",
     "text": [
      "(37395,)\n"
     ]
    }
   ],
   "source": [
    "print(data['Label'].shape)"
   ]
  },
  {
   "cell_type": "code",
   "execution_count": 21,
   "id": "12d40bb9",
   "metadata": {},
   "outputs": [
    {
     "data": {
      "text/plain": [
       "array([    0,     0,     0,     0,     0,     0,     0,     0,     0,\n",
       "           0,     0,     0,     0,     0,     0,     0,     0,  2151,\n",
       "       15114,  4813, 15115,  5631,   725,    84])"
      ]
     },
     "execution_count": 21,
     "metadata": {},
     "output_type": "execute_result"
    }
   ],
   "source": [
    "t_pad[1]"
   ]
  },
  {
   "cell_type": "code",
   "execution_count": 22,
   "id": "60b3ee24",
   "metadata": {},
   "outputs": [],
   "source": [
    "df = pd.DataFrame(t_pad)"
   ]
  },
  {
   "cell_type": "code",
   "execution_count": 23,
   "id": "6614e395",
   "metadata": {},
   "outputs": [
    {
     "data": {
      "text/plain": [
       "(37395, 24)"
      ]
     },
     "execution_count": 23,
     "metadata": {},
     "output_type": "execute_result"
    }
   ],
   "source": [
    "df.head()\n",
    "df.shape"
   ]
  },
  {
   "cell_type": "code",
   "execution_count": 24,
   "id": "efff1654",
   "metadata": {},
   "outputs": [
    {
     "data": {
      "text/html": [
       "<div>\n",
       "<style scoped>\n",
       "    .dataframe tbody tr th:only-of-type {\n",
       "        vertical-align: middle;\n",
       "    }\n",
       "\n",
       "    .dataframe tbody tr th {\n",
       "        vertical-align: top;\n",
       "    }\n",
       "\n",
       "    .dataframe thead th {\n",
       "        text-align: right;\n",
       "    }\n",
       "</style>\n",
       "<table border=\"1\" class=\"dataframe\">\n",
       "  <thead>\n",
       "    <tr style=\"text-align: right;\">\n",
       "      <th></th>\n",
       "      <th>headline</th>\n",
       "      <th>Label</th>\n",
       "      <th>No_punc</th>\n",
       "      <th>Tokenized</th>\n",
       "      <th>target</th>\n",
       "    </tr>\n",
       "  </thead>\n",
       "  <tbody>\n",
       "    <tr>\n",
       "      <th>0</th>\n",
       "      <td>Former New Zealand cricketer Chris Cairns diag...</td>\n",
       "      <td>Sports</td>\n",
       "      <td>former new zealand cricketer chris cairns diag...</td>\n",
       "      <td>[348, 3, 287, 1960, 904, 4493, 6204, 11255, 1764]</td>\n",
       "      <td>3</td>\n",
       "    </tr>\n",
       "    <tr>\n",
       "      <th>1</th>\n",
       "      <td>American skater Nathan Chen dazzles in his Oly...</td>\n",
       "      <td>Sports</td>\n",
       "      <td>american skater nathan chen dazzle olympic return</td>\n",
       "      <td>[2151, 15114, 4813, 15115, 5631, 725, 84]</td>\n",
       "      <td>3</td>\n",
       "    </tr>\n",
       "    <tr>\n",
       "      <th>2</th>\n",
       "      <td>La Liga: Enes Unal scores brace to lead Getafe...</td>\n",
       "      <td>Sports</td>\n",
       "      <td>la liga enes unal score brace lead getafes win...</td>\n",
       "      <td>[1118, 1292, 15116, 15117, 572, 3350, 96, 1511...</td>\n",
       "      <td>3</td>\n",
       "    </tr>\n",
       "    <tr>\n",
       "      <th>3</th>\n",
       "      <td>U-19 World Cup: Australia beat Afghanistan to ...</td>\n",
       "      <td>Sports</td>\n",
       "      <td>world cup australia beat afghanistan claim rd...</td>\n",
       "      <td>[18, 36, 172, 140, 986, 223, 582, 594]</td>\n",
       "      <td>3</td>\n",
       "    </tr>\n",
       "    <tr>\n",
       "      <th>4</th>\n",
       "      <td>ICC U-19 World Cup India vs England final Live...</td>\n",
       "      <td>Sports</td>\n",
       "      <td>icc world cup india vs england final live stre...</td>\n",
       "      <td>[484, 18, 36, 2, 12, 76, 86, 58, 155, 9]</td>\n",
       "      <td>3</td>\n",
       "    </tr>\n",
       "  </tbody>\n",
       "</table>\n",
       "</div>"
      ],
      "text/plain": [
       "                                            headline   Label  \\\n",
       "0  Former New Zealand cricketer Chris Cairns diag...  Sports   \n",
       "1  American skater Nathan Chen dazzles in his Oly...  Sports   \n",
       "2  La Liga: Enes Unal scores brace to lead Getafe...  Sports   \n",
       "3  U-19 World Cup: Australia beat Afghanistan to ...  Sports   \n",
       "4  ICC U-19 World Cup India vs England final Live...  Sports   \n",
       "\n",
       "                                             No_punc  \\\n",
       "0  former new zealand cricketer chris cairns diag...   \n",
       "1  american skater nathan chen dazzle olympic return   \n",
       "2  la liga enes unal score brace lead getafes win...   \n",
       "3   world cup australia beat afghanistan claim rd...   \n",
       "4  icc world cup india vs england final live stre...   \n",
       "\n",
       "                                           Tokenized  target  \n",
       "0  [348, 3, 287, 1960, 904, 4493, 6204, 11255, 1764]       3  \n",
       "1          [2151, 15114, 4813, 15115, 5631, 725, 84]       3  \n",
       "2  [1118, 1292, 15116, 15117, 572, 3350, 96, 1511...       3  \n",
       "3             [18, 36, 172, 140, 986, 223, 582, 594]       3  \n",
       "4           [484, 18, 36, 2, 12, 76, 86, 58, 155, 9]       3  "
      ]
     },
     "execution_count": 24,
     "metadata": {},
     "output_type": "execute_result"
    }
   ],
   "source": [
    "# Label Encoding target values\n",
    "from sklearn.preprocessing import LabelEncoder\n",
    "labelEncoder = LabelEncoder()\n",
    "data['target'] = labelEncoder.fit_transform(data['Label']) # target variable is label encoded \n",
    "data.head()"
   ]
  },
  {
   "cell_type": "code",
   "execution_count": 25,
   "id": "c573b137",
   "metadata": {},
   "outputs": [
    {
     "data": {
      "text/html": [
       "<div>\n",
       "<style scoped>\n",
       "    .dataframe tbody tr th:only-of-type {\n",
       "        vertical-align: middle;\n",
       "    }\n",
       "\n",
       "    .dataframe tbody tr th {\n",
       "        vertical-align: top;\n",
       "    }\n",
       "\n",
       "    .dataframe thead th {\n",
       "        text-align: right;\n",
       "    }\n",
       "</style>\n",
       "<table border=\"1\" class=\"dataframe\">\n",
       "  <thead>\n",
       "    <tr style=\"text-align: right;\">\n",
       "      <th></th>\n",
       "      <th>0</th>\n",
       "      <th>1</th>\n",
       "      <th>2</th>\n",
       "      <th>3</th>\n",
       "      <th>4</th>\n",
       "      <th>5</th>\n",
       "      <th>6</th>\n",
       "      <th>7</th>\n",
       "      <th>8</th>\n",
       "      <th>9</th>\n",
       "      <th>...</th>\n",
       "      <th>14</th>\n",
       "      <th>15</th>\n",
       "      <th>16</th>\n",
       "      <th>17</th>\n",
       "      <th>18</th>\n",
       "      <th>19</th>\n",
       "      <th>20</th>\n",
       "      <th>21</th>\n",
       "      <th>22</th>\n",
       "      <th>23</th>\n",
       "    </tr>\n",
       "  </thead>\n",
       "  <tbody>\n",
       "    <tr>\n",
       "      <th>0</th>\n",
       "      <td>0</td>\n",
       "      <td>0</td>\n",
       "      <td>0</td>\n",
       "      <td>0</td>\n",
       "      <td>0</td>\n",
       "      <td>0</td>\n",
       "      <td>0</td>\n",
       "      <td>0</td>\n",
       "      <td>0</td>\n",
       "      <td>0</td>\n",
       "      <td>...</td>\n",
       "      <td>0</td>\n",
       "      <td>348</td>\n",
       "      <td>3</td>\n",
       "      <td>287</td>\n",
       "      <td>1960</td>\n",
       "      <td>904</td>\n",
       "      <td>4493</td>\n",
       "      <td>6204</td>\n",
       "      <td>11255</td>\n",
       "      <td>1764</td>\n",
       "    </tr>\n",
       "    <tr>\n",
       "      <th>1</th>\n",
       "      <td>0</td>\n",
       "      <td>0</td>\n",
       "      <td>0</td>\n",
       "      <td>0</td>\n",
       "      <td>0</td>\n",
       "      <td>0</td>\n",
       "      <td>0</td>\n",
       "      <td>0</td>\n",
       "      <td>0</td>\n",
       "      <td>0</td>\n",
       "      <td>...</td>\n",
       "      <td>0</td>\n",
       "      <td>0</td>\n",
       "      <td>0</td>\n",
       "      <td>2151</td>\n",
       "      <td>15114</td>\n",
       "      <td>4813</td>\n",
       "      <td>15115</td>\n",
       "      <td>5631</td>\n",
       "      <td>725</td>\n",
       "      <td>84</td>\n",
       "    </tr>\n",
       "    <tr>\n",
       "      <th>2</th>\n",
       "      <td>0</td>\n",
       "      <td>0</td>\n",
       "      <td>0</td>\n",
       "      <td>0</td>\n",
       "      <td>0</td>\n",
       "      <td>0</td>\n",
       "      <td>0</td>\n",
       "      <td>0</td>\n",
       "      <td>0</td>\n",
       "      <td>0</td>\n",
       "      <td>...</td>\n",
       "      <td>1118</td>\n",
       "      <td>1292</td>\n",
       "      <td>15116</td>\n",
       "      <td>15117</td>\n",
       "      <td>572</td>\n",
       "      <td>3350</td>\n",
       "      <td>96</td>\n",
       "      <td>15118</td>\n",
       "      <td>15</td>\n",
       "      <td>9188</td>\n",
       "    </tr>\n",
       "    <tr>\n",
       "      <th>3</th>\n",
       "      <td>0</td>\n",
       "      <td>0</td>\n",
       "      <td>0</td>\n",
       "      <td>0</td>\n",
       "      <td>0</td>\n",
       "      <td>0</td>\n",
       "      <td>0</td>\n",
       "      <td>0</td>\n",
       "      <td>0</td>\n",
       "      <td>0</td>\n",
       "      <td>...</td>\n",
       "      <td>0</td>\n",
       "      <td>0</td>\n",
       "      <td>18</td>\n",
       "      <td>36</td>\n",
       "      <td>172</td>\n",
       "      <td>140</td>\n",
       "      <td>986</td>\n",
       "      <td>223</td>\n",
       "      <td>582</td>\n",
       "      <td>594</td>\n",
       "    </tr>\n",
       "    <tr>\n",
       "      <th>4</th>\n",
       "      <td>0</td>\n",
       "      <td>0</td>\n",
       "      <td>0</td>\n",
       "      <td>0</td>\n",
       "      <td>0</td>\n",
       "      <td>0</td>\n",
       "      <td>0</td>\n",
       "      <td>0</td>\n",
       "      <td>0</td>\n",
       "      <td>0</td>\n",
       "      <td>...</td>\n",
       "      <td>484</td>\n",
       "      <td>18</td>\n",
       "      <td>36</td>\n",
       "      <td>2</td>\n",
       "      <td>12</td>\n",
       "      <td>76</td>\n",
       "      <td>86</td>\n",
       "      <td>58</td>\n",
       "      <td>155</td>\n",
       "      <td>9</td>\n",
       "    </tr>\n",
       "  </tbody>\n",
       "</table>\n",
       "<p>5 rows × 24 columns</p>\n",
       "</div>"
      ],
      "text/plain": [
       "   0   1   2   3   4   5   6   7   8   9   ...    14    15     16     17  \\\n",
       "0   0   0   0   0   0   0   0   0   0   0  ...     0   348      3    287   \n",
       "1   0   0   0   0   0   0   0   0   0   0  ...     0     0      0   2151   \n",
       "2   0   0   0   0   0   0   0   0   0   0  ...  1118  1292  15116  15117   \n",
       "3   0   0   0   0   0   0   0   0   0   0  ...     0     0     18     36   \n",
       "4   0   0   0   0   0   0   0   0   0   0  ...   484    18     36      2   \n",
       "\n",
       "      18    19     20     21     22    23  \n",
       "0   1960   904   4493   6204  11255  1764  \n",
       "1  15114  4813  15115   5631    725    84  \n",
       "2    572  3350     96  15118     15  9188  \n",
       "3    172   140    986    223    582   594  \n",
       "4     12    76     86     58    155     9  \n",
       "\n",
       "[5 rows x 24 columns]"
      ]
     },
     "execution_count": 25,
     "metadata": {},
     "output_type": "execute_result"
    }
   ],
   "source": [
    "df.head()"
   ]
  },
  {
   "cell_type": "code",
   "execution_count": 32,
   "id": "4cf31ccb",
   "metadata": {},
   "outputs": [],
   "source": [
    "# Test train split\n",
    "\n",
    "from sklearn.model_selection import train_test_split\n",
    "X = df\n",
    "y = data['target']\n",
    "\n",
    "X.shape\n",
    "y.shape\n",
    "\n",
    "X_train, X_test, y_train, y_test = train_test_split(X, y, test_size=0.30)"
   ]
  },
  {
   "cell_type": "code",
   "execution_count": 33,
   "id": "bf65b2fa",
   "metadata": {},
   "outputs": [],
   "source": [
    "# Standard Scalar\n",
    "from sklearn.preprocessing import StandardScaler\n",
    "sc=StandardScaler()\n",
    "\n",
    "scaler = sc.fit(X_train)\n",
    "trainX_scaled = scaler.transform(X_train)\n",
    "testX_scaled = scaler.transform(X_test)\n"
   ]
  },
  {
   "cell_type": "code",
   "execution_count": 145,
   "id": "42d19568",
   "metadata": {},
   "outputs": [
    {
     "name": "stderr",
     "output_type": "stream",
     "text": [
      "C:\\Users\\Cyril\\AppData\\Local\\Programs\\Python\\Python310\\lib\\site-packages\\sklearn\\neural_network\\_multilayer_perceptron.py:702: ConvergenceWarning: Stochastic Optimizer: Maximum iterations (200) reached and the optimization hasn't converged yet.\n",
      "  warnings.warn(\n"
     ]
    },
    {
     "data": {
      "text/html": [
       "<style>#sk-container-id-6 {color: black;background-color: white;}#sk-container-id-6 pre{padding: 0;}#sk-container-id-6 div.sk-toggleable {background-color: white;}#sk-container-id-6 label.sk-toggleable__label {cursor: pointer;display: block;width: 100%;margin-bottom: 0;padding: 0.3em;box-sizing: border-box;text-align: center;}#sk-container-id-6 label.sk-toggleable__label-arrow:before {content: \"▸\";float: left;margin-right: 0.25em;color: #696969;}#sk-container-id-6 label.sk-toggleable__label-arrow:hover:before {color: black;}#sk-container-id-6 div.sk-estimator:hover label.sk-toggleable__label-arrow:before {color: black;}#sk-container-id-6 div.sk-toggleable__content {max-height: 0;max-width: 0;overflow: hidden;text-align: left;background-color: #f0f8ff;}#sk-container-id-6 div.sk-toggleable__content pre {margin: 0.2em;color: black;border-radius: 0.25em;background-color: #f0f8ff;}#sk-container-id-6 input.sk-toggleable__control:checked~div.sk-toggleable__content {max-height: 200px;max-width: 100%;overflow: auto;}#sk-container-id-6 input.sk-toggleable__control:checked~label.sk-toggleable__label-arrow:before {content: \"▾\";}#sk-container-id-6 div.sk-estimator input.sk-toggleable__control:checked~label.sk-toggleable__label {background-color: #d4ebff;}#sk-container-id-6 div.sk-label input.sk-toggleable__control:checked~label.sk-toggleable__label {background-color: #d4ebff;}#sk-container-id-6 input.sk-hidden--visually {border: 0;clip: rect(1px 1px 1px 1px);clip: rect(1px, 1px, 1px, 1px);height: 1px;margin: -1px;overflow: hidden;padding: 0;position: absolute;width: 1px;}#sk-container-id-6 div.sk-estimator {font-family: monospace;background-color: #f0f8ff;border: 1px dotted black;border-radius: 0.25em;box-sizing: border-box;margin-bottom: 0.5em;}#sk-container-id-6 div.sk-estimator:hover {background-color: #d4ebff;}#sk-container-id-6 div.sk-parallel-item::after {content: \"\";width: 100%;border-bottom: 1px solid gray;flex-grow: 1;}#sk-container-id-6 div.sk-label:hover label.sk-toggleable__label {background-color: #d4ebff;}#sk-container-id-6 div.sk-serial::before {content: \"\";position: absolute;border-left: 1px solid gray;box-sizing: border-box;top: 0;bottom: 0;left: 50%;z-index: 0;}#sk-container-id-6 div.sk-serial {display: flex;flex-direction: column;align-items: center;background-color: white;padding-right: 0.2em;padding-left: 0.2em;position: relative;}#sk-container-id-6 div.sk-item {position: relative;z-index: 1;}#sk-container-id-6 div.sk-parallel {display: flex;align-items: stretch;justify-content: center;background-color: white;position: relative;}#sk-container-id-6 div.sk-item::before, #sk-container-id-6 div.sk-parallel-item::before {content: \"\";position: absolute;border-left: 1px solid gray;box-sizing: border-box;top: 0;bottom: 0;left: 50%;z-index: -1;}#sk-container-id-6 div.sk-parallel-item {display: flex;flex-direction: column;z-index: 1;position: relative;background-color: white;}#sk-container-id-6 div.sk-parallel-item:first-child::after {align-self: flex-end;width: 50%;}#sk-container-id-6 div.sk-parallel-item:last-child::after {align-self: flex-start;width: 50%;}#sk-container-id-6 div.sk-parallel-item:only-child::after {width: 0;}#sk-container-id-6 div.sk-dashed-wrapped {border: 1px dashed gray;margin: 0 0.4em 0.5em 0.4em;box-sizing: border-box;padding-bottom: 0.4em;background-color: white;}#sk-container-id-6 div.sk-label label {font-family: monospace;font-weight: bold;display: inline-block;line-height: 1.2em;}#sk-container-id-6 div.sk-label-container {text-align: center;}#sk-container-id-6 div.sk-container {/* jupyter's `normalize.less` sets `[hidden] { display: none; }` but bootstrap.min.css set `[hidden] { display: none !important; }` so we also need the `!important` here to be able to override the default hidden behavior on the sphinx rendered scikit-learn.org. See: https://github.com/scikit-learn/scikit-learn/issues/21755 */display: inline-block !important;position: relative;}#sk-container-id-6 div.sk-text-repr-fallback {display: none;}</style><div id=\"sk-container-id-6\" class=\"sk-top-container\"><div class=\"sk-text-repr-fallback\"><pre>MLPClassifier(hidden_layer_sizes=(256, 128, 64, 32), random_state=1)</pre><b>In a Jupyter environment, please rerun this cell to show the HTML representation or trust the notebook. <br />On GitHub, the HTML representation is unable to render, please try loading this page with nbviewer.org.</b></div><div class=\"sk-container\" hidden><div class=\"sk-item\"><div class=\"sk-estimator sk-toggleable\"><input class=\"sk-toggleable__control sk-hidden--visually\" id=\"sk-estimator-id-6\" type=\"checkbox\" checked><label for=\"sk-estimator-id-6\" class=\"sk-toggleable__label sk-toggleable__label-arrow\">MLPClassifier</label><div class=\"sk-toggleable__content\"><pre>MLPClassifier(hidden_layer_sizes=(256, 128, 64, 32), random_state=1)</pre></div></div></div></div></div>"
      ],
      "text/plain": [
       "MLPClassifier(hidden_layer_sizes=(256, 128, 64, 32), random_state=1)"
      ]
     },
     "execution_count": 145,
     "metadata": {},
     "output_type": "execute_result"
    }
   ],
   "source": [
    "# MLP Classifier\n",
    "from sklearn.neural_network import MLPClassifier\n",
    "mlp_clf = MLPClassifier(hidden_layer_sizes=(256,128,64,32),\n",
    "                         activation = 'relu', random_state=1)\n",
    "\n",
    "mlp_clf.fit(trainX_scaled, y_train)"
   ]
  },
  {
   "cell_type": "code",
   "execution_count": 28,
   "id": "495d9287",
   "metadata": {},
   "outputs": [
    {
     "ename": "NameError",
     "evalue": "name 'mlp_clf' is not defined",
     "output_type": "error",
     "traceback": [
      "\u001b[1;31m---------------------------------------------------------------------------\u001b[0m",
      "\u001b[1;31mNameError\u001b[0m                                 Traceback (most recent call last)",
      "Cell \u001b[1;32mIn [28], line 3\u001b[0m\n\u001b[0;32m      1\u001b[0m \u001b[38;5;66;03m# Evaluation of model\u001b[39;00m\n\u001b[0;32m      2\u001b[0m \u001b[38;5;28;01mfrom\u001b[39;00m \u001b[38;5;21;01msklearn\u001b[39;00m\u001b[38;5;21;01m.\u001b[39;00m\u001b[38;5;21;01mmetrics\u001b[39;00m \u001b[38;5;28;01mimport\u001b[39;00m accuracy_score\n\u001b[1;32m----> 3\u001b[0m y_pred \u001b[38;5;241m=\u001b[39m mlp_clf\u001b[38;5;241m.\u001b[39mpredict(testX_scaled)\n\u001b[0;32m      5\u001b[0m \u001b[38;5;28mprint\u001b[39m(mlp_clf\u001b[38;5;241m.\u001b[39mscore(testX_scaled, y_test))\n\u001b[0;32m      7\u001b[0m \u001b[38;5;28mprint\u001b[39m(\u001b[38;5;124m'\u001b[39m\u001b[38;5;124mAccuracy: \u001b[39m\u001b[38;5;132;01m{:.3f}\u001b[39;00m\u001b[38;5;124m'\u001b[39m\u001b[38;5;241m.\u001b[39mformat(accuracy_score(y_test, y_pred)))\n",
      "\u001b[1;31mNameError\u001b[0m: name 'mlp_clf' is not defined"
     ]
    }
   ],
   "source": [
    "# Evaluation of model\n",
    "from sklearn.metrics import accuracy_score\n",
    "y_pred = mlp_clf.predict(testX_scaled)\n",
    "\n",
    "print(mlp_clf.score(testX_scaled, y_test))\n",
    "\n",
    "print('Accuracy: {:.3f}'.format(accuracy_score(y_test, y_pred)))"
   ]
  },
  {
   "cell_type": "code",
   "execution_count": 29,
   "id": "c012f8b4",
   "metadata": {},
   "outputs": [],
   "source": [
    "# Model building \n",
    "\n",
    "import tensorflow as tf"
   ]
  },
  {
   "cell_type": "code",
   "execution_count": 31,
   "id": "3b4c6619",
   "metadata": {},
   "outputs": [
    {
     "data": {
      "text/plain": [
       "2    7920\n",
       "0    7894\n",
       "4    7200\n",
       "1    7200\n",
       "3    7181\n",
       "Name: target, dtype: int64"
      ]
     },
     "execution_count": 31,
     "metadata": {},
     "output_type": "execute_result"
    }
   ],
   "source": [
    "data['target'].value_counts()"
   ]
  },
  {
   "cell_type": "code",
   "execution_count": 40,
   "id": "ad316219",
   "metadata": {},
   "outputs": [
    {
     "name": "stdout",
     "output_type": "stream",
     "text": [
      "Epoch 1/50\n",
      "409/409 [==============================] - 2s 4ms/step - loss: 1.4918 - accuracy: 0.3291\n",
      "Epoch 2/50\n",
      "409/409 [==============================] - 2s 4ms/step - loss: 1.4602 - accuracy: 0.3502\n",
      "Epoch 3/50\n",
      "409/409 [==============================] - 2s 4ms/step - loss: 1.4298 - accuracy: 0.3654\n",
      "Epoch 4/50\n",
      "409/409 [==============================] - 2s 4ms/step - loss: 1.4029 - accuracy: 0.3807\n",
      "Epoch 5/50\n",
      "409/409 [==============================] - 2s 4ms/step - loss: 1.3633 - accuracy: 0.3976\n",
      "Epoch 6/50\n",
      "409/409 [==============================] - 2s 4ms/step - loss: 1.3691 - accuracy: 0.4022\n",
      "Epoch 7/50\n",
      "409/409 [==============================] - 2s 4ms/step - loss: 1.3298 - accuracy: 0.4106\n",
      "Epoch 8/50\n",
      "409/409 [==============================] - 2s 4ms/step - loss: 1.3130 - accuracy: 0.4218\n",
      "Epoch 9/50\n",
      "409/409 [==============================] - 2s 4ms/step - loss: 1.2999 - accuracy: 0.4284\n",
      "Epoch 10/50\n",
      "409/409 [==============================] - 2s 4ms/step - loss: 1.2883 - accuracy: 0.4355\n",
      "Epoch 11/50\n",
      "409/409 [==============================] - 2s 4ms/step - loss: 1.2784 - accuracy: 0.4398\n",
      "Epoch 12/50\n",
      "409/409 [==============================] - 2s 4ms/step - loss: 1.2623 - accuracy: 0.4514\n",
      "Epoch 13/50\n",
      "409/409 [==============================] - 2s 4ms/step - loss: 1.2563 - accuracy: 0.4532\n",
      "Epoch 14/50\n",
      "409/409 [==============================] - 2s 4ms/step - loss: 1.2439 - accuracy: 0.4580\n",
      "Epoch 15/50\n",
      "409/409 [==============================] - 2s 4ms/step - loss: 1.2282 - accuracy: 0.4641\n",
      "Epoch 16/50\n",
      "409/409 [==============================] - 2s 4ms/step - loss: 1.2234 - accuracy: 0.4649\n",
      "Epoch 17/50\n",
      "409/409 [==============================] - 2s 4ms/step - loss: 1.2137 - accuracy: 0.4726\n",
      "Epoch 18/50\n",
      "409/409 [==============================] - 2s 4ms/step - loss: 1.2101 - accuracy: 0.4789\n",
      "Epoch 19/50\n",
      "409/409 [==============================] - 2s 4ms/step - loss: 1.2365 - accuracy: 0.4796\n",
      "Epoch 20/50\n",
      "409/409 [==============================] - 2s 4ms/step - loss: 1.1814 - accuracy: 0.4860\n",
      "Epoch 21/50\n",
      "409/409 [==============================] - 2s 4ms/step - loss: 1.1725 - accuracy: 0.4906\n",
      "Epoch 22/50\n",
      "409/409 [==============================] - 2s 4ms/step - loss: 1.1697 - accuracy: 0.4896\n",
      "Epoch 23/50\n",
      "409/409 [==============================] - 2s 4ms/step - loss: 1.1551 - accuracy: 0.4999\n",
      "Epoch 24/50\n",
      "409/409 [==============================] - 2s 4ms/step - loss: 1.1466 - accuracy: 0.5010\n",
      "Epoch 25/50\n",
      "409/409 [==============================] - 2s 4ms/step - loss: 1.1412 - accuracy: 0.5057\n",
      "Epoch 26/50\n",
      "409/409 [==============================] - 2s 4ms/step - loss: 1.1293 - accuracy: 0.5101\n",
      "Epoch 27/50\n",
      "409/409 [==============================] - 2s 4ms/step - loss: 1.1266 - accuracy: 0.5123\n",
      "Epoch 28/50\n",
      "409/409 [==============================] - 2s 4ms/step - loss: 1.1193 - accuracy: 0.5192\n",
      "Epoch 29/50\n",
      "409/409 [==============================] - 2s 4ms/step - loss: 1.1119 - accuracy: 0.5219\n",
      "Epoch 30/50\n",
      "409/409 [==============================] - 2s 4ms/step - loss: 1.1106 - accuracy: 0.5199\n",
      "Epoch 31/50\n",
      "409/409 [==============================] - 2s 4ms/step - loss: 1.0945 - accuracy: 0.5304\n",
      "Epoch 32/50\n",
      "409/409 [==============================] - 2s 4ms/step - loss: 1.0903 - accuracy: 0.5304\n",
      "Epoch 33/50\n",
      "409/409 [==============================] - 2s 4ms/step - loss: 1.0870 - accuracy: 0.5295\n",
      "Epoch 34/50\n",
      "409/409 [==============================] - 2s 4ms/step - loss: 1.0815 - accuracy: 0.5341\n",
      "Epoch 35/50\n",
      "409/409 [==============================] - 2s 4ms/step - loss: 1.1394 - accuracy: 0.5325\n",
      "Epoch 36/50\n",
      "409/409 [==============================] - 2s 4ms/step - loss: 1.1539 - accuracy: 0.5319\n",
      "Epoch 37/50\n",
      "409/409 [==============================] - 2s 4ms/step - loss: 1.0721 - accuracy: 0.5456\n",
      "Epoch 38/50\n",
      "409/409 [==============================] - 2s 4ms/step - loss: 1.0552 - accuracy: 0.5460\n",
      "Epoch 39/50\n",
      "409/409 [==============================] - 2s 4ms/step - loss: 1.0479 - accuracy: 0.5489\n",
      "Epoch 40/50\n",
      "409/409 [==============================] - 2s 4ms/step - loss: 1.0480 - accuracy: 0.5496\n",
      "Epoch 41/50\n",
      "409/409 [==============================] - 2s 4ms/step - loss: 1.0473 - accuracy: 0.5528\n",
      "Epoch 42/50\n",
      "409/409 [==============================] - 2s 4ms/step - loss: 1.0302 - accuracy: 0.5568\n",
      "Epoch 43/50\n",
      "409/409 [==============================] - 2s 4ms/step - loss: 1.0355 - accuracy: 0.5566\n",
      "Epoch 44/50\n",
      "409/409 [==============================] - 2s 4ms/step - loss: 1.0227 - accuracy: 0.5627\n",
      "Epoch 45/50\n",
      "409/409 [==============================] - 2s 4ms/step - loss: 1.0168 - accuracy: 0.5646\n",
      "Epoch 46/50\n",
      "409/409 [==============================] - 2s 4ms/step - loss: 1.0158 - accuracy: 0.5646\n",
      "Epoch 47/50\n",
      "409/409 [==============================] - 2s 4ms/step - loss: 1.0117 - accuracy: 0.5690\n",
      "Epoch 48/50\n",
      "409/409 [==============================] - 2s 4ms/step - loss: 1.0129 - accuracy: 0.5666\n",
      "Epoch 49/50\n",
      "409/409 [==============================] - 2s 4ms/step - loss: 1.0166 - accuracy: 0.5660\n",
      "Epoch 50/50\n",
      "409/409 [==============================] - 2s 4ms/step - loss: 1.0007 - accuracy: 0.5719\n"
     ]
    },
    {
     "data": {
      "text/plain": [
       "<keras.callbacks.History at 0x1aea7772470>"
      ]
     },
     "execution_count": 40,
     "metadata": {},
     "output_type": "execute_result"
    }
   ],
   "source": [
    "NUM_CLASSES = 5\n",
    "model = tf.keras.Sequential([\n",
    "    tf.keras.layers.Dense(512, activation='relu'),\n",
    "    tf.keras.layers.Dense(256, activation='relu'),\n",
    "    tf.keras.layers.Dense(64, ),\n",
    "    tf.keras.layers.Dense(NUM_CLASSES, activation='sigmoid')\n",
    "])\n",
    "\n",
    "# Compiling the model with the high-level keras\n",
    "model.compile(optimizer='adam',\n",
    "              loss=tf.keras.losses.SparseCategoricalCrossentropy(from_logits=False),\n",
    "              metrics=['accuracy'])\n",
    "\n",
    "# Model training\n",
    "model.fit(trainX_scaled, y_train, epochs=50, batch_size=64)"
   ]
  },
  {
   "cell_type": "code",
   "execution_count": 41,
   "id": "67f1457e",
   "metadata": {},
   "outputs": [
    {
     "name": "stdout",
     "output_type": "stream",
     "text": [
      "Model: \"sequential_4\"\n",
      "_________________________________________________________________\n",
      " Layer (type)                Output Shape              Param #   \n",
      "=================================================================\n",
      " dense_15 (Dense)            (64, 512)                 12800     \n",
      "                                                                 \n",
      " dense_16 (Dense)            (64, 256)                 131328    \n",
      "                                                                 \n",
      " dense_17 (Dense)            (64, 64)                  16448     \n",
      "                                                                 \n",
      " dense_18 (Dense)            (64, 5)                   325       \n",
      "                                                                 \n",
      "=================================================================\n",
      "Total params: 160,901\n",
      "Trainable params: 160,901\n",
      "Non-trainable params: 0\n",
      "_________________________________________________________________\n"
     ]
    }
   ],
   "source": [
    "model.summary()"
   ]
  },
  {
   "cell_type": "code",
   "execution_count": 42,
   "id": "36745f73",
   "metadata": {},
   "outputs": [
    {
     "name": "stdout",
     "output_type": "stream",
     "text": [
      "351/351 [==============================] - 1s 2ms/step - loss: 1.5073 - accuracy: 0.4445\n",
      "Eval accuracy percentage: 44.45\n"
     ]
    }
   ],
   "source": [
    "# Evaluation of model\n",
    "eval_loss, eval_acc = model.evaluate(testX_scaled,  y_test, verbose=1)\n",
    "print('Eval accuracy percentage: {:.2f}'.format(eval_acc * 100))"
   ]
  },
  {
   "cell_type": "code",
   "execution_count": null,
   "id": "049c9b6e",
   "metadata": {},
   "outputs": [],
   "source": []
  }
 ],
 "metadata": {
  "kernelspec": {
   "display_name": "Python 3 (ipykernel)",
   "language": "python",
   "name": "python3"
  },
  "language_info": {
   "codemirror_mode": {
    "name": "ipython",
    "version": 3
   },
   "file_extension": ".py",
   "mimetype": "text/x-python",
   "name": "python",
   "nbconvert_exporter": "python",
   "pygments_lexer": "ipython3",
   "version": "3.10.8"
  }
 },
 "nbformat": 4,
 "nbformat_minor": 5
}
