{
 "cells": [
  {
   "cell_type": "code",
   "execution_count": 1,
   "metadata": {},
   "outputs": [],
   "source": [
    "import pandas as pd\n",
    "import numpy as np\n",
    "import re\n",
    "from sklearn.model_selection import train_test_split\n",
    "from keras.preprocessing import sequence\n",
    "from keras.models import Sequential\n",
    "from keras.layers import Dense, Dropout, Activation, Embedding, Conv1D, GlobalMaxPooling1D\n",
    "from tensorflow.keras.utils import to_categorical, plot_model\n",
    "from tensorflow.keras.optimizers import Adam\n",
    "from keras.preprocessing.text import Tokenizer\n",
    "from keras.preprocessing import sequence\n",
    "from keras.preprocessing.sequence import pad_sequences\n",
    "from keras.models import load_model\n",
    "import warnings\n",
    "import nltk\n",
    "from nltk.corpus import stopwords\n",
    "from sklearn.metrics import accuracy_score,confusion_matrix,classification_report\n",
    "warnings.filterwarnings('ignore')"
   ]
  },
  {
   "cell_type": "code",
   "execution_count": 2,
   "metadata": {},
   "outputs": [],
   "source": [
    "df = pd.read_csv('english-train.csv', encoding=\"utf-8\")"
   ]
  },
  {
   "cell_type": "code",
   "execution_count": 3,
   "metadata": {},
   "outputs": [],
   "source": [
    "def count_length():\n",
    "    df['word_count'] = df['headline'].apply(lambda x: len(str(x).split(\" \")))"
   ]
  },
  {
   "cell_type": "code",
   "execution_count": 4,
   "metadata": {},
   "outputs": [],
   "source": [
    "count_length()"
   ]
  },
  {
   "cell_type": "code",
   "execution_count": 5,
   "metadata": {},
   "outputs": [
    {
     "data": {
      "text/html": [
       "<div>\n",
       "<style scoped>\n",
       "    .dataframe tbody tr th:only-of-type {\n",
       "        vertical-align: middle;\n",
       "    }\n",
       "\n",
       "    .dataframe tbody tr th {\n",
       "        vertical-align: top;\n",
       "    }\n",
       "\n",
       "    .dataframe thead th {\n",
       "        text-align: right;\n",
       "    }\n",
       "</style>\n",
       "<table border=\"1\" class=\"dataframe\">\n",
       "  <thead>\n",
       "    <tr style=\"text-align: right;\">\n",
       "      <th></th>\n",
       "      <th>headline</th>\n",
       "      <th>Label</th>\n",
       "      <th>word_count</th>\n",
       "    </tr>\n",
       "  </thead>\n",
       "  <tbody>\n",
       "    <tr>\n",
       "      <th>0</th>\n",
       "      <td>Former New Zealand cricketer Chris Cairns diag...</td>\n",
       "      <td>Sports</td>\n",
       "      <td>10</td>\n",
       "    </tr>\n",
       "    <tr>\n",
       "      <th>1</th>\n",
       "      <td>American skater Nathan Chen dazzles in his Oly...</td>\n",
       "      <td>Sports</td>\n",
       "      <td>9</td>\n",
       "    </tr>\n",
       "    <tr>\n",
       "      <th>2</th>\n",
       "      <td>La Liga: Enes Unal scores brace to lead Getafe...</td>\n",
       "      <td>Sports</td>\n",
       "      <td>13</td>\n",
       "    </tr>\n",
       "    <tr>\n",
       "      <th>3</th>\n",
       "      <td>U-19 World Cup: Australia beat Afghanistan to ...</td>\n",
       "      <td>Sports</td>\n",
       "      <td>10</td>\n",
       "    </tr>\n",
       "    <tr>\n",
       "      <th>4</th>\n",
       "      <td>ICC U-19 World Cup India vs England final Live...</td>\n",
       "      <td>Sports</td>\n",
       "      <td>15</td>\n",
       "    </tr>\n",
       "    <tr>\n",
       "      <th>5</th>\n",
       "      <td>Brainsqueeze: Know your Snow</td>\n",
       "      <td>Sports</td>\n",
       "      <td>4</td>\n",
       "    </tr>\n",
       "    <tr>\n",
       "      <th>6</th>\n",
       "      <td>Justin Langer steps down as Australia coach</td>\n",
       "      <td>Sports</td>\n",
       "      <td>7</td>\n",
       "    </tr>\n",
       "    <tr>\n",
       "      <th>7</th>\n",
       "      <td>From Ratnakar Shetty’s memoirs: Apparently Vir...</td>\n",
       "      <td>Sports</td>\n",
       "      <td>16</td>\n",
       "    </tr>\n",
       "    <tr>\n",
       "      <th>8</th>\n",
       "      <td>I think ODI revolution happened with 1996 Worl...</td>\n",
       "      <td>Sports</td>\n",
       "      <td>15</td>\n",
       "    </tr>\n",
       "    <tr>\n",
       "      <th>9</th>\n",
       "      <td>U-19 World Cup: Boxer’s son Nishant Sindhu wit...</td>\n",
       "      <td>Sports</td>\n",
       "      <td>11</td>\n",
       "    </tr>\n",
       "  </tbody>\n",
       "</table>\n",
       "</div>"
      ],
      "text/plain": [
       "                                            headline   Label  word_count\n",
       "0  Former New Zealand cricketer Chris Cairns diag...  Sports          10\n",
       "1  American skater Nathan Chen dazzles in his Oly...  Sports           9\n",
       "2  La Liga: Enes Unal scores brace to lead Getafe...  Sports          13\n",
       "3  U-19 World Cup: Australia beat Afghanistan to ...  Sports          10\n",
       "4  ICC U-19 World Cup India vs England final Live...  Sports          15\n",
       "5                       Brainsqueeze: Know your Snow  Sports           4\n",
       "6        Justin Langer steps down as Australia coach  Sports           7\n",
       "7  From Ratnakar Shetty’s memoirs: Apparently Vir...  Sports          16\n",
       "8  I think ODI revolution happened with 1996 Worl...  Sports          15\n",
       "9  U-19 World Cup: Boxer’s son Nishant Sindhu wit...  Sports          11"
      ]
     },
     "execution_count": 5,
     "metadata": {},
     "output_type": "execute_result"
    }
   ],
   "source": [
    "df.head(10)"
   ]
  },
  {
   "cell_type": "code",
   "execution_count": 6,
   "metadata": {},
   "outputs": [],
   "source": [
    "df['label_id'] = df.Label.factorize()[0]\n",
    "\n",
    "def preprocess_text(sen,flg_lemm=True, lst_stopwords=stopwords.words('english')):\n",
    "    # Lowercase\n",
    "    sentence = sen.lower()\n",
    "    \n",
    "    # Remove punctuations and numbers\n",
    "    sentence = re.sub('[0-9]', ' ', sentence)\n",
    "    sentence = re.sub(r'[^\\w\\s]', ' ', sentence)\n",
    "\n",
    "    # Single character removal\n",
    "    sentence = re.sub(r\"\\b[a-zA-Z]\\b\", ' ', sentence)\n",
    "\n",
    "    # Removing multiple spaces\n",
    "    sentence = re.sub(r'\\s+', ' ', sentence)\n",
    "    \n",
    "    lst_text = sentence.split()\n",
    "    ## remove Stopwords\n",
    "    if lst_stopwords is not None:\n",
    "        lst_text = [word for word in lst_text if word not in lst_stopwords]\n",
    "                \n",
    "    ## Lemmatisation (convert the word into root word)\n",
    "    if flg_lemm == True:\n",
    "        lem = nltk.stem.wordnet.WordNetLemmatizer()\n",
    "        lst_text = [lem.lemmatize(word) for word in lst_text]\n",
    "            \n",
    "    ## back to string from list\n",
    "    text = \" \".join(lst_text)\n",
    "\n",
    "    return text\n",
    " "
   ]
  },
  {
   "cell_type": "code",
   "execution_count": 7,
   "metadata": {},
   "outputs": [],
   "source": [
    "df['headline'] = df.headline.apply(lambda x: preprocess_text(x))\n",
    "count_length()"
   ]
  },
  {
   "cell_type": "code",
   "execution_count": 8,
   "metadata": {},
   "outputs": [
    {
     "data": {
      "text/html": [
       "<div>\n",
       "<style scoped>\n",
       "    .dataframe tbody tr th:only-of-type {\n",
       "        vertical-align: middle;\n",
       "    }\n",
       "\n",
       "    .dataframe tbody tr th {\n",
       "        vertical-align: top;\n",
       "    }\n",
       "\n",
       "    .dataframe thead th {\n",
       "        text-align: right;\n",
       "    }\n",
       "</style>\n",
       "<table border=\"1\" class=\"dataframe\">\n",
       "  <thead>\n",
       "    <tr style=\"text-align: right;\">\n",
       "      <th></th>\n",
       "      <th>headline</th>\n",
       "      <th>Label</th>\n",
       "      <th>word_count</th>\n",
       "      <th>label_id</th>\n",
       "    </tr>\n",
       "  </thead>\n",
       "  <tbody>\n",
       "    <tr>\n",
       "      <th>0</th>\n",
       "      <td>former new zealand cricketer chris cairn diagn...</td>\n",
       "      <td>Sports</td>\n",
       "      <td>9</td>\n",
       "      <td>0</td>\n",
       "    </tr>\n",
       "    <tr>\n",
       "      <th>1</th>\n",
       "      <td>american skater nathan chen dazzle olympic return</td>\n",
       "      <td>Sports</td>\n",
       "      <td>7</td>\n",
       "      <td>0</td>\n",
       "    </tr>\n",
       "    <tr>\n",
       "      <th>2</th>\n",
       "      <td>la liga ene unal score brace lead getafe win l...</td>\n",
       "      <td>Sports</td>\n",
       "      <td>10</td>\n",
       "      <td>0</td>\n",
       "    </tr>\n",
       "    <tr>\n",
       "      <th>3</th>\n",
       "      <td>world cup australia beat afghanistan claim rd ...</td>\n",
       "      <td>Sports</td>\n",
       "      <td>8</td>\n",
       "      <td>0</td>\n",
       "    </tr>\n",
       "    <tr>\n",
       "      <th>4</th>\n",
       "      <td>icc world cup india v england final live strea...</td>\n",
       "      <td>Sports</td>\n",
       "      <td>10</td>\n",
       "      <td>0</td>\n",
       "    </tr>\n",
       "    <tr>\n",
       "      <th>5</th>\n",
       "      <td>brainsqueeze know snow</td>\n",
       "      <td>Sports</td>\n",
       "      <td>3</td>\n",
       "      <td>0</td>\n",
       "    </tr>\n",
       "    <tr>\n",
       "      <th>6</th>\n",
       "      <td>justin langer step australia coach</td>\n",
       "      <td>Sports</td>\n",
       "      <td>5</td>\n",
       "      <td>0</td>\n",
       "    </tr>\n",
       "    <tr>\n",
       "      <th>7</th>\n",
       "      <td>ratnakar shetty memoir apparently virat unhapp...</td>\n",
       "      <td>Sports</td>\n",
       "      <td>9</td>\n",
       "      <td>0</td>\n",
       "    </tr>\n",
       "    <tr>\n",
       "      <th>8</th>\n",
       "      <td>think odi revolution happened world cup tendul...</td>\n",
       "      <td>Sports</td>\n",
       "      <td>10</td>\n",
       "      <td>0</td>\n",
       "    </tr>\n",
       "    <tr>\n",
       "      <th>9</th>\n",
       "      <td>world cup boxer son nishant sindhu deadly left</td>\n",
       "      <td>Sports</td>\n",
       "      <td>8</td>\n",
       "      <td>0</td>\n",
       "    </tr>\n",
       "  </tbody>\n",
       "</table>\n",
       "</div>"
      ],
      "text/plain": [
       "                                            headline   Label  word_count  \\\n",
       "0  former new zealand cricketer chris cairn diagn...  Sports           9   \n",
       "1  american skater nathan chen dazzle olympic return  Sports           7   \n",
       "2  la liga ene unal score brace lead getafe win l...  Sports          10   \n",
       "3  world cup australia beat afghanistan claim rd ...  Sports           8   \n",
       "4  icc world cup india v england final live strea...  Sports          10   \n",
       "5                             brainsqueeze know snow  Sports           3   \n",
       "6                 justin langer step australia coach  Sports           5   \n",
       "7  ratnakar shetty memoir apparently virat unhapp...  Sports           9   \n",
       "8  think odi revolution happened world cup tendul...  Sports          10   \n",
       "9     world cup boxer son nishant sindhu deadly left  Sports           8   \n",
       "\n",
       "   label_id  \n",
       "0         0  \n",
       "1         0  \n",
       "2         0  \n",
       "3         0  \n",
       "4         0  \n",
       "5         0  \n",
       "6         0  \n",
       "7         0  \n",
       "8         0  \n",
       "9         0  "
      ]
     },
     "execution_count": 8,
     "metadata": {},
     "output_type": "execute_result"
    }
   ],
   "source": [
    "df.head(10)"
   ]
  },
  {
   "cell_type": "code",
   "execution_count": 9,
   "metadata": {},
   "outputs": [],
   "source": [
    "# set parameters:\n",
    "max_features = 75000\n",
    "maxlen = 24\n",
    "batch_size = 32\n",
    "embedding_dims = 50\n",
    "filters = 250\n",
    "kernel_size = 3\n",
    "hidden_dims = 250\n",
    "epochs = 5"
   ]
  },
  {
   "cell_type": "code",
   "execution_count": 10,
   "metadata": {},
   "outputs": [
    {
     "data": {
      "text/plain": [
       "(37395, 5)"
      ]
     },
     "execution_count": 10,
     "metadata": {},
     "output_type": "execute_result"
    }
   ],
   "source": [
    "X = df['headline'].values\n",
    "y = df['label_id']\n",
    "y = to_categorical(y, num_classes=5)\n",
    "y.shape"
   ]
  },
  {
   "cell_type": "code",
   "execution_count": 11,
   "metadata": {},
   "outputs": [
    {
     "name": "stdout",
     "output_type": "stream",
     "text": [
      "Loading data...\n",
      "29916 train sequences\n",
      "7479 test sequences\n",
      "Pad sequences (samples x time)\n",
      "x_train shape: (29916, 24)\n",
      "x_test shape: (7479, 24)\n"
     ]
    }
   ],
   "source": [
    "print('Loading data...')\n",
    "x_train, x_test, y_train, y_test = train_test_split(X, y, test_size=0.20, random_state=42)\n",
    "tokenizer = Tokenizer(num_words=max_features)\n",
    "tokenizer.fit_on_texts(x_train)\n",
    "\n",
    "x_train = tokenizer.texts_to_sequences(x_train)\n",
    "#x_train = tokenizer.texts_to_matrix(x_train, mode='tfidf')\n",
    "x_test  = tokenizer.texts_to_sequences(x_test)\n",
    "#x_test = tokenizer.texts_to_matrix(x_test, mode='tfidf')\n",
    "\n",
    "x_train = pad_sequences(x_train, padding='post', maxlen=maxlen)\n",
    "x_test  =  pad_sequences(x_test, padding='post', maxlen=maxlen)\n",
    "print(len(x_train), 'train sequences')\n",
    "print(len(x_test), 'test sequences')\n",
    "print('Pad sequences (samples x time)')\n",
    "\n",
    "x_train = pad_sequences(x_train, maxlen=maxlen)\n",
    "x_test  =  pad_sequences(x_test, maxlen=maxlen)\n",
    "print('x_train shape:', x_train.shape)\n",
    "print('x_test shape:', x_test.shape)"
   ]
  },
  {
   "cell_type": "code",
   "execution_count": 12,
   "metadata": {},
   "outputs": [],
   "source": [
    "test_classes = []\n",
    "for i in range(len(y_test)):\n",
    "    for j in range(len(y_test[i])):\n",
    "        if y_test[i][j] == 1:\n",
    "            if j==0:\n",
    "                test_classes.append(0)\n",
    "            if j==1:\n",
    "                test_classes.append(1)\n",
    "            if j==2:\n",
    "                test_classes.append(2)\n",
    "            if j==3:\n",
    "                test_classes.append(3)\n",
    "            if j==4:\n",
    "                test_classes.append(4)"
   ]
  },
  {
   "cell_type": "code",
   "execution_count": 13,
   "metadata": {},
   "outputs": [],
   "source": [
    "import json\n",
    "tokenizer_json = tokenizer.to_json()\n",
    "with open('eng_tokenizer.json', 'w', encoding='utf-8') as f:\n",
    "    f.write(json.dumps(tokenizer_json, ensure_ascii=True))"
   ]
  },
  {
   "cell_type": "code",
   "execution_count": 14,
   "metadata": {},
   "outputs": [
    {
     "name": "stdout",
     "output_type": "stream",
     "text": [
      "Build model...\n",
      "Model: \"sequential\"\n",
      "_________________________________________________________________\n",
      " Layer (type)                Output Shape              Param #   \n",
      "=================================================================\n",
      " embedding (Embedding)       (None, 24, 50)            3750000   \n",
      "                                                                 \n",
      " dropout (Dropout)           (None, 24, 50)            0         \n",
      "                                                                 \n",
      " conv1d (Conv1D)             (None, 22, 250)           37750     \n",
      "                                                                 \n",
      " global_max_pooling1d (Globa  (None, 250)              0         \n",
      " lMaxPooling1D)                                                  \n",
      "                                                                 \n",
      " dense (Dense)               (None, 250)               62750     \n",
      "                                                                 \n",
      " dropout_1 (Dropout)         (None, 250)               0         \n",
      "                                                                 \n",
      " activation (Activation)     (None, 250)               0         \n",
      "                                                                 \n",
      " dense_1 (Dense)             (None, 5)                 1255      \n",
      "                                                                 \n",
      " activation_1 (Activation)   (None, 5)                 0         \n",
      "                                                                 \n",
      "=================================================================\n",
      "Total params: 3,851,755\n",
      "Trainable params: 3,851,755\n",
      "Non-trainable params: 0\n",
      "_________________________________________________________________\n"
     ]
    }
   ],
   "source": [
    "print('Build model...')\n",
    "model = Sequential()\n",
    "\n",
    "# we start off with an efficient embedding layer which maps\n",
    "# our vocab indices into embedding_dims dimensions\n",
    "model.add(Embedding(max_features,\n",
    "                    embedding_dims,\n",
    "                    input_length=maxlen))\n",
    "model.add(Dropout(0.2))\n",
    "\n",
    "# we add a Convolution1D, which will learn filters\n",
    "# word group filters of size filter_length:\n",
    "model.add(Conv1D(filters,\n",
    "                 kernel_size,\n",
    "                 padding='valid',\n",
    "                 activation='relu',\n",
    "                 strides=1))\n",
    "# we use max pooling:\n",
    "model.add(GlobalMaxPooling1D())\n",
    "\n",
    "# We add a vanilla hidden layer:\n",
    "model.add(Dense(hidden_dims))\n",
    "model.add(Dropout(0.2))\n",
    "model.add(Activation('relu'))\n",
    "\n",
    "# We project onto a single unit output layer, and squash it with a sigmoid:\n",
    "model.add(Dense(5))\n",
    "model.add(Activation('sigmoid'))\n",
    "\n",
    "model.compile(loss='categorical_crossentropy',\n",
    "              optimizer='adam',\n",
    "              metrics=['accuracy'])\n",
    "model.summary()"
   ]
  },
  {
   "cell_type": "code",
   "execution_count": 15,
   "metadata": {},
   "outputs": [
    {
     "name": "stdout",
     "output_type": "stream",
     "text": [
      "Epoch 1/5\n",
      "935/935 [==============================] - 64s 68ms/step - loss: 0.4397 - accuracy: 0.8433 - val_loss: 0.1770 - val_accuracy: 0.9377\n",
      "Epoch 2/5\n",
      "935/935 [==============================] - 62s 66ms/step - loss: 0.0864 - accuracy: 0.9730 - val_loss: 0.1807 - val_accuracy: 0.9389\n",
      "Epoch 3/5\n",
      "935/935 [==============================] - 67s 72ms/step - loss: 0.0307 - accuracy: 0.9907 - val_loss: 0.2624 - val_accuracy: 0.9314\n",
      "Epoch 4/5\n",
      "935/935 [==============================] - 63s 67ms/step - loss: 0.0136 - accuracy: 0.9958 - val_loss: 0.2892 - val_accuracy: 0.9342\n",
      "Epoch 5/5\n",
      "935/935 [==============================] - 66s 70ms/step - loss: 0.0096 - accuracy: 0.9970 - val_loss: 0.3026 - val_accuracy: 0.9361\n"
     ]
    }
   ],
   "source": [
    "history = model.fit(x_train, y_train,\n",
    "          batch_size=batch_size,\n",
    "          epochs=epochs,\n",
    "          validation_data=(x_test, y_test))"
   ]
  },
  {
   "cell_type": "code",
   "execution_count": 17,
   "metadata": {},
   "outputs": [
    {
     "name": "stdout",
     "output_type": "stream",
     "text": [
      "234/234 [==============================] - 0s 2ms/step - loss: 0.3026 - accuracy: 0.9361\n",
      "Test Loss: 0.3025665581226349\n",
      "Test Accuracy: 94\n"
     ]
    }
   ],
   "source": [
    "loss, Accuracy = model.evaluate(x_test, y_test)\n",
    "\n",
    "print(\"Test Loss:\", loss)\n",
    "print(\"Test Accuracy:\", round(Accuracy*100))"
   ]
  },
  {
   "cell_type": "code",
   "execution_count": 18,
   "metadata": {},
   "outputs": [],
   "source": [
    "model.save('Eng_CNN.h5')\n",
    "model.save_weights('Eng_CNN_weights.h5')"
   ]
  },
  {
   "cell_type": "code",
   "execution_count": 19,
   "metadata": {},
   "outputs": [],
   "source": [
    "predicted_categories = []\n",
    "preds = model.predict(x_test)\n",
    "for i in preds:\n",
    "    pred_classes = np.argsort(i)[-1:][::-1]\n",
    "    predicted_categories.append(pred_classes[0])"
   ]
  },
  {
   "cell_type": "code",
   "execution_count": 20,
   "metadata": {},
   "outputs": [
    {
     "name": "stdout",
     "output_type": "stream",
     "text": [
      "              precision    recall  f1-score   support\n",
      "\n",
      "           0       0.94      0.95      0.94      1473\n",
      "           1       0.90      0.93      0.92      1423\n",
      "           2       0.93      0.92      0.92      1548\n",
      "           3       0.97      0.94      0.95      1570\n",
      "           4       0.95      0.95      0.95      1465\n",
      "\n",
      "    accuracy                           0.94      7479\n",
      "   macro avg       0.94      0.94      0.94      7479\n",
      "weighted avg       0.94      0.94      0.94      7479\n",
      "\n"
     ]
    }
   ],
   "source": [
    "report = classification_report(test_classes, predicted_categories)\n",
    "print(report)"
   ]
  },
  {
   "cell_type": "code",
   "execution_count": 21,
   "metadata": {},
   "outputs": [
    {
     "data": {
      "text/plain": [
       "array([[1392,   18,   15,   27,   28],\n",
       "       [  25, 1327,   81,   12,   32],\n",
       "       [   8,   53, 1423,   42,    7],\n",
       "       [  11,    8,   24, 1471,    9],\n",
       "       [  37,   17,    5,   18, 1389]], dtype=int64)"
      ]
     },
     "execution_count": 21,
     "metadata": {},
     "output_type": "execute_result"
    }
   ],
   "source": [
    "mat = confusion_matrix(predicted_categories, test_classes)\n",
    "mat"
   ]
  },
  {
   "cell_type": "code",
   "execution_count": 22,
   "metadata": {},
   "outputs": [],
   "source": [
    "import json\n",
    "from keras_preprocessing.text import tokenizer_from_json\n",
    "\n",
    "def load():\n",
    "    model = load_model('Eng_CNN.h5')\n",
    "    maxlen = 400\n",
    "    id_to_category = {0:'sports', 1:'tech', 2:'business', 3:'politics',\n",
    "                  4:'entertainment'}\n",
    "\n",
    "    with open('eng_tokenizer.json') as f:\n",
    "        data = json.load(f)\n",
    "        tokenizer = tokenizer_from_json(data)\n",
    "load()"
   ]
  },
  {
   "cell_type": "code",
   "execution_count": 28,
   "metadata": {},
   "outputs": [
    {
     "data": {
      "text/plain": [
       "{'sports': 100.0}"
      ]
     },
     "execution_count": 28,
     "metadata": {},
     "output_type": "execute_result"
    }
   ],
   "source": [
    "# Here's how to generate a prediction on individual examples\n",
    "#text_labels = encoder.classes_ \n",
    "id_to_category = {0:'sports', 1:'tech', 2:'business', 3:'politics',\n",
    "                  4:'entertainment'}\n",
    "\n",
    "my_input =[\"Strandja Memorial Boxing: Nandini ends with bronze after semifinal loss\"]\n",
    "\n",
    "input_sequences = tokenizer.texts_to_sequences(my_input)\n",
    "input_pad = pad_sequences(input_sequences, padding='post', maxlen=maxlen)\n",
    "\n",
    "preds = model.predict(input_pad)[0]\n",
    "\n",
    "pred_classes = np.argsort(preds)[-1:][::-1]\n",
    "\n",
    "classes = [id_to_category[i] for i in pred_classes]\n",
    "props   = preds[pred_classes]\n",
    "\n",
    "result = {}\n",
    "for c, p in zip(classes, props):\n",
    "    #result.append(\"{} {:.2f} %\".format(c,p*100))\n",
    "    result[c] = round(p*100,2)\n",
    "result"
   ]
  },
  {
   "cell_type": "code",
   "execution_count": 29,
   "metadata": {},
   "outputs": [
    {
     "data": {
      "text/plain": [
       "{'business': 100.0}"
      ]
     },
     "execution_count": 29,
     "metadata": {},
     "output_type": "execute_result"
    }
   ],
   "source": [
    "# Here's how to generate a prediction on individual examples\n",
    "#text_labels = encoder.classes_ \n",
    "id_to_category = {0:'sports', 1:'tech', 2:'business', 3:'politics',\n",
    "                  4:'entertainment'}\n",
    "\n",
    "my_input2 =[\"Big hit on India: ‘Higher oil, food prices; duty rollback may help\"]\n",
    "\n",
    "input_sequences = tokenizer.texts_to_sequences(my_input2)\n",
    "input_pad = pad_sequences(input_sequences, padding='post', maxlen=maxlen)\n",
    "\n",
    "preds = model.predict(input_pad)[0]\n",
    "\n",
    "pred_classes = np.argsort(preds)[-1:][::-1]\n",
    "\n",
    "classes = [id_to_category[i] for i in pred_classes]\n",
    "props   = preds[pred_classes]\n",
    "\n",
    "result2 = {}\n",
    "for c, p in zip(classes, props):\n",
    "    #result.append(\"{} {:.2f} %\".format(c,p*100))\n",
    "    result2[c] = round(p*100,2)\n",
    "result2"
   ]
  },
  {
   "cell_type": "code",
   "execution_count": 30,
   "metadata": {},
   "outputs": [
    {
     "data": {
      "text/plain": [
       "{'entertainment': 100.0}"
      ]
     },
     "execution_count": 30,
     "metadata": {},
     "output_type": "execute_result"
    }
   ],
   "source": [
    "# Here's how to generate a prediction on individual examples\n",
    "#text_labels = encoder.classes_ \n",
    "id_to_category = {0:'sports', 1:'tech', 2:'business', 3:'politics',\n",
    "                  4:'entertainment'}\n",
    "\n",
    "my_input3 =[\"Anushka Sharma dresses daughter Vamika as a fairy for Halloween, Soha Ali Khan turns Inaaya into a unicorn\"]\n",
    "\n",
    "input_sequences = tokenizer.texts_to_sequences(my_input3)\n",
    "input_pad = pad_sequences(input_sequences, padding='post', maxlen=maxlen)\n",
    "\n",
    "preds = model.predict(input_pad)[0]\n",
    "\n",
    "pred_classes = np.argsort(preds)[-1:][::-1]\n",
    "\n",
    "classes = [id_to_category[i] for i in pred_classes]\n",
    "props   = preds[pred_classes]\n",
    "\n",
    "result3 = {}\n",
    "for c, p in zip(classes, props):\n",
    "    #result.append(\"{} {:.2f} %\".format(c,p*100))\n",
    "    result3[c] = round(p*100,2)\n",
    "result3"
   ]
  },
  {
   "cell_type": "code",
   "execution_count": 31,
   "metadata": {},
   "outputs": [
    {
     "data": {
      "text/plain": [
       "{'tech': 100.0}"
      ]
     },
     "execution_count": 31,
     "metadata": {},
     "output_type": "execute_result"
    }
   ],
   "source": [
    "# Here's how to generate a prediction on individual examples\n",
    "#text_labels = encoder.classes_ \n",
    "id_to_category = {0:'sports', 1:'tech', 2:'business', 3:'politics',\n",
    "                  4:'entertainment'}\n",
    "\n",
    "my_input4 =[\"Apple is expected to launch the iPhone SE 3 later this year.\"]\n",
    "\n",
    "input_sequences = tokenizer.texts_to_sequences(my_input4)\n",
    "input_pad = pad_sequences(input_sequences, padding='post', maxlen=maxlen)\n",
    "\n",
    "preds = model.predict(input_pad)[0]\n",
    "\n",
    "pred_classes = np.argsort(preds)[-1:][::-1]\n",
    "\n",
    "classes = [id_to_category[i] for i in pred_classes]\n",
    "props   = preds[pred_classes]\n",
    "\n",
    "result4 = {}\n",
    "for c, p in zip(classes, props):\n",
    "    #result.append(\"{} {:.2f} %\".format(c,p*100))\n",
    "    result4[c] = round(p*100,2)\n",
    "result4"
   ]
  },
  {
   "cell_type": "code",
   "execution_count": 32,
   "metadata": {},
   "outputs": [
    {
     "data": {
      "text/plain": [
       "{'politics': 100.0}"
      ]
     },
     "execution_count": 32,
     "metadata": {},
     "output_type": "execute_result"
    }
   ],
   "source": [
    "# Here's how to generate a prediction on individual examples\n",
    "#text_labels = encoder.classes_ \n",
    "id_to_category = {0:'sports', 1:'tech', 2:'business', 3:'politics',\n",
    "                  4:'entertainment'}\n",
    "\n",
    "my_input5 =[\"Jammu and Kashmir Delimitation Commission Rejects Some Submissions by BJP, NC Members\"]\n",
    "input_sequences = tokenizer.texts_to_sequences(my_input5)\n",
    "input_pad = pad_sequences(input_sequences, padding='post', maxlen=maxlen)\n",
    "\n",
    "preds = model.predict(input_pad)[0]\n",
    "\n",
    "pred_classes = np.argsort(preds)[-1:][::-1]\n",
    "\n",
    "classes = [id_to_category[i] for i in pred_classes]\n",
    "props   = preds[pred_classes]\n",
    "\n",
    "result5 = {}\n",
    "for c, p in zip(classes, props):\n",
    "    #result.append(\"{} {:.2f} %\".format(c,p*100))\n",
    "    result5[c] = round(p*100,2)\n",
    "result5"
   ]
  },
  {
   "cell_type": "code",
   "execution_count": null,
   "metadata": {},
   "outputs": [],
   "source": []
  }
 ],
 "metadata": {
  "kernelspec": {
   "display_name": "Python 3",
   "language": "python",
   "name": "python3"
  },
  "language_info": {
   "codemirror_mode": {
    "name": "ipython",
    "version": 3
   },
   "file_extension": ".py",
   "mimetype": "text/x-python",
   "name": "python",
   "nbconvert_exporter": "python",
   "pygments_lexer": "ipython3",
   "version": "3.8.8"
  }
 },
 "nbformat": 4,
 "nbformat_minor": 4
}
