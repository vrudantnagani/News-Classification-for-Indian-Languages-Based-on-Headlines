{
 "cells": [
  {
   "cell_type": "code",
   "execution_count": 1,
   "metadata": {
    "_uuid": "d6fb32fd69316596e236eab5fb8cf77c848508c3"
   },
   "outputs": [],
   "source": [
    "import pandas as pd\n",
    "import numpy as np\n",
    "import matplotlib.pyplot as plt\n",
    "import seaborn as sns\n",
    "from sklearn.model_selection import train_test_split\n",
    "from sklearn.preprocessing import LabelEncoder\n",
    "from keras.models import Model\n",
    "from keras.layers import LSTM, Activation, Dense, Dropout, Input, Embedding\n",
    "from tensorflow.keras.optimizers import RMSprop\n",
    "from keras.preprocessing.text import Tokenizer\n",
    "from keras.preprocessing import sequence\n",
    "from tensorflow.keras.utils import to_categorical\n",
    "from keras.callbacks import EarlyStopping\n",
    "%matplotlib inline"
   ]
  },
  {
   "cell_type": "code",
   "execution_count": 2,
   "metadata": {
    "_uuid": "aca2f1d9da3f35d104763166fe4d25448410d8f2"
   },
   "outputs": [
    {
     "data": {
      "text/html": [
       "<div>\n",
       "<style scoped>\n",
       "    .dataframe tbody tr th:only-of-type {\n",
       "        vertical-align: middle;\n",
       "    }\n",
       "\n",
       "    .dataframe tbody tr th {\n",
       "        vertical-align: top;\n",
       "    }\n",
       "\n",
       "    .dataframe thead th {\n",
       "        text-align: right;\n",
       "    }\n",
       "</style>\n",
       "<table border=\"1\" class=\"dataframe\">\n",
       "  <thead>\n",
       "    <tr style=\"text-align: right;\">\n",
       "      <th></th>\n",
       "      <th>headline</th>\n",
       "      <th>Label</th>\n",
       "    </tr>\n",
       "  </thead>\n",
       "  <tbody>\n",
       "    <tr>\n",
       "      <th>0</th>\n",
       "      <td>Former New Zealand cricketer Chris Cairns diag...</td>\n",
       "      <td>Sports</td>\n",
       "    </tr>\n",
       "    <tr>\n",
       "      <th>1</th>\n",
       "      <td>American skater Nathan Chen dazzles in his Oly...</td>\n",
       "      <td>Sports</td>\n",
       "    </tr>\n",
       "    <tr>\n",
       "      <th>2</th>\n",
       "      <td>La Liga: Enes Unal scores brace to lead Getafe...</td>\n",
       "      <td>Sports</td>\n",
       "    </tr>\n",
       "    <tr>\n",
       "      <th>3</th>\n",
       "      <td>U-19 World Cup: Australia beat Afghanistan to ...</td>\n",
       "      <td>Sports</td>\n",
       "    </tr>\n",
       "    <tr>\n",
       "      <th>4</th>\n",
       "      <td>ICC U-19 World Cup India vs England final Live...</td>\n",
       "      <td>Sports</td>\n",
       "    </tr>\n",
       "  </tbody>\n",
       "</table>\n",
       "</div>"
      ],
      "text/plain": [
       "                                            headline   Label\n",
       "0  Former New Zealand cricketer Chris Cairns diag...  Sports\n",
       "1  American skater Nathan Chen dazzles in his Oly...  Sports\n",
       "2  La Liga: Enes Unal scores brace to lead Getafe...  Sports\n",
       "3  U-19 World Cup: Australia beat Afghanistan to ...  Sports\n",
       "4  ICC U-19 World Cup India vs England final Live...  Sports"
      ]
     },
     "execution_count": 2,
     "metadata": {},
     "output_type": "execute_result"
    }
   ],
   "source": [
    "df = pd.read_csv('english-train.csv')\n",
    "df.head()"
   ]
  },
  {
   "cell_type": "code",
   "execution_count": 3,
   "metadata": {},
   "outputs": [],
   "source": [
    "def count_length():\n",
    "    df['word_count'] = df['headline'].apply(lambda x: len(str(x).split(\" \")))"
   ]
  },
  {
   "cell_type": "code",
   "execution_count": 4,
   "metadata": {},
   "outputs": [],
   "source": [
    "count_length()"
   ]
  },
  {
   "cell_type": "code",
   "execution_count": 5,
   "metadata": {},
   "outputs": [
    {
     "data": {
      "text/html": [
       "<div>\n",
       "<style scoped>\n",
       "    .dataframe tbody tr th:only-of-type {\n",
       "        vertical-align: middle;\n",
       "    }\n",
       "\n",
       "    .dataframe tbody tr th {\n",
       "        vertical-align: top;\n",
       "    }\n",
       "\n",
       "    .dataframe thead th {\n",
       "        text-align: right;\n",
       "    }\n",
       "</style>\n",
       "<table border=\"1\" class=\"dataframe\">\n",
       "  <thead>\n",
       "    <tr style=\"text-align: right;\">\n",
       "      <th></th>\n",
       "      <th>headline</th>\n",
       "      <th>Label</th>\n",
       "      <th>word_count</th>\n",
       "    </tr>\n",
       "  </thead>\n",
       "  <tbody>\n",
       "    <tr>\n",
       "      <th>0</th>\n",
       "      <td>Former New Zealand cricketer Chris Cairns diag...</td>\n",
       "      <td>Sports</td>\n",
       "      <td>10</td>\n",
       "    </tr>\n",
       "    <tr>\n",
       "      <th>1</th>\n",
       "      <td>American skater Nathan Chen dazzles in his Oly...</td>\n",
       "      <td>Sports</td>\n",
       "      <td>9</td>\n",
       "    </tr>\n",
       "    <tr>\n",
       "      <th>2</th>\n",
       "      <td>La Liga: Enes Unal scores brace to lead Getafe...</td>\n",
       "      <td>Sports</td>\n",
       "      <td>13</td>\n",
       "    </tr>\n",
       "    <tr>\n",
       "      <th>3</th>\n",
       "      <td>U-19 World Cup: Australia beat Afghanistan to ...</td>\n",
       "      <td>Sports</td>\n",
       "      <td>10</td>\n",
       "    </tr>\n",
       "    <tr>\n",
       "      <th>4</th>\n",
       "      <td>ICC U-19 World Cup India vs England final Live...</td>\n",
       "      <td>Sports</td>\n",
       "      <td>15</td>\n",
       "    </tr>\n",
       "    <tr>\n",
       "      <th>5</th>\n",
       "      <td>Brainsqueeze: Know your Snow</td>\n",
       "      <td>Sports</td>\n",
       "      <td>4</td>\n",
       "    </tr>\n",
       "    <tr>\n",
       "      <th>6</th>\n",
       "      <td>Justin Langer steps down as Australia coach</td>\n",
       "      <td>Sports</td>\n",
       "      <td>7</td>\n",
       "    </tr>\n",
       "    <tr>\n",
       "      <th>7</th>\n",
       "      <td>From Ratnakar Shetty’s memoirs: Apparently Vir...</td>\n",
       "      <td>Sports</td>\n",
       "      <td>16</td>\n",
       "    </tr>\n",
       "    <tr>\n",
       "      <th>8</th>\n",
       "      <td>I think ODI revolution happened with 1996 Worl...</td>\n",
       "      <td>Sports</td>\n",
       "      <td>15</td>\n",
       "    </tr>\n",
       "    <tr>\n",
       "      <th>9</th>\n",
       "      <td>U-19 World Cup: Boxer’s son Nishant Sindhu wit...</td>\n",
       "      <td>Sports</td>\n",
       "      <td>11</td>\n",
       "    </tr>\n",
       "  </tbody>\n",
       "</table>\n",
       "</div>"
      ],
      "text/plain": [
       "                                            headline   Label  word_count\n",
       "0  Former New Zealand cricketer Chris Cairns diag...  Sports          10\n",
       "1  American skater Nathan Chen dazzles in his Oly...  Sports           9\n",
       "2  La Liga: Enes Unal scores brace to lead Getafe...  Sports          13\n",
       "3  U-19 World Cup: Australia beat Afghanistan to ...  Sports          10\n",
       "4  ICC U-19 World Cup India vs England final Live...  Sports          15\n",
       "5                       Brainsqueeze: Know your Snow  Sports           4\n",
       "6        Justin Langer steps down as Australia coach  Sports           7\n",
       "7  From Ratnakar Shetty’s memoirs: Apparently Vir...  Sports          16\n",
       "8  I think ODI revolution happened with 1996 Worl...  Sports          15\n",
       "9  U-19 World Cup: Boxer’s son Nishant Sindhu wit...  Sports          11"
      ]
     },
     "execution_count": 5,
     "metadata": {},
     "output_type": "execute_result"
    }
   ],
   "source": [
    "df.head(10)"
   ]
  },
  {
   "cell_type": "code",
   "execution_count": 6,
   "metadata": {},
   "outputs": [],
   "source": [
    "df['label_id'] = df.Label.factorize()[0]\n",
    "from nltk.corpus import stopwords\n",
    "import nltk\n",
    "import re\n",
    "def preprocess_text(sen,flg_lemm=True, lst_stopwords=stopwords.words('english')):\n",
    "    # Lowercase\n",
    "    sentence = sen.lower()\n",
    "    \n",
    "    # Remove punctuations and numbers\n",
    "    sentence = re.sub('[0-9]', ' ', sentence)\n",
    "    sentence = re.sub(r'[^\\w\\s]', ' ', sentence)\n",
    "\n",
    "    # Single character removal\n",
    "    sentence = re.sub(r\"\\b[a-zA-Z]\\b\", ' ', sentence)\n",
    "\n",
    "    # Removing multiple spaces\n",
    "    sentence = re.sub(r'\\s+', ' ', sentence)\n",
    "    \n",
    "    lst_text = sentence.split()\n",
    "    ## remove Stopwords\n",
    "    if lst_stopwords is not None:\n",
    "        lst_text = [word for word in lst_text if word not in lst_stopwords]\n",
    "                \n",
    "    ## Lemmatisation (convert the word into root word)\n",
    "    if flg_lemm == True:\n",
    "        lem = nltk.stem.wordnet.WordNetLemmatizer()\n",
    "        lst_text = [lem.lemmatize(word) for word in lst_text]\n",
    "            \n",
    "    ## back to string from list\n",
    "    text = \" \".join(lst_text)\n",
    "\n",
    "    return text\n",
    " "
   ]
  },
  {
   "cell_type": "code",
   "execution_count": 7,
   "metadata": {},
   "outputs": [],
   "source": [
    "df['headline'] = df.headline.apply(lambda x: preprocess_text(x))\n",
    "count_length()"
   ]
  },
  {
   "cell_type": "code",
   "execution_count": 8,
   "metadata": {},
   "outputs": [
    {
     "data": {
      "text/html": [
       "<div>\n",
       "<style scoped>\n",
       "    .dataframe tbody tr th:only-of-type {\n",
       "        vertical-align: middle;\n",
       "    }\n",
       "\n",
       "    .dataframe tbody tr th {\n",
       "        vertical-align: top;\n",
       "    }\n",
       "\n",
       "    .dataframe thead th {\n",
       "        text-align: right;\n",
       "    }\n",
       "</style>\n",
       "<table border=\"1\" class=\"dataframe\">\n",
       "  <thead>\n",
       "    <tr style=\"text-align: right;\">\n",
       "      <th></th>\n",
       "      <th>headline</th>\n",
       "      <th>Label</th>\n",
       "      <th>word_count</th>\n",
       "      <th>label_id</th>\n",
       "    </tr>\n",
       "  </thead>\n",
       "  <tbody>\n",
       "    <tr>\n",
       "      <th>0</th>\n",
       "      <td>former new zealand cricketer chris cairn diagn...</td>\n",
       "      <td>Sports</td>\n",
       "      <td>9</td>\n",
       "      <td>0</td>\n",
       "    </tr>\n",
       "    <tr>\n",
       "      <th>1</th>\n",
       "      <td>american skater nathan chen dazzle olympic return</td>\n",
       "      <td>Sports</td>\n",
       "      <td>7</td>\n",
       "      <td>0</td>\n",
       "    </tr>\n",
       "    <tr>\n",
       "      <th>2</th>\n",
       "      <td>la liga ene unal score brace lead getafe win l...</td>\n",
       "      <td>Sports</td>\n",
       "      <td>10</td>\n",
       "      <td>0</td>\n",
       "    </tr>\n",
       "    <tr>\n",
       "      <th>3</th>\n",
       "      <td>world cup australia beat afghanistan claim rd ...</td>\n",
       "      <td>Sports</td>\n",
       "      <td>8</td>\n",
       "      <td>0</td>\n",
       "    </tr>\n",
       "    <tr>\n",
       "      <th>4</th>\n",
       "      <td>icc world cup india v england final live strea...</td>\n",
       "      <td>Sports</td>\n",
       "      <td>10</td>\n",
       "      <td>0</td>\n",
       "    </tr>\n",
       "    <tr>\n",
       "      <th>5</th>\n",
       "      <td>brainsqueeze know snow</td>\n",
       "      <td>Sports</td>\n",
       "      <td>3</td>\n",
       "      <td>0</td>\n",
       "    </tr>\n",
       "    <tr>\n",
       "      <th>6</th>\n",
       "      <td>justin langer step australia coach</td>\n",
       "      <td>Sports</td>\n",
       "      <td>5</td>\n",
       "      <td>0</td>\n",
       "    </tr>\n",
       "    <tr>\n",
       "      <th>7</th>\n",
       "      <td>ratnakar shetty memoir apparently virat unhapp...</td>\n",
       "      <td>Sports</td>\n",
       "      <td>9</td>\n",
       "      <td>0</td>\n",
       "    </tr>\n",
       "    <tr>\n",
       "      <th>8</th>\n",
       "      <td>think odi revolution happened world cup tendul...</td>\n",
       "      <td>Sports</td>\n",
       "      <td>10</td>\n",
       "      <td>0</td>\n",
       "    </tr>\n",
       "    <tr>\n",
       "      <th>9</th>\n",
       "      <td>world cup boxer son nishant sindhu deadly left</td>\n",
       "      <td>Sports</td>\n",
       "      <td>8</td>\n",
       "      <td>0</td>\n",
       "    </tr>\n",
       "  </tbody>\n",
       "</table>\n",
       "</div>"
      ],
      "text/plain": [
       "                                            headline   Label  word_count  \\\n",
       "0  former new zealand cricketer chris cairn diagn...  Sports           9   \n",
       "1  american skater nathan chen dazzle olympic return  Sports           7   \n",
       "2  la liga ene unal score brace lead getafe win l...  Sports          10   \n",
       "3  world cup australia beat afghanistan claim rd ...  Sports           8   \n",
       "4  icc world cup india v england final live strea...  Sports          10   \n",
       "5                             brainsqueeze know snow  Sports           3   \n",
       "6                 justin langer step australia coach  Sports           5   \n",
       "7  ratnakar shetty memoir apparently virat unhapp...  Sports           9   \n",
       "8  think odi revolution happened world cup tendul...  Sports          10   \n",
       "9     world cup boxer son nishant sindhu deadly left  Sports           8   \n",
       "\n",
       "   label_id  \n",
       "0         0  \n",
       "1         0  \n",
       "2         0  \n",
       "3         0  \n",
       "4         0  \n",
       "5         0  \n",
       "6         0  \n",
       "7         0  \n",
       "8         0  \n",
       "9         0  "
      ]
     },
     "execution_count": 8,
     "metadata": {},
     "output_type": "execute_result"
    }
   ],
   "source": [
    "df.head(10)"
   ]
  },
  {
   "cell_type": "code",
   "execution_count": 9,
   "metadata": {
    "_uuid": "a1a345c1683e2fcc7173ecae867a5da87f2dde24",
    "tags": []
   },
   "outputs": [],
   "source": [
    "X = df['headline'].values\n",
    "Y = df['label_id']\n",
    "le = LabelEncoder()\n",
    "Y = le.fit_transform(Y)\n",
    "Y = Y.reshape(-1,1)"
   ]
  },
  {
   "cell_type": "code",
   "execution_count": 10,
   "metadata": {
    "_uuid": "aa3386af09469682c66cc53a1830a4e42f0e70b6",
    "scrolled": true,
    "tags": []
   },
   "outputs": [],
   "source": [
    "X_train,X_test,Y_train,Y_test = train_test_split(X,Y,test_size=0.20)\n",
    "max_words = 10000\n",
    "max_len = 200\n",
    "tok = Tokenizer(num_words=max_words)\n",
    "tok.fit_on_texts(X_train)\n",
    "sequences = tok.texts_to_sequences(X_train)\n",
    "sequences_matrix = sequence.pad_sequences(sequences,maxlen=max_len)\n",
    "def RNN():\n",
    "    inputs = Input(name='inputs',shape=[max_len])\n",
    "    layer = Embedding(max_words,50,input_length=max_len)(inputs)\n",
    "    layer = LSTM(64)(layer)\n",
    "    layer = Dense(256,name='FC1')(layer)\n",
    "    layer = Activation('relu')(layer)\n",
    "    layer = Dropout(0.5)(layer)\n",
    "    layer = Dense(7,name='out_layer')(layer)\n",
    "    layer = Activation('softmax')(layer)\n",
    "    model = Model(inputs=inputs,outputs=layer)\n",
    "    return model\n",
    "model = RNN()"
   ]
  },
  {
   "cell_type": "code",
   "execution_count": 11,
   "metadata": {},
   "outputs": [],
   "source": [
    "test_classes = []\n",
    "for i in range(len(Y_test)):\n",
    "    for j in range(len(Y_test[i])):\n",
    "        test_classes.append(Y_test[i][j])"
   ]
  },
  {
   "cell_type": "code",
   "execution_count": 12,
   "metadata": {},
   "outputs": [
    {
     "name": "stdout",
     "output_type": "stream",
     "text": [
      "Epoch 1/10\n",
      "94/94 [==============================] - 50s 446ms/step - loss: 1.2802 - accuracy: 0.4716 - val_loss: 0.5130 - val_accuracy: 0.8690\n",
      "Epoch 2/10\n",
      "94/94 [==============================] - 40s 426ms/step - loss: 0.4892 - accuracy: 0.8605 - val_loss: 0.3306 - val_accuracy: 0.8914\n",
      "Epoch 3/10\n",
      "94/94 [==============================] - 44s 467ms/step - loss: 0.1858 - accuracy: 0.9442 - val_loss: 0.2005 - val_accuracy: 0.9306\n",
      "Epoch 4/10\n",
      "94/94 [==============================] - 42s 450ms/step - loss: 0.1219 - accuracy: 0.9634 - val_loss: 0.2167 - val_accuracy: 0.9290\n",
      "Epoch 5/10\n",
      "94/94 [==============================] - 43s 459ms/step - loss: 0.0894 - accuracy: 0.9748 - val_loss: 0.1893 - val_accuracy: 0.9398\n",
      "Epoch 6/10\n",
      "94/94 [==============================] - 41s 440ms/step - loss: 0.0670 - accuracy: 0.9813 - val_loss: 0.1971 - val_accuracy: 0.9387\n",
      "Epoch 7/10\n",
      "94/94 [==============================] - 40s 426ms/step - loss: 0.1649 - accuracy: 0.9685 - val_loss: 0.2275 - val_accuracy: 0.9275\n",
      "Epoch 8/10\n",
      "94/94 [==============================] - 44s 467ms/step - loss: 0.0444 - accuracy: 0.9867 - val_loss: 0.2141 - val_accuracy: 0.9413\n",
      "Epoch 9/10\n",
      "94/94 [==============================] - 45s 480ms/step - loss: 0.0368 - accuracy: 0.9893 - val_loss: 0.2302 - val_accuracy: 0.9403\n",
      "Epoch 10/10\n",
      "94/94 [==============================] - 45s 483ms/step - loss: 0.0839 - accuracy: 0.9837 - val_loss: 0.2464 - val_accuracy: 0.9348\n"
     ]
    }
   ],
   "source": [
    "model.compile(loss='sparse_categorical_crossentropy',optimizer=RMSprop(),metrics=['accuracy'])\n",
    "history = model.fit(sequences_matrix,Y_train,batch_size=256,epochs=10,\n",
    "          validation_split=0.2)"
   ]
  },
  {
   "cell_type": "code",
   "execution_count": 13,
   "metadata": {
    "_uuid": "80036135a11387d952becaf2fecf653a65c02328",
    "tags": []
   },
   "outputs": [
    {
     "name": "stdout",
     "output_type": "stream",
     "text": [
      "234/234 [==============================] - 7s 29ms/step - loss: 0.2522 - accuracy: 0.9364\n",
      "Accuracy: 0.93636\n"
     ]
    }
   ],
   "source": [
    "test_sequences = tok.texts_to_sequences(X_test)\n",
    "test_sequences_matrix = sequence.pad_sequences(test_sequences,maxlen=max_len)\n",
    "accr = model.evaluate(test_sequences_matrix,Y_test)\n",
    "print('Accuracy: {:0.5f}'.format(accr[1]))"
   ]
  },
  {
   "cell_type": "code",
   "execution_count": 14,
   "metadata": {},
   "outputs": [],
   "source": [
    "model.save('eng_lstm.h5')"
   ]
  },
  {
   "cell_type": "code",
   "execution_count": 15,
   "metadata": {},
   "outputs": [],
   "source": [
    "predicted_categories = []\n",
    "preds = model.predict(test_sequences_matrix)\n",
    "for i in preds:\n",
    "    pred_classes = np.argsort(i)[-1:][::-1]\n",
    "    predicted_categories.append(pred_classes[0])"
   ]
  },
  {
   "cell_type": "code",
   "execution_count": 16,
   "metadata": {},
   "outputs": [
    {
     "name": "stdout",
     "output_type": "stream",
     "text": [
      "              precision    recall  f1-score   support\n",
      "\n",
      "           0       0.90      0.97      0.93      1471\n",
      "           1       0.97      0.87      0.92      1453\n",
      "           2       0.92      0.94      0.93      1569\n",
      "           3       0.96      0.94      0.95      1516\n",
      "           4       0.94      0.96      0.95      1470\n",
      "\n",
      "    accuracy                           0.94      7479\n",
      "   macro avg       0.94      0.94      0.94      7479\n",
      "weighted avg       0.94      0.94      0.94      7479\n",
      "\n"
     ]
    }
   ],
   "source": [
    "from sklearn.metrics import accuracy_score,confusion_matrix,classification_report\n",
    "report = classification_report(test_classes, predicted_categories)\n",
    "print(report)"
   ]
  },
  {
   "cell_type": "code",
   "execution_count": 17,
   "metadata": {},
   "outputs": [
    {
     "data": {
      "text/plain": [
       "array([[1425,    2,    7,    9,   28],\n",
       "       [  42, 1265,   86,   15,   45],\n",
       "       [  42,   28, 1477,   19,    3],\n",
       "       [  37,    3,   37, 1419,   20],\n",
       "       [  37,    2,    3,   11, 1417]], dtype=int64)"
      ]
     },
     "execution_count": 17,
     "metadata": {},
     "output_type": "execute_result"
    }
   ],
   "source": [
    "mat = confusion_matrix(test_classes, predicted_categories)\n",
    "mat"
   ]
  },
  {
   "cell_type": "code",
   "execution_count": 18,
   "metadata": {},
   "outputs": [],
   "source": [
    "id_to_category = {0:'sports', 1:'tech', 2:'business', 3:'politics',\n",
    "                  4:'entertainment'}"
   ]
  },
  {
   "cell_type": "code",
   "execution_count": 19,
   "metadata": {},
   "outputs": [
    {
     "name": "stdout",
     "output_type": "stream",
     "text": [
      "politics 100.00 %\n"
     ]
    }
   ],
   "source": [
    "my_input = [\"BJP Leader Beats Manohar Parrikar's Son In Panaji. Why He Isn't Happy\"]\n",
    "\n",
    "txts = tok.texts_to_sequences(my_input)\n",
    "txts = sequence.pad_sequences(txts, maxlen=max_len)\n",
    "preds = model.predict(txts)[0]\n",
    "\n",
    "pred_classes = np.argsort(preds)[-1:][::-1]\n",
    "\n",
    "classes = [id_to_category[i] for i in pred_classes]\n",
    "props   = preds[pred_classes]\n",
    "\n",
    "for c, p in zip(classes, props):\n",
    "    print(\"{} {:.2f} %\".format(c,p*100))"
   ]
  },
  {
   "cell_type": "code",
   "execution_count": 21,
   "metadata": {},
   "outputs": [
    {
     "data": {
      "text/plain": [
       "{'business': 99.22}"
      ]
     },
     "execution_count": 21,
     "metadata": {},
     "output_type": "execute_result"
    }
   ],
   "source": [
    "my_input2 =[\"Big hit on India: ‘Higher oil, food prices; duty rollback may help\"]\n",
    "\n",
    "txts = tok.texts_to_sequences(my_input2)\n",
    "txts = sequence.pad_sequences(txts, maxlen=max_len)\n",
    "preds = model.predict(txts)[0]\n",
    "\n",
    "pred_classes = np.argsort(preds)[-1:][::-1]\n",
    "\n",
    "classes = [id_to_category[i] for i in pred_classes]\n",
    "props   = preds[pred_classes]\n",
    "\n",
    "result2 = {}\n",
    "for c, p in zip(classes, props):\n",
    "    #result.append(\"{} {:.2f} %\".format(c,p*100))\n",
    "    result2[c] = round(p*100,2)\n",
    "result2"
   ]
  },
  {
   "cell_type": "code",
   "execution_count": 22,
   "metadata": {},
   "outputs": [
    {
     "data": {
      "text/plain": [
       "{'entertainment': 100.0}"
      ]
     },
     "execution_count": 22,
     "metadata": {},
     "output_type": "execute_result"
    }
   ],
   "source": [
    "my_input3 =[\"Anushka Sharma dresses daughter Vamika as a fairy for Halloween, Soha Ali Khan turns Inaaya into a unicorn\"]\n",
    "\n",
    "txts = tok.texts_to_sequences(my_input3)\n",
    "txts = sequence.pad_sequences(txts, maxlen=max_len)\n",
    "preds = model.predict(txts)[0]\n",
    "\n",
    "pred_classes = np.argsort(preds)[-1:][::-1]\n",
    "\n",
    "classes = [id_to_category[i] for i in pred_classes]\n",
    "props   = preds[pred_classes]\n",
    "\n",
    "result3 = {}\n",
    "for c, p in zip(classes, props):\n",
    "    #result.append(\"{} {:.2f} %\".format(c,p*100))\n",
    "    result3[c] = round(p*100,2)\n",
    "result3"
   ]
  },
  {
   "cell_type": "code",
   "execution_count": 23,
   "metadata": {},
   "outputs": [
    {
     "data": {
      "text/plain": [
       "{'tech': 99.97}"
      ]
     },
     "execution_count": 23,
     "metadata": {},
     "output_type": "execute_result"
    }
   ],
   "source": [
    "my_input4 =[\"Apple is expected to launch the iPhone SE 3 later this year.\"]\n",
    "\n",
    "txts = tok.texts_to_sequences(my_input4)\n",
    "txts = sequence.pad_sequences(txts, maxlen=max_len)\n",
    "preds = model.predict(txts)[0]\n",
    "\n",
    "pred_classes = np.argsort(preds)[-1:][::-1]\n",
    "\n",
    "classes = [id_to_category[i] for i in pred_classes]\n",
    "props   = preds[pred_classes]\n",
    "\n",
    "result4 = {}\n",
    "for c, p in zip(classes, props):\n",
    "    #result.append(\"{} {:.2f} %\".format(c,p*100))\n",
    "    result4[c] = round(p*100,2)\n",
    "result4"
   ]
  },
  {
   "cell_type": "code",
   "execution_count": 25,
   "metadata": {},
   "outputs": [
    {
     "data": {
      "text/plain": [
       "{'sports': 100.0}"
      ]
     },
     "execution_count": 25,
     "metadata": {},
     "output_type": "execute_result"
    }
   ],
   "source": [
    "my_input5 =[\"Strandja Memorial Boxing: Nandini ends with bronze after semifinal loss\"]\n",
    "\n",
    "txts = tok.texts_to_sequences(my_input5)\n",
    "txts = sequence.pad_sequences(txts, maxlen=max_len)\n",
    "preds = model.predict(txts)[0]\n",
    "\n",
    "pred_classes = np.argsort(preds)[-1:][::-1]\n",
    "\n",
    "classes = [id_to_category[i] for i in pred_classes]\n",
    "props   = preds[pred_classes]\n",
    "\n",
    "result5 = {}\n",
    "for c, p in zip(classes, props):\n",
    "    #result.append(\"{} {:.2f} %\".format(c,p*100))\n",
    "    result5[c] = round(p*100,2)\n",
    "result5"
   ]
  },
  {
   "cell_type": "code",
   "execution_count": null,
   "metadata": {},
   "outputs": [],
   "source": []
  }
 ],
 "metadata": {
  "kernelspec": {
   "display_name": "Python 3 (ipykernel)",
   "language": "python",
   "name": "python3"
  },
  "language_info": {
   "codemirror_mode": {
    "name": "ipython",
    "version": 3
   },
   "file_extension": ".py",
   "mimetype": "text/x-python",
   "name": "python",
   "nbconvert_exporter": "python",
   "pygments_lexer": "ipython3",
   "version": "3.10.8"
  }
 },
 "nbformat": 4,
 "nbformat_minor": 4
}
