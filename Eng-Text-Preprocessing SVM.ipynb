{
 "cells": [
  {
   "cell_type": "code",
   "execution_count": 1,
   "id": "6bd0795f",
   "metadata": {},
   "outputs": [],
   "source": [
    "import pandas as pd\n",
    "import numpy as np\n",
    "import collections\n",
    "from collections import Counter\n",
    "from sklearn.preprocessing import LabelEncoder\n",
    "from sklearn.feature_extraction.text import TfidfVectorizer\n",
    "from sklearn import model_selection, svm\n",
    "from sklearn.metrics import accuracy_score,confusion_matrix,classification_report\n",
    "from sklearn.svm import SVC\n",
    "from sklearn.model_selection import GridSearchCV\n",
    "import nltk\n",
    "import re\n",
    "from nltk.corpus import stopwords"
   ]
  },
  {
   "cell_type": "code",
   "execution_count": 2,
   "id": "e6c1fdf3",
   "metadata": {},
   "outputs": [],
   "source": [
    "data = pd.read_csv('english-train.csv')"
   ]
  },
  {
   "cell_type": "code",
   "execution_count": 3,
   "id": "1cbd2e79",
   "metadata": {},
   "outputs": [],
   "source": [
    "def preprocess_text(text, flg_stemm=False, flg_lemm=True, lst_stopwords=stopwords.words('english')):\n",
    "\n",
    "    text = re.sub('[0-9]', ' ', text)\n",
    "    text = re.sub(r'[^\\w\\s]', '', str(text).lower().strip())\n",
    "    text = re.sub(r\"\\b[a-zA-Z]\\b\", ' ', text)\n",
    "\n",
    "    ## Tokenize (convert from string to list)\n",
    "    lst_text = text.split()\n",
    "    ## remove Stopwords\n",
    "    if lst_stopwords is not None:\n",
    "        lst_text = [word for word in lst_text if word not in lst_stopwords]\n",
    "\n",
    "    ## Stemming (remove -ing, -ly, ...)\n",
    "    if flg_stemm == True:\n",
    "        ps = nltk.stem.porter.PorterStemmer()\n",
    "        lst_text = [ps.stem(word) for word in lst_text]\n",
    "\n",
    "    ## Lemmatisation (convert the word into root word)\n",
    "    if flg_lemm == True:\n",
    "        lem = nltk.stem.wordnet.WordNetLemmatizer()\n",
    "        lst_text = [lem.lemmatize(word) for word in lst_text]\n",
    "\n",
    "    ## back to string from list\n",
    "    text = \" \".join(lst_text)\n",
    "    return text"
   ]
  },
  {
   "cell_type": "code",
   "execution_count": 4,
   "id": "71ff1eab",
   "metadata": {},
   "outputs": [],
   "source": [
    "data['headline'] = data.headline.apply(lambda x: preprocess_text(x))"
   ]
  },
  {
   "cell_type": "code",
   "execution_count": 5,
   "id": "6c7c608f",
   "metadata": {},
   "outputs": [],
   "source": [
    "Train_X, Test_X, Train_Y, Test_Y = model_selection.train_test_split(data['headline'],data['Label'],test_size=0.2,random_state=42)"
   ]
  },
  {
   "cell_type": "code",
   "execution_count": 6,
   "id": "146ed1bc",
   "metadata": {},
   "outputs": [
    {
     "name": "stdout",
     "output_type": "stream",
     "text": [
      "[4 4 4 1 0 0 4 2 3 1]\n",
      "12346             oneplus lite oneplus name budget variant\n",
      "13099    behind every galaxy camera click work done u s...\n",
      "8957                oneplus pro perfect gifting duo diwali\n",
      "37179    farhan akhtar accepts director taken backseat ...\n",
      "20310       airline fly empty nowhere keep pilot certified\n",
      "16675    satellite broadband communication received dot...\n",
      "13430                        work home guide five webcam r\n",
      "28569    india committed early settlement boundary issu...\n",
      "5523     free kick messi show inswinger refined divine ...\n",
      "33690    satyameva jayate trailer three john abraham ou...\n",
      "Name: headline, dtype: object\n"
     ]
    }
   ],
   "source": [
    "Encoder = LabelEncoder()\n",
    "Train_Y = Encoder.fit_transform(Train_Y)\n",
    "Test_Y = Encoder.fit_transform(Test_Y)\n",
    "print(Train_Y[0:10])\n",
    "print(Train_X[0:10])"
   ]
  },
  {
   "cell_type": "code",
   "execution_count": 7,
   "id": "719a19c8",
   "metadata": {},
   "outputs": [],
   "source": [
    "Tfidf_vect = TfidfVectorizer() #6500\n",
    "Tfidf_vect.fit(data['headline'])\n",
    "Train_X_Tfidf = Tfidf_vect.transform(Train_X)\n",
    "Test_X_Tfidf = Tfidf_vect.transform(Test_X)"
   ]
  },
  {
   "cell_type": "code",
   "execution_count": 8,
   "id": "b7377a85",
   "metadata": {},
   "outputs": [
    {
     "name": "stdout",
     "output_type": "stream",
     "text": [
      "SVM Accuracy Score ->  94.8121406605161\n"
     ]
    }
   ],
   "source": [
    "SVM = svm.SVC(C = 10, gamma = 1, kernel = 'rbf')\n",
    "SVM.fit(Train_X_Tfidf,Train_Y)\n",
    "# predict the labels on validation dataset\n",
    "predictions_SVM = SVM.predict(Test_X_Tfidf)\n",
    "# Use accuracy_score function to get the accuracy\n",
    "print(\"SVM Accuracy Score -> \",accuracy_score(predictions_SVM, Test_Y)*100)"
   ]
  },
  {
   "cell_type": "code",
   "execution_count": 9,
   "id": "7b4d64c2",
   "metadata": {},
   "outputs": [
    {
     "data": {
      "text/plain": [
       "array([[1472,    8,   36,   18,   54],\n",
       "       [   5, 1413,   24,   36,   22],\n",
       "       [  18,    6, 1476,    9,    9],\n",
       "       [  16,   21,   25, 1404,   12],\n",
       "       [  37,   17,    9,    6, 1326]], dtype=int64)"
      ]
     },
     "execution_count": 9,
     "metadata": {},
     "output_type": "execute_result"
    }
   ],
   "source": [
    "mat = confusion_matrix(predictions_SVM, Test_Y)\n",
    "mat"
   ]
  },
  {
   "cell_type": "code",
   "execution_count": 10,
   "id": "0f72a9d8",
   "metadata": {},
   "outputs": [
    {
     "name": "stdout",
     "output_type": "stream",
     "text": [
      "              precision    recall  f1-score   support\n",
      "\n",
      "           0       0.95      0.93      0.94      1588\n",
      "           1       0.96      0.94      0.95      1500\n",
      "           2       0.94      0.97      0.96      1518\n",
      "           3       0.95      0.95      0.95      1478\n",
      "           4       0.93      0.95      0.94      1395\n",
      "\n",
      "    accuracy                           0.95      7479\n",
      "   macro avg       0.95      0.95      0.95      7479\n",
      "weighted avg       0.95      0.95      0.95      7479\n",
      "\n"
     ]
    }
   ],
   "source": [
    "report = classification_report(predictions_SVM, Test_Y)\n",
    "print(report)"
   ]
  },
  {
   "cell_type": "code",
   "execution_count": 11,
   "id": "46558d45",
   "metadata": {},
   "outputs": [],
   "source": [
    "import joblib\n",
    "import os\n",
    "loaded_model = joblib.dump(SVM, 'eng_svm.pkl')"
   ]
  },
  {
   "cell_type": "code",
   "execution_count": null,
   "id": "91396a20",
   "metadata": {},
   "outputs": [],
   "source": [
    "SVM = joblib.load('eng_svm.pkl')"
   ]
  },
  {
   "cell_type": "code",
   "execution_count": 12,
   "id": "5679ab8b",
   "metadata": {},
   "outputs": [
    {
     "data": {
      "text/plain": [
       "'Sports'"
      ]
     },
     "execution_count": 12,
     "metadata": {},
     "output_type": "execute_result"
    }
   ],
   "source": [
    "simple_test1 = [\"T20 World Cup: Team India 'unwinds' day off with beach volleyball\"]\n",
    "Train_X_Tfidf = Tfidf_vect.transform(simple_test1)\n",
    "pred1 = SVM.predict(Train_X_Tfidf)\n",
    "pred1[0]\n",
    "predictions_test = Encoder.inverse_transform(pred1)\n",
    "predictions_test[0]"
   ]
  },
  {
   "cell_type": "code",
   "execution_count": 13,
   "id": "3a0c4ed8",
   "metadata": {},
   "outputs": [
    {
     "data": {
      "text/plain": [
       "'Politics'"
      ]
     },
     "execution_count": 13,
     "metadata": {},
     "output_type": "execute_result"
    }
   ],
   "source": [
    "simple_test2 = [\"What separates Priyanka Gandhi Vadra from Rahul Gandhi in UP assembly election\"]\n",
    "Train_X_Tfidf = Tfidf_vect.transform(simple_test2)\n",
    "pred2 = SVM.predict(Train_X_Tfidf)\n",
    "pred2[0]\n",
    "predictions_test = Encoder.inverse_transform(pred2)\n",
    "predictions_test[0]"
   ]
  },
  {
   "cell_type": "code",
   "execution_count": 14,
   "id": "bfb5a5c3",
   "metadata": {},
   "outputs": [
    {
     "data": {
      "text/plain": [
       "'Business'"
      ]
     },
     "execution_count": 14,
     "metadata": {},
     "output_type": "execute_result"
    }
   ],
   "source": [
    "simple_test3 = [\"Big hit on India: ‘Higher oil, food prices; duty rollback may help\"]\n",
    "Train_X_Tfidf = Tfidf_vect.transform(simple_test3)\n",
    "pred3 = SVM.predict(Train_X_Tfidf)\n",
    "pred3[0]\n",
    "predictions_test = Encoder.inverse_transform(pred3)\n",
    "predictions_test[0]"
   ]
  },
  {
   "cell_type": "code",
   "execution_count": 15,
   "id": "917e0b0b",
   "metadata": {},
   "outputs": [
    {
     "data": {
      "text/plain": [
       "'Entertainment'"
      ]
     },
     "execution_count": 15,
     "metadata": {},
     "output_type": "execute_result"
    }
   ],
   "source": [
    "simple_test4 = [\"Anushka Sharma dresses daughter Vamika as a fairy for Halloween, Soha Ali Khan turns Inaaya into a unicorn\"]\n",
    "Train_X_Tfidf = Tfidf_vect.transform(simple_test4)\n",
    "pred4 = SVM.predict(Train_X_Tfidf)\n",
    "pred4[0]\n",
    "predictions_test = Encoder.inverse_transform(pred4)\n",
    "predictions_test[0]"
   ]
  },
  {
   "cell_type": "code",
   "execution_count": 16,
   "id": "71ef1046",
   "metadata": {},
   "outputs": [
    {
     "data": {
      "text/plain": [
       "'Tech'"
      ]
     },
     "execution_count": 16,
     "metadata": {},
     "output_type": "execute_result"
    }
   ],
   "source": [
    "simple_test5 = [\"Apple is expected to launch the iPhone SE 3 later this year.\"]\n",
    "Train_X_Tfidf = Tfidf_vect.transform(simple_test5)\n",
    "pred5 = SVM.predict(Train_X_Tfidf)\n",
    "pred5[0]\n",
    "predictions_test = Encoder.inverse_transform(pred5)\n",
    "predictions_test[0]"
   ]
  }
 ],
 "metadata": {
  "kernelspec": {
   "display_name": "Python 3",
   "language": "python",
   "name": "python3"
  },
  "language_info": {
   "codemirror_mode": {
    "name": "ipython",
    "version": 3
   },
   "file_extension": ".py",
   "mimetype": "text/x-python",
   "name": "python",
   "nbconvert_exporter": "python",
   "pygments_lexer": "ipython3",
   "version": "3.8.8"
  }
 },
 "nbformat": 4,
 "nbformat_minor": 5
}
