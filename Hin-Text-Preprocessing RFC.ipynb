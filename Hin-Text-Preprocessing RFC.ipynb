{
 "cells": [
  {
   "cell_type": "code",
   "execution_count": 1,
   "id": "58b28011-a80d-4e82-b10c-6a2bc2c20674",
   "metadata": {},
   "outputs": [],
   "source": [
    "import pandas as pd\n",
    "pd.options.mode.chained_assignment = None  # default='warn'\n",
    "import numpy as np\n",
    "from sklearn.preprocessing import LabelEncoder\n",
    "from sklearn.feature_extraction.text import TfidfVectorizer\n",
    "from sklearn import tree\n",
    "from sklearn.ensemble import RandomForestClassifier\n",
    "from sklearn import model_selection\n",
    "from sklearn.metrics import accuracy_score,confusion_matrix,classification_report"
   ]
  },
  {
   "cell_type": "code",
   "execution_count": 2,
   "id": "59dd38cd-87d6-460f-a391-ff6c7dd27f6f",
   "metadata": {},
   "outputs": [],
   "source": [
    "df = pd.read_csv(\"hindi-train.csv\")"
   ]
  },
  {
   "cell_type": "code",
   "execution_count": 3,
   "id": "8232db36-13c3-4d77-99b1-efda0e63331d",
   "metadata": {},
   "outputs": [],
   "source": [
    "def count_length():\n",
    "    df['word_count'] = df['headline'].apply(lambda x: len(str(x).split(\" \")))"
   ]
  },
  {
   "cell_type": "code",
   "execution_count": 4,
   "id": "ca461cac-1895-4024-9198-19954a81375f",
   "metadata": {},
   "outputs": [
    {
     "data": {
      "text/html": [
       "<div>\n",
       "<style scoped>\n",
       "    .dataframe tbody tr th:only-of-type {\n",
       "        vertical-align: middle;\n",
       "    }\n",
       "\n",
       "    .dataframe tbody tr th {\n",
       "        vertical-align: top;\n",
       "    }\n",
       "\n",
       "    .dataframe thead th {\n",
       "        text-align: right;\n",
       "    }\n",
       "</style>\n",
       "<table border=\"1\" class=\"dataframe\">\n",
       "  <thead>\n",
       "    <tr style=\"text-align: right;\">\n",
       "      <th></th>\n",
       "      <th>headline</th>\n",
       "      <th>Label</th>\n",
       "      <th>word_count</th>\n",
       "    </tr>\n",
       "  </thead>\n",
       "  <tbody>\n",
       "    <tr>\n",
       "      <th>37490</th>\n",
       "      <td>'सूर्यवंशी' और 'बेल बॉटम' की रिलीज पर अक्षय कु...</td>\n",
       "      <td>Entertainment</td>\n",
       "      <td>15</td>\n",
       "    </tr>\n",
       "    <tr>\n",
       "      <th>37491</th>\n",
       "      <td>श्रेया घोषाल ने दी फैन्स को गुड न्यूज, बेबी ब्...</td>\n",
       "      <td>Entertainment</td>\n",
       "      <td>13</td>\n",
       "    </tr>\n",
       "    <tr>\n",
       "      <th>37492</th>\n",
       "      <td>EXCLUSIVE: पहले ऑडिशन के बाद एक हफ्ते तक घर से...</td>\n",
       "      <td>Entertainment</td>\n",
       "      <td>22</td>\n",
       "    </tr>\n",
       "    <tr>\n",
       "      <th>37493</th>\n",
       "      <td>मेहंदी फोटो शेयर कर अली फजल-ऋचा चड्ढा ने दी अप...</td>\n",
       "      <td>Entertainment</td>\n",
       "      <td>22</td>\n",
       "    </tr>\n",
       "    <tr>\n",
       "      <th>37494</th>\n",
       "      <td>'राम सेतु' की शूटिंग इस महीने से फिर शुरू करें...</td>\n",
       "      <td>Entertainment</td>\n",
       "      <td>19</td>\n",
       "    </tr>\n",
       "    <tr>\n",
       "      <th>37495</th>\n",
       "      <td>प्लेन में बच्चे का जन्म, लड़की ने टॉयलेट पेपर म...</td>\n",
       "      <td>Entertainment</td>\n",
       "      <td>15</td>\n",
       "    </tr>\n",
       "    <tr>\n",
       "      <th>37496</th>\n",
       "      <td>अंतिम यात्रा में भी पार्टनर का साथ नहीं छोड़ रह...</td>\n",
       "      <td>Entertainment</td>\n",
       "      <td>14</td>\n",
       "    </tr>\n",
       "    <tr>\n",
       "      <th>37497</th>\n",
       "      <td>बॉयफ्रेंड से मिलने रूस से PAK पहुंच गई लड़की, फ...</td>\n",
       "      <td>Entertainment</td>\n",
       "      <td>16</td>\n",
       "    </tr>\n",
       "    <tr>\n",
       "      <th>37498</th>\n",
       "      <td>वेडिंग फोटोशूट करा रहे थे दूल्हा-दुल्हन, कीचड़ ...</td>\n",
       "      <td>Entertainment</td>\n",
       "      <td>13</td>\n",
       "    </tr>\n",
       "    <tr>\n",
       "      <th>37499</th>\n",
       "      <td>बिना मास्क के पहुंची महिला को दुकानदार ने टोंक...</td>\n",
       "      <td>Entertainment</td>\n",
       "      <td>15</td>\n",
       "    </tr>\n",
       "  </tbody>\n",
       "</table>\n",
       "</div>"
      ],
      "text/plain": [
       "                                                headline          Label  \\\n",
       "37490  'सूर्यवंशी' और 'बेल बॉटम' की रिलीज पर अक्षय कु...  Entertainment   \n",
       "37491  श्रेया घोषाल ने दी फैन्स को गुड न्यूज, बेबी ब्...  Entertainment   \n",
       "37492  EXCLUSIVE: पहले ऑडिशन के बाद एक हफ्ते तक घर से...  Entertainment   \n",
       "37493  मेहंदी फोटो शेयर कर अली फजल-ऋचा चड्ढा ने दी अप...  Entertainment   \n",
       "37494  'राम सेतु' की शूटिंग इस महीने से फिर शुरू करें...  Entertainment   \n",
       "37495  प्लेन में बच्चे का जन्म, लड़की ने टॉयलेट पेपर म...  Entertainment   \n",
       "37496  अंतिम यात्रा में भी पार्टनर का साथ नहीं छोड़ रह...  Entertainment   \n",
       "37497  बॉयफ्रेंड से मिलने रूस से PAK पहुंच गई लड़की, फ...  Entertainment   \n",
       "37498  वेडिंग फोटोशूट करा रहे थे दूल्हा-दुल्हन, कीचड़ ...  Entertainment   \n",
       "37499  बिना मास्क के पहुंची महिला को दुकानदार ने टोंक...  Entertainment   \n",
       "\n",
       "       word_count  \n",
       "37490          15  \n",
       "37491          13  \n",
       "37492          22  \n",
       "37493          22  \n",
       "37494          19  \n",
       "37495          15  \n",
       "37496          14  \n",
       "37497          16  \n",
       "37498          13  \n",
       "37499          15  "
      ]
     },
     "execution_count": 4,
     "metadata": {},
     "output_type": "execute_result"
    }
   ],
   "source": [
    "count_length()\n",
    "df.tail(10)"
   ]
  },
  {
   "cell_type": "code",
   "execution_count": 5,
   "id": "6200f06e-0f0e-49ca-8ef1-130117aa49a5",
   "metadata": {},
   "outputs": [],
   "source": [
    "import re\n",
    "def processText(text):\n",
    "    text = text.lower()\n",
    "    text = re.sub(\"[a-zA-z0-9]\",' ',text)\n",
    "    text = re.sub(\"((www.[^s]+)|(https?://[^s]+))\",'',text)\n",
    "    text = re.sub(\"@[^s]+\",'',text)\n",
    "    text = re.sub(\"[s]+\", ' ', text)\n",
    "    text = re.sub(r\"#([^s]+)\", r'', text)\n",
    "    text = text.strip('\"')\n",
    "    return text"
   ]
  },
  {
   "cell_type": "code",
   "execution_count": 6,
   "id": "0e5120d3-e176-48e4-9a44-8e0e5c832296",
   "metadata": {},
   "outputs": [],
   "source": [
    "for i in range(len(df)):\n",
    "    df['headline'][i] = processText(df['headline'][i])"
   ]
  },
  {
   "cell_type": "code",
   "execution_count": 7,
   "id": "e71a2013-0c43-472a-9104-3f086db84774",
   "metadata": {},
   "outputs": [],
   "source": [
    "from indicnlp.tokenize import indic_tokenize\n",
    "def tokenization(indic_string):\n",
    "    tokens = []\n",
    "    for t in indic_tokenize.trivial_tokenize(indic_string):\n",
    "        tokens.append(t)\n",
    "    return tokens\n",
    "df['headline'] = df['headline'].apply(lambda x: tokenization(x))"
   ]
  },
  {
   "cell_type": "code",
   "execution_count": 8,
   "id": "842f5c9d-0766-47d7-97dd-c9d05ea2e57a",
   "metadata": {},
   "outputs": [],
   "source": [
    "for i in range(len(df)):\n",
    "    df['headline'][i] = [s.replace(\"\\n\", \"\") for s in df['headline'][i]]"
   ]
  },
  {
   "cell_type": "code",
   "execution_count": 9,
   "id": "a3472935-1909-488c-9cc2-f33445f90c34",
   "metadata": {},
   "outputs": [],
   "source": [
    "stopwords_hi = ['तुम','मेरी','मुझे','क्योंकि','हम','प्रति','अबकी','आगे','माननीय','शहर','बताएं','कौनसी','क्लिक','किसकी','बड़े','मैं','and','रही','आज','लें','आपके','मिलकर','सब','मेरे','जी','श्री','वैसा','आपका','अंदर', 'अत', 'अपना', 'अपनी', 'अपने', 'अभी', 'आदि', 'आप', 'इत्यादि', 'इन', 'इनका', 'इन्हीं', 'इन्हें', 'इन्हों', 'इस', 'इसका', 'इसकी', 'इसके', 'इसमें', 'इसी', 'इसे', 'उन', 'उनका', 'उनकी', 'उनके', 'उनको', 'उन्हीं', 'उन्हें', 'उन्हों', 'उस', 'उसके', 'उसी', 'उसे', 'एक', 'एवं', 'एस', 'ऐसे', 'और', 'कई', 'कर','करता', 'करते', 'करना', 'करने', 'करें', 'कहते', 'कहा', 'का', 'काफ़ी', 'कि', 'कितना', 'किन्हें', 'किन्हों', 'किया', 'किर', 'किस', 'किसी', 'किसे', 'की', 'कुछ', 'कुल', 'के', 'को', 'कोई', 'कौन', 'कौनसा', 'गया', 'घर', 'जब', 'जहाँ', 'जा', 'जितना', 'जिन', 'जिन्हें', 'जिन्हों', 'जिस', 'जिसे', 'जीधर', 'जैसा', 'जैसे', 'जो', 'तक', 'तब', 'तरह', 'तिन', 'तिन्हें', 'तिन्हों', 'तिस', 'तिसे', 'तो', 'था', 'थी', 'थे', 'दबारा', 'दिया', 'दुसरा', 'दूसरे', 'दो', 'द्वारा', 'न', 'नहीं', 'ना', 'निहायत', 'नीचे', 'ने', 'पर', 'पर', 'पहले', 'पूरा', 'पे', 'फिर', 'बनी', 'बही', 'बहुत', 'बाद', 'बाला', 'बिलकुल', 'भी', 'भीतर', 'मगर', 'मानो', 'मे', 'में', 'यदि', 'यह', 'यहाँ', 'यही', 'या', 'यिह', 'ये', 'रखें', 'रहा', 'रहे', 'ऱ्वासा', 'लिए', 'लिये', 'लेकिन', 'व', 'वर्ग', 'वह', 'वह', 'वहाँ', 'वहीं', 'वाले', 'वुह', 'वे', 'वग़ैरह', 'संग', 'सकता', 'सकते', 'सबसे', 'सभी', 'साथ', 'साबुत', 'साभ', 'सारा', 'से', 'सो', 'ही', 'हुआ', 'हुई', 'हुए', 'है', 'हैं', 'हो', 'होता', 'होती', 'होते', 'होना', 'होने', 'अपनि', 'जेसे', 'होति', 'सभि', 'तिंहों', 'इंहों', 'दवारा', 'इसि', 'किंहें', 'थि', 'उंहों', 'ओर', 'जिंहें', 'वहिं', 'अभि', 'बनि', 'हि', 'उंहिं', 'उंहें', 'हें', 'वगेरह', 'एसे', 'रवासा', 'कोन', 'निचे', 'काफि', 'उसि', 'पुरा', 'भितर', 'हे', 'बहि', 'वहां', 'कोइ', 'यहां', 'जिंहों', 'तिंहें', 'किसि', 'कइ', 'यहि', 'इंहिं', 'जिधर', 'इंहें', 'अदि', 'इतयादि', 'हुइ', 'कोनसा', 'इसकि', 'दुसरे', 'जहां', 'अप', 'किंहों', 'उनकि', 'भि', 'वरग', 'हुअ', 'जेसा', 'नहिं']\n",
    "stopwords_en = ['i', 'me', 'my', 'myself', 'we', 'our', 'ours', 'ourselves', 'you', \"you're\", \"you've\", \"you'll\", \"you'd\", 'your', 'yours', 'yourself', 'yourselves', 'he', 'him', 'his', 'himself', 'she', \"she's\", 'her', 'hers', 'herself', 'it', \"it's\", 'its', 'itself', 'they', 'them', 'their', 'theirs', 'themselves', 'what', 'which', 'who', 'whom', 'this', 'that', \"that'll\", 'these', 'those', 'am', 'is', 'are', 'was', 'were', 'be', 'been', 'being', 'have', 'has', 'had', 'having', 'do', 'does', 'did', 'doing', 'a', 'an', 'the', 'and', 'but', 'if', 'or', 'because', 'as', 'until', 'while', 'of', 'at', 'by', 'for', 'with', 'about', 'against', 'between', 'into', 'through', 'during', 'before', 'after', 'above', 'below', 'to', 'from', 'up', 'down', 'in', 'out', 'on', 'off', 'over', 'under', 'again', 'further', 'then', 'once', 'here', 'there', 'when', 'where', 'why', 'how', 'all', 'any', 'both', 'each', 'few', 'more', 'most', 'other', 'some', 'such', 'no', 'nor', 'not', 'only', 'own', 'same', 'so', 'than', 'too', 'very', 's', 't', 'can', 'will', 'just', 'don', \"don't\", 'should', \"should've\", 'now', 'd', 'll', 'm', 'o', 're', 've', 'y', 'ain', 'aren', \"aren't\", 'couldn', \"couldn't\", 'didn', \"didn't\", 'doesn', \"doesn't\", 'hadn', \"hadn't\", 'hasn', \"hasn't\", 'haven', \"haven't\", 'isn', \"isn't\", 'ma', 'mightn', \"mightn't\", 'mustn', \"mustn't\", 'needn', \"needn't\", 'shan', \"shan't\", 'shouldn', \"shouldn't\", 'wasn', \"wasn't\", 'weren', \"weren't\", 'won', \"won't\", 'wouldn', \"wouldn't\"]\n",
    "punctuations = [\".\",\",\",\"?\",\"/\",\"<\",\">\",\"!\",\":\",\";\",\"'\",\"[\",\"]\",\"{\",\"}\",\"(\",\")\",\"-\",\"@\",\"#\",\"$\",\"%\",\"^\",\"&\",\"*\"]\n",
    "to_be_removed = stopwords_hi + punctuations + stopwords_en"
   ]
  },
  {
   "cell_type": "code",
   "execution_count": 10,
   "id": "64717a00-0756-4795-9b11-685455492a4e",
   "metadata": {},
   "outputs": [
    {
     "data": {
      "text/html": [
       "<div>\n",
       "<style scoped>\n",
       "    .dataframe tbody tr th:only-of-type {\n",
       "        vertical-align: middle;\n",
       "    }\n",
       "\n",
       "    .dataframe tbody tr th {\n",
       "        vertical-align: top;\n",
       "    }\n",
       "\n",
       "    .dataframe thead th {\n",
       "        text-align: right;\n",
       "    }\n",
       "</style>\n",
       "<table border=\"1\" class=\"dataframe\">\n",
       "  <thead>\n",
       "    <tr style=\"text-align: right;\">\n",
       "      <th></th>\n",
       "      <th>headline</th>\n",
       "      <th>Label</th>\n",
       "      <th>word_count</th>\n",
       "    </tr>\n",
       "  </thead>\n",
       "  <tbody>\n",
       "    <tr>\n",
       "      <th>37490</th>\n",
       "      <td>[सूर्यवंशी, बेल, बॉटम, रिलीज, अक्षय, कुमार, बय...</td>\n",
       "      <td>Entertainment</td>\n",
       "      <td>10</td>\n",
       "    </tr>\n",
       "    <tr>\n",
       "      <th>37491</th>\n",
       "      <td>[श्रेया, घोषाल, दी, फैन्स, गुड, न्यूज, बेबी, ब...</td>\n",
       "      <td>Entertainment</td>\n",
       "      <td>9</td>\n",
       "    </tr>\n",
       "    <tr>\n",
       "      <th>37492</th>\n",
       "      <td>[ऑडिशन, हफ्ते, बाहर, निकले, ताहिर, राज, भसीन, ...</td>\n",
       "      <td>Entertainment</td>\n",
       "      <td>10</td>\n",
       "    </tr>\n",
       "    <tr>\n",
       "      <th>37493</th>\n",
       "      <td>[मेहंदी, फोटो, शेयर, अली, फजल, ऋचा, चड्ढा, दी,...</td>\n",
       "      <td>Entertainment</td>\n",
       "      <td>17</td>\n",
       "    </tr>\n",
       "    <tr>\n",
       "      <th>37494</th>\n",
       "      <td>[राम, सेतु, शूटिंग, महीने, शुरू, करेंगे, अक्षय...</td>\n",
       "      <td>Entertainment</td>\n",
       "      <td>13</td>\n",
       "    </tr>\n",
       "    <tr>\n",
       "      <th>37495</th>\n",
       "      <td>[प्लेन, बच्चे, जन्म, लड़की, टॉयलेट, पेपर, लपेट,...</td>\n",
       "      <td>Entertainment</td>\n",
       "      <td>9</td>\n",
       "    </tr>\n",
       "    <tr>\n",
       "      <th>37496</th>\n",
       "      <td>[अंतिम, यात्रा, पार्टनर, छोड़, मोर, देखें, इमोश...</td>\n",
       "      <td>Entertainment</td>\n",
       "      <td>8</td>\n",
       "    </tr>\n",
       "    <tr>\n",
       "      <th>37497</th>\n",
       "      <td>[बॉयफ्रेंड, मिलने, रूस, पहुंच, गई, लड़की, अचानक...</td>\n",
       "      <td>Entertainment</td>\n",
       "      <td>10</td>\n",
       "    </tr>\n",
       "    <tr>\n",
       "      <th>37498</th>\n",
       "      <td>[वेडिंग, फोटोशूट, करा, दूल्हा, दुल्हन, कीचड़, ध...</td>\n",
       "      <td>Entertainment</td>\n",
       "      <td>8</td>\n",
       "    </tr>\n",
       "    <tr>\n",
       "      <th>37499</th>\n",
       "      <td>[बिना, मास्क, पहुंची, महिला, दुकानदार, टोंका, ...</td>\n",
       "      <td>Entertainment</td>\n",
       "      <td>10</td>\n",
       "    </tr>\n",
       "  </tbody>\n",
       "</table>\n",
       "</div>"
      ],
      "text/plain": [
       "                                                headline          Label  \\\n",
       "37490  [सूर्यवंशी, बेल, बॉटम, रिलीज, अक्षय, कुमार, बय...  Entertainment   \n",
       "37491  [श्रेया, घोषाल, दी, फैन्स, गुड, न्यूज, बेबी, ब...  Entertainment   \n",
       "37492  [ऑडिशन, हफ्ते, बाहर, निकले, ताहिर, राज, भसीन, ...  Entertainment   \n",
       "37493  [मेहंदी, फोटो, शेयर, अली, फजल, ऋचा, चड्ढा, दी,...  Entertainment   \n",
       "37494  [राम, सेतु, शूटिंग, महीने, शुरू, करेंगे, अक्षय...  Entertainment   \n",
       "37495  [प्लेन, बच्चे, जन्म, लड़की, टॉयलेट, पेपर, लपेट,...  Entertainment   \n",
       "37496  [अंतिम, यात्रा, पार्टनर, छोड़, मोर, देखें, इमोश...  Entertainment   \n",
       "37497  [बॉयफ्रेंड, मिलने, रूस, पहुंच, गई, लड़की, अचानक...  Entertainment   \n",
       "37498  [वेडिंग, फोटोशूट, करा, दूल्हा, दुल्हन, कीचड़, ध...  Entertainment   \n",
       "37499  [बिना, मास्क, पहुंची, महिला, दुकानदार, टोंका, ...  Entertainment   \n",
       "\n",
       "       word_count  \n",
       "37490          10  \n",
       "37491           9  \n",
       "37492          10  \n",
       "37493          17  \n",
       "37494          13  \n",
       "37495           9  \n",
       "37496           8  \n",
       "37497          10  \n",
       "37498           8  \n",
       "37499          10  "
      ]
     },
     "execution_count": 10,
     "metadata": {},
     "output_type": "execute_result"
    }
   ],
   "source": [
    "for i in range(len(df)):\n",
    "    df['headline'][i]=[ele for ele in df['headline'][i] if ele not in (to_be_removed)]\n",
    "count_length()\n",
    "df.tail(10)"
   ]
  },
  {
   "cell_type": "code",
   "execution_count": 11,
   "id": "c0e54f08-81c2-4a14-bedc-9234385e7d5e",
   "metadata": {},
   "outputs": [],
   "source": [
    "import collections\n",
    "from collections import Counter\n",
    "corpus_list =[]\n",
    "for i in range(len(df)):\n",
    "    corpus_list +=df['headline'][i]\n",
    "counter=collections.Counter(corpus_list)"
   ]
  },
  {
   "cell_type": "code",
   "execution_count": 12,
   "id": "6f5e89e1-5285-4ed3-b4b5-72ab645fae92",
   "metadata": {},
   "outputs": [],
   "source": [
    "least_common= [word for word, word_count in Counter(corpus_list).most_common()[:-50:-1]]\n",
    "for i in range(len(df)):\n",
    "    df['headline'][i]=[ele for ele in df['headline'][i] if ele not in (least_common)]"
   ]
  },
  {
   "cell_type": "code",
   "execution_count": 13,
   "id": "1bdd847c-1f22-4ad2-be67-a3926cb6d455",
   "metadata": {},
   "outputs": [
    {
     "data": {
      "text/html": [
       "<div>\n",
       "<style scoped>\n",
       "    .dataframe tbody tr th:only-of-type {\n",
       "        vertical-align: middle;\n",
       "    }\n",
       "\n",
       "    .dataframe tbody tr th {\n",
       "        vertical-align: top;\n",
       "    }\n",
       "\n",
       "    .dataframe thead th {\n",
       "        text-align: right;\n",
       "    }\n",
       "</style>\n",
       "<table border=\"1\" class=\"dataframe\">\n",
       "  <thead>\n",
       "    <tr style=\"text-align: right;\">\n",
       "      <th></th>\n",
       "      <th>headline</th>\n",
       "      <th>Label</th>\n",
       "      <th>word_count</th>\n",
       "    </tr>\n",
       "  </thead>\n",
       "  <tbody>\n",
       "    <tr>\n",
       "      <th>0</th>\n",
       "      <td>[मेलबर्न, एयरपोर्ट, घंटों, फंसे, नोवाक, जोकोवि...</td>\n",
       "      <td>Sports</td>\n",
       "      <td>12</td>\n",
       "    </tr>\n",
       "    <tr>\n",
       "      <th>1</th>\n",
       "      <td>[अर्जेंटीना, स्टार, फुटबॉलर, लियोनल, मेसी, कोव...</td>\n",
       "      <td>Sports</td>\n",
       "      <td>11</td>\n",
       "    </tr>\n",
       "    <tr>\n",
       "      <th>2</th>\n",
       "      <td>[बड़ा, फैसला, कैंपों, प्रैक्टिस, सेंटर, पहुंचन...</td>\n",
       "      <td>Sports</td>\n",
       "      <td>12</td>\n",
       "    </tr>\n",
       "    <tr>\n",
       "      <th>3</th>\n",
       "      <td>[ऑलराउंडर, रोहित, गूलिया, दम, हरियाणा, स्टीलर्...</td>\n",
       "      <td>Sports</td>\n",
       "      <td>10</td>\n",
       "    </tr>\n",
       "    <tr>\n",
       "      <th>4</th>\n",
       "      <td>[टेनिस, टाटा, ओपन, महाराष्ट्र, भारत, युकी, भां...</td>\n",
       "      <td>Sports</td>\n",
       "      <td>9</td>\n",
       "    </tr>\n",
       "    <tr>\n",
       "      <th>...</th>\n",
       "      <td>...</td>\n",
       "      <td>...</td>\n",
       "      <td>...</td>\n",
       "    </tr>\n",
       "    <tr>\n",
       "      <th>37495</th>\n",
       "      <td>[प्लेन, बच्चे, जन्म, लड़की, टॉयलेट, पेपर, लपेट,...</td>\n",
       "      <td>Entertainment</td>\n",
       "      <td>9</td>\n",
       "    </tr>\n",
       "    <tr>\n",
       "      <th>37496</th>\n",
       "      <td>[अंतिम, यात्रा, पार्टनर, छोड़, मोर, देखें, इमोश...</td>\n",
       "      <td>Entertainment</td>\n",
       "      <td>8</td>\n",
       "    </tr>\n",
       "    <tr>\n",
       "      <th>37497</th>\n",
       "      <td>[बॉयफ्रेंड, मिलने, रूस, पहुंच, गई, लड़की, अचानक...</td>\n",
       "      <td>Entertainment</td>\n",
       "      <td>10</td>\n",
       "    </tr>\n",
       "    <tr>\n",
       "      <th>37498</th>\n",
       "      <td>[वेडिंग, फोटोशूट, करा, दूल्हा, दुल्हन, कीचड़, ध...</td>\n",
       "      <td>Entertainment</td>\n",
       "      <td>8</td>\n",
       "    </tr>\n",
       "    <tr>\n",
       "      <th>37499</th>\n",
       "      <td>[बिना, मास्क, पहुंची, महिला, दुकानदार, टोंका, ...</td>\n",
       "      <td>Entertainment</td>\n",
       "      <td>10</td>\n",
       "    </tr>\n",
       "  </tbody>\n",
       "</table>\n",
       "<p>37500 rows × 3 columns</p>\n",
       "</div>"
      ],
      "text/plain": [
       "                                                headline          Label  \\\n",
       "0      [मेलबर्न, एयरपोर्ट, घंटों, फंसे, नोवाक, जोकोवि...         Sports   \n",
       "1      [अर्जेंटीना, स्टार, फुटबॉलर, लियोनल, मेसी, कोव...         Sports   \n",
       "2      [बड़ा, फैसला, कैंपों, प्रैक्टिस, सेंटर, पहुंचन...         Sports   \n",
       "3      [ऑलराउंडर, रोहित, गूलिया, दम, हरियाणा, स्टीलर्...         Sports   \n",
       "4      [टेनिस, टाटा, ओपन, महाराष्ट्र, भारत, युकी, भां...         Sports   \n",
       "...                                                  ...            ...   \n",
       "37495  [प्लेन, बच्चे, जन्म, लड़की, टॉयलेट, पेपर, लपेट,...  Entertainment   \n",
       "37496  [अंतिम, यात्रा, पार्टनर, छोड़, मोर, देखें, इमोश...  Entertainment   \n",
       "37497  [बॉयफ्रेंड, मिलने, रूस, पहुंच, गई, लड़की, अचानक...  Entertainment   \n",
       "37498  [वेडिंग, फोटोशूट, करा, दूल्हा, दुल्हन, कीचड़, ध...  Entertainment   \n",
       "37499  [बिना, मास्क, पहुंची, महिला, दुकानदार, टोंका, ...  Entertainment   \n",
       "\n",
       "       word_count  \n",
       "0              12  \n",
       "1              11  \n",
       "2              12  \n",
       "3              10  \n",
       "4               9  \n",
       "...           ...  \n",
       "37495           9  \n",
       "37496           8  \n",
       "37497          10  \n",
       "37498           8  \n",
       "37499          10  \n",
       "\n",
       "[37500 rows x 3 columns]"
      ]
     },
     "execution_count": 13,
     "metadata": {},
     "output_type": "execute_result"
    }
   ],
   "source": [
    "df"
   ]
  },
  {
   "cell_type": "code",
   "execution_count": 14,
   "id": "eb07bf3a-4a84-4816-b97d-99dc4a78e920",
   "metadata": {},
   "outputs": [
    {
     "name": "stdout",
     "output_type": "stream",
     "text": [
      "                                                headline          Label  \\\n",
      "37490  सूर्यवंशी बेल बॉटम रिलीज अक्षय कुमार बयान फैन्...  Entertainment   \n",
      "37491    श्रेया घोषाल दी फैन्स गुड न्यूज बेबी ब्वॉय जन्म  Entertainment   \n",
      "37492  ऑडिशन हफ्ते बाहर निकले ताहिर राज भसीन बदली किस्मत  Entertainment   \n",
      "37493  मेहंदी फोटो शेयर अली फजल ऋचा चड्ढा दी शादी अफव...  Entertainment   \n",
      "37494  राम सेतु शूटिंग महीने शुरू करेंगे अक्षय कुमार ...  Entertainment   \n",
      "37495  प्लेन बच्चे जन्म लड़की टॉयलेट पेपर लपेट डस्टबिन...  Entertainment   \n",
      "37496   अंतिम यात्रा पार्टनर छोड़ मोर देखें इमोशनल वीडियो  Entertainment   \n",
      "37497  बॉयफ्रेंड मिलने रूस पहुंच गई लड़की अचानक होटल ख...  Entertainment   \n",
      "37498    वेडिंग फोटोशूट करा दूल्हा दुल्हन कीचड़ धड़ाम गिरे  Entertainment   \n",
      "37499  बिना मास्क पहुंची महिला दुकानदार टोंका उसने कप...  Entertainment   \n",
      "\n",
      "       word_count  \n",
      "37490          10  \n",
      "37491           9  \n",
      "37492          10  \n",
      "37493          17  \n",
      "37494          13  \n",
      "37495           9  \n",
      "37496           8  \n",
      "37497          10  \n",
      "37498           8  \n",
      "37499          10  \n"
     ]
    }
   ],
   "source": [
    "df['headline'] = df['headline'].str.join(\" \")\n",
    "print(df.tail(10))"
   ]
  },
  {
   "cell_type": "code",
   "execution_count": 15,
   "id": "6ef35366-22e8-47ed-aadd-ee4aad292d03",
   "metadata": {},
   "outputs": [],
   "source": [
    "Train_X, Test_X, Train_Y, Test_Y = model_selection.train_test_split(df['headline'],df['Label'],test_size=0.3, random_state=42)"
   ]
  },
  {
   "cell_type": "code",
   "execution_count": 16,
   "id": "dbf67402-3257-4cb0-9b85-cbb30f7f1e3d",
   "metadata": {},
   "outputs": [
    {
     "name": "stdout",
     "output_type": "stream",
     "text": [
      "[1 2 1 2 2 3 4 4 2 3]\n",
      "36768    किताबों ढेर टेलीस्कोप मेटल आर्टवर्क मुंबई खूबस...\n",
      "23832                  कांग्रेस पलटवार बंद करो ओछी राजनीति\n",
      "34090     अंतिम यात्रा पार्टनर छोड़ मोर देखें इमोशनल वीडियो\n",
      "24751    ‘ अटकी शिवसेना कैसा सबका सबका विकास ’ असदुद्दी...\n",
      "28923    जीतेगा गुजरात चुनाव मतदान तारीखों घोषणा शुरू च...\n",
      "6460     क्रिस्टियानो रोनाल्डो गर्लफ्रेंड जॉर्जिना बेटे...\n",
      "12623                 नए वायरलेस इयरफोन्स लॉन्च कीमत रुपये\n",
      "10325    फैन्स खुशखबरी जल्द भारत लॉन्च होगा नया गेम अगर...\n",
      "24197             बीजेपी नेता बताया मेरा फोन टैप संजय राउत\n",
      "3426     हरियाणा बबीता फोगाट कविता देवी खेल विभाग उप नि...\n",
      "Name: headline, dtype: object\n"
     ]
    }
   ],
   "source": [
    "Encoder = LabelEncoder()\n",
    "Train_Y = Encoder.fit_transform(Train_Y)\n",
    "Test_Y = Encoder.fit_transform(Test_Y)\n",
    "print(Train_Y[0:10])\n",
    "print(Train_X[0:10])"
   ]
  },
  {
   "cell_type": "code",
   "execution_count": 17,
   "id": "d7a15603-a4d8-4c4d-ab58-e50d05f56441",
   "metadata": {},
   "outputs": [],
   "source": [
    "Tfidf_vect = TfidfVectorizer()\n",
    "Tfidf_vect.fit(df['headline'])\n",
    "Train_X_Tfidf = Tfidf_vect.transform(Train_X)\n",
    "Test_X_Tfidf = Tfidf_vect.transform(Test_X)"
   ]
  },
  {
   "cell_type": "code",
   "execution_count": 18,
   "id": "0b2a9c2d-11e9-440a-bb44-2441db292a73",
   "metadata": {},
   "outputs": [],
   "source": [
    "dt = RandomForestClassifier(max_depth = 250 ,n_estimators = 450)\n",
    "dt.fit(Train_X_Tfidf,Train_Y)\n",
    "predictions_dec = dt.predict(Test_X_Tfidf)"
   ]
  },
  {
   "cell_type": "code",
   "execution_count": 19,
   "id": "4f00e1f3-c025-41a8-9c71-f056577c60c9",
   "metadata": {},
   "outputs": [
    {
     "name": "stdout",
     "output_type": "stream",
     "text": [
      "RFC Accuracy Score ->  74.59555555555556\n"
     ]
    }
   ],
   "source": [
    "print(\"RFC Accuracy Score -> \",accuracy_score(predictions_dec, Test_Y)*100)"
   ]
  },
  {
   "cell_type": "code",
   "execution_count": 20,
   "id": "73b620b2-1beb-4af1-a226-649aedcff211",
   "metadata": {},
   "outputs": [],
   "source": [
    "import joblib\n",
    "import os\n",
    "loaded_model = joblib.dump(dt, 'hin_rfc.pkl')"
   ]
  },
  {
   "cell_type": "code",
   "execution_count": 21,
   "id": "891dcb7b-aed9-4b06-8b0e-f2bfe9cf54fb",
   "metadata": {},
   "outputs": [
    {
     "data": {
      "text/plain": [
       "array([[1784,   82,   86,   65,  123],\n",
       "       [  48, 1539,   91,  195,  342],\n",
       "       [ 182,  191, 1880,  244,   66],\n",
       "       [  54,   82,  107, 1492,   31],\n",
       "       [ 118,  411,   42,  298, 1697]], dtype=int64)"
      ]
     },
     "execution_count": 21,
     "metadata": {},
     "output_type": "execute_result"
    }
   ],
   "source": [
    "mat = confusion_matrix(predictions_dec, Test_Y)\n",
    "mat"
   ]
  },
  {
   "cell_type": "code",
   "execution_count": 22,
   "id": "b851f32d-82ad-43c5-b920-5443779690fd",
   "metadata": {},
   "outputs": [
    {
     "name": "stdout",
     "output_type": "stream",
     "text": [
      "              precision    recall  f1-score   support\n",
      "\n",
      "           0       0.82      0.83      0.82      2140\n",
      "           1       0.67      0.69      0.68      2215\n",
      "           2       0.85      0.73      0.79      2563\n",
      "           3       0.65      0.84      0.73      1766\n",
      "           4       0.75      0.66      0.70      2566\n",
      "\n",
      "    accuracy                           0.75     11250\n",
      "   macro avg       0.75      0.75      0.75     11250\n",
      "weighted avg       0.75      0.75      0.75     11250\n",
      "\n"
     ]
    }
   ],
   "source": [
    "report = classification_report(predictions_dec, Test_Y)\n",
    "print(report)"
   ]
  },
  {
   "cell_type": "code",
   "execution_count": 23,
   "id": "b68e8c88-9ae6-4652-bbbc-e0798d4145af",
   "metadata": {},
   "outputs": [
    {
     "name": "stdout",
     "output_type": "stream",
     "text": [
      "0\n"
     ]
    },
    {
     "data": {
      "text/plain": [
       "'Business'"
      ]
     },
     "execution_count": 23,
     "metadata": {},
     "output_type": "execute_result"
    }
   ],
   "source": [
    "#business\n",
    "simple_test = [\"एसबीआई ने ग्राहकों को किया हाई अलर्ट! बंद हो सकती है आपकी बैंकिंग सेवा, जानिए वजह\"]\n",
    "Train_X_Tfidf = Tfidf_vect.transform(simple_test)\n",
    "pred1 = dt.predict(Train_X_Tfidf)\n",
    "print(pred1[0])\n",
    "predictions_test = Encoder.inverse_transform(pred1)\n",
    "predictions_test[0]"
   ]
  },
  {
   "cell_type": "code",
   "execution_count": 24,
   "id": "9ca12f8a-0760-4af6-93aa-d9c413fe4a9b",
   "metadata": {},
   "outputs": [
    {
     "name": "stdout",
     "output_type": "stream",
     "text": [
      "1\n"
     ]
    },
    {
     "data": {
      "text/plain": [
       "'Entertainment'"
      ]
     },
     "execution_count": 24,
     "metadata": {},
     "output_type": "execute_result"
    }
   ],
   "source": [
    "#entertainment\n",
    "simple_test = [\"शादी की खबरों के बीच कटरीना कैफ पर भड़के विक्की कौशल, दोनों के बीच हुआ झगड़ा! जानें वजह\"]\n",
    "Train_X_Tfidf = Tfidf_vect.transform(simple_test)\n",
    "pred2 = dt.predict(Train_X_Tfidf)\n",
    "print(pred2[0])\n",
    "predictions_test = Encoder.inverse_transform(pred2)\n",
    "predictions_test[0]"
   ]
  },
  {
   "cell_type": "code",
   "execution_count": 25,
   "id": "151011c2-c87e-4707-9328-afba62a07764",
   "metadata": {},
   "outputs": [
    {
     "name": "stdout",
     "output_type": "stream",
     "text": [
      "2\n"
     ]
    },
    {
     "data": {
      "text/plain": [
       "'Politics'"
      ]
     },
     "execution_count": 25,
     "metadata": {},
     "output_type": "execute_result"
    }
   ],
   "source": [
    "#political\n",
    "simple_test = [\"पश्चिमी यूपी से पूर्वांचल, अवध से बुंदेलखंड तक, कैसे कमल की फसल को खाद दे रहे पीएम?\"]\n",
    "Train_X_Tfidf = Tfidf_vect.transform(simple_test)\n",
    "pred3 = dt.predict(Train_X_Tfidf)\n",
    "print(pred3[0])\n",
    "predictions_test = Encoder.inverse_transform(pred3)\n",
    "predictions_test[0]"
   ]
  },
  {
   "cell_type": "code",
   "execution_count": 26,
   "id": "a2dd50fc-d32e-43f2-801b-a15792e96602",
   "metadata": {},
   "outputs": [
    {
     "name": "stdout",
     "output_type": "stream",
     "text": [
      "3\n"
     ]
    },
    {
     "data": {
      "text/plain": [
       "'Sports'"
      ]
     },
     "execution_count": 26,
     "metadata": {},
     "output_type": "execute_result"
    }
   ],
   "source": [
    "#sports\n",
    "simple_test = [\"भारत पहुंची पाकिस्तान की टीम, 24 नवंबर से भुवनेश्वर में खेला जाएगा वर्ल्ड कपाा\"]\n",
    "Train_X_Tfidf = Tfidf_vect.transform(simple_test)\n",
    "pred4 = dt.predict(Train_X_Tfidf)\n",
    "print(pred4[0])\n",
    "predictions_test = Encoder.inverse_transform(pred4)\n",
    "predictions_test[0]"
   ]
  },
  {
   "cell_type": "code",
   "execution_count": 27,
   "id": "28ac150b-a539-43a3-9d24-43a48ee03d82",
   "metadata": {},
   "outputs": [
    {
     "name": "stdout",
     "output_type": "stream",
     "text": [
      "4\n"
     ]
    },
    {
     "data": {
      "text/plain": [
       "'Tech'"
      ]
     },
     "execution_count": 27,
     "metadata": {},
     "output_type": "execute_result"
    }
   ],
   "source": [
    "#tech\n",
    "simple_test = [\"सावधान! अगर ये 7 ऐप्स आपके फोन में हों तो तुरंत करें डिलीट, बन सकते हैं खतरा\"]\n",
    "Train_X_Tfidf = Tfidf_vect.transform(simple_test)\n",
    "pred5 = dt.predict(Train_X_Tfidf)\n",
    "print(pred5[0])\n",
    "predictions_test = Encoder.inverse_transform(pred5)\n",
    "predictions_test[0]"
   ]
  },
  {
   "cell_type": "code",
   "execution_count": null,
   "id": "88902674",
   "metadata": {},
   "outputs": [],
   "source": []
  }
 ],
 "metadata": {
  "kernelspec": {
   "display_name": "Python 3",
   "language": "python",
   "name": "python3"
  },
  "language_info": {
   "codemirror_mode": {
    "name": "ipython",
    "version": 3
   },
   "file_extension": ".py",
   "mimetype": "text/x-python",
   "name": "python",
   "nbconvert_exporter": "python",
   "pygments_lexer": "ipython3",
   "version": "3.8.8"
  }
 },
 "nbformat": 4,
 "nbformat_minor": 5
}
