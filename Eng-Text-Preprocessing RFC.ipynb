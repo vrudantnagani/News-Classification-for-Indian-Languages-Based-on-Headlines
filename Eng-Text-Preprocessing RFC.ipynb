{
 "cells": [
  {
   "cell_type": "code",
   "execution_count": 1,
   "id": "58b28011-a80d-4e82-b10c-6a2bc2c20674",
   "metadata": {},
   "outputs": [],
   "source": [
    "import pandas as pd\n",
    "import numpy as np\n",
    "import nltk\n",
    "import re\n",
    "from nltk.corpus import stopwords\n",
    "from sklearn.preprocessing import LabelEncoder\n",
    "from sklearn.feature_extraction.text import TfidfVectorizer\n",
    "from sklearn import tree\n",
    "from sklearn.ensemble import RandomForestClassifier\n",
    "from sklearn import model_selection\n",
    "from sklearn.metrics import accuracy_score,confusion_matrix,classification_report"
   ]
  },
  {
   "cell_type": "code",
   "execution_count": 2,
   "id": "59dd38cd-87d6-460f-a391-ff6c7dd27f6f",
   "metadata": {},
   "outputs": [],
   "source": [
    "data = pd.read_csv('english-train.csv')"
   ]
  },
  {
   "cell_type": "code",
   "execution_count": 3,
   "id": "096cc118-e00e-4b7a-bdf2-ca167168070c",
   "metadata": {},
   "outputs": [],
   "source": [
    "def preprocess_text(text, flg_stemm=False, flg_lemm=True, lst_stopwords=stopwords.words('english')):\n",
    "    \n",
    "    ## clean (convert to lowercase and remove punctuations and   \n",
    "    # characters and then strip)\n",
    "    text = re.sub('[0-9]', ' ', text)\n",
    "    text = re.sub(r'[^\\w\\s]', '', str(text).lower().strip())\n",
    "    text = re.sub(r\"\\b[a-zA-Z]\\b\", ' ', text)\n",
    "    \n",
    "    ## Tokenize (convert from string to list)\n",
    "    lst_text = text.split()\n",
    "    ## remove Stopwords\n",
    "    if lst_stopwords is not None:\n",
    "        lst_text = [word for word in lst_text if word not in lst_stopwords]\n",
    "                \n",
    "    ## Stemming (remove -ing, -ly, ...)\n",
    "    if flg_stemm == True:\n",
    "        ps = nltk.stem.porter.PorterStemmer()\n",
    "        lst_text = [ps.stem(word) for word in lst_text]\n",
    "                \n",
    "    ## Lemmatisation (convert the word into root word)\n",
    "    if flg_lemm == True:\n",
    "        lem = nltk.stem.wordnet.WordNetLemmatizer()\n",
    "        lst_text = [lem.lemmatize(word) for word in lst_text]\n",
    "            \n",
    "    ## back to string from list\n",
    "    text = \" \".join(lst_text)\n",
    "    return text"
   ]
  },
  {
   "cell_type": "code",
   "execution_count": 4,
   "id": "550eef19-7161-4cd0-9edb-db25ba0714f9",
   "metadata": {},
   "outputs": [],
   "source": [
    "data['headline'] = data.headline.apply(lambda x: \n",
    "          preprocess_text(x))"
   ]
  },
  {
   "cell_type": "code",
   "execution_count": 5,
   "id": "904c745b-8c0a-48ce-9dd1-6f74ca185cbf",
   "metadata": {},
   "outputs": [],
   "source": [
    "def count_length():\n",
    "    data['word_count'] = data['headline'].apply(lambda x: len(str(x).split(\" \")))"
   ]
  },
  {
   "cell_type": "code",
   "execution_count": 6,
   "id": "086213c4-9310-48ab-88ca-2da61ba56385",
   "metadata": {},
   "outputs": [],
   "source": [
    "count_length()"
   ]
  },
  {
   "cell_type": "code",
   "execution_count": 7,
   "id": "cd641aca-94a4-46d2-b22b-37987995d90e",
   "metadata": {},
   "outputs": [
    {
     "data": {
      "text/html": [
       "<div>\n",
       "<style scoped>\n",
       "    .dataframe tbody tr th:only-of-type {\n",
       "        vertical-align: middle;\n",
       "    }\n",
       "\n",
       "    .dataframe tbody tr th {\n",
       "        vertical-align: top;\n",
       "    }\n",
       "\n",
       "    .dataframe thead th {\n",
       "        text-align: right;\n",
       "    }\n",
       "</style>\n",
       "<table border=\"1\" class=\"dataframe\">\n",
       "  <thead>\n",
       "    <tr style=\"text-align: right;\">\n",
       "      <th></th>\n",
       "      <th>headline</th>\n",
       "      <th>Label</th>\n",
       "      <th>word_count</th>\n",
       "    </tr>\n",
       "  </thead>\n",
       "  <tbody>\n",
       "    <tr>\n",
       "      <th>0</th>\n",
       "      <td>former new zealand cricketer chris cairn diagn...</td>\n",
       "      <td>Sports</td>\n",
       "      <td>9</td>\n",
       "    </tr>\n",
       "    <tr>\n",
       "      <th>1</th>\n",
       "      <td>american skater nathan chen dazzle olympic return</td>\n",
       "      <td>Sports</td>\n",
       "      <td>7</td>\n",
       "    </tr>\n",
       "    <tr>\n",
       "      <th>2</th>\n",
       "      <td>la liga ene unal score brace lead getafes win ...</td>\n",
       "      <td>Sports</td>\n",
       "      <td>10</td>\n",
       "    </tr>\n",
       "    <tr>\n",
       "      <th>3</th>\n",
       "      <td>world cup australia beat afghanistan claim rd ...</td>\n",
       "      <td>Sports</td>\n",
       "      <td>8</td>\n",
       "    </tr>\n",
       "    <tr>\n",
       "      <th>4</th>\n",
       "      <td>icc world cup india v england final live strea...</td>\n",
       "      <td>Sports</td>\n",
       "      <td>10</td>\n",
       "    </tr>\n",
       "    <tr>\n",
       "      <th>5</th>\n",
       "      <td>brainsqueeze know snow</td>\n",
       "      <td>Sports</td>\n",
       "      <td>3</td>\n",
       "    </tr>\n",
       "    <tr>\n",
       "      <th>6</th>\n",
       "      <td>justin langer step australia coach</td>\n",
       "      <td>Sports</td>\n",
       "      <td>5</td>\n",
       "    </tr>\n",
       "    <tr>\n",
       "      <th>7</th>\n",
       "      <td>ratnakar shettys memoir apparently virat unhap...</td>\n",
       "      <td>Sports</td>\n",
       "      <td>9</td>\n",
       "    </tr>\n",
       "    <tr>\n",
       "      <th>8</th>\n",
       "      <td>think odi revolution happened world cup tendul...</td>\n",
       "      <td>Sports</td>\n",
       "      <td>10</td>\n",
       "    </tr>\n",
       "    <tr>\n",
       "      <th>9</th>\n",
       "      <td>world cup boxer son nishant sindhu deadly left</td>\n",
       "      <td>Sports</td>\n",
       "      <td>8</td>\n",
       "    </tr>\n",
       "  </tbody>\n",
       "</table>\n",
       "</div>"
      ],
      "text/plain": [
       "                                            headline   Label  word_count\n",
       "0  former new zealand cricketer chris cairn diagn...  Sports           9\n",
       "1  american skater nathan chen dazzle olympic return  Sports           7\n",
       "2  la liga ene unal score brace lead getafes win ...  Sports          10\n",
       "3  world cup australia beat afghanistan claim rd ...  Sports           8\n",
       "4  icc world cup india v england final live strea...  Sports          10\n",
       "5                             brainsqueeze know snow  Sports           3\n",
       "6                 justin langer step australia coach  Sports           5\n",
       "7  ratnakar shettys memoir apparently virat unhap...  Sports           9\n",
       "8  think odi revolution happened world cup tendul...  Sports          10\n",
       "9     world cup boxer son nishant sindhu deadly left  Sports           8"
      ]
     },
     "execution_count": 7,
     "metadata": {},
     "output_type": "execute_result"
    }
   ],
   "source": [
    "data.head(10)"
   ]
  },
  {
   "cell_type": "code",
   "execution_count": 8,
   "id": "bb751ad3-5900-42e8-9604-6573965d4b55",
   "metadata": {},
   "outputs": [
    {
     "data": {
      "text/plain": [
       "(37395, 3)"
      ]
     },
     "execution_count": 8,
     "metadata": {},
     "output_type": "execute_result"
    }
   ],
   "source": [
    "data.shape"
   ]
  },
  {
   "cell_type": "code",
   "execution_count": 9,
   "id": "cef2fc66-1e5f-4e9c-83c6-ecc6b4bd99b4",
   "metadata": {},
   "outputs": [],
   "source": [
    "data.replace('[^a-zA-Z]',' ',inplace=True)\n",
    "for index in ['Label']:\n",
    "    data[index]=data[index].str.lower()"
   ]
  },
  {
   "cell_type": "code",
   "execution_count": 10,
   "id": "6ef35366-22e8-47ed-aadd-ee4aad292d03",
   "metadata": {},
   "outputs": [],
   "source": [
    "Train_X, Test_X, Train_Y, Test_Y = model_selection.train_test_split(data['headline'],data['Label'],test_size=0.3,random_state=42)"
   ]
  },
  {
   "cell_type": "code",
   "execution_count": 11,
   "id": "dbf67402-3257-4cb0-9b85-cbb30f7f1e3d",
   "metadata": {},
   "outputs": [
    {
     "name": "stdout",
     "output_type": "stream",
     "text": [
      "[4 4 1 3 4 3 0 4 0 4]\n",
      "10572    microsoft say israeli group sold tool hack window\n",
      "10342    facebook twitter big tech see social commerce ...\n",
      "37201           loki episode notice chris hemsworths cameo\n",
      "7102     india paraathletics team tokyo paralympics pic...\n",
      "9926     bird prey face global decline habitat loss poison\n",
      "4788     real madrid join premier league la liga club r...\n",
      "21720    nbfcs face liquidity pressure lack clarity rbi...\n",
      "9805     apple app store change fail sway lawmaker bent...\n",
      "21237    zomato asks staff start looking job firm fores...\n",
      "7286               khaalijeb cofounder devastated reinvent\n",
      "Name: headline, dtype: object\n"
     ]
    }
   ],
   "source": [
    "Encoder = LabelEncoder()\n",
    "Train_Y = Encoder.fit_transform(Train_Y)\n",
    "Test_Y = Encoder.fit_transform(Test_Y)\n",
    "print(Train_Y[0:10])\n",
    "print(Train_X[0:10])"
   ]
  },
  {
   "cell_type": "code",
   "execution_count": 12,
   "id": "d7a15603-a4d8-4c4d-ab58-e50d05f56441",
   "metadata": {},
   "outputs": [
    {
     "name": "stderr",
     "output_type": "stream",
     "text": [
      "c:\\users\\vishu\\appdata\\local\\programs\\python\\python38\\lib\\site-packages\\sklearn\\feature_extraction\\text.py:1208: UserWarning: Upper case characters found in vocabulary while 'lowercase' is True. These entries will not be matched with any documents\n",
      "  warnings.warn(\n"
     ]
    }
   ],
   "source": [
    "Tfidf_vect = TfidfVectorizer()\n",
    "Tfidf_vect.fit(data['headline'])\n",
    "Train_X_Tfidf = Tfidf_vect.transform(Train_X)\n",
    "Test_X_Tfidf = Tfidf_vect.transform(Test_X)"
   ]
  },
  {
   "cell_type": "code",
   "execution_count": 13,
   "id": "0b2a9c2d-11e9-440a-bb44-2441db292a73",
   "metadata": {},
   "outputs": [],
   "source": [
    "dt = RandomForestClassifier(max_depth = 1000)\n",
    "dt.fit(Train_X_Tfidf,Train_Y)\n",
    "predictions_dec = dt.predict(Test_X_Tfidf)"
   ]
  },
  {
   "cell_type": "code",
   "execution_count": 14,
   "id": "88c56d1f-f8da-4fcc-b21c-462eb23e67a9",
   "metadata": {},
   "outputs": [
    {
     "name": "stdout",
     "output_type": "stream",
     "text": [
      "RFC Accuracy Score ->  89.33951332560835\n"
     ]
    }
   ],
   "source": [
    "print(\"RFC Accuracy Score -> \",accuracy_score(predictions_dec, Test_Y)*100)"
   ]
  },
  {
   "cell_type": "code",
   "execution_count": 15,
   "id": "891dcb7b-aed9-4b06-8b0e-f2bfe9cf54fb",
   "metadata": {},
   "outputs": [
    {
     "data": {
      "text/plain": [
       "array([[2056,   25,   72,   46,  121],\n",
       "       [  20, 1936,   45,   80,   56],\n",
       "       [ 103,   49, 2192,   82,   59],\n",
       "       [  48,   85,   32, 1964,   56],\n",
       "       [ 101,   56,   25,   35, 1875]], dtype=int64)"
      ]
     },
     "execution_count": 15,
     "metadata": {},
     "output_type": "execute_result"
    }
   ],
   "source": [
    "mat = confusion_matrix(predictions_dec, Test_Y)\n",
    "mat"
   ]
  },
  {
   "cell_type": "code",
   "execution_count": 16,
   "id": "b851f32d-82ad-43c5-b920-5443779690fd",
   "metadata": {},
   "outputs": [
    {
     "name": "stdout",
     "output_type": "stream",
     "text": [
      "              precision    recall  f1-score   support\n",
      "\n",
      "           0       0.88      0.89      0.88      2320\n",
      "           1       0.90      0.91      0.90      2137\n",
      "           2       0.93      0.88      0.90      2485\n",
      "           3       0.89      0.90      0.89      2185\n",
      "           4       0.87      0.90      0.88      2092\n",
      "\n",
      "    accuracy                           0.89     11219\n",
      "   macro avg       0.89      0.89      0.89     11219\n",
      "weighted avg       0.89      0.89      0.89     11219\n",
      "\n"
     ]
    }
   ],
   "source": [
    "report = classification_report(predictions_dec, Test_Y)\n",
    "print(report)"
   ]
  },
  {
   "cell_type": "code",
   "execution_count": 27,
   "id": "151011c2-c87e-4707-9328-afba62a07764",
   "metadata": {},
   "outputs": [],
   "source": [
    "import joblib\n",
    "import os\n",
    "loaded_model = joblib.dump(RandomForestClassifier, 'eng_rfc.pkl')"
   ]
  },
  {
   "cell_type": "code",
   "execution_count": 17,
   "id": "b68e8c88-9ae6-4652-bbbc-e0798d4145af",
   "metadata": {},
   "outputs": [
    {
     "name": "stderr",
     "output_type": "stream",
     "text": [
      "c:\\users\\vishu\\appdata\\local\\programs\\python\\python38\\lib\\site-packages\\sklearn\\feature_extraction\\text.py:1208: UserWarning: Upper case characters found in vocabulary while 'lowercase' is True. These entries will not be matched with any documents\n",
      "  warnings.warn(\n"
     ]
    },
    {
     "data": {
      "text/plain": [
       "3"
      ]
     },
     "execution_count": 17,
     "metadata": {},
     "output_type": "execute_result"
    }
   ],
   "source": [
    "simple_test = [\"T20 World Cup: Team India 'unwinds' day off with beach volleyball\"]\n",
    "Train_X_Tfidf = Tfidf_vect.transform(simple_test)\n",
    "pred1 = dt.predict(Train_X_Tfidf)\n",
    "pred1[0]"
   ]
  },
  {
   "cell_type": "code",
   "execution_count": 18,
   "id": "9ca12f8a-0760-4af6-93aa-d9c413fe4a9b",
   "metadata": {},
   "outputs": [
    {
     "data": {
      "text/plain": [
       "'sports'"
      ]
     },
     "execution_count": 18,
     "metadata": {},
     "output_type": "execute_result"
    }
   ],
   "source": [
    "predictions_test = Encoder.inverse_transform(pred1)\n",
    "predictions_test[0]"
   ]
  },
  {
   "cell_type": "code",
   "execution_count": 19,
   "id": "7782698d-3f3a-432d-b093-7709ba3d7549",
   "metadata": {},
   "outputs": [
    {
     "data": {
      "text/plain": [
       "0"
      ]
     },
     "execution_count": 19,
     "metadata": {},
     "output_type": "execute_result"
    }
   ],
   "source": [
    "simple_test2 = [\"Five IPOs to hit mkt in first half of Nov; seek to raise over Rs 27,000 cr\"]\n",
    "Train_X_Tfidf = Tfidf_vect.transform(simple_test2)\n",
    "pred2 = dt.predict(Train_X_Tfidf)\n",
    "pred2[0]"
   ]
  },
  {
   "cell_type": "code",
   "execution_count": 20,
   "id": "16bc0012-13d4-4ed8-a541-4049bd109d79",
   "metadata": {},
   "outputs": [
    {
     "data": {
      "text/plain": [
       "'business'"
      ]
     },
     "execution_count": 20,
     "metadata": {},
     "output_type": "execute_result"
    }
   ],
   "source": [
    "predictions_test = Encoder.inverse_transform(pred2)\n",
    "predictions_test[0]"
   ]
  },
  {
   "cell_type": "code",
   "execution_count": 21,
   "id": "1e5630b2-4abf-4ba4-b97a-695cec71bdab",
   "metadata": {},
   "outputs": [
    {
     "data": {
      "text/plain": [
       "1"
      ]
     },
     "execution_count": 21,
     "metadata": {},
     "output_type": "execute_result"
    }
   ],
   "source": [
    "simple_test3 = [\"Anushka Sharma dresses daughter Vamika as a fairy for Halloween, Soha Ali Khan turns Inaaya into a unicorn\"]\n",
    "Train_X_Tfidf = Tfidf_vect.transform(simple_test3)\n",
    "pred3 = dt.predict(Train_X_Tfidf)\n",
    "pred3[0]"
   ]
  },
  {
   "cell_type": "code",
   "execution_count": 22,
   "id": "1d1ee302-0236-4765-b744-d1c17ddbf1d8",
   "metadata": {},
   "outputs": [
    {
     "data": {
      "text/plain": [
       "'entertainment'"
      ]
     },
     "execution_count": 22,
     "metadata": {},
     "output_type": "execute_result"
    }
   ],
   "source": [
    "predictions_test = Encoder.inverse_transform(pred3)\n",
    "predictions_test[0]"
   ]
  },
  {
   "cell_type": "code",
   "execution_count": 23,
   "id": "7adc5455-c0c0-4ec9-9564-3a656e18a698",
   "metadata": {},
   "outputs": [
    {
     "data": {
      "text/plain": [
       "4"
      ]
     },
     "execution_count": 23,
     "metadata": {},
     "output_type": "execute_result"
    }
   ],
   "source": [
    "simple_test4 = [\"All iOS users can now Super Follow on Twitter\"]\n",
    "Train_X_Tfidf = Tfidf_vect.transform(simple_test4)\n",
    "pred4 = dt.predict(Train_X_Tfidf)\n",
    "pred4[0]"
   ]
  },
  {
   "cell_type": "code",
   "execution_count": 24,
   "id": "3a4dfaa7-78e6-4f36-abad-7b3d2849c547",
   "metadata": {},
   "outputs": [
    {
     "data": {
      "text/plain": [
       "'tech'"
      ]
     },
     "execution_count": 24,
     "metadata": {},
     "output_type": "execute_result"
    }
   ],
   "source": [
    "predictions_test = Encoder.inverse_transform(pred4)\n",
    "predictions_test[0]"
   ]
  },
  {
   "cell_type": "code",
   "execution_count": 32,
   "id": "f24ed1c2-e059-48ad-b108-eb630d28f4a3",
   "metadata": {},
   "outputs": [
    {
     "data": {
      "text/plain": [
       "2"
      ]
     },
     "execution_count": 32,
     "metadata": {},
     "output_type": "execute_result"
    }
   ],
   "source": [
    "simple_test5 = [\"Partap Bajwa Says Congress Had Decided Only Sitting MLA will be Punjab CM\"]\n",
    "Train_X_Tfidf = Tfidf_vect.transform(simple_test5)\n",
    "pred5 = dt.predict(Train_X_Tfidf)\n",
    "pred5[0]"
   ]
  },
  {
   "cell_type": "code",
   "execution_count": 33,
   "id": "2f47666e-8b7b-41aa-86a9-48431d6c332f",
   "metadata": {},
   "outputs": [
    {
     "data": {
      "text/plain": [
       "'politics'"
      ]
     },
     "execution_count": 33,
     "metadata": {},
     "output_type": "execute_result"
    }
   ],
   "source": [
    "predictions_test = Encoder.inverse_transform(pred5)\n",
    "predictions_test[0]"
   ]
  }
 ],
 "metadata": {
  "kernelspec": {
   "display_name": "Python 3",
   "language": "python",
   "name": "python3"
  },
  "language_info": {
   "codemirror_mode": {
    "name": "ipython",
    "version": 3
   },
   "file_extension": ".py",
   "mimetype": "text/x-python",
   "name": "python",
   "nbconvert_exporter": "python",
   "pygments_lexer": "ipython3",
   "version": "3.8.8"
  }
 },
 "nbformat": 4,
 "nbformat_minor": 5
}
