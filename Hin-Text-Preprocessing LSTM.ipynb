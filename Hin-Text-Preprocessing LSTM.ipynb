{
 "cells": [
  {
   "cell_type": "code",
   "execution_count": 1,
   "metadata": {
    "_uuid": "d6fb32fd69316596e236eab5fb8cf77c848508c3"
   },
   "outputs": [],
   "source": [
    "import pandas as pd\n",
    "import numpy as np\n",
    "import re\n",
    "import matplotlib.pyplot as plt\n",
    "import seaborn as sns\n",
    "from sklearn.model_selection import train_test_split\n",
    "from sklearn.preprocessing import LabelEncoder\n",
    "from keras.models import Model\n",
    "from keras.layers import LSTM, Activation, Dense, Dropout, Input, Embedding\n",
    "from tensorflow.keras.optimizers import RMSprop\n",
    "from keras.preprocessing.text import Tokenizer\n",
    "from keras.preprocessing import sequence\n",
    "from tensorflow.keras.utils import to_categorical\n",
    "from keras.callbacks import EarlyStopping\n",
    "from keras.models import load_model\n",
    "import warnings\n",
    "import nltk\n",
    "from nltk.corpus import stopwords\n",
    "%matplotlib inline\n",
    "warnings.filterwarnings('ignore')"
   ]
  },
  {
   "cell_type": "code",
   "execution_count": 2,
   "metadata": {
    "_uuid": "aca2f1d9da3f35d104763166fe4d25448410d8f2"
   },
   "outputs": [
    {
     "data": {
      "text/html": [
       "<div>\n",
       "<style scoped>\n",
       "    .dataframe tbody tr th:only-of-type {\n",
       "        vertical-align: middle;\n",
       "    }\n",
       "\n",
       "    .dataframe tbody tr th {\n",
       "        vertical-align: top;\n",
       "    }\n",
       "\n",
       "    .dataframe thead th {\n",
       "        text-align: right;\n",
       "    }\n",
       "</style>\n",
       "<table border=\"1\" class=\"dataframe\">\n",
       "  <thead>\n",
       "    <tr style=\"text-align: right;\">\n",
       "      <th></th>\n",
       "      <th>headline</th>\n",
       "      <th>Label</th>\n",
       "    </tr>\n",
       "  </thead>\n",
       "  <tbody>\n",
       "    <tr>\n",
       "      <th>0</th>\n",
       "      <td>मेलबर्न एयरपोर्ट पर घंटों फंसे नोवाक जोकोविच, ...</td>\n",
       "      <td>Sports</td>\n",
       "    </tr>\n",
       "    <tr>\n",
       "      <th>1</th>\n",
       "      <td>अर्जेंटीना के स्टार फुटबॉलर लियोनल मेसी कोविड-...</td>\n",
       "      <td>Sports</td>\n",
       "    </tr>\n",
       "    <tr>\n",
       "      <th>2</th>\n",
       "      <td>SAI का बड़ा फैसला, कैंपों और प्रैक्टिस सेंटर म...</td>\n",
       "      <td>Sports</td>\n",
       "    </tr>\n",
       "    <tr>\n",
       "      <th>3</th>\n",
       "      <td>Pro Kabaddi League: ऑलराउंडर रोहित गूलिया के द...</td>\n",
       "      <td>Sports</td>\n",
       "    </tr>\n",
       "    <tr>\n",
       "      <th>4</th>\n",
       "      <td>टेनिस: टाटा ओपन महाराष्ट्र में भारत के युकी भा...</td>\n",
       "      <td>Sports</td>\n",
       "    </tr>\n",
       "  </tbody>\n",
       "</table>\n",
       "</div>"
      ],
      "text/plain": [
       "                                            headline   Label\n",
       "0  मेलबर्न एयरपोर्ट पर घंटों फंसे नोवाक जोकोविच, ...  Sports\n",
       "1  अर्जेंटीना के स्टार फुटबॉलर लियोनल मेसी कोविड-...  Sports\n",
       "2  SAI का बड़ा फैसला, कैंपों और प्रैक्टिस सेंटर म...  Sports\n",
       "3  Pro Kabaddi League: ऑलराउंडर रोहित गूलिया के द...  Sports\n",
       "4  टेनिस: टाटा ओपन महाराष्ट्र में भारत के युकी भा...  Sports"
      ]
     },
     "execution_count": 2,
     "metadata": {},
     "output_type": "execute_result"
    }
   ],
   "source": [
    "df = pd.read_csv('hindi-train.csv')\n",
    "df.head()"
   ]
  },
  {
   "cell_type": "code",
   "execution_count": 3,
   "metadata": {},
   "outputs": [],
   "source": [
    "def count_length():\n",
    "    df['word_count'] = df['headline'].apply(lambda x: len(str(x).split(\" \")))"
   ]
  },
  {
   "cell_type": "code",
   "execution_count": 4,
   "metadata": {},
   "outputs": [],
   "source": [
    "count_length()"
   ]
  },
  {
   "cell_type": "code",
   "execution_count": 5,
   "metadata": {},
   "outputs": [
    {
     "data": {
      "text/html": [
       "<div>\n",
       "<style scoped>\n",
       "    .dataframe tbody tr th:only-of-type {\n",
       "        vertical-align: middle;\n",
       "    }\n",
       "\n",
       "    .dataframe tbody tr th {\n",
       "        vertical-align: top;\n",
       "    }\n",
       "\n",
       "    .dataframe thead th {\n",
       "        text-align: right;\n",
       "    }\n",
       "</style>\n",
       "<table border=\"1\" class=\"dataframe\">\n",
       "  <thead>\n",
       "    <tr style=\"text-align: right;\">\n",
       "      <th></th>\n",
       "      <th>headline</th>\n",
       "      <th>Label</th>\n",
       "      <th>word_count</th>\n",
       "    </tr>\n",
       "  </thead>\n",
       "  <tbody>\n",
       "    <tr>\n",
       "      <th>0</th>\n",
       "      <td>मेलबर्न एयरपोर्ट पर घंटों फंसे नोवाक जोकोविच, ...</td>\n",
       "      <td>Sports</td>\n",
       "      <td>19</td>\n",
       "    </tr>\n",
       "    <tr>\n",
       "      <th>1</th>\n",
       "      <td>अर्जेंटीना के स्टार फुटबॉलर लियोनल मेसी कोविड-...</td>\n",
       "      <td>Sports</td>\n",
       "      <td>17</td>\n",
       "    </tr>\n",
       "    <tr>\n",
       "      <th>2</th>\n",
       "      <td>SAI का बड़ा फैसला, कैंपों और प्रैक्टिस सेंटर म...</td>\n",
       "      <td>Sports</td>\n",
       "      <td>18</td>\n",
       "    </tr>\n",
       "    <tr>\n",
       "      <th>3</th>\n",
       "      <td>Pro Kabaddi League: ऑलराउंडर रोहित गूलिया के द...</td>\n",
       "      <td>Sports</td>\n",
       "      <td>20</td>\n",
       "    </tr>\n",
       "    <tr>\n",
       "      <th>4</th>\n",
       "      <td>टेनिस: टाटा ओपन महाराष्ट्र में भारत के युकी भा...</td>\n",
       "      <td>Sports</td>\n",
       "      <td>13</td>\n",
       "    </tr>\n",
       "    <tr>\n",
       "      <th>5</th>\n",
       "      <td>Pro Kabaddi League: पटना पायरेट्स और बंगाल वॉर...</td>\n",
       "      <td>Sports</td>\n",
       "      <td>17</td>\n",
       "    </tr>\n",
       "    <tr>\n",
       "      <th>6</th>\n",
       "      <td>I League: भारतीय फुटबॉल में कोरोना विस्फोट, AI...</td>\n",
       "      <td>Sports</td>\n",
       "      <td>17</td>\n",
       "    </tr>\n",
       "    <tr>\n",
       "      <th>7</th>\n",
       "      <td>'दो चैंपियन' के साथ ट्रेनिंग करते नजर आए शिखर ...</td>\n",
       "      <td>Sports</td>\n",
       "      <td>19</td>\n",
       "    </tr>\n",
       "    <tr>\n",
       "      <th>8</th>\n",
       "      <td>IND vs SA: जोहानिसबर्ग टेस्ट में पुजारा और रहा...</td>\n",
       "      <td>Sports</td>\n",
       "      <td>21</td>\n",
       "    </tr>\n",
       "    <tr>\n",
       "      <th>9</th>\n",
       "      <td>कप्तानी विवाद पर पूर्व पाक कप्तान सलमान बट ने ...</td>\n",
       "      <td>Sports</td>\n",
       "      <td>19</td>\n",
       "    </tr>\n",
       "  </tbody>\n",
       "</table>\n",
       "</div>"
      ],
      "text/plain": [
       "                                            headline   Label  word_count\n",
       "0  मेलबर्न एयरपोर्ट पर घंटों फंसे नोवाक जोकोविच, ...  Sports          19\n",
       "1  अर्जेंटीना के स्टार फुटबॉलर लियोनल मेसी कोविड-...  Sports          17\n",
       "2  SAI का बड़ा फैसला, कैंपों और प्रैक्टिस सेंटर म...  Sports          18\n",
       "3  Pro Kabaddi League: ऑलराउंडर रोहित गूलिया के द...  Sports          20\n",
       "4  टेनिस: टाटा ओपन महाराष्ट्र में भारत के युकी भा...  Sports          13\n",
       "5  Pro Kabaddi League: पटना पायरेट्स और बंगाल वॉर...  Sports          17\n",
       "6  I League: भारतीय फुटबॉल में कोरोना विस्फोट, AI...  Sports          17\n",
       "7  'दो चैंपियन' के साथ ट्रेनिंग करते नजर आए शिखर ...  Sports          19\n",
       "8  IND vs SA: जोहानिसबर्ग टेस्ट में पुजारा और रहा...  Sports          21\n",
       "9  कप्तानी विवाद पर पूर्व पाक कप्तान सलमान बट ने ...  Sports          19"
      ]
     },
     "execution_count": 5,
     "metadata": {},
     "output_type": "execute_result"
    }
   ],
   "source": [
    "df.head(10)"
   ]
  },
  {
   "cell_type": "code",
   "execution_count": 6,
   "metadata": {},
   "outputs": [],
   "source": [
    "stopwords_hi = ['तुम','मेरी','मुझे','क्योंकि','हम','प्रति','अबकी','आगे','माननीय','शहर','बताएं','कौनसी','क्लिक','किसकी','बड़े','मैं','and','रही','आज','लें','आपके','मिलकर','सब','मेरे','जी','श्री','वैसा','आपका','अंदर', 'अत', 'अपना', 'अपनी', 'अपने', 'अभी', 'आदि', 'आप', 'इत्यादि', 'इन', 'इनका', 'इन्हीं', 'इन्हें', 'इन्हों', 'इस', 'इसका', 'इसकी', 'इसके', 'इसमें', 'इसी', 'इसे', 'उन', 'उनका', 'उनकी', 'उनके', 'उनको', 'उन्हीं', 'उन्हें', 'उन्हों', 'उस', 'उसके', 'उसी', 'उसे', 'एक', 'एवं', 'एस', 'ऐसे', 'और', 'कई', 'कर','करता', 'करते', 'करना', 'करने', 'करें', 'कहते', 'कहा', 'का', 'काफ़ी', 'कि', 'कितना', 'किन्हें', 'किन्हों', 'किया', 'किर', 'किस', 'किसी', 'किसे', 'की', 'कुछ', 'कुल', 'के', 'को', 'कोई', 'कौन', 'कौनसा', 'गया', 'घर', 'जब', 'जहाँ', 'जा', 'जितना', 'जिन', 'जिन्हें', 'जिन्हों', 'जिस', 'जिसे', 'जीधर', 'जैसा', 'जैसे', 'जो', 'तक', 'तब', 'तरह', 'तिन', 'तिन्ह', 'तनह', 'तस', 'तस', 'त', 'थ', 'थ', 'थ', 'दबर', 'दय', 'दसर', 'दसर', 'द', 'दवर', 'न', 'नह', 'न', 'नहयत', 'नच', 'न', 'पर', 'पर', 'पहल', 'पर', 'प', 'फर', 'बन', 'बह', 'बहत', 'बद', 'बल', 'बलकल', 'भ', 'भतर', 'मगर', 'मन', 'म', 'म', 'यद', 'यह', 'यह', 'यह', 'य', 'यह', 'य', 'रख', 'रह', 'रह', 'ऱवस', 'लए', 'लय', 'लकन', 'व', 'वरग', 'वह', 'वह', 'वह', 'वह', 'वल', 'वह', 'व', 'वग़रह', 'सग', 'सकत', 'सकत', 'सबस', 'सभ', 'सथ', 'सबत', 'सभ', 'सर', 'स', 'स', 'ह', 'हआ', 'हई', 'हए', 'ह', 'ह', 'ह', 'हत', 'हत', 'हत', 'हन', 'हन', 'अपन', 'जस', 'हत', 'सभ', 'तह', 'इह', 'दवर', 'इस', 'कह', 'थ', 'उह', 'ओर', 'जह', 'वह', 'अभ', 'बन', 'ह', 'उह', 'उह', 'ह', 'वगरह', 'एस', 'रवस', 'कन', 'नच', 'कफ', 'उस', 'पर', 'भतर', 'ह', 'बह', 'वह', 'कइ', 'यह', 'जह', 'तह', 'कस', 'कइ', 'यह', 'इह', 'जधर', 'इह', 'अद', 'इतयद', 'हइ', 'कनस', 'इसक', 'दसर', 'जह', 'अप', 'कह', 'उनक', 'भ', 'वरग', 'हअ', 'जस', 'नह']\n",
    "stopwords_en = stopwords.words('english')\n",
    "punctuations = [\".\",\",\",\"?\",\"/\",\"<\",\">\",\"!\",\":\",\";\",\"'\",\"[\",\"]\",\"{\",\"}\",\"(\",\")\",\"-\",\"@\",\"#\",\"$\",\"%\",\"^\",\"&\",\"*\"]\n",
    "stopwords_lst = stopwords_hi + stopwords_en + punctuations"
   ]
  },
  {
   "cell_type": "code",
   "execution_count": 7,
   "metadata": {},
   "outputs": [],
   "source": [
    "df['label_id'] = df.Label.factorize()[0]\n",
    "\n",
    "def preprocess_text(text):\n",
    "    text = text.lower()\n",
    "    text = re.sub('[a-zA-Z0-9]', '',text)\n",
    "    text = re.sub(\"((www.[^s]+)|(https?://[^s]+))\",'',text)\n",
    "    text = re.sub(\"@[^s]+\",'',text)\n",
    "    text = re.sub(\"[s]+\", ' ', text)\n",
    "    text = re.sub(r\"#([^s]+)\", r'', text)\n",
    "    text = text.strip('\"')\n",
    "    return text "
   ]
  },
  {
   "cell_type": "code",
   "execution_count": 8,
   "metadata": {},
   "outputs": [],
   "source": [
    "df['headline'] = df.headline.apply(lambda x: preprocess_text(x))\n",
    "count_length()"
   ]
  },
  {
   "cell_type": "code",
   "execution_count": 9,
   "metadata": {},
   "outputs": [
    {
     "data": {
      "text/html": [
       "<div>\n",
       "<style scoped>\n",
       "    .dataframe tbody tr th:only-of-type {\n",
       "        vertical-align: middle;\n",
       "    }\n",
       "\n",
       "    .dataframe tbody tr th {\n",
       "        vertical-align: top;\n",
       "    }\n",
       "\n",
       "    .dataframe thead th {\n",
       "        text-align: right;\n",
       "    }\n",
       "</style>\n",
       "<table border=\"1\" class=\"dataframe\">\n",
       "  <thead>\n",
       "    <tr style=\"text-align: right;\">\n",
       "      <th></th>\n",
       "      <th>headline</th>\n",
       "      <th>Label</th>\n",
       "      <th>word_count</th>\n",
       "      <th>label_id</th>\n",
       "    </tr>\n",
       "  </thead>\n",
       "  <tbody>\n",
       "    <tr>\n",
       "      <th>0</th>\n",
       "      <td>मेलबर्न एयरपोर्ट पर घंटों फंसे नोवाक जोकोविच, ...</td>\n",
       "      <td>Sports</td>\n",
       "      <td>19</td>\n",
       "      <td>0</td>\n",
       "    </tr>\n",
       "    <tr>\n",
       "      <th>1</th>\n",
       "      <td>अर्जेंटीना के स्टार फुटबॉलर लियोनल मेसी कोविड-...</td>\n",
       "      <td>Sports</td>\n",
       "      <td>17</td>\n",
       "      <td>0</td>\n",
       "    </tr>\n",
       "    <tr>\n",
       "      <th>2</th>\n",
       "      <td>का बड़ा फैसला, कैंपों और प्रैक्टिस सेंटर में ...</td>\n",
       "      <td>Sports</td>\n",
       "      <td>18</td>\n",
       "      <td>0</td>\n",
       "    </tr>\n",
       "    <tr>\n",
       "      <th>3</th>\n",
       "      <td>: ऑलराउंडर रोहित गूलिया के दम पर हरियाणा स्ट...</td>\n",
       "      <td>Sports</td>\n",
       "      <td>20</td>\n",
       "      <td>0</td>\n",
       "    </tr>\n",
       "    <tr>\n",
       "      <th>4</th>\n",
       "      <td>टेनिस: टाटा ओपन महाराष्ट्र में भारत के युकी भा...</td>\n",
       "      <td>Sports</td>\n",
       "      <td>13</td>\n",
       "      <td>0</td>\n",
       "    </tr>\n",
       "    <tr>\n",
       "      <th>5</th>\n",
       "      <td>: पटना पायरेट्स और बंगाल वॉरियर्स को मिली जी...</td>\n",
       "      <td>Sports</td>\n",
       "      <td>17</td>\n",
       "      <td>0</td>\n",
       "    </tr>\n",
       "    <tr>\n",
       "      <th>6</th>\n",
       "      <td>: भारतीय फुटबॉल में कोरोना विस्फोट,  ने  सप्त...</td>\n",
       "      <td>Sports</td>\n",
       "      <td>17</td>\n",
       "      <td>0</td>\n",
       "    </tr>\n",
       "    <tr>\n",
       "      <th>7</th>\n",
       "      <td>'दो चैंपियन' के साथ ट्रेनिंग करते नजर आए शिखर ...</td>\n",
       "      <td>Sports</td>\n",
       "      <td>19</td>\n",
       "      <td>0</td>\n",
       "    </tr>\n",
       "    <tr>\n",
       "      <th>8</th>\n",
       "      <td>: जोहानिसबर्ग टेस्ट में पुजारा और रहाणे रहे ...</td>\n",
       "      <td>Sports</td>\n",
       "      <td>21</td>\n",
       "      <td>0</td>\n",
       "    </tr>\n",
       "    <tr>\n",
       "      <th>9</th>\n",
       "      <td>कप्तानी विवाद पर पूर्व पाक कप्तान सलमान बट ने ...</td>\n",
       "      <td>Sports</td>\n",
       "      <td>19</td>\n",
       "      <td>0</td>\n",
       "    </tr>\n",
       "  </tbody>\n",
       "</table>\n",
       "</div>"
      ],
      "text/plain": [
       "                                            headline   Label  word_count  \\\n",
       "0  मेलबर्न एयरपोर्ट पर घंटों फंसे नोवाक जोकोविच, ...  Sports          19   \n",
       "1  अर्जेंटीना के स्टार फुटबॉलर लियोनल मेसी कोविड-...  Sports          17   \n",
       "2   का बड़ा फैसला, कैंपों और प्रैक्टिस सेंटर में ...  Sports          18   \n",
       "3    : ऑलराउंडर रोहित गूलिया के दम पर हरियाणा स्ट...  Sports          20   \n",
       "4  टेनिस: टाटा ओपन महाराष्ट्र में भारत के युकी भा...  Sports          13   \n",
       "5    : पटना पायरेट्स और बंगाल वॉरियर्स को मिली जी...  Sports          17   \n",
       "6   : भारतीय फुटबॉल में कोरोना विस्फोट,  ने  सप्त...  Sports          17   \n",
       "7  'दो चैंपियन' के साथ ट्रेनिंग करते नजर आए शिखर ...  Sports          19   \n",
       "8    : जोहानिसबर्ग टेस्ट में पुजारा और रहाणे रहे ...  Sports          21   \n",
       "9  कप्तानी विवाद पर पूर्व पाक कप्तान सलमान बट ने ...  Sports          19   \n",
       "\n",
       "   label_id  \n",
       "0         0  \n",
       "1         0  \n",
       "2         0  \n",
       "3         0  \n",
       "4         0  \n",
       "5         0  \n",
       "6         0  \n",
       "7         0  \n",
       "8         0  \n",
       "9         0  "
      ]
     },
     "execution_count": 9,
     "metadata": {},
     "output_type": "execute_result"
    }
   ],
   "source": [
    "df.head(10)"
   ]
  },
  {
   "cell_type": "code",
   "execution_count": 10,
   "metadata": {},
   "outputs": [],
   "source": [
    "from indicnlp.tokenize import indic_tokenize\n",
    "def tokenization(indic_string):\n",
    "    tokens = []\n",
    "    for t in indic_tokenize.trivial_tokenize(indic_string):\n",
    "        tokens.append(t)\n",
    "    return tokens"
   ]
  },
  {
   "cell_type": "code",
   "execution_count": 11,
   "metadata": {},
   "outputs": [
    {
     "data": {
      "text/html": [
       "<div>\n",
       "<style scoped>\n",
       "    .dataframe tbody tr th:only-of-type {\n",
       "        vertical-align: middle;\n",
       "    }\n",
       "\n",
       "    .dataframe tbody tr th {\n",
       "        vertical-align: top;\n",
       "    }\n",
       "\n",
       "    .dataframe thead th {\n",
       "        text-align: right;\n",
       "    }\n",
       "</style>\n",
       "<table border=\"1\" class=\"dataframe\">\n",
       "  <thead>\n",
       "    <tr style=\"text-align: right;\">\n",
       "      <th></th>\n",
       "      <th>headline</th>\n",
       "      <th>Label</th>\n",
       "      <th>word_count</th>\n",
       "      <th>label_id</th>\n",
       "    </tr>\n",
       "  </thead>\n",
       "  <tbody>\n",
       "    <tr>\n",
       "      <th>0</th>\n",
       "      <td>[मेलबर्न, एयरपोर्ट, पर, घंटों, फंसे, नोवाक, जो...</td>\n",
       "      <td>Sports</td>\n",
       "      <td>19</td>\n",
       "      <td>0</td>\n",
       "    </tr>\n",
       "    <tr>\n",
       "      <th>1</th>\n",
       "      <td>[अर्जेंटीना, के, स्टार, फुटबॉलर, लियोनल, मेसी,...</td>\n",
       "      <td>Sports</td>\n",
       "      <td>17</td>\n",
       "      <td>0</td>\n",
       "    </tr>\n",
       "    <tr>\n",
       "      <th>2</th>\n",
       "      <td>[का, बड़ा, फैसला, ,, कैंपों, और, प्रैक्टिस, से...</td>\n",
       "      <td>Sports</td>\n",
       "      <td>18</td>\n",
       "      <td>0</td>\n",
       "    </tr>\n",
       "    <tr>\n",
       "      <th>3</th>\n",
       "      <td>[:, ऑलराउंडर, रोहित, गूलिया, के, दम, पर, हरिया...</td>\n",
       "      <td>Sports</td>\n",
       "      <td>20</td>\n",
       "      <td>0</td>\n",
       "    </tr>\n",
       "    <tr>\n",
       "      <th>4</th>\n",
       "      <td>[टेनिस, :, टाटा, ओपन, महाराष्ट्र, में, भारत, क...</td>\n",
       "      <td>Sports</td>\n",
       "      <td>13</td>\n",
       "      <td>0</td>\n",
       "    </tr>\n",
       "    <tr>\n",
       "      <th>5</th>\n",
       "      <td>[:, पटना, पायरेट्स, और, बंगाल, वॉरियर्स, को, म...</td>\n",
       "      <td>Sports</td>\n",
       "      <td>17</td>\n",
       "      <td>0</td>\n",
       "    </tr>\n",
       "    <tr>\n",
       "      <th>6</th>\n",
       "      <td>[:, भारतीय, फुटबॉल, में, कोरोना, विस्फोट, ,, न...</td>\n",
       "      <td>Sports</td>\n",
       "      <td>17</td>\n",
       "      <td>0</td>\n",
       "    </tr>\n",
       "    <tr>\n",
       "      <th>7</th>\n",
       "      <td>[', दो, चैंपियन, ', के, साथ, ट्रेनिंग, करते, न...</td>\n",
       "      <td>Sports</td>\n",
       "      <td>19</td>\n",
       "      <td>0</td>\n",
       "    </tr>\n",
       "    <tr>\n",
       "      <th>8</th>\n",
       "      <td>[:, जोहानिसबर्ग, टेस्ट, में, पुजारा, और, रहाणे...</td>\n",
       "      <td>Sports</td>\n",
       "      <td>21</td>\n",
       "      <td>0</td>\n",
       "    </tr>\n",
       "    <tr>\n",
       "      <th>9</th>\n",
       "      <td>[कप्तानी, विवाद, पर, पूर्व, पाक, कप्तान, सलमान...</td>\n",
       "      <td>Sports</td>\n",
       "      <td>19</td>\n",
       "      <td>0</td>\n",
       "    </tr>\n",
       "  </tbody>\n",
       "</table>\n",
       "</div>"
      ],
      "text/plain": [
       "                                            headline   Label  word_count  \\\n",
       "0  [मेलबर्न, एयरपोर्ट, पर, घंटों, फंसे, नोवाक, जो...  Sports          19   \n",
       "1  [अर्जेंटीना, के, स्टार, फुटबॉलर, लियोनल, मेसी,...  Sports          17   \n",
       "2  [का, बड़ा, फैसला, ,, कैंपों, और, प्रैक्टिस, से...  Sports          18   \n",
       "3  [:, ऑलराउंडर, रोहित, गूलिया, के, दम, पर, हरिया...  Sports          20   \n",
       "4  [टेनिस, :, टाटा, ओपन, महाराष्ट्र, में, भारत, क...  Sports          13   \n",
       "5  [:, पटना, पायरेट्स, और, बंगाल, वॉरियर्स, को, म...  Sports          17   \n",
       "6  [:, भारतीय, फुटबॉल, में, कोरोना, विस्फोट, ,, न...  Sports          17   \n",
       "7  [', दो, चैंपियन, ', के, साथ, ट्रेनिंग, करते, न...  Sports          19   \n",
       "8  [:, जोहानिसबर्ग, टेस्ट, में, पुजारा, और, रहाणे...  Sports          21   \n",
       "9  [कप्तानी, विवाद, पर, पूर्व, पाक, कप्तान, सलमान...  Sports          19   \n",
       "\n",
       "   label_id  \n",
       "0         0  \n",
       "1         0  \n",
       "2         0  \n",
       "3         0  \n",
       "4         0  \n",
       "5         0  \n",
       "6         0  \n",
       "7         0  \n",
       "8         0  \n",
       "9         0  "
      ]
     },
     "execution_count": 11,
     "metadata": {},
     "output_type": "execute_result"
    }
   ],
   "source": [
    "df['headline'] = df.headline.apply(lambda x: tokenization(x))\n",
    "df.head(10)"
   ]
  },
  {
   "cell_type": "code",
   "execution_count": 12,
   "metadata": {},
   "outputs": [
    {
     "data": {
      "text/html": [
       "<div>\n",
       "<style scoped>\n",
       "    .dataframe tbody tr th:only-of-type {\n",
       "        vertical-align: middle;\n",
       "    }\n",
       "\n",
       "    .dataframe tbody tr th {\n",
       "        vertical-align: top;\n",
       "    }\n",
       "\n",
       "    .dataframe thead th {\n",
       "        text-align: right;\n",
       "    }\n",
       "</style>\n",
       "<table border=\"1\" class=\"dataframe\">\n",
       "  <thead>\n",
       "    <tr style=\"text-align: right;\">\n",
       "      <th></th>\n",
       "      <th>headline</th>\n",
       "      <th>Label</th>\n",
       "      <th>word_count</th>\n",
       "      <th>label_id</th>\n",
       "    </tr>\n",
       "  </thead>\n",
       "  <tbody>\n",
       "    <tr>\n",
       "      <th>0</th>\n",
       "      <td>[मेलबर्न, एयरपोर्ट, घंटों, फंसे, नोवाक, जोकोवि...</td>\n",
       "      <td>Sports</td>\n",
       "      <td>16</td>\n",
       "      <td>0</td>\n",
       "    </tr>\n",
       "    <tr>\n",
       "      <th>1</th>\n",
       "      <td>[अर्जेंटीना, स्टार, फुटबॉलर, लियोनल, मेसी, कोव...</td>\n",
       "      <td>Sports</td>\n",
       "      <td>14</td>\n",
       "      <td>0</td>\n",
       "    </tr>\n",
       "    <tr>\n",
       "      <th>2</th>\n",
       "      <td>[बड़ा, फैसला, कैंपों, प्रैक्टिस, सेंटर, में, प...</td>\n",
       "      <td>Sports</td>\n",
       "      <td>13</td>\n",
       "      <td>0</td>\n",
       "    </tr>\n",
       "    <tr>\n",
       "      <th>3</th>\n",
       "      <td>[ऑलराउंडर, रोहित, गूलिया, दम, हरियाणा, स्टीलर्...</td>\n",
       "      <td>Sports</td>\n",
       "      <td>13</td>\n",
       "      <td>0</td>\n",
       "    </tr>\n",
       "    <tr>\n",
       "      <th>4</th>\n",
       "      <td>[टेनिस, टाटा, ओपन, महाराष्ट्र, में, भारत, युकी...</td>\n",
       "      <td>Sports</td>\n",
       "      <td>10</td>\n",
       "      <td>0</td>\n",
       "    </tr>\n",
       "    <tr>\n",
       "      <th>5</th>\n",
       "      <td>[पटना, पायरेट्स, बंगाल, वॉरियर्स, मिली, जीत, ट...</td>\n",
       "      <td>Sports</td>\n",
       "      <td>9</td>\n",
       "      <td>0</td>\n",
       "    </tr>\n",
       "    <tr>\n",
       "      <th>6</th>\n",
       "      <td>[भारतीय, फुटबॉल, में, कोरोना, विस्फोट, ने, सप्...</td>\n",
       "      <td>Sports</td>\n",
       "      <td>10</td>\n",
       "      <td>0</td>\n",
       "    </tr>\n",
       "    <tr>\n",
       "      <th>7</th>\n",
       "      <td>[दो, चैंपियन, साथ, ट्रेनिंग, नजर, आए, शिखर, धव...</td>\n",
       "      <td>Sports</td>\n",
       "      <td>15</td>\n",
       "      <td>0</td>\n",
       "    </tr>\n",
       "    <tr>\n",
       "      <th>8</th>\n",
       "      <td>[जोहानिसबर्ग, टेस्ट, में, पुजारा, रहाणे, रहे, ...</td>\n",
       "      <td>Sports</td>\n",
       "      <td>15</td>\n",
       "      <td>0</td>\n",
       "    </tr>\n",
       "    <tr>\n",
       "      <th>9</th>\n",
       "      <td>[कप्तानी, विवाद, पूर्व, पाक, कप्तान, सलमान, बट...</td>\n",
       "      <td>Sports</td>\n",
       "      <td>15</td>\n",
       "      <td>0</td>\n",
       "    </tr>\n",
       "  </tbody>\n",
       "</table>\n",
       "</div>"
      ],
      "text/plain": [
       "                                            headline   Label  word_count  \\\n",
       "0  [मेलबर्न, एयरपोर्ट, घंटों, फंसे, नोवाक, जोकोवि...  Sports          16   \n",
       "1  [अर्जेंटीना, स्टार, फुटबॉलर, लियोनल, मेसी, कोव...  Sports          14   \n",
       "2  [बड़ा, फैसला, कैंपों, प्रैक्टिस, सेंटर, में, प...  Sports          13   \n",
       "3  [ऑलराउंडर, रोहित, गूलिया, दम, हरियाणा, स्टीलर्...  Sports          13   \n",
       "4  [टेनिस, टाटा, ओपन, महाराष्ट्र, में, भारत, युकी...  Sports          10   \n",
       "5  [पटना, पायरेट्स, बंगाल, वॉरियर्स, मिली, जीत, ट...  Sports           9   \n",
       "6  [भारतीय, फुटबॉल, में, कोरोना, विस्फोट, ने, सप्...  Sports          10   \n",
       "7  [दो, चैंपियन, साथ, ट्रेनिंग, नजर, आए, शिखर, धव...  Sports          15   \n",
       "8  [जोहानिसबर्ग, टेस्ट, में, पुजारा, रहाणे, रहे, ...  Sports          15   \n",
       "9  [कप्तानी, विवाद, पूर्व, पाक, कप्तान, सलमान, बट...  Sports          15   \n",
       "\n",
       "   label_id  \n",
       "0         0  \n",
       "1         0  \n",
       "2         0  \n",
       "3         0  \n",
       "4         0  \n",
       "5         0  \n",
       "6         0  \n",
       "7         0  \n",
       "8         0  \n",
       "9         0  "
      ]
     },
     "execution_count": 12,
     "metadata": {},
     "output_type": "execute_result"
    }
   ],
   "source": [
    "for i in range(len(df)):\n",
    "    df['headline'][i]=[ele for ele in df['headline'][i] if ele not in (stopwords_lst)]\n",
    "count_length()\n",
    "df.head(10)"
   ]
  },
  {
   "cell_type": "code",
   "execution_count": 13,
   "metadata": {},
   "outputs": [
    {
     "data": {
      "text/html": [
       "<div>\n",
       "<style scoped>\n",
       "    .dataframe tbody tr th:only-of-type {\n",
       "        vertical-align: middle;\n",
       "    }\n",
       "\n",
       "    .dataframe tbody tr th {\n",
       "        vertical-align: top;\n",
       "    }\n",
       "\n",
       "    .dataframe thead th {\n",
       "        text-align: right;\n",
       "    }\n",
       "</style>\n",
       "<table border=\"1\" class=\"dataframe\">\n",
       "  <thead>\n",
       "    <tr style=\"text-align: right;\">\n",
       "      <th></th>\n",
       "      <th>headline</th>\n",
       "      <th>Label</th>\n",
       "      <th>word_count</th>\n",
       "      <th>label_id</th>\n",
       "    </tr>\n",
       "  </thead>\n",
       "  <tbody>\n",
       "    <tr>\n",
       "      <th>0</th>\n",
       "      <td>मेलबर्न एयरपोर्ट घंटों फंसे नोवाक जोकोविच फिर ...</td>\n",
       "      <td>Sports</td>\n",
       "      <td>16</td>\n",
       "      <td>0</td>\n",
       "    </tr>\n",
       "    <tr>\n",
       "      <th>1</th>\n",
       "      <td>अर्जेंटीना स्टार फुटबॉलर लियोनल मेसी कोविड टेस...</td>\n",
       "      <td>Sports</td>\n",
       "      <td>14</td>\n",
       "      <td>0</td>\n",
       "    </tr>\n",
       "    <tr>\n",
       "      <th>2</th>\n",
       "      <td>बड़ा फैसला कैंपों प्रैक्टिस सेंटर में पहुंचने ...</td>\n",
       "      <td>Sports</td>\n",
       "      <td>13</td>\n",
       "      <td>0</td>\n",
       "    </tr>\n",
       "    <tr>\n",
       "      <th>3</th>\n",
       "      <td>ऑलराउंडर रोहित गूलिया दम हरियाणा स्टीलर्स ने य...</td>\n",
       "      <td>Sports</td>\n",
       "      <td>13</td>\n",
       "      <td>0</td>\n",
       "    </tr>\n",
       "    <tr>\n",
       "      <th>4</th>\n",
       "      <td>टेनिस टाटा ओपन महाराष्ट्र में भारत युकी भांबरी...</td>\n",
       "      <td>Sports</td>\n",
       "      <td>10</td>\n",
       "      <td>0</td>\n",
       "    </tr>\n",
       "    <tr>\n",
       "      <th>5</th>\n",
       "      <td>पटना पायरेट्स बंगाल वॉरियर्स मिली जीत टाइटंस त...</td>\n",
       "      <td>Sports</td>\n",
       "      <td>9</td>\n",
       "      <td>0</td>\n",
       "    </tr>\n",
       "    <tr>\n",
       "      <th>6</th>\n",
       "      <td>भारतीय फुटबॉल में कोरोना विस्फोट ने सप्ताह लिए...</td>\n",
       "      <td>Sports</td>\n",
       "      <td>10</td>\n",
       "      <td>0</td>\n",
       "    </tr>\n",
       "    <tr>\n",
       "      <th>7</th>\n",
       "      <td>दो चैंपियन साथ ट्रेनिंग नजर आए शिखर धवन रोहित ...</td>\n",
       "      <td>Sports</td>\n",
       "      <td>15</td>\n",
       "      <td>0</td>\n",
       "    </tr>\n",
       "    <tr>\n",
       "      <th>8</th>\n",
       "      <td>जोहानिसबर्ग टेस्ट में पुजारा रहाणे रहे फ्लॉप ट...</td>\n",
       "      <td>Sports</td>\n",
       "      <td>15</td>\n",
       "      <td>0</td>\n",
       "    </tr>\n",
       "    <tr>\n",
       "      <th>9</th>\n",
       "      <td>कप्तानी विवाद पूर्व पाक कप्तान सलमान बट ने राह...</td>\n",
       "      <td>Sports</td>\n",
       "      <td>15</td>\n",
       "      <td>0</td>\n",
       "    </tr>\n",
       "  </tbody>\n",
       "</table>\n",
       "</div>"
      ],
      "text/plain": [
       "                                            headline   Label  word_count  \\\n",
       "0  मेलबर्न एयरपोर्ट घंटों फंसे नोवाक जोकोविच फिर ...  Sports          16   \n",
       "1  अर्जेंटीना स्टार फुटबॉलर लियोनल मेसी कोविड टेस...  Sports          14   \n",
       "2  बड़ा फैसला कैंपों प्रैक्टिस सेंटर में पहुंचने ...  Sports          13   \n",
       "3  ऑलराउंडर रोहित गूलिया दम हरियाणा स्टीलर्स ने य...  Sports          13   \n",
       "4  टेनिस टाटा ओपन महाराष्ट्र में भारत युकी भांबरी...  Sports          10   \n",
       "5  पटना पायरेट्स बंगाल वॉरियर्स मिली जीत टाइटंस त...  Sports           9   \n",
       "6  भारतीय फुटबॉल में कोरोना विस्फोट ने सप्ताह लिए...  Sports          10   \n",
       "7  दो चैंपियन साथ ट्रेनिंग नजर आए शिखर धवन रोहित ...  Sports          15   \n",
       "8  जोहानिसबर्ग टेस्ट में पुजारा रहाणे रहे फ्लॉप ट...  Sports          15   \n",
       "9  कप्तानी विवाद पूर्व पाक कप्तान सलमान बट ने राह...  Sports          15   \n",
       "\n",
       "   label_id  \n",
       "0         0  \n",
       "1         0  \n",
       "2         0  \n",
       "3         0  \n",
       "4         0  \n",
       "5         0  \n",
       "6         0  \n",
       "7         0  \n",
       "8         0  \n",
       "9         0  "
      ]
     },
     "execution_count": 13,
     "metadata": {},
     "output_type": "execute_result"
    }
   ],
   "source": [
    "df['headline'] = df['headline'].str.join(\" \")\n",
    "df.head(10)"
   ]
  },
  {
   "cell_type": "code",
   "execution_count": 14,
   "metadata": {
    "_uuid": "a1a345c1683e2fcc7173ecae867a5da87f2dde24",
    "tags": []
   },
   "outputs": [],
   "source": [
    "X = df['headline'].values\n",
    "Y = df['label_id']\n",
    "le = LabelEncoder()\n",
    "Y = le.fit_transform(Y)\n",
    "Y = Y.reshape(-1,1)"
   ]
  },
  {
   "cell_type": "code",
   "execution_count": 15,
   "metadata": {
    "_uuid": "aa3386af09469682c66cc53a1830a4e42f0e70b6",
    "scrolled": true,
    "tags": []
   },
   "outputs": [],
   "source": [
    "X_train,X_test,Y_train,Y_test = train_test_split(X,Y,test_size=0.20, random_state=42)\n",
    "max_words = 10000\n",
    "max_len = 200\n",
    "tok = Tokenizer(num_words=max_words)\n",
    "tok.fit_on_texts(X_train)\n",
    "sequences = tok.texts_to_sequences(X_train)\n",
    "sequences_matrix = sequence.pad_sequences(sequences,maxlen=max_len)\n",
    "def RNN():\n",
    "    inputs = Input(name='inputs',shape=[max_len])\n",
    "    layer = Embedding(max_words,50,input_length=max_len)(inputs)\n",
    "    layer = LSTM(64)(layer)\n",
    "    layer = Dense(256,name='FC1')(layer)\n",
    "    layer = Activation('relu')(layer)\n",
    "    layer = Dropout(0.5)(layer)\n",
    "    layer = Dense(7,name='out_layer')(layer)\n",
    "    layer = Activation('softmax')(layer)\n",
    "    model = Model(inputs=inputs,outputs=layer)\n",
    "    return model\n",
    "model = RNN()"
   ]
  },
  {
   "cell_type": "code",
   "execution_count": 16,
   "metadata": {},
   "outputs": [],
   "source": [
    "test_classes = []\n",
    "for i in range(len(Y_test)):\n",
    "    for j in range(len(Y_test[i])):\n",
    "        test_classes.append(Y_test[i][j]) "
   ]
  },
  {
   "cell_type": "code",
   "execution_count": 17,
   "metadata": {},
   "outputs": [
    {
     "name": "stdout",
     "output_type": "stream",
     "text": [
      "Epoch 1/10\n",
      "94/94 [==============================] - 55s 551ms/step - loss: 1.2042 - accuracy: 0.5022 - val_loss: 0.5319 - val_accuracy: 0.8153\n",
      "Epoch 2/10\n",
      "94/94 [==============================] - 59s 624ms/step - loss: 0.4222 - accuracy: 0.8382 - val_loss: 0.3398 - val_accuracy: 0.8603\n",
      "Epoch 3/10\n",
      "94/94 [==============================] - 65s 693ms/step - loss: 0.3241 - accuracy: 0.8723 - val_loss: 0.2757 - val_accuracy: 0.8772\n",
      "Epoch 4/10\n",
      "94/94 [==============================] - 52s 557ms/step - loss: 0.2346 - accuracy: 0.8906 - val_loss: 0.2586 - val_accuracy: 0.8863\n",
      "Epoch 5/10\n",
      "94/94 [==============================] - 51s 544ms/step - loss: 0.2091 - accuracy: 0.8988 - val_loss: 0.2587 - val_accuracy: 0.8858\n",
      "Epoch 6/10\n",
      "94/94 [==============================] - 56s 601ms/step - loss: 0.1931 - accuracy: 0.9028 - val_loss: 0.2548 - val_accuracy: 0.8875\n",
      "Epoch 7/10\n",
      "94/94 [==============================] - 54s 572ms/step - loss: 0.2394 - accuracy: 0.9001 - val_loss: 0.2498 - val_accuracy: 0.8863\n",
      "Epoch 8/10\n",
      "94/94 [==============================] - 51s 542ms/step - loss: 0.1766 - accuracy: 0.9089 - val_loss: 0.2756 - val_accuracy: 0.8855\n",
      "Epoch 9/10\n",
      "94/94 [==============================] - 48s 513ms/step - loss: 0.1712 - accuracy: 0.9079 - val_loss: 0.2814 - val_accuracy: 0.8855\n",
      "Epoch 10/10\n",
      "94/94 [==============================] - 53s 562ms/step - loss: 0.1667 - accuracy: 0.9105 - val_loss: 0.2874 - val_accuracy: 0.8828\n"
     ]
    }
   ],
   "source": [
    "model.compile(loss='sparse_categorical_crossentropy',optimizer=RMSprop(),metrics=['accuracy'])\n",
    "history = model.fit(sequences_matrix,Y_train,batch_size=256,epochs=10,\n",
    "          validation_split=0.2)"
   ]
  },
  {
   "cell_type": "code",
   "execution_count": 18,
   "metadata": {
    "_uuid": "80036135a11387d952becaf2fecf653a65c02328",
    "tags": []
   },
   "outputs": [
    {
     "name": "stdout",
     "output_type": "stream",
     "text": [
      "235/235 [==============================] - 8s 36ms/step - loss: 0.2994 - accuracy: 0.8727\n",
      "Accuracy: 0.87\n"
     ]
    }
   ],
   "source": [
    "test_sequences = tok.texts_to_sequences(X_test)\n",
    "test_sequences_matrix = sequence.pad_sequences(test_sequences,maxlen=max_len)\n",
    "accr = model.evaluate(test_sequences_matrix,Y_test)\n",
    "print('Accuracy: {:0.2f}'.format(accr[1]))"
   ]
  },
  {
   "cell_type": "code",
   "execution_count": 19,
   "metadata": {},
   "outputs": [],
   "source": [
    "model.save('HI_LSTM.h5')"
   ]
  },
  {
   "cell_type": "code",
   "execution_count": 20,
   "metadata": {},
   "outputs": [],
   "source": [
    "model = load_model('HI_LSTM.h5')"
   ]
  },
  {
   "cell_type": "code",
   "execution_count": 20,
   "metadata": {},
   "outputs": [],
   "source": [
    "predicted_categories = []\n",
    "preds = model.predict(test_sequences_matrix)\n",
    "for i in preds:\n",
    "    pred_classes = np.argsort(i)[-1:][::-1]\n",
    "    predicted_categories.append(pred_classes[0])"
   ]
  },
  {
   "cell_type": "code",
   "execution_count": 21,
   "metadata": {},
   "outputs": [
    {
     "name": "stdout",
     "output_type": "stream",
     "text": [
      "              precision    recall  f1-score   support\n",
      "\n",
      "           0       0.98      0.78      0.87      1523\n",
      "           1       0.73      0.83      0.78      1493\n",
      "           2       0.95      0.96      0.95      1477\n",
      "           3       0.95      0.98      0.96      1468\n",
      "           4       0.80      0.82      0.81      1539\n",
      "\n",
      "    accuracy                           0.87      7500\n",
      "   macro avg       0.88      0.87      0.87      7500\n",
      "weighted avg       0.88      0.87      0.87      7500\n",
      "\n"
     ]
    }
   ],
   "source": [
    "from sklearn.metrics import accuracy_score,confusion_matrix,classification_report\n",
    "report = classification_report(test_classes, predicted_categories)\n",
    "print(report)"
   ]
  },
  {
   "cell_type": "code",
   "execution_count": 22,
   "metadata": {},
   "outputs": [
    {
     "data": {
      "text/plain": [
       "array([[1191,  182,   16,   44,   90],\n",
       "       [   2, 1234,   37,    3,  217],\n",
       "       [   3,   26, 1421,   22,    5],\n",
       "       [   6,    1,   21, 1432,    8],\n",
       "       [  17,  236,    8,   11, 1267]], dtype=int64)"
      ]
     },
     "execution_count": 22,
     "metadata": {},
     "output_type": "execute_result"
    }
   ],
   "source": [
    "mat = confusion_matrix(test_classes, predicted_categories)\n",
    "mat"
   ]
  },
  {
   "cell_type": "code",
   "execution_count": 23,
   "metadata": {},
   "outputs": [],
   "source": [
    "id_to_category = {0:'sports', 1:'tech', 2:'business', 3:'politics',\n",
    "                  4:'entertainment'}"
   ]
  },
  {
   "cell_type": "code",
   "execution_count": 24,
   "metadata": {},
   "outputs": [
    {
     "name": "stdout",
     "output_type": "stream",
     "text": [
      "business 100.00 %\n"
     ]
    }
   ],
   "source": [
    "sample_text1 = [\"सेंसेक्स 1129 पॉइंट्स लुढ़का, रिलायंस का शेयर 4.5% टूटा, मार्केट कैप 2 घंटे में 7.88 लाख करोड़ घटा\"]\n",
    "\n",
    "txts = tok.texts_to_sequences(sample_text1)\n",
    "txts = sequence.pad_sequences(txts, maxlen=max_len)\n",
    "preds = model.predict(txts)[0]\n",
    "pred_classes = np.argsort(preds)[-1:][::-1]\n",
    "\n",
    "classes = [id_to_category[i] for i in pred_classes]\n",
    "props   = preds[pred_classes]\n",
    "\n",
    "for c, p in zip(classes, props):\n",
    "    print(\"{} {:.2f} %\".format(c,p*100))"
   ]
  },
  {
   "cell_type": "code",
   "execution_count": 25,
   "metadata": {},
   "outputs": [
    {
     "name": "stdout",
     "output_type": "stream",
     "text": [
      "entertainment 100.00 %\n"
     ]
    }
   ],
   "source": [
    "sample_text2 = [\"शादी की खबरों के बीच कटरीना कैफ पर भड़के विक्की कौशल, दोनों के बीच हुआ झगड़ा! जानें वजह\"]\n",
    "\n",
    "txts = tok.texts_to_sequences(sample_text2)\n",
    "txts = sequence.pad_sequences(txts, maxlen=max_len)\n",
    "preds = model.predict(txts)[0]\n",
    "pred_classes = np.argsort(preds)[-1:][::-1]\n",
    "\n",
    "classes = [id_to_category[i] for i in pred_classes]\n",
    "props   = preds[pred_classes]\n",
    "\n",
    "for c, p in zip(classes, props):\n",
    "    print(\"{} {:.2f} %\".format(c,p*100))"
   ]
  },
  {
   "cell_type": "code",
   "execution_count": 29,
   "metadata": {},
   "outputs": [
    {
     "name": "stdout",
     "output_type": "stream",
     "text": [
      "politics 100.00 %\n"
     ]
    }
   ],
   "source": [
    "sample_text3 = [\"पीएम मोदी का आज से तीन दिवसीय गुजरात दौरा, मारीशस के प्रधानमंत्री और डब्ल्यूएचओ प्रमुख भी रहेंगे मौजूद\"]\n",
    "\n",
    "txts = tok.texts_to_sequences(sample_text3)\n",
    "txts = sequence.pad_sequences(txts, maxlen=max_len)\n",
    "preds = model.predict(txts)[0]\n",
    "pred_classes = np.argsort(preds)[-1:][::-1]\n",
    "\n",
    "classes = [id_to_category[i] for i in pred_classes]\n",
    "props   = preds[pred_classes]\n",
    "\n",
    "for c, p in zip(classes, props):\n",
    "    print(\"{} {:.2f} %\".format(c,p*100))"
   ]
  },
  {
   "cell_type": "code",
   "execution_count": 30,
   "metadata": {},
   "outputs": [
    {
     "name": "stdout",
     "output_type": "stream",
     "text": [
      "sports 99.98 %\n"
     ]
    }
   ],
   "source": [
    "sample_text4 = [\"भारत पहुंची पाकिस्तान की टीम, 24 नवंबर से भुवनेश्वर में खेला जाएगा वर्ल्ड कपाा\"]\n",
    "\n",
    "txts = tok.texts_to_sequences(sample_text4)\n",
    "txts = sequence.pad_sequences(txts, maxlen=max_len)\n",
    "preds = model.predict(txts)[0]\n",
    "pred_classes = np.argsort(preds)[-1:][::-1]\n",
    "\n",
    "classes = [id_to_category[i] for i in pred_classes]\n",
    "props   = preds[pred_classes]\n",
    "\n",
    "for c, p in zip(classes, props):\n",
    "    print(\"{} {:.2f} %\".format(c,p*100))"
   ]
  },
  {
   "cell_type": "code",
   "execution_count": 31,
   "metadata": {},
   "outputs": [
    {
     "name": "stdout",
     "output_type": "stream",
     "text": [
      "tech 99.98 %\n"
     ]
    }
   ],
   "source": [
    "sample_text5 = [\"सावधान! अगर ये 7 ऐप्स आपके फोन में हों तो तुरंत करें डिलीट, बन सकते हैं खतरा\"]\n",
    "\n",
    "txts = tok.texts_to_sequences(sample_text5)\n",
    "txts = sequence.pad_sequences(txts, maxlen=max_len)\n",
    "preds = model.predict(txts)[0]\n",
    "pred_classes = np.argsort(preds)[-1:][::-1]\n",
    "\n",
    "classes = [id_to_category[i] for i in pred_classes]\n",
    "props   = preds[pred_classes]\n",
    "\n",
    "for c, p in zip(classes, props):\n",
    "    print(\"{} {:.2f} %\".format(c,p*100))"
   ]
  },
  {
   "cell_type": "code",
   "execution_count": null,
   "metadata": {},
   "outputs": [],
   "source": []
  }
 ],
 "metadata": {
  "kernelspec": {
   "display_name": "Python 3",
   "language": "python",
   "name": "python3"
  },
  "language_info": {
   "codemirror_mode": {
    "name": "ipython",
    "version": 3
   },
   "file_extension": ".py",
   "mimetype": "text/x-python",
   "name": "python",
   "nbconvert_exporter": "python",
   "pygments_lexer": "ipython3",
   "version": "3.8.8"
  }
 },
 "nbformat": 4,
 "nbformat_minor": 4
}
